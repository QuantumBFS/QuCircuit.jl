{
 "cells": [
  {
   "cell_type": "markdown",
   "metadata": {
    "slideshow": {
     "slide_type": "slide"
    }
   },
   "source": [
    "# Quantum Circuit Born Machine\n",
    "\n",
    "Quantum circuit born machine is a fresh approach to quantum machine learning. It use a parameterized quantum circuit to learning machine learning tasks with gradient based optimization. In this tutorial, we will show how to implement it with **Yao** (幺) framework.\n"
   ]
  },
  {
   "cell_type": "code",
   "execution_count": 1,
   "metadata": {
    "slideshow": {
     "slide_type": "slide"
    }
   },
   "outputs": [],
   "source": [
    "using Yao, GR"
   ]
  },
  {
   "cell_type": "markdown",
   "metadata": {
    "slideshow": {
     "slide_type": "slide"
    }
   },
   "source": [
    "about the framework"
   ]
  },
  {
   "cell_type": "code",
   "execution_count": 2,
   "metadata": {
    "slideshow": {
     "slide_type": "slide"
    }
   },
   "outputs": [
    {
     "name": "stdout",
     "output_type": "stream",
     "text": [
      "search: \u001b[1m幺\u001b[22m\n",
      "\n"
     ]
    },
    {
     "data": {
      "text/markdown": [
       "Extensible Framework for Quantum Algorithm Design for Humans.\n",
       "\n",
       "简单易用可扩展的量子算法设计框架。\n",
       "\n",
       "幺 means unitary in Chinese.\n"
      ],
      "text/plain": [
       "Extensible Framework for Quantum Algorithm Design for Humans.\n",
       "\n",
       "简单易用可扩展的量子算法设计框架。\n",
       "\n",
       "幺 means unitary in Chinese.\n"
      ]
     },
     "execution_count": 2,
     "metadata": {},
     "output_type": "execute_result"
    }
   ],
   "source": [
    "?幺"
   ]
  },
  {
   "cell_type": "markdown",
   "metadata": {},
   "source": [
    "## Training target\n",
    "a gaussian distribution"
   ]
  },
  {
   "cell_type": "code",
   "execution_count": 3,
   "metadata": {},
   "outputs": [
    {
     "data": {
      "text/plain": [
       "gaussian_pdf (generic function with 1 method)"
      ]
     },
     "execution_count": 3,
     "metadata": {},
     "output_type": "execute_result"
    }
   ],
   "source": [
    "function gaussian_pdf(n, μ, σ)\n",
    "    x = collect(1:1<<n)\n",
    "    pl = @. 1 / sqrt(2pi * σ^2) * exp(-(x - μ)^2 / (2 * σ^2))\n",
    "    pl / sum(pl)\n",
    "end"
   ]
  },
  {
   "cell_type": "markdown",
   "metadata": {},
   "source": [
    "\\begin{equation}\n",
    "f(x \\left| \\mu, \\sigma^2\\right) = \\frac{1}{\\sqrt{2\\pi\\sigma^2}} e^{-\\frac{(x-\\mu)^2}{2\\sigma^2}}\n",
    "\\end{equation}"
   ]
  },
  {
   "cell_type": "code",
   "execution_count": 4,
   "metadata": {},
   "outputs": [
    {
     "data": {
      "image/svg+xml": [
       "<?xml version=\"1.0\" encoding=\"utf-8\"?>\n",
       "<svg xmlns=\"http://www.w3.org/2000/svg\" xmlns:xlink=\"http://www.w3.org/1999/xlink\" width=\"600\" height=\"450\" viewBox=\"0 0 600 450\">\n",
       "<defs>\n",
       "  <clipPath id=\"clip1100\">\n",
       "    <rect x=\"75\" y=\"33\" width=\"481\" height=\"361\"/>\n",
       "  </clipPath>\n",
       "</defs>\n",
       "<defs>\n",
       "  <clipPath id=\"clip1101\">\n",
       "    <rect x=\"0\" y=\"0\" width=\"600\" height=\"450\"/>\n",
       "  </clipPath>\n",
       "</defs>\n",
       "<polyline clip-path=\"url(#clip1101)\" style=\"stroke:#ededed; stroke-width:1.05; stroke-opacity:1; fill:none\" points=\"\n",
       "  75,378.75 555,378.75 \n",
       "  \"/>\n",
       "<polyline clip-path=\"url(#clip1101)\" style=\"stroke:#cccccc; stroke-width:1.05; stroke-opacity:1; fill:none\" points=\"\n",
       "  75,363.75 555,363.75 \n",
       "  \"/>\n",
       "<polyline clip-path=\"url(#clip1101)\" style=\"stroke:#ededed; stroke-width:1.05; stroke-opacity:1; fill:none\" points=\"\n",
       "  75,348.75 555,348.75 \n",
       "  \"/>\n",
       "<polyline clip-path=\"url(#clip1101)\" style=\"stroke:#ededed; stroke-width:1.05; stroke-opacity:1; fill:none\" points=\"\n",
       "  75,333.75 555,333.75 \n",
       "  \"/>\n",
       "<polyline clip-path=\"url(#clip1101)\" style=\"stroke:#ededed; stroke-width:1.05; stroke-opacity:1; fill:none\" points=\"\n",
       "  75,318.75 555,318.75 \n",
       "  \"/>\n",
       "<polyline clip-path=\"url(#clip1101)\" style=\"stroke:#ededed; stroke-width:1.05; stroke-opacity:1; fill:none\" points=\"\n",
       "  75,303.75 555,303.75 \n",
       "  \"/>\n",
       "<polyline clip-path=\"url(#clip1101)\" style=\"stroke:#cccccc; stroke-width:1.05; stroke-opacity:1; fill:none\" points=\"\n",
       "  75,288.75 555,288.75 \n",
       "  \"/>\n",
       "<polyline clip-path=\"url(#clip1101)\" style=\"stroke:#ededed; stroke-width:1.05; stroke-opacity:1; fill:none\" points=\"\n",
       "  75,273.75 555,273.75 \n",
       "  \"/>\n",
       "<polyline clip-path=\"url(#clip1101)\" style=\"stroke:#ededed; stroke-width:1.05; stroke-opacity:1; fill:none\" points=\"\n",
       "  75,258.75 555,258.75 \n",
       "  \"/>\n",
       "<polyline clip-path=\"url(#clip1101)\" style=\"stroke:#ededed; stroke-width:1.05; stroke-opacity:1; fill:none\" points=\"\n",
       "  75,243.75 555,243.75 \n",
       "  \"/>\n",
       "<polyline clip-path=\"url(#clip1101)\" style=\"stroke:#ededed; stroke-width:1.05; stroke-opacity:1; fill:none\" points=\"\n",
       "  75,228.75 555,228.75 \n",
       "  \"/>\n",
       "<polyline clip-path=\"url(#clip1101)\" style=\"stroke:#cccccc; stroke-width:1.05; stroke-opacity:1; fill:none\" points=\"\n",
       "  75,213.75 555,213.75 \n",
       "  \"/>\n",
       "<polyline clip-path=\"url(#clip1101)\" style=\"stroke:#ededed; stroke-width:1.05; stroke-opacity:1; fill:none\" points=\"\n",
       "  75,198.75 555,198.75 \n",
       "  \"/>\n",
       "<polyline clip-path=\"url(#clip1101)\" style=\"stroke:#ededed; stroke-width:1.05; stroke-opacity:1; fill:none\" points=\"\n",
       "  75,183.75 555,183.75 \n",
       "  \"/>\n",
       "<polyline clip-path=\"url(#clip1101)\" style=\"stroke:#ededed; stroke-width:1.05; stroke-opacity:1; fill:none\" points=\"\n",
       "  75,168.75 555,168.75 \n",
       "  \"/>\n",
       "<polyline clip-path=\"url(#clip1101)\" style=\"stroke:#ededed; stroke-width:1.05; stroke-opacity:1; fill:none\" points=\"\n",
       "  75,153.75 555,153.75 \n",
       "  \"/>\n",
       "<polyline clip-path=\"url(#clip1101)\" style=\"stroke:#cccccc; stroke-width:1.05; stroke-opacity:1; fill:none\" points=\"\n",
       "  75,138.75 555,138.75 \n",
       "  \"/>\n",
       "<polyline clip-path=\"url(#clip1101)\" style=\"stroke:#ededed; stroke-width:1.05; stroke-opacity:1; fill:none\" points=\"\n",
       "  75,123.75 555,123.75 \n",
       "  \"/>\n",
       "<polyline clip-path=\"url(#clip1101)\" style=\"stroke:#ededed; stroke-width:1.05; stroke-opacity:1; fill:none\" points=\"\n",
       "  75,108.75 555,108.75 \n",
       "  \"/>\n",
       "<polyline clip-path=\"url(#clip1101)\" style=\"stroke:#ededed; stroke-width:1.05; stroke-opacity:1; fill:none\" points=\"\n",
       "  75,93.75 555,93.75 \n",
       "  \"/>\n",
       "<polyline clip-path=\"url(#clip1101)\" style=\"stroke:#ededed; stroke-width:1.05; stroke-opacity:1; fill:none\" points=\"\n",
       "  75,78.75 555,78.75 \n",
       "  \"/>\n",
       "<polyline clip-path=\"url(#clip1101)\" style=\"stroke:#cccccc; stroke-width:1.05; stroke-opacity:1; fill:none\" points=\"\n",
       "  75,63.75 555,63.75 \n",
       "  \"/>\n",
       "<polyline clip-path=\"url(#clip1101)\" style=\"stroke:#ededed; stroke-width:1.05; stroke-opacity:1; fill:none\" points=\"\n",
       "  75,48.75 555,48.75 \n",
       "  \"/>\n",
       "<polyline clip-path=\"url(#clip1101)\" style=\"stroke:#ededed; stroke-width:1.05; stroke-opacity:1; fill:none\" points=\"\n",
       "  102.429,393.75 102.429,33.75 \n",
       "  \"/>\n",
       "<polyline clip-path=\"url(#clip1101)\" style=\"stroke:#ededed; stroke-width:1.05; stroke-opacity:1; fill:none\" points=\"\n",
       "  129.857,393.75 129.857,33.75 \n",
       "  \"/>\n",
       "<polyline clip-path=\"url(#clip1101)\" style=\"stroke:#ededed; stroke-width:1.05; stroke-opacity:1; fill:none\" points=\"\n",
       "  157.286,393.75 157.286,33.75 \n",
       "  \"/>\n",
       "<polyline clip-path=\"url(#clip1101)\" style=\"stroke:#ededed; stroke-width:1.05; stroke-opacity:1; fill:none\" points=\"\n",
       "  184.714,393.75 184.714,33.75 \n",
       "  \"/>\n",
       "<polyline clip-path=\"url(#clip1101)\" style=\"stroke:#cccccc; stroke-width:1.05; stroke-opacity:1; fill:none\" points=\"\n",
       "  212.143,393.75 212.143,33.75 \n",
       "  \"/>\n",
       "<polyline clip-path=\"url(#clip1101)\" style=\"stroke:#ededed; stroke-width:1.05; stroke-opacity:1; fill:none\" points=\"\n",
       "  239.571,393.75 239.571,33.75 \n",
       "  \"/>\n",
       "<polyline clip-path=\"url(#clip1101)\" style=\"stroke:#ededed; stroke-width:1.05; stroke-opacity:1; fill:none\" points=\"\n",
       "  267,393.75 267,33.75 \n",
       "  \"/>\n",
       "<polyline clip-path=\"url(#clip1101)\" style=\"stroke:#ededed; stroke-width:1.05; stroke-opacity:1; fill:none\" points=\"\n",
       "  294.429,393.75 294.429,33.75 \n",
       "  \"/>\n",
       "<polyline clip-path=\"url(#clip1101)\" style=\"stroke:#ededed; stroke-width:1.05; stroke-opacity:1; fill:none\" points=\"\n",
       "  321.857,393.75 321.857,33.75 \n",
       "  \"/>\n",
       "<polyline clip-path=\"url(#clip1101)\" style=\"stroke:#cccccc; stroke-width:1.05; stroke-opacity:1; fill:none\" points=\"\n",
       "  349.286,393.75 349.286,33.75 \n",
       "  \"/>\n",
       "<polyline clip-path=\"url(#clip1101)\" style=\"stroke:#ededed; stroke-width:1.05; stroke-opacity:1; fill:none\" points=\"\n",
       "  376.714,393.75 376.714,33.75 \n",
       "  \"/>\n",
       "<polyline clip-path=\"url(#clip1101)\" style=\"stroke:#ededed; stroke-width:1.05; stroke-opacity:1; fill:none\" points=\"\n",
       "  404.143,393.75 404.143,33.75 \n",
       "  \"/>\n",
       "<polyline clip-path=\"url(#clip1101)\" style=\"stroke:#ededed; stroke-width:1.05; stroke-opacity:1; fill:none\" points=\"\n",
       "  431.571,393.75 431.571,33.75 \n",
       "  \"/>\n",
       "<polyline clip-path=\"url(#clip1101)\" style=\"stroke:#ededed; stroke-width:1.05; stroke-opacity:1; fill:none\" points=\"\n",
       "  459,393.75 459,33.75 \n",
       "  \"/>\n",
       "<polyline clip-path=\"url(#clip1101)\" style=\"stroke:#cccccc; stroke-width:1.05; stroke-opacity:1; fill:none\" points=\"\n",
       "  486.429,393.75 486.429,33.75 \n",
       "  \"/>\n",
       "<polyline clip-path=\"url(#clip1101)\" style=\"stroke:#ededed; stroke-width:1.05; stroke-opacity:1; fill:none\" points=\"\n",
       "  513.857,393.75 513.857,33.75 \n",
       "  \"/>\n",
       "<polyline clip-path=\"url(#clip1101)\" style=\"stroke:#ededed; stroke-width:1.05; stroke-opacity:1; fill:none\" points=\"\n",
       "  541.286,393.75 541.286,33.75 \n",
       "  \"/>\n",
       "<g clip-path=\"url(#clip1101)\">\n",
       "<text style=\"fill:#000000; fill-opacity:1; font-family:Arial,Helvetica Neue,Helvetica,sans-serif; font-size:15; text-anchor:start;\" transform=\"rotate(0, 32.8655, 368.016)\" x=\"32.8655\" y=\"368.016\">0.005</text>\n",
       "</g>\n",
       "<g clip-path=\"url(#clip1101)\">\n",
       "<text style=\"fill:#000000; fill-opacity:1; font-family:Arial,Helvetica Neue,Helvetica,sans-serif; font-size:15; text-anchor:start;\" transform=\"rotate(0, 32.8655, 293.016)\" x=\"32.8655\" y=\"293.016\">0.010</text>\n",
       "</g>\n",
       "<g clip-path=\"url(#clip1101)\">\n",
       "<text style=\"fill:#000000; fill-opacity:1; font-family:Arial,Helvetica Neue,Helvetica,sans-serif; font-size:15; text-anchor:start;\" transform=\"rotate(0, 32.8655, 218.016)\" x=\"32.8655\" y=\"218.016\">0.015</text>\n",
       "</g>\n",
       "<g clip-path=\"url(#clip1101)\">\n",
       "<text style=\"fill:#000000; fill-opacity:1; font-family:Arial,Helvetica Neue,Helvetica,sans-serif; font-size:15; text-anchor:start;\" transform=\"rotate(0, 32.8655, 143.016)\" x=\"32.8655\" y=\"143.016\">0.020</text>\n",
       "</g>\n",
       "<g clip-path=\"url(#clip1101)\">\n",
       "<text style=\"fill:#000000; fill-opacity:1; font-family:Arial,Helvetica Neue,Helvetica,sans-serif; font-size:15; text-anchor:start;\" transform=\"rotate(0, 32.8655, 68.016)\" x=\"32.8655\" y=\"68.016\">0.025</text>\n",
       "</g>\n",
       "<polyline clip-path=\"url(#clip1101)\" style=\"stroke:#000000; stroke-width:1.05; stroke-opacity:1; fill:none\" points=\"\n",
       "  75,393.75 75,393.75 79.5,393.75 75,393.75 75,378.75 79.5,378.75 75,378.75 75,363.75 84,363.75 75,363.75 \n",
       "  75,348.75 79.5,348.75 75,348.75 75,333.75 79.5,333.75 75,333.75 75,318.75 79.5,318.75 75,318.75 75,303.75 \n",
       "  79.5,303.75 75,303.75 75,288.75 84,288.75 75,288.75 75,273.75 79.5,273.75 75,273.75 75,258.75 79.5,258.75 \n",
       "  75,258.75 75,243.75 79.5,243.75 75,243.75 75,228.75 79.5,228.75 75,228.75 75,213.75 84,213.75 75,213.75 \n",
       "  75,198.75 79.5,198.75 75,198.75 75,183.75 79.5,183.75 75,183.75 75,168.75 79.5,168.75 75,168.75 75,153.75 \n",
       "  79.5,153.75 75,153.75 75,138.75 84,138.75 75,138.75 75,123.75 79.5,123.75 75,123.75 75,108.75 79.5,108.75 \n",
       "  75,108.75 75,93.75 79.5,93.75 75,93.75 75,78.75 79.5,78.75 75,78.75 75,63.75 84,63.75 75,63.75 \n",
       "  75,48.75 79.5,48.75 75,48.75 75,33.75 79.5,33.75 75,33.75 75,33.75 \n",
       "  \"/>\n",
       "<g clip-path=\"url(#clip1101)\">\n",
       "<text style=\"fill:#000000; fill-opacity:1; font-family:Arial,Helvetica Neue,Helvetica,sans-serif; font-size:15; text-anchor:start;\" transform=\"rotate(0, 70.8184, 411.642)\" x=\"70.8184\" y=\"411.642\">0</text>\n",
       "</g>\n",
       "<g clip-path=\"url(#clip1101)\">\n",
       "<text style=\"fill:#000000; fill-opacity:1; font-family:Arial,Helvetica Neue,Helvetica,sans-serif; font-size:15; text-anchor:start;\" transform=\"rotate(0, 203.78, 411.642)\" x=\"203.78\" y=\"411.642\">20</text>\n",
       "</g>\n",
       "<g clip-path=\"url(#clip1101)\">\n",
       "<text style=\"fill:#000000; fill-opacity:1; font-family:Arial,Helvetica Neue,Helvetica,sans-serif; font-size:15; text-anchor:start;\" transform=\"rotate(0, 340.922, 411.642)\" x=\"340.922\" y=\"411.642\">40</text>\n",
       "</g>\n",
       "<g clip-path=\"url(#clip1101)\">\n",
       "<text style=\"fill:#000000; fill-opacity:1; font-family:Arial,Helvetica Neue,Helvetica,sans-serif; font-size:15; text-anchor:start;\" transform=\"rotate(0, 478.065, 411.642)\" x=\"478.065\" y=\"411.642\">60</text>\n",
       "</g>\n",
       "<polyline clip-path=\"url(#clip1101)\" style=\"stroke:#000000; stroke-width:1.05; stroke-opacity:1; fill:none\" points=\"\n",
       "  75,393.75 75,393.75 75,384.75 75,393.75 102.429,393.75 102.429,389.25 102.429,393.75 129.857,393.75 129.857,389.25 129.857,393.75 \n",
       "  157.286,393.75 157.286,389.25 157.286,393.75 184.714,393.75 184.714,389.25 184.714,393.75 212.143,393.75 212.143,384.75 212.143,393.75 239.571,393.75 \n",
       "  239.571,389.25 239.571,393.75 267,393.75 267,389.25 267,393.75 294.429,393.75 294.429,389.25 294.429,393.75 321.857,393.75 321.857,389.25 \n",
       "  321.857,393.75 349.286,393.75 349.286,384.75 349.286,393.75 376.714,393.75 376.714,389.25 376.714,393.75 404.143,393.75 404.143,389.25 404.143,393.75 \n",
       "  431.571,393.75 431.571,389.25 431.571,393.75 459,393.75 459,389.25 459,393.75 486.429,393.75 486.429,384.75 486.429,393.75 513.857,393.75 \n",
       "  513.857,389.25 513.857,393.75 541.286,393.75 541.286,389.25 541.286,393.75 555,393.75 \n",
       "  \"/>\n",
       "<polyline clip-path=\"url(#clip1101)\" style=\"stroke:#000000; stroke-width:1.05; stroke-opacity:1; fill:none\" points=\"\n",
       "  555,393.75 555,393.75 550.5,393.75 555,393.75 555,378.75 550.5,378.75 555,378.75 555,363.75 546,363.75 555,363.75 \n",
       "  555,348.75 550.5,348.75 555,348.75 555,333.75 550.5,333.75 555,333.75 555,318.75 550.5,318.75 555,318.75 555,303.75 \n",
       "  550.5,303.75 555,303.75 555,288.75 546,288.75 555,288.75 555,273.75 550.5,273.75 555,273.75 555,258.75 550.5,258.75 \n",
       "  555,258.75 555,243.75 550.5,243.75 555,243.75 555,228.75 550.5,228.75 555,228.75 555,213.75 546,213.75 555,213.75 \n",
       "  555,198.75 550.5,198.75 555,198.75 555,183.75 550.5,183.75 555,183.75 555,168.75 550.5,168.75 555,168.75 555,153.75 \n",
       "  550.5,153.75 555,153.75 555,138.75 546,138.75 555,138.75 555,123.75 550.5,123.75 555,123.75 555,108.75 550.5,108.75 \n",
       "  555,108.75 555,93.75 550.5,93.75 555,93.75 555,78.75 550.5,78.75 555,78.75 555,63.75 546,63.75 555,63.75 \n",
       "  555,48.75 550.5,48.75 555,48.75 555,33.75 550.5,33.75 555,33.75 555,33.75 \n",
       "  \"/>\n",
       "<polyline clip-path=\"url(#clip1101)\" style=\"stroke:#000000; stroke-width:1.05; stroke-opacity:1; fill:none\" points=\"\n",
       "  75,33.75 75,33.75 75,42.75 75,33.75 102.429,33.75 102.429,38.25 102.429,33.75 129.857,33.75 129.857,38.25 129.857,33.75 \n",
       "  157.286,33.75 157.286,38.25 157.286,33.75 184.714,33.75 184.714,38.25 184.714,33.75 212.143,33.75 212.143,42.75 212.143,33.75 239.571,33.75 \n",
       "  239.571,38.25 239.571,33.75 267,33.75 267,38.25 267,33.75 294.429,33.75 294.429,38.25 294.429,33.75 321.857,33.75 321.857,38.25 \n",
       "  321.857,33.75 349.286,33.75 349.286,42.75 349.286,33.75 376.714,33.75 376.714,38.25 376.714,33.75 404.143,33.75 404.143,38.25 404.143,33.75 \n",
       "  431.571,33.75 431.571,38.25 431.571,33.75 459,33.75 459,38.25 459,33.75 486.429,33.75 486.429,42.75 486.429,33.75 513.857,33.75 \n",
       "  513.857,38.25 513.857,33.75 541.286,33.75 541.286,38.25 541.286,33.75 555,33.75 \n",
       "  \"/>\n",
       "<polyline clip-path=\"url(#clip1100)\" style=\"stroke:#00528a; stroke-width:1.05; stroke-opacity:1; fill:none\" points=\"\n",
       "  75,375.039 81.8571,367.118 88.7143,358.526 95.5714,349.253 102.429,339.299 109.286,328.667 116.143,317.375 123,305.445 129.857,292.914 136.714,279.827 \n",
       "  143.571,266.241 150.429,252.223 157.286,237.853 164.143,223.219 171,208.42 177.857,193.565 184.714,178.769 191.571,164.156 198.429,149.851 205.286,135.987 \n",
       "  212.143,122.694 219,110.104 225.857,98.3443 232.714,87.5387 239.571,77.8027 246.429,69.2431 253.286,61.9553 260.143,56.0216 267,51.5101 273.857,48.473 \n",
       "  280.714,46.9455 287.571,46.9455 294.429,48.473 301.286,51.5101 308.143,56.0216 315,61.9553 321.857,69.2431 328.714,77.8027 335.571,87.5387 342.429,98.3443 \n",
       "  349.286,110.104 356.143,122.694 363,135.987 369.857,149.851 376.714,164.156 383.571,178.769 390.429,193.565 397.286,208.42 404.143,223.219 411,237.853 \n",
       "  417.857,252.223 424.714,266.241 431.571,279.827 438.429,292.914 445.286,305.445 452.143,317.375 459,328.667 465.857,339.299 472.714,349.253 479.571,358.526 \n",
       "  486.429,367.118 493.286,375.039 500.143,382.305 507,388.938 \n",
       "  \"/>\n",
       "</svg>\n"
      ],
      "text/plain": [
       "GR.SVG(UInt8[0x3c, 0x3f, 0x78, 0x6d, 0x6c, 0x20, 0x76, 0x65, 0x72, 0x73  …  0x2f, 0x3e, 0x0a, 0x3c, 0x2f, 0x73, 0x76, 0x67, 0x3e, 0x0a])"
      ]
     },
     "execution_count": 4,
     "metadata": {},
     "output_type": "execute_result"
    }
   ],
   "source": [
    "const n = 6\n",
    "const maxiter = 20\n",
    "pg = gaussian_pdf(n, 2^5-0.5, 2^4)\n",
    "fig = plot(0:1<<n-1, pg)"
   ]
  },
  {
   "cell_type": "markdown",
   "metadata": {},
   "source": [
    "# Build Circuits\n",
    "\n",
    "## Building Blocks\n",
    "\n",
    "Gates are grouped to become a layer in a circuit, this layer can be **Arbitrary Rotation** or **CNOT entangler**. Which are used as our basic building blocks of **Born Machines**.\n",
    "\n",
    "### Arbitrary Rotation\n",
    "\n",
    "Arbitrary Rotation is built with **Rotation Gate on Z**, **Rotation Gate on X** and **Rotation Gate on Z**:\n",
    "\n",
    "\n",
    "\\begin{equation}\n",
    "Rz(\\theta) \\cdot Rx(\\theta) \\cdot Rz(\\theta)\n",
    "\\end{equation}\n",
    "\n",
    "Since our input will be a $|0\\dots 0\\rangle$ state. The first layer of arbitrary rotation can just use $Rx(\\theta) \\cdot Rz(\\theta)$ and the last layer of arbitrary rotation could just use $Rz(\\theta)\\cdot Rx(\\theta)$\n",
    "\n",
    "\n",
    "In **幺**, every Hilbert operator is a **block** type, this includes all **quantum gates** and **quantum oracles**. In general, operators appears in a quantum circuit can be divided into **Composite Blocks** and **Primitive Blocks**.\n",
    "\n",
    "We follow the low abstraction principle and thus each block represents a certain approach of calculation. The simplest **Composite Block** is a **Chain Block**, which chains other blocks (oracles) with the same number of qubits together. It is just a simple mathematical composition of operators with same size. e.g.\n",
    "\n",
    "\\begin{equation}\n",
    "\\text{chain(X, Y, Z)} \\iff X \\cdot Y \\cdot Z\n",
    "\\end{equation}\n",
    "\n",
    "We can construct an arbitrary rotation block by chain $Rz$, $Rx$, $Rz$ together."
   ]
  },
  {
   "cell_type": "code",
   "execution_count": 6,
   "metadata": {},
   "outputs": [
    {
     "data": {
      "text/plain": [
       "Total: 1, DataType: Complex{Float64}\n",
       "\u001b[1m\u001b[34mchain\u001b[39m\u001b[22m\n",
       "├─ Rot Z gate: 0.0\n",
       "├─ Rot X gate: 0.0\n",
       "└─ Rot Z gate: 0.0\n"
      ]
     },
     "execution_count": 6,
     "metadata": {},
     "output_type": "execute_result"
    }
   ],
   "source": [
    "chain(Rz(0), Rx(0), Rz(0))"
   ]
  },
  {
   "cell_type": "code",
   "execution_count": 8,
   "metadata": {},
   "outputs": [
    {
     "data": {
      "text/plain": [
       "Total: 1, DataType: Complex{Float64}\n",
       "\u001b[1m\u001b[34mchain\u001b[39m\u001b[22m\n",
       "└─ X gate\n"
      ]
     },
     "execution_count": 8,
     "metadata": {},
     "output_type": "execute_result"
    }
   ],
   "source": [
    "chain(X)"
   ]
  },
  {
   "cell_type": "markdown",
   "metadata": {},
   "source": [
    "`Rx`, `Ry` and `Rz` will construct new rotation gate, which are just shorthands for `rot(X, 0.0)`, etc.\n",
    "\n",
    "Then, let's pile them up vertically with another method called **rollrepeat**"
   ]
  },
  {
   "cell_type": "code",
   "execution_count": 21,
   "metadata": {},
   "outputs": [
    {
     "data": {
      "text/plain": [
       "Total: 4, DataType: Complex{Float64}\n",
       "\u001b[1m\u001b[36mroller\u001b[39m\u001b[22m\n",
       "├─ \u001b[1m\u001b[34mchain\u001b[39m\u001b[22m\n",
       "│  ├─ Rot X gate: 0.0\n",
       "│  └─ Rot Z gate: 0.0\n",
       "├─ \u001b[1m\u001b[34mchain\u001b[39m\u001b[22m\n",
       "│  ├─ Rot X gate: 0.0\n",
       "│  └─ Rot Z gate: 0.0\n",
       "├─ \u001b[1m\u001b[34mchain\u001b[39m\u001b[22m\n",
       "│  ├─ Rot X gate: 0.0\n",
       "│  └─ Rot Z gate: 0.0\n",
       "└─ \u001b[1m\u001b[34mchain\u001b[39m\u001b[22m\n",
       "   ├─ Rot X gate: 0.0\n",
       "   └─ Rot Z gate: 0.0\n"
      ]
     },
     "execution_count": 21,
     "metadata": {},
     "output_type": "execute_result"
    }
   ],
   "source": [
    "layer(x::Symbol) = layer(Val(x))\n",
    "layer(::Val{:first}) = rollrepeat(chain(Rx(0), Rz(0)))\n",
    "rollrepeat(chain(Rx(0), Rz(0)))(4)"
   ]
  },
  {
   "cell_type": "markdown",
   "metadata": {},
   "source": [
    "In **幺**, the factory method **rollrepeat** will construct a block called **Roller**. It is mathematically equivalent to the kronecker product of all operators in this layer:\n",
    "\n",
    "\\begin{equation}\n",
    "rollrepeat(n, U) \\iff roll(n, \\text{i=>U for i = 1:n}) \\iff kron(n, \\text{i=>U for i=1:n}) \\iff U \\otimes \\dots \\otimes U\n",
    "\\end{equation}"
   ]
  },
  {
   "cell_type": "code",
   "execution_count": 22,
   "metadata": {},
   "outputs": [
    {
     "name": "stdout",
     "output_type": "stream",
     "text": [
      "search: \u001b[1mV\u001b[22m\u001b[1ma\u001b[22m\u001b[1ml\u001b[22m \u001b[1mv\u001b[22m\u001b[1ma\u001b[22m\u001b[1ml\u001b[22mues \u001b[1mv\u001b[22m\u001b[1ma\u001b[22m\u001b[1ml\u001b[22mtype \u001b[1mv\u001b[22m\u001b[1ma\u001b[22m\u001b[1ml\u001b[22midaterange e\u001b[1mv\u001b[22m\u001b[1ma\u001b[22m\u001b[1ml\u001b[22m e\u001b[1mv\u001b[22m\u001b[1ma\u001b[22m\u001b[1ml\u001b[22mfile @e\u001b[1mv\u001b[22m\u001b[1ma\u001b[22m\u001b[1ml\u001b[22m is\u001b[1mv\u001b[22m\u001b[1ma\u001b[22m\u001b[1ml\u001b[22mid @e\u001b[1mv\u001b[22m\u001b[1ma\u001b[22m\u001b[1ml\u001b[22mpoly\n",
      "\n"
     ]
    },
    {
     "data": {
      "text/markdown": [
       "```\n",
       "Val{c}\n",
       "```\n",
       "\n",
       "Create a \"value type\" out of `c`, which must be an `isbits` value. The intent of this construct is to be able to dispatch on constants, e.g., `f(Val{false})` allows you to dispatch directly (at compile-time) to an implementation `f(::Type{Val{false}})`, without having to test the boolean value at runtime.\n"
      ],
      "text/plain": [
       "```\n",
       "Val{c}\n",
       "```\n",
       "\n",
       "Create a \"value type\" out of `c`, which must be an `isbits` value. The intent of this construct is to be able to dispatch on constants, e.g., `f(Val{false})` allows you to dispatch directly (at compile-time) to an implementation `f(::Type{Val{false}})`, without having to test the boolean value at runtime.\n"
      ]
     },
     "execution_count": 22,
     "metadata": {},
     "output_type": "execute_result"
    }
   ],
   "source": [
    "?Val"
   ]
  },
  {
   "cell_type": "code",
   "execution_count": 7,
   "metadata": {},
   "outputs": [
    {
     "data": {
      "text/plain": [
       "Total: 4, DataType: Complex{Float64}\n",
       "\u001b[1m\u001b[36mroller\u001b[39m\u001b[22m\n",
       "├─ X gate\n",
       "├─ X gate\n",
       "├─ X gate\n",
       "└─ X gate\n"
      ]
     },
     "execution_count": 7,
     "metadata": {},
     "output_type": "execute_result"
    }
   ],
   "source": [
    "roll(4, i=>X for i = 1:4)"
   ]
  },
  {
   "cell_type": "code",
   "execution_count": 8,
   "metadata": {},
   "outputs": [
    {
     "data": {
      "text/plain": [
       "Total: 4, DataType: Complex{Float64}\n",
       "\u001b[1m\u001b[36mroller\u001b[39m\u001b[22m\n",
       "├─ X gate\n",
       "├─ X gate\n",
       "├─ X gate\n",
       "└─ X gate\n"
      ]
     },
     "execution_count": 8,
     "metadata": {},
     "output_type": "execute_result"
    }
   ],
   "source": [
    "rollrepeat(4, X)"
   ]
  },
  {
   "cell_type": "code",
   "execution_count": 9,
   "metadata": {},
   "outputs": [
    {
     "data": {
      "text/plain": [
       "Total: 4, DataType: Complex{Float64}\n",
       "\u001b[1m\u001b[36mkron\u001b[39m\u001b[22m\n",
       "├─ \u001b[1m\u001b[37m1\u001b[39m\u001b[22m=>X gate\n",
       "├─ \u001b[1m\u001b[37m2\u001b[39m\u001b[22m=>X gate\n",
       "├─ \u001b[1m\u001b[37m3\u001b[39m\u001b[22m=>X gate\n",
       "└─ \u001b[1m\u001b[37m4\u001b[39m\u001b[22m=>X gate\n"
      ]
     },
     "execution_count": 9,
     "metadata": {},
     "output_type": "execute_result"
    }
   ],
   "source": [
    "kron(4, i=>X for i = 1:4)"
   ]
  },
  {
   "cell_type": "markdown",
   "metadata": {},
   "source": [
    "However, `kron` is calculated differently comparing to `roll`. In principal, **Roller** will be able to calculate small blocks with same size with higher efficiency. But for large blocks **Roller** may be slower. In **幺**, we offer you this freedom to choose the most suitable solution.\n",
    "\n",
    "\n",
    "all factory methods will **lazy** evaluate **the first arguements**, which is the number of qubits. It will return a lambda function that requires a single interger input. The instance of desired block will only be constructed until all the information is filled."
   ]
  },
  {
   "cell_type": "code",
   "execution_count": 10,
   "metadata": {},
   "outputs": [
    {
     "data": {
      "text/plain": [
       "(::#33) (generic function with 1 method)"
      ]
     },
     "execution_count": 10,
     "metadata": {},
     "output_type": "execute_result"
    }
   ],
   "source": [
    "rollrepeat(X)"
   ]
  },
  {
   "cell_type": "code",
   "execution_count": 11,
   "metadata": {},
   "outputs": [
    {
     "data": {
      "text/plain": [
       "Total: 4, DataType: Complex{Float64}\n",
       "\u001b[1m\u001b[36mroller\u001b[39m\u001b[22m\n",
       "├─ X gate\n",
       "├─ X gate\n",
       "├─ X gate\n",
       "└─ X gate\n"
      ]
     },
     "execution_count": 11,
     "metadata": {},
     "output_type": "execute_result"
    }
   ],
   "source": [
    "rollrepeat(X)(4)"
   ]
  },
  {
   "cell_type": "markdown",
   "metadata": {},
   "source": [
    "When you filled all the information in somewhere of the declaration, 幺 will be able to infer the others."
   ]
  },
  {
   "cell_type": "code",
   "execution_count": 12,
   "metadata": {},
   "outputs": [
    {
     "data": {
      "text/plain": [
       "Total: 4, DataType: Complex{Float64}\n",
       "\u001b[1m\u001b[34mchain\u001b[39m\u001b[22m\n",
       "├─ \u001b[1m\u001b[36mroller\u001b[39m\u001b[22m\n",
       "│  ├─ X gate\n",
       "│  ├─ X gate\n",
       "│  ├─ X gate\n",
       "│  └─ X gate\n",
       "└─ \u001b[1m\u001b[36mroller\u001b[39m\u001b[22m\n",
       "   ├─ Y gate\n",
       "   ├─ Y gate\n",
       "   ├─ Y gate\n",
       "   └─ Y gate\n"
      ]
     },
     "execution_count": 12,
     "metadata": {},
     "output_type": "execute_result"
    }
   ],
   "source": [
    "chain(4, rollrepeat(X), rollrepeat(Y))"
   ]
  },
  {
   "cell_type": "markdown",
   "metadata": {},
   "source": [
    "We will now define the rest of rotation layers"
   ]
  },
  {
   "cell_type": "code",
   "execution_count": 17,
   "metadata": {},
   "outputs": [
    {
     "data": {
      "text/plain": [
       "layer (generic function with 4 methods)"
      ]
     },
     "execution_count": 17,
     "metadata": {},
     "output_type": "execute_result"
    }
   ],
   "source": [
    "layer(::Val{:last}) = rollrepeat(chain(Rz(0), Rx(0)))\n",
    "layer(::Val{:mid}) = rollrepeat(chain(Rz(0), Rx(0), Rz(0)))"
   ]
  },
  {
   "cell_type": "markdown",
   "metadata": {},
   "source": [
    "### CNOT Entangler\n",
    "\n",
    "Another component of quantum circuit born machine is several **CNOT** operators applied on different qubits."
   ]
  },
  {
   "cell_type": "code",
   "execution_count": 18,
   "metadata": {},
   "outputs": [
    {
     "data": {
      "text/plain": [
       "entangler (generic function with 1 method)"
      ]
     },
     "execution_count": 18,
     "metadata": {},
     "output_type": "execute_result"
    }
   ],
   "source": [
    "entangler(pairs) = chain(control([ctrl, ], target=>X) for (ctrl, target) in pairs)"
   ]
  },
  {
   "cell_type": "markdown",
   "metadata": {},
   "source": [
    "We can then define such a born machine"
   ]
  },
  {
   "cell_type": "code",
   "execution_count": 23,
   "metadata": {},
   "outputs": [
    {
     "data": {
      "text/plain": [
       "QCBM (generic function with 1 method)"
      ]
     },
     "execution_count": 23,
     "metadata": {},
     "output_type": "execute_result"
    }
   ],
   "source": [
    "function QCBM(n, nlayer, pairs)\n",
    "    circuit = chain(n)\n",
    "    push!(circuit, layer(:first))\n",
    "    \n",
    "    for i = 1:(nlayer - 1)\n",
    "        push!(circuit, cache(entangler(pairs)))\n",
    "        push!(circuit, layer(:mid))\n",
    "    end\n",
    "    \n",
    "    push!(circuit, cache(entangler(pairs)))\n",
    "    push!(circuit, layer(:last))\n",
    "    \n",
    "    circuit\n",
    "end"
   ]
  },
  {
   "cell_type": "markdown",
   "metadata": {},
   "source": [
    "We use the method `cache` here to tag the entangler block that it should be cached after its first run, because it is actually a constant oracle. Let's see what will be constructed"
   ]
  },
  {
   "cell_type": "code",
   "execution_count": 24,
   "metadata": {},
   "outputs": [
    {
     "data": {
      "text/plain": [
       "Total: 4, DataType: Complex{Float64}\n",
       "\u001b[1m\u001b[34mchain\u001b[39m\u001b[22m\n",
       "├─ \u001b[1m\u001b[36mroller\u001b[39m\u001b[22m\n",
       "│  ├─ \u001b[1m\u001b[34mchain\u001b[39m\u001b[22m\n",
       "│  │  ├─ Rot X gate: 0.0\n",
       "│  │  └─ Rot Z gate: 0.0\n",
       "│  ├─ \u001b[1m\u001b[34mchain\u001b[39m\u001b[22m\n",
       "│  │  ├─ Rot X gate: 0.0\n",
       "│  │  └─ Rot Z gate: 0.0\n",
       "│  ├─ \u001b[1m\u001b[34mchain\u001b[39m\u001b[22m\n",
       "│  │  ├─ Rot X gate: 0.0\n",
       "│  │  └─ Rot Z gate: 0.0\n",
       "│  └─ \u001b[1m\u001b[34mchain\u001b[39m\u001b[22m\n",
       "│     ├─ Rot X gate: 0.0\n",
       "│     └─ Rot Z gate: 0.0\n",
       "├─ \u001b[1m\u001b[34mchain\u001b[39m\u001b[22m (Cached)\n",
       "│  ├─ \u001b[1m\u001b[31mcontrol(\u001b[39m\u001b[22m\u001b[1m\u001b[31m1\u001b[39m\u001b[22m\u001b[1m\u001b[31m)\u001b[39m\u001b[22m\n",
       "│  │  └─ \u001b[1m\u001b[37m2\u001b[39m\u001b[22m=>X gate\n",
       "│  ├─ \u001b[1m\u001b[31mcontrol(\u001b[39m\u001b[22m\u001b[1m\u001b[31m2\u001b[39m\u001b[22m\u001b[1m\u001b[31m)\u001b[39m\u001b[22m\n",
       "│  │  └─ \u001b[1m\u001b[37m3\u001b[39m\u001b[22m=>X gate\n",
       "│  ├─ \u001b[1m\u001b[31mcontrol(\u001b[39m\u001b[22m\u001b[1m\u001b[31m3\u001b[39m\u001b[22m\u001b[1m\u001b[31m)\u001b[39m\u001b[22m\n",
       "│  │  └─ \u001b[1m\u001b[37m4\u001b[39m\u001b[22m=>X gate\n",
       "│  └─ \u001b[1m\u001b[31mcontrol(\u001b[39m\u001b[22m\u001b[1m\u001b[31m4\u001b[39m\u001b[22m\u001b[1m\u001b[31m)\u001b[39m\u001b[22m\n",
       "│     └─ \u001b[1m\u001b[37m1\u001b[39m\u001b[22m=>X gate\n",
       "└─ \u001b[1m\u001b[36mroller\u001b[39m\u001b[22m\n",
       "   ├─ \u001b[1m\u001b[34mchain\u001b[39m\u001b[22m\n",
       "   │  ├─ Rot Z gate: 0.0\n",
       "   │  └─ Rot X gate: 0.0\n",
       "   ├─ \u001b[1m\u001b[34mchain\u001b[39m\u001b[22m\n",
       "   │  ├─ Rot Z gate: 0.0\n",
       "   │  └─ Rot X gate: 0.0\n",
       "   ├─ \u001b[1m\u001b[34mchain\u001b[39m\u001b[22m\n",
       "   │  ├─ Rot Z gate: 0.0\n",
       "   │  └─ Rot X gate: 0.0\n",
       "   └─ \u001b[1m\u001b[34mchain\u001b[39m\u001b[22m\n",
       "      ├─ Rot Z gate: 0.0\n",
       "      └─ Rot X gate: 0.0\n"
      ]
     },
     "execution_count": 24,
     "metadata": {},
     "output_type": "execute_result"
    }
   ],
   "source": [
    "QCBM(4, 1, [1=>2, 2=>3, 3=>4, 4=>1])"
   ]
  },
  {
   "cell_type": "markdown",
   "metadata": {},
   "source": [
    "## MMD Loss & Gradients\n",
    "\n",
    "The MMD loss is describe below:\n",
    "\n",
    "\\begin{equation}\n",
    "\\begin{aligned}\n",
    "\\mathcal{L} &= \\left| \\sum_{x} p \\theta(x) \\phi(x) - \\sum_{x} \\pi(x) \\phi(x) \\right|^2\\\\\n",
    "            &= \\langle K(x, y) \\rangle_{x \\sim p_{\\theta}, y\\sim p_{\\theta}} - 2 \\langle K(x, y) \\rangle_{x\\sim p_{\\theta}, y\\sim \\pi} + \\langle K(x, y) \\rangle_{x\\sim\\pi, y\\sim\\pi}\n",
    "\\end{aligned}\n",
    "\\end{equation}\n",
    "\n",
    "\n",
    "We will use a squared exponential kernel here."
   ]
  },
  {
   "cell_type": "code",
   "execution_count": 38,
   "metadata": {},
   "outputs": [
    {
     "data": {
      "text/plain": [
       "loss (generic function with 1 method)"
      ]
     },
     "execution_count": 38,
     "metadata": {},
     "output_type": "execute_result"
    }
   ],
   "source": [
    "struct Kernel\n",
    "    sigma::Float64\n",
    "    matrix::Matrix{Float64}    \n",
    "end\n",
    "\n",
    "function Kernel(nqubits, sigma)\n",
    "    basis = collect(0:(1<<nqubits - 1))\n",
    "    Kernel(sigma, kernel_matrix(basis, basis, sigma))\n",
    "end\n",
    "\n",
    "expect(kernel::Kernel, px::Vector{Float64}, py::Vector{Float64}) = px' * kernel.matrix * py\n",
    "loss(qcbm, kernel::Kernel, ptrain) = (p = get_prob(qcbm) - ptrain; expect(kernel, p, p))"
   ]
  },
  {
   "cell_type": "markdown",
   "metadata": {},
   "source": [
    "Next, let's define the kernel matrix"
   ]
  },
  {
   "cell_type": "code",
   "execution_count": 39,
   "metadata": {},
   "outputs": [
    {
     "data": {
      "text/plain": [
       "kernel_matrix (generic function with 1 method)"
      ]
     },
     "execution_count": 39,
     "metadata": {},
     "output_type": "execute_result"
    }
   ],
   "source": [
    "function kernel_matrix(x, y, sigma)\n",
    "    dx2 = (x .- y').^2\n",
    "    gamma = 1.0 / (2 * sigma)\n",
    "    K = exp.(-gamma * dx2)\n",
    "    K\n",
    "end"
   ]
  },
  {
   "cell_type": "markdown",
   "metadata": {},
   "source": [
    "### Gradients\n",
    "\n",
    "\n",
    "the gradient of MMD loss is\n",
    "\n",
    "\\begin{equation}\n",
    "\\begin{aligned}\n",
    "\\frac{\\partial \\mathcal{L}}{\\partial \\theta^i_l} &= \\langle K(x, y) \\rangle_{x\\sim p_{\\theta^+}, y\\sim p_{\\theta}} - \\langle K(x, y) \\rangle_{x\\sim p_{\\theta}^-, y\\sim p_{\\theta}}\\\\\n",
    "&- \\langle K(x, y) \\rangle _{x\\sim p_{\\theta^+}, y\\sim\\pi} + \\langle K(x, y) \\rangle_{x\\sim p_{\\theta^-}, y\\sim\\pi}\n",
    "\\end{aligned}\n",
    "\\end{equation}\n",
    "\n",
    "We have to update one parameter of each rotation gate each time, and calculate its gradient then collect them. Since we will need to calculate the probability from the state vector frequently, let's define a shorthand first.\n",
    "\n",
    "\n",
    "Firstly, you have to define a quantum register. Each run of a QCBM's input is a simple $|00\\cdots 0\\rangle$ state. We provide string literal `bit` to help you define one-hot state vectors like this"
   ]
  },
  {
   "cell_type": "code",
   "execution_count": 40,
   "metadata": {},
   "outputs": [
    {
     "data": {
      "text/plain": [
       "DefaultRegister{1, Complex{Float64}}\n",
       "    active qubits: 4/4"
      ]
     },
     "execution_count": 40,
     "metadata": {},
     "output_type": "execute_result"
    }
   ],
   "source": [
    "r = register(bit\"0000\")"
   ]
  },
  {
   "cell_type": "markdown",
   "metadata": {},
   "source": [
    "We provide two method to apply a block to a register:\n",
    "\n",
    "    with(f, register)\n",
    "\n",
    "This method declares a context that has no side-effect, which means rather than apply a block directly to a register, it will copy the register first and then apply the block to this copy.\n",
    "\n",
    "    with!(f, register)\n",
    "\n",
    "This method declares a context that will have side-effect, which means the block will be applied to the register directly.\n",
    "\n",
    "In side the context you should use a pip `|>` to apply a block, which will looks like this:"
   ]
  },
  {
   "cell_type": "code",
   "execution_count": 41,
   "metadata": {},
   "outputs": [
    {
     "data": {
      "text/plain": [
       "false"
      ]
     },
     "execution_count": 41,
     "metadata": {},
     "output_type": "execute_result"
    }
   ],
   "source": [
    "our_register = register(bit\"0\"^5)\n",
    "\n",
    "new_register = with(our_register) do r\n",
    "    r |> kron(1=>X)\n",
    "    r |> kron(2=>X)\n",
    "end\n",
    "\n",
    "state(new_register) ≈ state(our_register)"
   ]
  },
  {
   "cell_type": "code",
   "execution_count": 42,
   "metadata": {},
   "outputs": [
    {
     "data": {
      "text/plain": [
       "true"
      ]
     },
     "execution_count": 42,
     "metadata": {},
     "output_type": "execute_result"
    }
   ],
   "source": [
    "state(new_register) ≈ state(register(bit\"00011\"))"
   ]
  },
  {
   "cell_type": "markdown",
   "metadata": {},
   "source": [
    "For convenience, we also provide the following interface, which allows you to apply a pre-defined circuit to a register.\n",
    "\n",
    "    with(block, register)\n",
    "    with!(block, register)"
   ]
  },
  {
   "cell_type": "code",
   "execution_count": 43,
   "metadata": {},
   "outputs": [
    {
     "data": {
      "text/plain": [
       "DefaultRegister{1, Complex{Float64}}\n",
       "    active qubits: 6/6"
      ]
     },
     "execution_count": 43,
     "metadata": {},
     "output_type": "execute_result"
    }
   ],
   "source": [
    "circuit = QCBM(6, 10, [1=>2, 3=>4, 5=>6, 2=>3, 4=>5, 6=>1]);\n",
    "with(circuit, register(bit\"0\"^6))"
   ]
  },
  {
   "cell_type": "markdown",
   "metadata": {},
   "source": [
    "Now, we define its shorthand"
   ]
  },
  {
   "cell_type": "code",
   "execution_count": 44,
   "metadata": {},
   "outputs": [
    {
     "data": {
      "text/plain": [
       "get_prob (generic function with 1 method)"
      ]
     },
     "execution_count": 44,
     "metadata": {},
     "output_type": "execute_result"
    }
   ],
   "source": [
    "get_prob(qcbm) = with!(qcbm, register(bit\"0\"^6)) |> statevec .|> abs2"
   ]
  },
  {
   "cell_type": "markdown",
   "metadata": {},
   "source": [
    "We will first iterate through each layer contains rotation gates and allocate an array to store our gradient"
   ]
  },
  {
   "cell_type": "code",
   "execution_count": 45,
   "metadata": {},
   "outputs": [
    {
     "data": {
      "text/plain": [
       "gradient (generic function with 13 methods)"
      ]
     },
     "execution_count": 45,
     "metadata": {},
     "output_type": "execute_result"
    }
   ],
   "source": [
    "import Base: gradient\n",
    "\n",
    "function gradient(n, nlayers, qcbm, kernel, ptrain)\n",
    "    prob = get_prob(qcbm)\n",
    "    grad = zeros(real(datatype(qcbm)), nparameters(qcbm))\n",
    "    idx = 0\n",
    "    for ilayer = 1:2:(2 * nlayers + 1)\n",
    "        idx = grad_layer!(grad, idx, prob, qcbm, qcbm[ilayer], kernel, ptrain)\n",
    "    end\n",
    "    grad\n",
    "end"
   ]
  },
  {
   "cell_type": "markdown",
   "metadata": {},
   "source": [
    "Then we iterate through each rotation gate."
   ]
  },
  {
   "cell_type": "code",
   "execution_count": 46,
   "metadata": {},
   "outputs": [
    {
     "data": {
      "text/plain": [
       "grad_layer! (generic function with 1 method)"
      ]
     },
     "execution_count": 46,
     "metadata": {},
     "output_type": "execute_result"
    }
   ],
   "source": [
    "function grad_layer!(grad, idx, prob, qcbm, layer, kernel, ptrain)\n",
    "    count = idx\n",
    "    for each_line in blocks(layer)\n",
    "        for each in blocks(each_line)\n",
    "            gradient!(grad, count+1, prob, qcbm, each, kernel, ptrain)\n",
    "            count += 1\n",
    "        end\n",
    "    end\n",
    "    count\n",
    "end"
   ]
  },
  {
   "cell_type": "markdown",
   "metadata": {},
   "source": [
    "We update each parameter by rotate it $-\\pi/2$ and $\\pi/2$"
   ]
  },
  {
   "cell_type": "code",
   "execution_count": 47,
   "metadata": {},
   "outputs": [
    {
     "data": {
      "text/plain": [
       "gradient! (generic function with 1 method)"
      ]
     },
     "execution_count": 47,
     "metadata": {},
     "output_type": "execute_result"
    }
   ],
   "source": [
    "function gradient!(grad, idx, prob, qcbm, gate, kernel, ptrain)\n",
    "    dispatch!(+, gate, pi / 2)\n",
    "    prob_pos = get_prob(qcbm)\n",
    "\n",
    "    dispatch!(-, gate, pi)\n",
    "    prob_neg = get_prob(qcbm)\n",
    "\n",
    "    dispatch!(+, gate, pi / 2) # set back\n",
    "\n",
    "    grad_pos = expect(kernel, prob, prob_pos) - expect(kernel, prob, prob_neg)\n",
    "    grad_neg = expect(kernel, ptrain, prob_pos) - expect(kernel, ptrain, prob_neg)\n",
    "    grad[idx] = grad_pos - grad_neg\n",
    "    grad\n",
    "end"
   ]
  },
  {
   "cell_type": "markdown",
   "metadata": {},
   "source": [
    "## Optimizer\n",
    "\n",
    "We will use the Adam optimizer. Since we don't want you to install another package for this, the following code for this optimizer is copied from [Knet.jl](https://github.com/denizyuret/Knet.jl)\n",
    "\n",
    "Reference: [Kingma, D. P., & Ba,\n",
    "J. L. (2015)](https://arxiv.org/abs/1412.6980). Adam: a Method for\n",
    "Stochastic Optimization. International Conference on Learning\n",
    "Representations, 1–13."
   ]
  },
  {
   "cell_type": "code",
   "execution_count": 48,
   "metadata": {},
   "outputs": [
    {
     "data": {
      "text/plain": [
       "gclip! (generic function with 1 method)"
      ]
     },
     "execution_count": 48,
     "metadata": {},
     "output_type": "execute_result"
    }
   ],
   "source": [
    "mutable struct Adam\n",
    "    lr::AbstractFloat\n",
    "    gclip::AbstractFloat\n",
    "    beta1::AbstractFloat\n",
    "    beta2::AbstractFloat\n",
    "    eps::AbstractFloat\n",
    "    t::Int\n",
    "    fstm\n",
    "    scndm\n",
    "end\n",
    "\n",
    "Adam(; lr=0.001, gclip=0, beta1=0.9, beta2=0.999, eps=1e-8)=Adam(lr, gclip, beta1, beta2, eps, 0, nothing, nothing)\n",
    "\n",
    "function update!(w, g, p::Adam)\n",
    "    gclip!(g, p.gclip)\n",
    "    if p.fstm===nothing; p.fstm=zeros(w); p.scndm=zeros(w); end\n",
    "    p.t += 1\n",
    "    BLAS.scale!(p.beta1, p.fstm)\n",
    "    BLAS.axpy!(1-p.beta1, g, p.fstm)\n",
    "    BLAS.scale!(p.beta2, p.scndm)\n",
    "    BLAS.axpy!(1-p.beta2, g .* g, p.scndm)\n",
    "    fstm_corrected = p.fstm / (1 - p.beta1 ^ p.t)\n",
    "    scndm_corrected = p.scndm / (1 - p.beta2 ^ p.t)\n",
    "    BLAS.axpy!(-p.lr, (fstm_corrected ./ (sqrt.(scndm_corrected) + p.eps)), w)\n",
    "end\n",
    "\n",
    "function gclip!(g, gclip)\n",
    "    if gclip == 0\n",
    "        g\n",
    "    else\n",
    "        gnorm = vecnorm(g)\n",
    "        if gnorm <= gclip\n",
    "            g\n",
    "        else\n",
    "            BLAS.scale!(gclip/gnorm, g)\n",
    "        end\n",
    "    end\n",
    "end"
   ]
  },
  {
   "cell_type": "markdown",
   "metadata": {},
   "source": [
    "The training of the quantum circuit is simple, just iterate through the steps."
   ]
  },
  {
   "cell_type": "code",
   "execution_count": 49,
   "metadata": {},
   "outputs": [
    {
     "data": {
      "text/plain": [
       "train! (generic function with 1 method)"
      ]
     },
     "execution_count": 49,
     "metadata": {},
     "output_type": "execute_result"
    }
   ],
   "source": [
    "function train!(qcbm, ptrain, optim; learning_rate=0.1, niter=50)\n",
    "    # initialize the parameters\n",
    "    params = 2pi * rand(nparameters(qcbm))\n",
    "    dispatch!(qcbm, params)\n",
    "    kernel = Kernel(nqubits(qcbm), 0.25)\n",
    "    \n",
    "    n, nlayers = nqubits(qcbm), (length(qcbm)-1)÷2\n",
    "    history = Float64[]\n",
    "    \n",
    "    for i = 1:niter\n",
    "        grad = gradient(n, nlayers, qcbm, kernel, ptrain)\n",
    "        curr_loss = loss(qcbm, kernel, ptrain)\n",
    "        push!(history, curr_loss)        \n",
    "        params = parameters(qcbm)\n",
    "        update!(params, grad, optim)\n",
    "        dispatch!(qcbm, params)\n",
    "    end\n",
    "    history\n",
    "end"
   ]
  },
  {
   "cell_type": "code",
   "execution_count": 50,
   "metadata": {
    "scrolled": true
   },
   "outputs": [
    {
     "data": {
      "image/svg+xml": [
       "<?xml version=\"1.0\" encoding=\"utf-8\"?>\n",
       "<svg xmlns=\"http://www.w3.org/2000/svg\" xmlns:xlink=\"http://www.w3.org/1999/xlink\" width=\"600\" height=\"450\" viewBox=\"0 0 600 450\">\n",
       "<defs>\n",
       "  <clipPath id=\"clip1200\">\n",
       "    <rect x=\"75\" y=\"33\" width=\"481\" height=\"361\"/>\n",
       "  </clipPath>\n",
       "</defs>\n",
       "<defs>\n",
       "  <clipPath id=\"clip1201\">\n",
       "    <rect x=\"0\" y=\"0\" width=\"600\" height=\"450\"/>\n",
       "  </clipPath>\n",
       "</defs>\n",
       "<polyline clip-path=\"url(#clip1201)\" style=\"stroke:#ededed; stroke-width:1.05; stroke-opacity:1; fill:none\" points=\"\n",
       "  75,378.098 555,378.098 \n",
       "  \"/>\n",
       "<polyline clip-path=\"url(#clip1201)\" style=\"stroke:#ededed; stroke-width:1.05; stroke-opacity:1; fill:none\" points=\"\n",
       "  75,362.446 555,362.446 \n",
       "  \"/>\n",
       "<polyline clip-path=\"url(#clip1201)\" style=\"stroke:#ededed; stroke-width:1.05; stroke-opacity:1; fill:none\" points=\"\n",
       "  75,346.793 555,346.793 \n",
       "  \"/>\n",
       "<polyline clip-path=\"url(#clip1201)\" style=\"stroke:#ededed; stroke-width:1.05; stroke-opacity:1; fill:none\" points=\"\n",
       "  75,331.141 555,331.141 \n",
       "  \"/>\n",
       "<polyline clip-path=\"url(#clip1201)\" style=\"stroke:#cccccc; stroke-width:1.05; stroke-opacity:1; fill:none\" points=\"\n",
       "  75,315.489 555,315.489 \n",
       "  \"/>\n",
       "<polyline clip-path=\"url(#clip1201)\" style=\"stroke:#ededed; stroke-width:1.05; stroke-opacity:1; fill:none\" points=\"\n",
       "  75,299.837 555,299.837 \n",
       "  \"/>\n",
       "<polyline clip-path=\"url(#clip1201)\" style=\"stroke:#ededed; stroke-width:1.05; stroke-opacity:1; fill:none\" points=\"\n",
       "  75,284.185 555,284.185 \n",
       "  \"/>\n",
       "<polyline clip-path=\"url(#clip1201)\" style=\"stroke:#ededed; stroke-width:1.05; stroke-opacity:1; fill:none\" points=\"\n",
       "  75,268.533 555,268.533 \n",
       "  \"/>\n",
       "<polyline clip-path=\"url(#clip1201)\" style=\"stroke:#ededed; stroke-width:1.05; stroke-opacity:1; fill:none\" points=\"\n",
       "  75,252.88 555,252.88 \n",
       "  \"/>\n",
       "<polyline clip-path=\"url(#clip1201)\" style=\"stroke:#cccccc; stroke-width:1.05; stroke-opacity:1; fill:none\" points=\"\n",
       "  75,237.228 555,237.228 \n",
       "  \"/>\n",
       "<polyline clip-path=\"url(#clip1201)\" style=\"stroke:#ededed; stroke-width:1.05; stroke-opacity:1; fill:none\" points=\"\n",
       "  75,221.576 555,221.576 \n",
       "  \"/>\n",
       "<polyline clip-path=\"url(#clip1201)\" style=\"stroke:#ededed; stroke-width:1.05; stroke-opacity:1; fill:none\" points=\"\n",
       "  75,205.924 555,205.924 \n",
       "  \"/>\n",
       "<polyline clip-path=\"url(#clip1201)\" style=\"stroke:#ededed; stroke-width:1.05; stroke-opacity:1; fill:none\" points=\"\n",
       "  75,190.272 555,190.272 \n",
       "  \"/>\n",
       "<polyline clip-path=\"url(#clip1201)\" style=\"stroke:#ededed; stroke-width:1.05; stroke-opacity:1; fill:none\" points=\"\n",
       "  75,174.62 555,174.62 \n",
       "  \"/>\n",
       "<polyline clip-path=\"url(#clip1201)\" style=\"stroke:#cccccc; stroke-width:1.05; stroke-opacity:1; fill:none\" points=\"\n",
       "  75,158.967 555,158.967 \n",
       "  \"/>\n",
       "<polyline clip-path=\"url(#clip1201)\" style=\"stroke:#ededed; stroke-width:1.05; stroke-opacity:1; fill:none\" points=\"\n",
       "  75,143.315 555,143.315 \n",
       "  \"/>\n",
       "<polyline clip-path=\"url(#clip1201)\" style=\"stroke:#ededed; stroke-width:1.05; stroke-opacity:1; fill:none\" points=\"\n",
       "  75,127.663 555,127.663 \n",
       "  \"/>\n",
       "<polyline clip-path=\"url(#clip1201)\" style=\"stroke:#ededed; stroke-width:1.05; stroke-opacity:1; fill:none\" points=\"\n",
       "  75,112.011 555,112.011 \n",
       "  \"/>\n",
       "<polyline clip-path=\"url(#clip1201)\" style=\"stroke:#ededed; stroke-width:1.05; stroke-opacity:1; fill:none\" points=\"\n",
       "  75,96.3587 555,96.3587 \n",
       "  \"/>\n",
       "<polyline clip-path=\"url(#clip1201)\" style=\"stroke:#cccccc; stroke-width:1.05; stroke-opacity:1; fill:none\" points=\"\n",
       "  75,80.7065 555,80.7065 \n",
       "  \"/>\n",
       "<polyline clip-path=\"url(#clip1201)\" style=\"stroke:#ededed; stroke-width:1.05; stroke-opacity:1; fill:none\" points=\"\n",
       "  75,65.0543 555,65.0543 \n",
       "  \"/>\n",
       "<polyline clip-path=\"url(#clip1201)\" style=\"stroke:#ededed; stroke-width:1.05; stroke-opacity:1; fill:none\" points=\"\n",
       "  75,49.4022 555,49.4022 \n",
       "  \"/>\n",
       "<polyline clip-path=\"url(#clip1201)\" style=\"stroke:#ededed; stroke-width:1.05; stroke-opacity:1; fill:none\" points=\"\n",
       "  94.2,393.75 94.2,33.75 \n",
       "  \"/>\n",
       "<polyline clip-path=\"url(#clip1201)\" style=\"stroke:#ededed; stroke-width:1.05; stroke-opacity:1; fill:none\" points=\"\n",
       "  113.4,393.75 113.4,33.75 \n",
       "  \"/>\n",
       "<polyline clip-path=\"url(#clip1201)\" style=\"stroke:#ededed; stroke-width:1.05; stroke-opacity:1; fill:none\" points=\"\n",
       "  132.6,393.75 132.6,33.75 \n",
       "  \"/>\n",
       "<polyline clip-path=\"url(#clip1201)\" style=\"stroke:#ededed; stroke-width:1.05; stroke-opacity:1; fill:none\" points=\"\n",
       "  151.8,393.75 151.8,33.75 \n",
       "  \"/>\n",
       "<polyline clip-path=\"url(#clip1201)\" style=\"stroke:#cccccc; stroke-width:1.05; stroke-opacity:1; fill:none\" points=\"\n",
       "  171,393.75 171,33.75 \n",
       "  \"/>\n",
       "<polyline clip-path=\"url(#clip1201)\" style=\"stroke:#ededed; stroke-width:1.05; stroke-opacity:1; fill:none\" points=\"\n",
       "  190.2,393.75 190.2,33.75 \n",
       "  \"/>\n",
       "<polyline clip-path=\"url(#clip1201)\" style=\"stroke:#ededed; stroke-width:1.05; stroke-opacity:1; fill:none\" points=\"\n",
       "  209.4,393.75 209.4,33.75 \n",
       "  \"/>\n",
       "<polyline clip-path=\"url(#clip1201)\" style=\"stroke:#ededed; stroke-width:1.05; stroke-opacity:1; fill:none\" points=\"\n",
       "  228.6,393.75 228.6,33.75 \n",
       "  \"/>\n",
       "<polyline clip-path=\"url(#clip1201)\" style=\"stroke:#ededed; stroke-width:1.05; stroke-opacity:1; fill:none\" points=\"\n",
       "  247.8,393.75 247.8,33.75 \n",
       "  \"/>\n",
       "<polyline clip-path=\"url(#clip1201)\" style=\"stroke:#cccccc; stroke-width:1.05; stroke-opacity:1; fill:none\" points=\"\n",
       "  267,393.75 267,33.75 \n",
       "  \"/>\n",
       "<polyline clip-path=\"url(#clip1201)\" style=\"stroke:#ededed; stroke-width:1.05; stroke-opacity:1; fill:none\" points=\"\n",
       "  286.2,393.75 286.2,33.75 \n",
       "  \"/>\n",
       "<polyline clip-path=\"url(#clip1201)\" style=\"stroke:#ededed; stroke-width:1.05; stroke-opacity:1; fill:none\" points=\"\n",
       "  305.4,393.75 305.4,33.75 \n",
       "  \"/>\n",
       "<polyline clip-path=\"url(#clip1201)\" style=\"stroke:#ededed; stroke-width:1.05; stroke-opacity:1; fill:none\" points=\"\n",
       "  324.6,393.75 324.6,33.75 \n",
       "  \"/>\n",
       "<polyline clip-path=\"url(#clip1201)\" style=\"stroke:#ededed; stroke-width:1.05; stroke-opacity:1; fill:none\" points=\"\n",
       "  343.8,393.75 343.8,33.75 \n",
       "  \"/>\n",
       "<polyline clip-path=\"url(#clip1201)\" style=\"stroke:#cccccc; stroke-width:1.05; stroke-opacity:1; fill:none\" points=\"\n",
       "  363,393.75 363,33.75 \n",
       "  \"/>\n",
       "<polyline clip-path=\"url(#clip1201)\" style=\"stroke:#ededed; stroke-width:1.05; stroke-opacity:1; fill:none\" points=\"\n",
       "  382.2,393.75 382.2,33.75 \n",
       "  \"/>\n",
       "<polyline clip-path=\"url(#clip1201)\" style=\"stroke:#ededed; stroke-width:1.05; stroke-opacity:1; fill:none\" points=\"\n",
       "  401.4,393.75 401.4,33.75 \n",
       "  \"/>\n",
       "<polyline clip-path=\"url(#clip1201)\" style=\"stroke:#ededed; stroke-width:1.05; stroke-opacity:1; fill:none\" points=\"\n",
       "  420.6,393.75 420.6,33.75 \n",
       "  \"/>\n",
       "<polyline clip-path=\"url(#clip1201)\" style=\"stroke:#ededed; stroke-width:1.05; stroke-opacity:1; fill:none\" points=\"\n",
       "  439.8,393.75 439.8,33.75 \n",
       "  \"/>\n",
       "<polyline clip-path=\"url(#clip1201)\" style=\"stroke:#cccccc; stroke-width:1.05; stroke-opacity:1; fill:none\" points=\"\n",
       "  459,393.75 459,33.75 \n",
       "  \"/>\n",
       "<polyline clip-path=\"url(#clip1201)\" style=\"stroke:#ededed; stroke-width:1.05; stroke-opacity:1; fill:none\" points=\"\n",
       "  478.2,393.75 478.2,33.75 \n",
       "  \"/>\n",
       "<polyline clip-path=\"url(#clip1201)\" style=\"stroke:#ededed; stroke-width:1.05; stroke-opacity:1; fill:none\" points=\"\n",
       "  497.4,393.75 497.4,33.75 \n",
       "  \"/>\n",
       "<polyline clip-path=\"url(#clip1201)\" style=\"stroke:#ededed; stroke-width:1.05; stroke-opacity:1; fill:none\" points=\"\n",
       "  516.6,393.75 516.6,33.75 \n",
       "  \"/>\n",
       "<polyline clip-path=\"url(#clip1201)\" style=\"stroke:#ededed; stroke-width:1.05; stroke-opacity:1; fill:none\" points=\"\n",
       "  535.8,393.75 535.8,33.75 \n",
       "  \"/>\n",
       "<polyline clip-path=\"url(#clip1201)\" style=\"stroke:#cccccc; stroke-width:1.05; stroke-opacity:1; fill:none\" points=\"\n",
       "  555,393.75 555,33.75 \n",
       "  \"/>\n",
       "<g clip-path=\"url(#clip1201)\">\n",
       "<text style=\"fill:#000000; fill-opacity:1; font-family:Arial,Helvetica Neue,Helvetica,sans-serif; font-size:15; text-anchor:start;\" transform=\"rotate(0, 62.1368, 398.016)\" x=\"62.1368\" y=\"398.016\">0</text>\n",
       "</g>\n",
       "<g clip-path=\"url(#clip1201)\">\n",
       "<text style=\"fill:#000000; fill-opacity:1; font-family:Arial,Helvetica Neue,Helvetica,sans-serif; font-size:15; text-anchor:start;\" transform=\"rotate(0, 32.8655, 319.755)\" x=\"32.8655\" y=\"319.755\">0.005</text>\n",
       "</g>\n",
       "<g clip-path=\"url(#clip1201)\">\n",
       "<text style=\"fill:#000000; fill-opacity:1; font-family:Arial,Helvetica Neue,Helvetica,sans-serif; font-size:15; text-anchor:start;\" transform=\"rotate(0, 32.8655, 241.494)\" x=\"32.8655\" y=\"241.494\">0.010</text>\n",
       "</g>\n",
       "<g clip-path=\"url(#clip1201)\">\n",
       "<text style=\"fill:#000000; fill-opacity:1; font-family:Arial,Helvetica Neue,Helvetica,sans-serif; font-size:15; text-anchor:start;\" transform=\"rotate(0, 32.8655, 163.233)\" x=\"32.8655\" y=\"163.233\">0.015</text>\n",
       "</g>\n",
       "<g clip-path=\"url(#clip1201)\">\n",
       "<text style=\"fill:#000000; fill-opacity:1; font-family:Arial,Helvetica Neue,Helvetica,sans-serif; font-size:15; text-anchor:start;\" transform=\"rotate(0, 32.8655, 84.9725)\" x=\"32.8655\" y=\"84.9725\">0.020</text>\n",
       "</g>\n",
       "<polyline clip-path=\"url(#clip1201)\" style=\"stroke:#000000; stroke-width:1.05; stroke-opacity:1; fill:none\" points=\"\n",
       "  75,393.75 75,393.75 84,393.75 75,393.75 75,378.098 79.5,378.098 75,378.098 75,362.446 79.5,362.446 75,362.446 \n",
       "  75,346.793 79.5,346.793 75,346.793 75,331.141 79.5,331.141 75,331.141 75,315.489 84,315.489 75,315.489 75,299.837 \n",
       "  79.5,299.837 75,299.837 75,284.185 79.5,284.185 75,284.185 75,268.533 79.5,268.533 75,268.533 75,252.88 79.5,252.88 \n",
       "  75,252.88 75,237.228 84,237.228 75,237.228 75,221.576 79.5,221.576 75,221.576 75,205.924 79.5,205.924 75,205.924 \n",
       "  75,190.272 79.5,190.272 75,190.272 75,174.62 79.5,174.62 75,174.62 75,158.967 84,158.967 75,158.967 75,143.315 \n",
       "  79.5,143.315 75,143.315 75,127.663 79.5,127.663 75,127.663 75,112.011 79.5,112.011 75,112.011 75,96.3587 79.5,96.3587 \n",
       "  75,96.3587 75,80.7065 84,80.7065 75,80.7065 75,65.0543 79.5,65.0543 75,65.0543 75,49.4022 79.5,49.4022 75,49.4022 \n",
       "  75,33.75 79.5,33.75 75,33.75 75,33.75 \n",
       "  \"/>\n",
       "<g clip-path=\"url(#clip1201)\">\n",
       "<text style=\"fill:#000000; fill-opacity:1; font-family:Arial,Helvetica Neue,Helvetica,sans-serif; font-size:15; text-anchor:start;\" transform=\"rotate(0, 70.8184, 411.642)\" x=\"70.8184\" y=\"411.642\">0</text>\n",
       "</g>\n",
       "<g clip-path=\"url(#clip1201)\">\n",
       "<text style=\"fill:#000000; fill-opacity:1; font-family:Arial,Helvetica Neue,Helvetica,sans-serif; font-size:15; text-anchor:start;\" transform=\"rotate(0, 162.637, 411.642)\" x=\"162.637\" y=\"411.642\">10</text>\n",
       "</g>\n",
       "<g clip-path=\"url(#clip1201)\">\n",
       "<text style=\"fill:#000000; fill-opacity:1; font-family:Arial,Helvetica Neue,Helvetica,sans-serif; font-size:15; text-anchor:start;\" transform=\"rotate(0, 258.637, 411.642)\" x=\"258.637\" y=\"411.642\">20</text>\n",
       "</g>\n",
       "<g clip-path=\"url(#clip1201)\">\n",
       "<text style=\"fill:#000000; fill-opacity:1; font-family:Arial,Helvetica Neue,Helvetica,sans-serif; font-size:15; text-anchor:start;\" transform=\"rotate(0, 354.637, 411.642)\" x=\"354.637\" y=\"411.642\">30</text>\n",
       "</g>\n",
       "<g clip-path=\"url(#clip1201)\">\n",
       "<text style=\"fill:#000000; fill-opacity:1; font-family:Arial,Helvetica Neue,Helvetica,sans-serif; font-size:15; text-anchor:start;\" transform=\"rotate(0, 450.637, 411.642)\" x=\"450.637\" y=\"411.642\">40</text>\n",
       "</g>\n",
       "<g clip-path=\"url(#clip1201)\">\n",
       "<text style=\"fill:#000000; fill-opacity:1; font-family:Arial,Helvetica Neue,Helvetica,sans-serif; font-size:15; text-anchor:start;\" transform=\"rotate(0, 546.637, 411.642)\" x=\"546.637\" y=\"411.642\">50</text>\n",
       "</g>\n",
       "<polyline clip-path=\"url(#clip1201)\" style=\"stroke:#000000; stroke-width:1.05; stroke-opacity:1; fill:none\" points=\"\n",
       "  75,393.75 75,393.75 75,384.75 75,393.75 94.2,393.75 94.2,389.25 94.2,393.75 113.4,393.75 113.4,389.25 113.4,393.75 \n",
       "  132.6,393.75 132.6,389.25 132.6,393.75 151.8,393.75 151.8,389.25 151.8,393.75 171,393.75 171,384.75 171,393.75 190.2,393.75 \n",
       "  190.2,389.25 190.2,393.75 209.4,393.75 209.4,389.25 209.4,393.75 228.6,393.75 228.6,389.25 228.6,393.75 247.8,393.75 247.8,389.25 \n",
       "  247.8,393.75 267,393.75 267,384.75 267,393.75 286.2,393.75 286.2,389.25 286.2,393.75 305.4,393.75 305.4,389.25 305.4,393.75 \n",
       "  324.6,393.75 324.6,389.25 324.6,393.75 343.8,393.75 343.8,389.25 343.8,393.75 363,393.75 363,384.75 363,393.75 382.2,393.75 \n",
       "  382.2,389.25 382.2,393.75 401.4,393.75 401.4,389.25 401.4,393.75 420.6,393.75 420.6,389.25 420.6,393.75 439.8,393.75 439.8,389.25 \n",
       "  439.8,393.75 459,393.75 459,384.75 459,393.75 478.2,393.75 478.2,389.25 478.2,393.75 497.4,393.75 497.4,389.25 497.4,393.75 \n",
       "  516.6,393.75 516.6,389.25 516.6,393.75 535.8,393.75 535.8,389.25 535.8,393.75 555,393.75 555,384.75 555,393.75 \n",
       "  \n",
       "  \"/>\n",
       "<polyline clip-path=\"url(#clip1201)\" style=\"stroke:#000000; stroke-width:1.05; stroke-opacity:1; fill:none\" points=\"\n",
       "  555,393.75 555,393.75 546,393.75 555,393.75 555,378.098 550.5,378.098 555,378.098 555,362.446 550.5,362.446 555,362.446 \n",
       "  555,346.793 550.5,346.793 555,346.793 555,331.141 550.5,331.141 555,331.141 555,315.489 546,315.489 555,315.489 555,299.837 \n",
       "  550.5,299.837 555,299.837 555,284.185 550.5,284.185 555,284.185 555,268.533 550.5,268.533 555,268.533 555,252.88 550.5,252.88 \n",
       "  555,252.88 555,237.228 546,237.228 555,237.228 555,221.576 550.5,221.576 555,221.576 555,205.924 550.5,205.924 555,205.924 \n",
       "  555,190.272 550.5,190.272 555,190.272 555,174.62 550.5,174.62 555,174.62 555,158.967 546,158.967 555,158.967 555,143.315 \n",
       "  550.5,143.315 555,143.315 555,127.663 550.5,127.663 555,127.663 555,112.011 550.5,112.011 555,112.011 555,96.3587 550.5,96.3587 \n",
       "  555,96.3587 555,80.7065 546,80.7065 555,80.7065 555,65.0543 550.5,65.0543 555,65.0543 555,49.4022 550.5,49.4022 555,49.4022 \n",
       "  555,33.75 550.5,33.75 555,33.75 555,33.75 \n",
       "  \"/>\n",
       "<polyline clip-path=\"url(#clip1201)\" style=\"stroke:#000000; stroke-width:1.05; stroke-opacity:1; fill:none\" points=\"\n",
       "  75,33.75 75,33.75 75,42.75 75,33.75 94.2,33.75 94.2,38.25 94.2,33.75 113.4,33.75 113.4,38.25 113.4,33.75 \n",
       "  132.6,33.75 132.6,38.25 132.6,33.75 151.8,33.75 151.8,38.25 151.8,33.75 171,33.75 171,42.75 171,33.75 190.2,33.75 \n",
       "  190.2,38.25 190.2,33.75 209.4,33.75 209.4,38.25 209.4,33.75 228.6,33.75 228.6,38.25 228.6,33.75 247.8,33.75 247.8,38.25 \n",
       "  247.8,33.75 267,33.75 267,42.75 267,33.75 286.2,33.75 286.2,38.25 286.2,33.75 305.4,33.75 305.4,38.25 305.4,33.75 \n",
       "  324.6,33.75 324.6,38.25 324.6,33.75 343.8,33.75 343.8,38.25 343.8,33.75 363,33.75 363,42.75 363,33.75 382.2,33.75 \n",
       "  382.2,38.25 382.2,33.75 401.4,33.75 401.4,38.25 401.4,33.75 420.6,33.75 420.6,38.25 420.6,33.75 439.8,33.75 439.8,38.25 \n",
       "  439.8,33.75 459,33.75 459,42.75 459,33.75 478.2,33.75 478.2,38.25 478.2,33.75 497.4,33.75 497.4,38.25 497.4,33.75 \n",
       "  516.6,33.75 516.6,38.25 516.6,33.75 535.8,33.75 535.8,38.25 535.8,33.75 555,33.75 555,42.75 555,33.75 \n",
       "  \n",
       "  \"/>\n",
       "<g clip-path=\"url(#clip1201)\">\n",
       "<text style=\"fill:#000000; fill-opacity:1; font-family:Arial,Helvetica Neue,Helvetica,sans-serif; font-size:15; text-anchor:middle;\" transform=\"rotate(0, 315, 442.4)\" x=\"315\" y=\"442.4\">iteration</text>\n",
       "</g>\n",
       "<g clip-path=\"url(#clip1201)\">\n",
       "<text style=\"fill:#000000; fill-opacity:1; font-family:Arial,Helvetica Neue,Helvetica,sans-serif; font-size:15; text-anchor:middle;\" transform=\"rotate(-90, 18.6, 213.75)\" x=\"18.6\" y=\"213.75\">loss</text>\n",
       "</g>\n",
       "<polyline clip-path=\"url(#clip1200)\" style=\"stroke:#00528a; stroke-width:1.05; stroke-opacity:1; fill:none\" points=\"\n",
       "  84.6,41.3323 94.2,157.311 103.8,250.247 113.4,318.751 123,313.015 132.6,323.537 142.2,335.344 151.8,328.061 161.4,338.755 171,363.895 \n",
       "  180.6,371.559 190.2,364.862 199.8,367.6 209.4,372.563 219,371.89 228.6,377.467 238.2,380.184 247.8,379.638 257.4,381.456 267,381.101 \n",
       "  276.6,381.755 286.2,385.421 295.8,386.637 305.4,385.668 315,386.809 324.6,387.304 334.2,386.788 343.8,387.699 353.4,388.084 363,389.249 \n",
       "  372.6,390.256 382.2,389.538 391.8,389.684 401.4,390.697 411,391.401 420.6,391.655 430.2,391.403 439.8,391.919 449.4,392.184 459,392.156 \n",
       "  468.6,392.297 478.2,392.296 487.8,392.539 497.4,392.726 507,392.733 516.6,392.728 526.2,392.882 535.8,393.065 545.4,393.04 555,393.236 \n",
       "  \n",
       "  \"/>\n",
       "</svg>\n"
      ],
      "text/plain": [
       "GR.SVG(UInt8[0x3c, 0x3f, 0x78, 0x6d, 0x6c, 0x20, 0x76, 0x65, 0x72, 0x73  …  0x2f, 0x3e, 0x0a, 0x3c, 0x2f, 0x73, 0x76, 0x67, 0x3e, 0x0a])"
      ]
     },
     "execution_count": 50,
     "metadata": {},
     "output_type": "execute_result"
    }
   ],
   "source": [
    "optim = Adam(lr=0.1)\n",
    "his = train!(circuit, pg, optim, niter=50, learning_rate=0.1)\n",
    "plot(1:50, his, xlabel=\"iteration\", ylabel=\"loss\")"
   ]
  },
  {
   "cell_type": "code",
   "execution_count": 51,
   "metadata": {},
   "outputs": [
    {
     "data": {
      "image/svg+xml": [
       "<?xml version=\"1.0\" encoding=\"utf-8\"?>\n",
       "<svg xmlns=\"http://www.w3.org/2000/svg\" xmlns:xlink=\"http://www.w3.org/1999/xlink\" width=\"600\" height=\"450\" viewBox=\"0 0 600 450\">\n",
       "<defs>\n",
       "  <clipPath id=\"clip1300\">\n",
       "    <rect x=\"75\" y=\"33\" width=\"481\" height=\"361\"/>\n",
       "  </clipPath>\n",
       "</defs>\n",
       "<defs>\n",
       "  <clipPath id=\"clip1301\">\n",
       "    <rect x=\"0\" y=\"0\" width=\"600\" height=\"450\"/>\n",
       "  </clipPath>\n",
       "</defs>\n",
       "<polyline clip-path=\"url(#clip1301)\" style=\"stroke:#ededed; stroke-width:1.05; stroke-opacity:1; fill:none\" points=\"\n",
       "  75,378.75 555,378.75 \n",
       "  \"/>\n",
       "<polyline clip-path=\"url(#clip1301)\" style=\"stroke:#cccccc; stroke-width:1.05; stroke-opacity:1; fill:none\" points=\"\n",
       "  75,363.75 555,363.75 \n",
       "  \"/>\n",
       "<polyline clip-path=\"url(#clip1301)\" style=\"stroke:#ededed; stroke-width:1.05; stroke-opacity:1; fill:none\" points=\"\n",
       "  75,348.75 555,348.75 \n",
       "  \"/>\n",
       "<polyline clip-path=\"url(#clip1301)\" style=\"stroke:#ededed; stroke-width:1.05; stroke-opacity:1; fill:none\" points=\"\n",
       "  75,333.75 555,333.75 \n",
       "  \"/>\n",
       "<polyline clip-path=\"url(#clip1301)\" style=\"stroke:#ededed; stroke-width:1.05; stroke-opacity:1; fill:none\" points=\"\n",
       "  75,318.75 555,318.75 \n",
       "  \"/>\n",
       "<polyline clip-path=\"url(#clip1301)\" style=\"stroke:#ededed; stroke-width:1.05; stroke-opacity:1; fill:none\" points=\"\n",
       "  75,303.75 555,303.75 \n",
       "  \"/>\n",
       "<polyline clip-path=\"url(#clip1301)\" style=\"stroke:#cccccc; stroke-width:1.05; stroke-opacity:1; fill:none\" points=\"\n",
       "  75,288.75 555,288.75 \n",
       "  \"/>\n",
       "<polyline clip-path=\"url(#clip1301)\" style=\"stroke:#ededed; stroke-width:1.05; stroke-opacity:1; fill:none\" points=\"\n",
       "  75,273.75 555,273.75 \n",
       "  \"/>\n",
       "<polyline clip-path=\"url(#clip1301)\" style=\"stroke:#ededed; stroke-width:1.05; stroke-opacity:1; fill:none\" points=\"\n",
       "  75,258.75 555,258.75 \n",
       "  \"/>\n",
       "<polyline clip-path=\"url(#clip1301)\" style=\"stroke:#ededed; stroke-width:1.05; stroke-opacity:1; fill:none\" points=\"\n",
       "  75,243.75 555,243.75 \n",
       "  \"/>\n",
       "<polyline clip-path=\"url(#clip1301)\" style=\"stroke:#ededed; stroke-width:1.05; stroke-opacity:1; fill:none\" points=\"\n",
       "  75,228.75 555,228.75 \n",
       "  \"/>\n",
       "<polyline clip-path=\"url(#clip1301)\" style=\"stroke:#cccccc; stroke-width:1.05; stroke-opacity:1; fill:none\" points=\"\n",
       "  75,213.75 555,213.75 \n",
       "  \"/>\n",
       "<polyline clip-path=\"url(#clip1301)\" style=\"stroke:#ededed; stroke-width:1.05; stroke-opacity:1; fill:none\" points=\"\n",
       "  75,198.75 555,198.75 \n",
       "  \"/>\n",
       "<polyline clip-path=\"url(#clip1301)\" style=\"stroke:#ededed; stroke-width:1.05; stroke-opacity:1; fill:none\" points=\"\n",
       "  75,183.75 555,183.75 \n",
       "  \"/>\n",
       "<polyline clip-path=\"url(#clip1301)\" style=\"stroke:#ededed; stroke-width:1.05; stroke-opacity:1; fill:none\" points=\"\n",
       "  75,168.75 555,168.75 \n",
       "  \"/>\n",
       "<polyline clip-path=\"url(#clip1301)\" style=\"stroke:#ededed; stroke-width:1.05; stroke-opacity:1; fill:none\" points=\"\n",
       "  75,153.75 555,153.75 \n",
       "  \"/>\n",
       "<polyline clip-path=\"url(#clip1301)\" style=\"stroke:#cccccc; stroke-width:1.05; stroke-opacity:1; fill:none\" points=\"\n",
       "  75,138.75 555,138.75 \n",
       "  \"/>\n",
       "<polyline clip-path=\"url(#clip1301)\" style=\"stroke:#ededed; stroke-width:1.05; stroke-opacity:1; fill:none\" points=\"\n",
       "  75,123.75 555,123.75 \n",
       "  \"/>\n",
       "<polyline clip-path=\"url(#clip1301)\" style=\"stroke:#ededed; stroke-width:1.05; stroke-opacity:1; fill:none\" points=\"\n",
       "  75,108.75 555,108.75 \n",
       "  \"/>\n",
       "<polyline clip-path=\"url(#clip1301)\" style=\"stroke:#ededed; stroke-width:1.05; stroke-opacity:1; fill:none\" points=\"\n",
       "  75,93.75 555,93.75 \n",
       "  \"/>\n",
       "<polyline clip-path=\"url(#clip1301)\" style=\"stroke:#ededed; stroke-width:1.05; stroke-opacity:1; fill:none\" points=\"\n",
       "  75,78.75 555,78.75 \n",
       "  \"/>\n",
       "<polyline clip-path=\"url(#clip1301)\" style=\"stroke:#cccccc; stroke-width:1.05; stroke-opacity:1; fill:none\" points=\"\n",
       "  75,63.75 555,63.75 \n",
       "  \"/>\n",
       "<polyline clip-path=\"url(#clip1301)\" style=\"stroke:#ededed; stroke-width:1.05; stroke-opacity:1; fill:none\" points=\"\n",
       "  75,48.75 555,48.75 \n",
       "  \"/>\n",
       "<polyline clip-path=\"url(#clip1301)\" style=\"stroke:#ededed; stroke-width:1.05; stroke-opacity:1; fill:none\" points=\"\n",
       "  102.429,393.75 102.429,33.75 \n",
       "  \"/>\n",
       "<polyline clip-path=\"url(#clip1301)\" style=\"stroke:#ededed; stroke-width:1.05; stroke-opacity:1; fill:none\" points=\"\n",
       "  129.857,393.75 129.857,33.75 \n",
       "  \"/>\n",
       "<polyline clip-path=\"url(#clip1301)\" style=\"stroke:#ededed; stroke-width:1.05; stroke-opacity:1; fill:none\" points=\"\n",
       "  157.286,393.75 157.286,33.75 \n",
       "  \"/>\n",
       "<polyline clip-path=\"url(#clip1301)\" style=\"stroke:#ededed; stroke-width:1.05; stroke-opacity:1; fill:none\" points=\"\n",
       "  184.714,393.75 184.714,33.75 \n",
       "  \"/>\n",
       "<polyline clip-path=\"url(#clip1301)\" style=\"stroke:#cccccc; stroke-width:1.05; stroke-opacity:1; fill:none\" points=\"\n",
       "  212.143,393.75 212.143,33.75 \n",
       "  \"/>\n",
       "<polyline clip-path=\"url(#clip1301)\" style=\"stroke:#ededed; stroke-width:1.05; stroke-opacity:1; fill:none\" points=\"\n",
       "  239.571,393.75 239.571,33.75 \n",
       "  \"/>\n",
       "<polyline clip-path=\"url(#clip1301)\" style=\"stroke:#ededed; stroke-width:1.05; stroke-opacity:1; fill:none\" points=\"\n",
       "  267,393.75 267,33.75 \n",
       "  \"/>\n",
       "<polyline clip-path=\"url(#clip1301)\" style=\"stroke:#ededed; stroke-width:1.05; stroke-opacity:1; fill:none\" points=\"\n",
       "  294.429,393.75 294.429,33.75 \n",
       "  \"/>\n",
       "<polyline clip-path=\"url(#clip1301)\" style=\"stroke:#ededed; stroke-width:1.05; stroke-opacity:1; fill:none\" points=\"\n",
       "  321.857,393.75 321.857,33.75 \n",
       "  \"/>\n",
       "<polyline clip-path=\"url(#clip1301)\" style=\"stroke:#cccccc; stroke-width:1.05; stroke-opacity:1; fill:none\" points=\"\n",
       "  349.286,393.75 349.286,33.75 \n",
       "  \"/>\n",
       "<polyline clip-path=\"url(#clip1301)\" style=\"stroke:#ededed; stroke-width:1.05; stroke-opacity:1; fill:none\" points=\"\n",
       "  376.714,393.75 376.714,33.75 \n",
       "  \"/>\n",
       "<polyline clip-path=\"url(#clip1301)\" style=\"stroke:#ededed; stroke-width:1.05; stroke-opacity:1; fill:none\" points=\"\n",
       "  404.143,393.75 404.143,33.75 \n",
       "  \"/>\n",
       "<polyline clip-path=\"url(#clip1301)\" style=\"stroke:#ededed; stroke-width:1.05; stroke-opacity:1; fill:none\" points=\"\n",
       "  431.571,393.75 431.571,33.75 \n",
       "  \"/>\n",
       "<polyline clip-path=\"url(#clip1301)\" style=\"stroke:#ededed; stroke-width:1.05; stroke-opacity:1; fill:none\" points=\"\n",
       "  459,393.75 459,33.75 \n",
       "  \"/>\n",
       "<polyline clip-path=\"url(#clip1301)\" style=\"stroke:#cccccc; stroke-width:1.05; stroke-opacity:1; fill:none\" points=\"\n",
       "  486.429,393.75 486.429,33.75 \n",
       "  \"/>\n",
       "<polyline clip-path=\"url(#clip1301)\" style=\"stroke:#ededed; stroke-width:1.05; stroke-opacity:1; fill:none\" points=\"\n",
       "  513.857,393.75 513.857,33.75 \n",
       "  \"/>\n",
       "<polyline clip-path=\"url(#clip1301)\" style=\"stroke:#ededed; stroke-width:1.05; stroke-opacity:1; fill:none\" points=\"\n",
       "  541.286,393.75 541.286,33.75 \n",
       "  \"/>\n",
       "<g clip-path=\"url(#clip1301)\">\n",
       "<text style=\"fill:#000000; fill-opacity:1; font-family:Arial,Helvetica Neue,Helvetica,sans-serif; font-size:15; text-anchor:start;\" transform=\"rotate(0, 32.8655, 368.016)\" x=\"32.8655\" y=\"368.016\">0.005</text>\n",
       "</g>\n",
       "<g clip-path=\"url(#clip1301)\">\n",
       "<text style=\"fill:#000000; fill-opacity:1; font-family:Arial,Helvetica Neue,Helvetica,sans-serif; font-size:15; text-anchor:start;\" transform=\"rotate(0, 32.8655, 293.016)\" x=\"32.8655\" y=\"293.016\">0.010</text>\n",
       "</g>\n",
       "<g clip-path=\"url(#clip1301)\">\n",
       "<text style=\"fill:#000000; fill-opacity:1; font-family:Arial,Helvetica Neue,Helvetica,sans-serif; font-size:15; text-anchor:start;\" transform=\"rotate(0, 32.8655, 218.016)\" x=\"32.8655\" y=\"218.016\">0.015</text>\n",
       "</g>\n",
       "<g clip-path=\"url(#clip1301)\">\n",
       "<text style=\"fill:#000000; fill-opacity:1; font-family:Arial,Helvetica Neue,Helvetica,sans-serif; font-size:15; text-anchor:start;\" transform=\"rotate(0, 32.8655, 143.016)\" x=\"32.8655\" y=\"143.016\">0.020</text>\n",
       "</g>\n",
       "<g clip-path=\"url(#clip1301)\">\n",
       "<text style=\"fill:#000000; fill-opacity:1; font-family:Arial,Helvetica Neue,Helvetica,sans-serif; font-size:15; text-anchor:start;\" transform=\"rotate(0, 32.8655, 68.016)\" x=\"32.8655\" y=\"68.016\">0.025</text>\n",
       "</g>\n",
       "<polyline clip-path=\"url(#clip1301)\" style=\"stroke:#000000; stroke-width:1.05; stroke-opacity:1; fill:none\" points=\"\n",
       "  75,393.75 75,393.75 79.5,393.75 75,393.75 75,378.75 79.5,378.75 75,378.75 75,363.75 84,363.75 75,363.75 \n",
       "  75,348.75 79.5,348.75 75,348.75 75,333.75 79.5,333.75 75,333.75 75,318.75 79.5,318.75 75,318.75 75,303.75 \n",
       "  79.5,303.75 75,303.75 75,288.75 84,288.75 75,288.75 75,273.75 79.5,273.75 75,273.75 75,258.75 79.5,258.75 \n",
       "  75,258.75 75,243.75 79.5,243.75 75,243.75 75,228.75 79.5,228.75 75,228.75 75,213.75 84,213.75 75,213.75 \n",
       "  75,198.75 79.5,198.75 75,198.75 75,183.75 79.5,183.75 75,183.75 75,168.75 79.5,168.75 75,168.75 75,153.75 \n",
       "  79.5,153.75 75,153.75 75,138.75 84,138.75 75,138.75 75,123.75 79.5,123.75 75,123.75 75,108.75 79.5,108.75 \n",
       "  75,108.75 75,93.75 79.5,93.75 75,93.75 75,78.75 79.5,78.75 75,78.75 75,63.75 84,63.75 75,63.75 \n",
       "  75,48.75 79.5,48.75 75,48.75 75,33.75 79.5,33.75 75,33.75 75,33.75 \n",
       "  \"/>\n",
       "<g clip-path=\"url(#clip1301)\">\n",
       "<text style=\"fill:#000000; fill-opacity:1; font-family:Arial,Helvetica Neue,Helvetica,sans-serif; font-size:15; text-anchor:start;\" transform=\"rotate(0, 70.8184, 411.642)\" x=\"70.8184\" y=\"411.642\">0</text>\n",
       "</g>\n",
       "<g clip-path=\"url(#clip1301)\">\n",
       "<text style=\"fill:#000000; fill-opacity:1; font-family:Arial,Helvetica Neue,Helvetica,sans-serif; font-size:15; text-anchor:start;\" transform=\"rotate(0, 203.78, 411.642)\" x=\"203.78\" y=\"411.642\">20</text>\n",
       "</g>\n",
       "<g clip-path=\"url(#clip1301)\">\n",
       "<text style=\"fill:#000000; fill-opacity:1; font-family:Arial,Helvetica Neue,Helvetica,sans-serif; font-size:15; text-anchor:start;\" transform=\"rotate(0, 340.922, 411.642)\" x=\"340.922\" y=\"411.642\">40</text>\n",
       "</g>\n",
       "<g clip-path=\"url(#clip1301)\">\n",
       "<text style=\"fill:#000000; fill-opacity:1; font-family:Arial,Helvetica Neue,Helvetica,sans-serif; font-size:15; text-anchor:start;\" transform=\"rotate(0, 478.065, 411.642)\" x=\"478.065\" y=\"411.642\">60</text>\n",
       "</g>\n",
       "<polyline clip-path=\"url(#clip1301)\" style=\"stroke:#000000; stroke-width:1.05; stroke-opacity:1; fill:none\" points=\"\n",
       "  75,393.75 75,393.75 75,384.75 75,393.75 102.429,393.75 102.429,389.25 102.429,393.75 129.857,393.75 129.857,389.25 129.857,393.75 \n",
       "  157.286,393.75 157.286,389.25 157.286,393.75 184.714,393.75 184.714,389.25 184.714,393.75 212.143,393.75 212.143,384.75 212.143,393.75 239.571,393.75 \n",
       "  239.571,389.25 239.571,393.75 267,393.75 267,389.25 267,393.75 294.429,393.75 294.429,389.25 294.429,393.75 321.857,393.75 321.857,389.25 \n",
       "  321.857,393.75 349.286,393.75 349.286,384.75 349.286,393.75 376.714,393.75 376.714,389.25 376.714,393.75 404.143,393.75 404.143,389.25 404.143,393.75 \n",
       "  431.571,393.75 431.571,389.25 431.571,393.75 459,393.75 459,389.25 459,393.75 486.429,393.75 486.429,384.75 486.429,393.75 513.857,393.75 \n",
       "  513.857,389.25 513.857,393.75 541.286,393.75 541.286,389.25 541.286,393.75 555,393.75 \n",
       "  \"/>\n",
       "<polyline clip-path=\"url(#clip1301)\" style=\"stroke:#000000; stroke-width:1.05; stroke-opacity:1; fill:none\" points=\"\n",
       "  555,393.75 555,393.75 550.5,393.75 555,393.75 555,378.75 550.5,378.75 555,378.75 555,363.75 546,363.75 555,363.75 \n",
       "  555,348.75 550.5,348.75 555,348.75 555,333.75 550.5,333.75 555,333.75 555,318.75 550.5,318.75 555,318.75 555,303.75 \n",
       "  550.5,303.75 555,303.75 555,288.75 546,288.75 555,288.75 555,273.75 550.5,273.75 555,273.75 555,258.75 550.5,258.75 \n",
       "  555,258.75 555,243.75 550.5,243.75 555,243.75 555,228.75 550.5,228.75 555,228.75 555,213.75 546,213.75 555,213.75 \n",
       "  555,198.75 550.5,198.75 555,198.75 555,183.75 550.5,183.75 555,183.75 555,168.75 550.5,168.75 555,168.75 555,153.75 \n",
       "  550.5,153.75 555,153.75 555,138.75 546,138.75 555,138.75 555,123.75 550.5,123.75 555,123.75 555,108.75 550.5,108.75 \n",
       "  555,108.75 555,93.75 550.5,93.75 555,93.75 555,78.75 550.5,78.75 555,78.75 555,63.75 546,63.75 555,63.75 \n",
       "  555,48.75 550.5,48.75 555,48.75 555,33.75 550.5,33.75 555,33.75 555,33.75 \n",
       "  \"/>\n",
       "<polyline clip-path=\"url(#clip1301)\" style=\"stroke:#000000; stroke-width:1.05; stroke-opacity:1; fill:none\" points=\"\n",
       "  75,33.75 75,33.75 75,42.75 75,33.75 102.429,33.75 102.429,38.25 102.429,33.75 129.857,33.75 129.857,38.25 129.857,33.75 \n",
       "  157.286,33.75 157.286,38.25 157.286,33.75 184.714,33.75 184.714,38.25 184.714,33.75 212.143,33.75 212.143,42.75 212.143,33.75 239.571,33.75 \n",
       "  239.571,38.25 239.571,33.75 267,33.75 267,38.25 267,33.75 294.429,33.75 294.429,38.25 294.429,33.75 321.857,33.75 321.857,38.25 \n",
       "  321.857,33.75 349.286,33.75 349.286,42.75 349.286,33.75 376.714,33.75 376.714,38.25 376.714,33.75 404.143,33.75 404.143,38.25 404.143,33.75 \n",
       "  431.571,33.75 431.571,38.25 431.571,33.75 459,33.75 459,38.25 459,33.75 486.429,33.75 486.429,42.75 486.429,33.75 513.857,33.75 \n",
       "  513.857,38.25 513.857,33.75 541.286,33.75 541.286,38.25 541.286,33.75 555,33.75 \n",
       "  \"/>\n",
       "<g clip-path=\"url(#clip1301)\">\n",
       "<text style=\"fill:#000000; fill-opacity:1; font-family:Arial,Helvetica Neue,Helvetica,sans-serif; font-size:15; text-anchor:middle;\" transform=\"rotate(0, 315, 442.4)\" x=\"315\" y=\"442.4\">x</text>\n",
       "</g>\n",
       "<g clip-path=\"url(#clip1301)\">\n",
       "<text style=\"fill:#000000; fill-opacity:1; font-family:Arial,Helvetica Neue,Helvetica,sans-serif; font-size:15; text-anchor:middle;\" transform=\"rotate(-90, 18.6, 213.75)\" x=\"18.6\" y=\"213.75\">p</text>\n",
       "</g>\n",
       "<polyline clip-path=\"url(#clip1300)\" style=\"stroke:#00528a; stroke-width:1.05; stroke-opacity:1; fill:none\" points=\"\n",
       "  75,380.347 81.8571,359.07 88.7143,356.936 95.5714,363.162 102.429,324.931 109.286,320.447 116.143,343.928 123,286.509 129.857,307.699 136.714,284.912 \n",
       "  143.571,266.017 150.429,252.94 157.286,243.106 164.143,220.822 171,207.321 177.857,175.634 184.714,175.189 191.571,159.026 198.429,180.857 205.286,124.1 \n",
       "  212.143,138.675 219,104.899 225.857,103.212 232.714,93.1059 239.571,66.5063 246.429,62.0851 253.286,50.1302 260.143,71.8957 267,52.2146 273.857,38.6289 \n",
       "  280.714,40.9155 287.571,59.6802 294.429,52.9045 301.286,68.1411 308.143,46.9635 315,64.3685 321.857,78.3924 328.714,68.1827 335.571,105.247 342.429,108.871 \n",
       "  349.286,93.3022 356.143,140.089 363,132.035 369.857,138.584 376.714,165.663 383.571,167.558 390.429,181.307 397.286,193.162 404.143,237.916 411,253.307 \n",
       "  417.857,247.835 424.714,266.427 431.571,283.739 438.429,286.167 445.286,295.977 452.143,317.968 459,313.882 465.857,335.195 472.714,340.678 479.571,361.738 \n",
       "  486.429,367.169 493.286,372.85 500.143,387.888 507,391.59 \n",
       "  \"/>\n",
       "<polyline clip-path=\"url(#clip1300)\" style=\"stroke:#ff6700; stroke-width:1.05; stroke-opacity:1; fill:none\" points=\"\n",
       "  81.8571,375.039 88.7143,367.118 95.5714,358.526 102.429,349.253 109.286,339.299 116.143,328.667 123,317.375 129.857,305.445 136.714,292.914 143.571,279.827 \n",
       "  150.429,266.241 157.286,252.223 164.143,237.853 171,223.219 177.857,208.42 184.714,193.565 191.571,178.769 198.429,164.156 205.286,149.851 212.143,135.987 \n",
       "  219,122.694 225.857,110.104 232.714,98.3443 239.571,87.5387 246.429,77.8027 253.286,69.2431 260.143,61.9553 267,56.0216 273.857,51.5101 280.714,48.473 \n",
       "  287.571,46.9455 294.429,46.9455 301.286,48.473 308.143,51.5101 315,56.0216 321.857,61.9553 328.714,69.2431 335.571,77.8027 342.429,87.5387 349.286,98.3443 \n",
       "  356.143,110.104 363,122.694 369.857,135.987 376.714,149.851 383.571,164.156 390.429,178.769 397.286,193.565 404.143,208.42 411,223.219 417.857,237.853 \n",
       "  424.714,252.223 431.571,266.241 438.429,279.827 445.286,292.914 452.143,305.445 459,317.375 465.857,328.667 472.714,339.299 479.571,349.253 486.429,358.526 \n",
       "  493.286,367.118 500.143,375.039 507,382.305 513.857,388.938 \n",
       "  \"/>\n",
       "</svg>\n"
      ],
      "text/plain": [
       "GR.SVG(UInt8[0x3c, 0x3f, 0x78, 0x6d, 0x6c, 0x20, 0x76, 0x65, 0x72, 0x73  …  0x2f, 0x3e, 0x0a, 0x3c, 0x2f, 0x73, 0x76, 0x67, 0x3e, 0x0a])"
      ]
     },
     "execution_count": 51,
     "metadata": {},
     "output_type": "execute_result"
    }
   ],
   "source": [
    "p = get_prob(circuit)\n",
    "plot(0:1<<n-1, p, pg, xlabel=\"x\", ylabel=\"p\")"
   ]
  },
  {
   "cell_type": "code",
   "execution_count": null,
   "metadata": {},
   "outputs": [],
   "source": []
  }
 ],
 "metadata": {
  "kernelspec": {
   "display_name": "Julia 0.6.3",
   "language": "julia",
   "name": "julia-0.6"
  },
  "language_info": {
   "file_extension": ".jl",
   "mimetype": "application/julia",
   "name": "julia",
   "version": "0.6.3"
  }
 },
 "nbformat": 4,
 "nbformat_minor": 3
}
