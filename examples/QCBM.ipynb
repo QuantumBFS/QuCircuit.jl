{
 "cells": [
  {
   "cell_type": "markdown",
   "metadata": {
    "slideshow": {
     "slide_type": "slide"
    }
   },
   "source": [
    "# Quantum Circuit Born Machine\n",
    "\n",
    "Quantum circuit born machine is a fresh approach to quantum machine learning. It use a parameterized quantum circuit to learning machine learning tasks with gradient based optimization. In this tutorial, we will show how to implement it with **Yao** (幺) framework.\n"
   ]
  },
  {
   "cell_type": "code",
   "execution_count": 1,
   "metadata": {
    "slideshow": {
     "slide_type": "slide"
    }
   },
   "outputs": [
    {
     "name": "stderr",
     "output_type": "stream",
     "text": [
      "\u001b[1m\u001b[36mINFO: \u001b[39m\u001b[22m\u001b[36mRecompiling stale cache file /Users/roger/.julia/lib/v0.6/Yao.ji for module Yao.\n",
      "\u001b[39m"
     ]
    }
   ],
   "source": [
    "using Yao, GR"
   ]
  },
  {
   "cell_type": "markdown",
   "metadata": {
    "slideshow": {
     "slide_type": "slide"
    }
   },
   "source": [
    "about the framework"
   ]
  },
  {
   "cell_type": "code",
   "execution_count": 2,
   "metadata": {
    "slideshow": {
     "slide_type": "slide"
    }
   },
   "outputs": [
    {
     "name": "stdout",
     "output_type": "stream",
     "text": [
      "search: \u001b[1m幺\u001b[22m\n",
      "\n"
     ]
    },
    {
     "data": {
      "text/markdown": [
       "Extensible Framework for Quantum Algorithm Design for Humans.\n",
       "\n",
       "简单易用可扩展的量子算法设计框架。\n",
       "\n",
       "幺 means unitary in Chinese.\n"
      ],
      "text/plain": [
       "Extensible Framework for Quantum Algorithm Design for Humans.\n",
       "\n",
       "简单易用可扩展的量子算法设计框架。\n",
       "\n",
       "幺 means unitary in Chinese.\n"
      ]
     },
     "execution_count": 2,
     "metadata": {},
     "output_type": "execute_result"
    }
   ],
   "source": [
    "?幺"
   ]
  },
  {
   "cell_type": "markdown",
   "metadata": {},
   "source": [
    "## Training target\n",
    "a gaussian distribution"
   ]
  },
  {
   "cell_type": "code",
   "execution_count": 3,
   "metadata": {},
   "outputs": [
    {
     "data": {
      "text/plain": [
       "gaussian_pdf (generic function with 1 method)"
      ]
     },
     "execution_count": 3,
     "metadata": {},
     "output_type": "execute_result"
    }
   ],
   "source": [
    "function gaussian_pdf(n, μ, σ)\n",
    "    x = collect(1:1<<n)\n",
    "    pl = @. 1 / sqrt(2pi * σ^2) * exp(-(x - μ)^2 / (2 * σ^2))\n",
    "    pl / sum(pl)\n",
    "end"
   ]
  },
  {
   "cell_type": "markdown",
   "metadata": {},
   "source": [
    "\\begin{equation}\n",
    "f(x \\left| \\mu, \\sigma^2\\right) = \\frac{1}{\\sqrt{2\\pi\\sigma^2}} e^{-\\frac{(x-\\mu)^2}{2\\sigma^2}}\n",
    "\\end{equation}"
   ]
  },
  {
   "cell_type": "code",
   "execution_count": 4,
   "metadata": {},
   "outputs": [
    {
     "data": {
      "image/svg+xml": [
       "<?xml version=\"1.0\" encoding=\"utf-8\"?>\n",
       "<svg xmlns=\"http://www.w3.org/2000/svg\" xmlns:xlink=\"http://www.w3.org/1999/xlink\" width=\"600\" height=\"450\" viewBox=\"0 0 600 450\">\n",
       "<defs>\n",
       "  <clipPath id=\"clip0700\">\n",
       "    <rect x=\"75\" y=\"33\" width=\"481\" height=\"361\"/>\n",
       "  </clipPath>\n",
       "</defs>\n",
       "<defs>\n",
       "  <clipPath id=\"clip0701\">\n",
       "    <rect x=\"0\" y=\"0\" width=\"600\" height=\"450\"/>\n",
       "  </clipPath>\n",
       "</defs>\n",
       "<polyline clip-path=\"url(#clip0701)\" style=\"stroke:#ededed; stroke-width:1.05; stroke-opacity:1; fill:none\" points=\"\n",
       "  75,378.75 555,378.75 \n",
       "  \"/>\n",
       "<polyline clip-path=\"url(#clip0701)\" style=\"stroke:#cccccc; stroke-width:1.05; stroke-opacity:1; fill:none\" points=\"\n",
       "  75,363.75 555,363.75 \n",
       "  \"/>\n",
       "<polyline clip-path=\"url(#clip0701)\" style=\"stroke:#ededed; stroke-width:1.05; stroke-opacity:1; fill:none\" points=\"\n",
       "  75,348.75 555,348.75 \n",
       "  \"/>\n",
       "<polyline clip-path=\"url(#clip0701)\" style=\"stroke:#ededed; stroke-width:1.05; stroke-opacity:1; fill:none\" points=\"\n",
       "  75,333.75 555,333.75 \n",
       "  \"/>\n",
       "<polyline clip-path=\"url(#clip0701)\" style=\"stroke:#ededed; stroke-width:1.05; stroke-opacity:1; fill:none\" points=\"\n",
       "  75,318.75 555,318.75 \n",
       "  \"/>\n",
       "<polyline clip-path=\"url(#clip0701)\" style=\"stroke:#ededed; stroke-width:1.05; stroke-opacity:1; fill:none\" points=\"\n",
       "  75,303.75 555,303.75 \n",
       "  \"/>\n",
       "<polyline clip-path=\"url(#clip0701)\" style=\"stroke:#cccccc; stroke-width:1.05; stroke-opacity:1; fill:none\" points=\"\n",
       "  75,288.75 555,288.75 \n",
       "  \"/>\n",
       "<polyline clip-path=\"url(#clip0701)\" style=\"stroke:#ededed; stroke-width:1.05; stroke-opacity:1; fill:none\" points=\"\n",
       "  75,273.75 555,273.75 \n",
       "  \"/>\n",
       "<polyline clip-path=\"url(#clip0701)\" style=\"stroke:#ededed; stroke-width:1.05; stroke-opacity:1; fill:none\" points=\"\n",
       "  75,258.75 555,258.75 \n",
       "  \"/>\n",
       "<polyline clip-path=\"url(#clip0701)\" style=\"stroke:#ededed; stroke-width:1.05; stroke-opacity:1; fill:none\" points=\"\n",
       "  75,243.75 555,243.75 \n",
       "  \"/>\n",
       "<polyline clip-path=\"url(#clip0701)\" style=\"stroke:#ededed; stroke-width:1.05; stroke-opacity:1; fill:none\" points=\"\n",
       "  75,228.75 555,228.75 \n",
       "  \"/>\n",
       "<polyline clip-path=\"url(#clip0701)\" style=\"stroke:#cccccc; stroke-width:1.05; stroke-opacity:1; fill:none\" points=\"\n",
       "  75,213.75 555,213.75 \n",
       "  \"/>\n",
       "<polyline clip-path=\"url(#clip0701)\" style=\"stroke:#ededed; stroke-width:1.05; stroke-opacity:1; fill:none\" points=\"\n",
       "  75,198.75 555,198.75 \n",
       "  \"/>\n",
       "<polyline clip-path=\"url(#clip0701)\" style=\"stroke:#ededed; stroke-width:1.05; stroke-opacity:1; fill:none\" points=\"\n",
       "  75,183.75 555,183.75 \n",
       "  \"/>\n",
       "<polyline clip-path=\"url(#clip0701)\" style=\"stroke:#ededed; stroke-width:1.05; stroke-opacity:1; fill:none\" points=\"\n",
       "  75,168.75 555,168.75 \n",
       "  \"/>\n",
       "<polyline clip-path=\"url(#clip0701)\" style=\"stroke:#ededed; stroke-width:1.05; stroke-opacity:1; fill:none\" points=\"\n",
       "  75,153.75 555,153.75 \n",
       "  \"/>\n",
       "<polyline clip-path=\"url(#clip0701)\" style=\"stroke:#cccccc; stroke-width:1.05; stroke-opacity:1; fill:none\" points=\"\n",
       "  75,138.75 555,138.75 \n",
       "  \"/>\n",
       "<polyline clip-path=\"url(#clip0701)\" style=\"stroke:#ededed; stroke-width:1.05; stroke-opacity:1; fill:none\" points=\"\n",
       "  75,123.75 555,123.75 \n",
       "  \"/>\n",
       "<polyline clip-path=\"url(#clip0701)\" style=\"stroke:#ededed; stroke-width:1.05; stroke-opacity:1; fill:none\" points=\"\n",
       "  75,108.75 555,108.75 \n",
       "  \"/>\n",
       "<polyline clip-path=\"url(#clip0701)\" style=\"stroke:#ededed; stroke-width:1.05; stroke-opacity:1; fill:none\" points=\"\n",
       "  75,93.75 555,93.75 \n",
       "  \"/>\n",
       "<polyline clip-path=\"url(#clip0701)\" style=\"stroke:#ededed; stroke-width:1.05; stroke-opacity:1; fill:none\" points=\"\n",
       "  75,78.75 555,78.75 \n",
       "  \"/>\n",
       "<polyline clip-path=\"url(#clip0701)\" style=\"stroke:#cccccc; stroke-width:1.05; stroke-opacity:1; fill:none\" points=\"\n",
       "  75,63.75 555,63.75 \n",
       "  \"/>\n",
       "<polyline clip-path=\"url(#clip0701)\" style=\"stroke:#ededed; stroke-width:1.05; stroke-opacity:1; fill:none\" points=\"\n",
       "  75,48.75 555,48.75 \n",
       "  \"/>\n",
       "<polyline clip-path=\"url(#clip0701)\" style=\"stroke:#ededed; stroke-width:1.05; stroke-opacity:1; fill:none\" points=\"\n",
       "  102.429,393.75 102.429,33.75 \n",
       "  \"/>\n",
       "<polyline clip-path=\"url(#clip0701)\" style=\"stroke:#ededed; stroke-width:1.05; stroke-opacity:1; fill:none\" points=\"\n",
       "  129.857,393.75 129.857,33.75 \n",
       "  \"/>\n",
       "<polyline clip-path=\"url(#clip0701)\" style=\"stroke:#ededed; stroke-width:1.05; stroke-opacity:1; fill:none\" points=\"\n",
       "  157.286,393.75 157.286,33.75 \n",
       "  \"/>\n",
       "<polyline clip-path=\"url(#clip0701)\" style=\"stroke:#ededed; stroke-width:1.05; stroke-opacity:1; fill:none\" points=\"\n",
       "  184.714,393.75 184.714,33.75 \n",
       "  \"/>\n",
       "<polyline clip-path=\"url(#clip0701)\" style=\"stroke:#cccccc; stroke-width:1.05; stroke-opacity:1; fill:none\" points=\"\n",
       "  212.143,393.75 212.143,33.75 \n",
       "  \"/>\n",
       "<polyline clip-path=\"url(#clip0701)\" style=\"stroke:#ededed; stroke-width:1.05; stroke-opacity:1; fill:none\" points=\"\n",
       "  239.571,393.75 239.571,33.75 \n",
       "  \"/>\n",
       "<polyline clip-path=\"url(#clip0701)\" style=\"stroke:#ededed; stroke-width:1.05; stroke-opacity:1; fill:none\" points=\"\n",
       "  267,393.75 267,33.75 \n",
       "  \"/>\n",
       "<polyline clip-path=\"url(#clip0701)\" style=\"stroke:#ededed; stroke-width:1.05; stroke-opacity:1; fill:none\" points=\"\n",
       "  294.429,393.75 294.429,33.75 \n",
       "  \"/>\n",
       "<polyline clip-path=\"url(#clip0701)\" style=\"stroke:#ededed; stroke-width:1.05; stroke-opacity:1; fill:none\" points=\"\n",
       "  321.857,393.75 321.857,33.75 \n",
       "  \"/>\n",
       "<polyline clip-path=\"url(#clip0701)\" style=\"stroke:#cccccc; stroke-width:1.05; stroke-opacity:1; fill:none\" points=\"\n",
       "  349.286,393.75 349.286,33.75 \n",
       "  \"/>\n",
       "<polyline clip-path=\"url(#clip0701)\" style=\"stroke:#ededed; stroke-width:1.05; stroke-opacity:1; fill:none\" points=\"\n",
       "  376.714,393.75 376.714,33.75 \n",
       "  \"/>\n",
       "<polyline clip-path=\"url(#clip0701)\" style=\"stroke:#ededed; stroke-width:1.05; stroke-opacity:1; fill:none\" points=\"\n",
       "  404.143,393.75 404.143,33.75 \n",
       "  \"/>\n",
       "<polyline clip-path=\"url(#clip0701)\" style=\"stroke:#ededed; stroke-width:1.05; stroke-opacity:1; fill:none\" points=\"\n",
       "  431.571,393.75 431.571,33.75 \n",
       "  \"/>\n",
       "<polyline clip-path=\"url(#clip0701)\" style=\"stroke:#ededed; stroke-width:1.05; stroke-opacity:1; fill:none\" points=\"\n",
       "  459,393.75 459,33.75 \n",
       "  \"/>\n",
       "<polyline clip-path=\"url(#clip0701)\" style=\"stroke:#cccccc; stroke-width:1.05; stroke-opacity:1; fill:none\" points=\"\n",
       "  486.429,393.75 486.429,33.75 \n",
       "  \"/>\n",
       "<polyline clip-path=\"url(#clip0701)\" style=\"stroke:#ededed; stroke-width:1.05; stroke-opacity:1; fill:none\" points=\"\n",
       "  513.857,393.75 513.857,33.75 \n",
       "  \"/>\n",
       "<polyline clip-path=\"url(#clip0701)\" style=\"stroke:#ededed; stroke-width:1.05; stroke-opacity:1; fill:none\" points=\"\n",
       "  541.286,393.75 541.286,33.75 \n",
       "  \"/>\n",
       "<g clip-path=\"url(#clip0701)\">\n",
       "<text style=\"fill:#000000; fill-opacity:1; font-family:Arial,Helvetica Neue,Helvetica,sans-serif; font-size:15; text-anchor:start;\" transform=\"rotate(0, 32.8655, 368.016)\" x=\"32.8655\" y=\"368.016\">0.005</text>\n",
       "</g>\n",
       "<g clip-path=\"url(#clip0701)\">\n",
       "<text style=\"fill:#000000; fill-opacity:1; font-family:Arial,Helvetica Neue,Helvetica,sans-serif; font-size:15; text-anchor:start;\" transform=\"rotate(0, 32.8655, 293.016)\" x=\"32.8655\" y=\"293.016\">0.010</text>\n",
       "</g>\n",
       "<g clip-path=\"url(#clip0701)\">\n",
       "<text style=\"fill:#000000; fill-opacity:1; font-family:Arial,Helvetica Neue,Helvetica,sans-serif; font-size:15; text-anchor:start;\" transform=\"rotate(0, 32.8655, 218.016)\" x=\"32.8655\" y=\"218.016\">0.015</text>\n",
       "</g>\n",
       "<g clip-path=\"url(#clip0701)\">\n",
       "<text style=\"fill:#000000; fill-opacity:1; font-family:Arial,Helvetica Neue,Helvetica,sans-serif; font-size:15; text-anchor:start;\" transform=\"rotate(0, 32.8655, 143.016)\" x=\"32.8655\" y=\"143.016\">0.020</text>\n",
       "</g>\n",
       "<g clip-path=\"url(#clip0701)\">\n",
       "<text style=\"fill:#000000; fill-opacity:1; font-family:Arial,Helvetica Neue,Helvetica,sans-serif; font-size:15; text-anchor:start;\" transform=\"rotate(0, 32.8655, 68.016)\" x=\"32.8655\" y=\"68.016\">0.025</text>\n",
       "</g>\n",
       "<polyline clip-path=\"url(#clip0701)\" style=\"stroke:#000000; stroke-width:1.05; stroke-opacity:1; fill:none\" points=\"\n",
       "  75,393.75 75,393.75 79.5,393.75 75,393.75 75,378.75 79.5,378.75 75,378.75 75,363.75 84,363.75 75,363.75 \n",
       "  75,348.75 79.5,348.75 75,348.75 75,333.75 79.5,333.75 75,333.75 75,318.75 79.5,318.75 75,318.75 75,303.75 \n",
       "  79.5,303.75 75,303.75 75,288.75 84,288.75 75,288.75 75,273.75 79.5,273.75 75,273.75 75,258.75 79.5,258.75 \n",
       "  75,258.75 75,243.75 79.5,243.75 75,243.75 75,228.75 79.5,228.75 75,228.75 75,213.75 84,213.75 75,213.75 \n",
       "  75,198.75 79.5,198.75 75,198.75 75,183.75 79.5,183.75 75,183.75 75,168.75 79.5,168.75 75,168.75 75,153.75 \n",
       "  79.5,153.75 75,153.75 75,138.75 84,138.75 75,138.75 75,123.75 79.5,123.75 75,123.75 75,108.75 79.5,108.75 \n",
       "  75,108.75 75,93.75 79.5,93.75 75,93.75 75,78.75 79.5,78.75 75,78.75 75,63.75 84,63.75 75,63.75 \n",
       "  75,48.75 79.5,48.75 75,48.75 75,33.75 79.5,33.75 75,33.75 75,33.75 \n",
       "  \"/>\n",
       "<g clip-path=\"url(#clip0701)\">\n",
       "<text style=\"fill:#000000; fill-opacity:1; font-family:Arial,Helvetica Neue,Helvetica,sans-serif; font-size:15; text-anchor:start;\" transform=\"rotate(0, 70.8184, 411.642)\" x=\"70.8184\" y=\"411.642\">0</text>\n",
       "</g>\n",
       "<g clip-path=\"url(#clip0701)\">\n",
       "<text style=\"fill:#000000; fill-opacity:1; font-family:Arial,Helvetica Neue,Helvetica,sans-serif; font-size:15; text-anchor:start;\" transform=\"rotate(0, 203.78, 411.642)\" x=\"203.78\" y=\"411.642\">20</text>\n",
       "</g>\n",
       "<g clip-path=\"url(#clip0701)\">\n",
       "<text style=\"fill:#000000; fill-opacity:1; font-family:Arial,Helvetica Neue,Helvetica,sans-serif; font-size:15; text-anchor:start;\" transform=\"rotate(0, 340.922, 411.642)\" x=\"340.922\" y=\"411.642\">40</text>\n",
       "</g>\n",
       "<g clip-path=\"url(#clip0701)\">\n",
       "<text style=\"fill:#000000; fill-opacity:1; font-family:Arial,Helvetica Neue,Helvetica,sans-serif; font-size:15; text-anchor:start;\" transform=\"rotate(0, 478.065, 411.642)\" x=\"478.065\" y=\"411.642\">60</text>\n",
       "</g>\n",
       "<polyline clip-path=\"url(#clip0701)\" style=\"stroke:#000000; stroke-width:1.05; stroke-opacity:1; fill:none\" points=\"\n",
       "  75,393.75 75,393.75 75,384.75 75,393.75 102.429,393.75 102.429,389.25 102.429,393.75 129.857,393.75 129.857,389.25 129.857,393.75 \n",
       "  157.286,393.75 157.286,389.25 157.286,393.75 184.714,393.75 184.714,389.25 184.714,393.75 212.143,393.75 212.143,384.75 212.143,393.75 239.571,393.75 \n",
       "  239.571,389.25 239.571,393.75 267,393.75 267,389.25 267,393.75 294.429,393.75 294.429,389.25 294.429,393.75 321.857,393.75 321.857,389.25 \n",
       "  321.857,393.75 349.286,393.75 349.286,384.75 349.286,393.75 376.714,393.75 376.714,389.25 376.714,393.75 404.143,393.75 404.143,389.25 404.143,393.75 \n",
       "  431.571,393.75 431.571,389.25 431.571,393.75 459,393.75 459,389.25 459,393.75 486.429,393.75 486.429,384.75 486.429,393.75 513.857,393.75 \n",
       "  513.857,389.25 513.857,393.75 541.286,393.75 541.286,389.25 541.286,393.75 555,393.75 \n",
       "  \"/>\n",
       "<polyline clip-path=\"url(#clip0701)\" style=\"stroke:#000000; stroke-width:1.05; stroke-opacity:1; fill:none\" points=\"\n",
       "  555,393.75 555,393.75 550.5,393.75 555,393.75 555,378.75 550.5,378.75 555,378.75 555,363.75 546,363.75 555,363.75 \n",
       "  555,348.75 550.5,348.75 555,348.75 555,333.75 550.5,333.75 555,333.75 555,318.75 550.5,318.75 555,318.75 555,303.75 \n",
       "  550.5,303.75 555,303.75 555,288.75 546,288.75 555,288.75 555,273.75 550.5,273.75 555,273.75 555,258.75 550.5,258.75 \n",
       "  555,258.75 555,243.75 550.5,243.75 555,243.75 555,228.75 550.5,228.75 555,228.75 555,213.75 546,213.75 555,213.75 \n",
       "  555,198.75 550.5,198.75 555,198.75 555,183.75 550.5,183.75 555,183.75 555,168.75 550.5,168.75 555,168.75 555,153.75 \n",
       "  550.5,153.75 555,153.75 555,138.75 546,138.75 555,138.75 555,123.75 550.5,123.75 555,123.75 555,108.75 550.5,108.75 \n",
       "  555,108.75 555,93.75 550.5,93.75 555,93.75 555,78.75 550.5,78.75 555,78.75 555,63.75 546,63.75 555,63.75 \n",
       "  555,48.75 550.5,48.75 555,48.75 555,33.75 550.5,33.75 555,33.75 555,33.75 \n",
       "  \"/>\n",
       "<polyline clip-path=\"url(#clip0701)\" style=\"stroke:#000000; stroke-width:1.05; stroke-opacity:1; fill:none\" points=\"\n",
       "  75,33.75 75,33.75 75,42.75 75,33.75 102.429,33.75 102.429,38.25 102.429,33.75 129.857,33.75 129.857,38.25 129.857,33.75 \n",
       "  157.286,33.75 157.286,38.25 157.286,33.75 184.714,33.75 184.714,38.25 184.714,33.75 212.143,33.75 212.143,42.75 212.143,33.75 239.571,33.75 \n",
       "  239.571,38.25 239.571,33.75 267,33.75 267,38.25 267,33.75 294.429,33.75 294.429,38.25 294.429,33.75 321.857,33.75 321.857,38.25 \n",
       "  321.857,33.75 349.286,33.75 349.286,42.75 349.286,33.75 376.714,33.75 376.714,38.25 376.714,33.75 404.143,33.75 404.143,38.25 404.143,33.75 \n",
       "  431.571,33.75 431.571,38.25 431.571,33.75 459,33.75 459,38.25 459,33.75 486.429,33.75 486.429,42.75 486.429,33.75 513.857,33.75 \n",
       "  513.857,38.25 513.857,33.75 541.286,33.75 541.286,38.25 541.286,33.75 555,33.75 \n",
       "  \"/>\n",
       "<polyline clip-path=\"url(#clip0700)\" style=\"stroke:#00528a; stroke-width:1.05; stroke-opacity:1; fill:none\" points=\"\n",
       "  75,375.039 81.8571,367.118 88.7143,358.526 95.5714,349.253 102.429,339.299 109.286,328.667 116.143,317.375 123,305.445 129.857,292.914 136.714,279.827 \n",
       "  143.571,266.241 150.429,252.223 157.286,237.853 164.143,223.219 171,208.42 177.857,193.565 184.714,178.769 191.571,164.156 198.429,149.851 205.286,135.987 \n",
       "  212.143,122.694 219,110.104 225.857,98.3443 232.714,87.5387 239.571,77.8027 246.429,69.2431 253.286,61.9553 260.143,56.0216 267,51.5101 273.857,48.473 \n",
       "  280.714,46.9455 287.571,46.9455 294.429,48.473 301.286,51.5101 308.143,56.0216 315,61.9553 321.857,69.2431 328.714,77.8027 335.571,87.5387 342.429,98.3443 \n",
       "  349.286,110.104 356.143,122.694 363,135.987 369.857,149.851 376.714,164.156 383.571,178.769 390.429,193.565 397.286,208.42 404.143,223.219 411,237.853 \n",
       "  417.857,252.223 424.714,266.241 431.571,279.827 438.429,292.914 445.286,305.445 452.143,317.375 459,328.667 465.857,339.299 472.714,349.253 479.571,358.526 \n",
       "  486.429,367.118 493.286,375.039 500.143,382.305 507,388.938 \n",
       "  \"/>\n",
       "</svg>\n"
      ],
      "text/plain": [
       "GR.SVG(UInt8[0x3c, 0x3f, 0x78, 0x6d, 0x6c, 0x20, 0x76, 0x65, 0x72, 0x73  …  0x2f, 0x3e, 0x0a, 0x3c, 0x2f, 0x73, 0x76, 0x67, 0x3e, 0x0a])"
      ]
     },
     "execution_count": 4,
     "metadata": {},
     "output_type": "execute_result"
    }
   ],
   "source": [
    "const n = 6\n",
    "const maxiter = 20\n",
    "pg = gaussian_pdf(n, 2^5-0.5, 2^4)\n",
    "fig = plot(0:1<<n-1, pg)"
   ]
  },
  {
   "cell_type": "markdown",
   "metadata": {},
   "source": [
    "# Build Circuits\n",
    "\n",
    "## Building Blocks\n",
    "\n",
    "Gates are grouped to become a layer in a circuit, this layer can be **Arbitrary Rotation** or **CNOT entangler**. Which are used as our basic building blocks of **Born Machines**.\n",
    "\n",
    "### Arbitrary Rotation\n",
    "\n",
    "Arbitrary Rotation is built with **Rotation Gate on Z**, **Rotation Gate on X** and **Rotation Gate on Z**:\n",
    "\n",
    "\n",
    "\\begin{equation}\n",
    "Rz(\\theta) \\cdot Rx(\\theta) \\cdot Rz(\\theta)\n",
    "\\end{equation}\n",
    "\n",
    "Since our input will be a $|0\\dots 0\\rangle$ state. The first layer of arbitrary rotation can just use $Rx(\\theta) \\cdot Rz(\\theta)$ and the last layer of arbitrary rotation could just use $Rz(\\theta)\\cdot Rx(\\theta)$\n",
    "\n",
    "\n",
    "In **幺**, every Hilbert operator is a **block** type, this includes all **quantum gates** and **quantum oracles**. In general, operators appears in a quantum circuit can be divided into **Composite Blocks** and **Primitive Blocks**.\n",
    "\n",
    "We follow the low abstraction principle and thus each block represents a certain approach of calculation. The simplest **Composite Block** is a **Chain Block**, which chains other blocks (oracles) with the same number of qubits together. It is just a simple mathematical composition of operators with same size. e.g.\n",
    "\n",
    "\\begin{equation}\n",
    "\\text{chain(X, Y, Z)} \\iff X \\cdot Y \\cdot Z\n",
    "\\end{equation}\n",
    "\n",
    "We can construct an arbitrary rotation block by chain $Rz$, $Rx$, $Rz$ together."
   ]
  },
  {
   "cell_type": "code",
   "execution_count": 5,
   "metadata": {},
   "outputs": [
    {
     "data": {
      "text/plain": [
       "Total: 1, DataType: Complex{Float64}\n",
       "\u001b[1m\u001b[34mchain\u001b[39m\u001b[22m\n",
       "├─ Rot Z gate: 0.0\n",
       "├─ Rot X gate: 0.0\n",
       "└─ Rot Z gate: 0.0\n"
      ]
     },
     "execution_count": 5,
     "metadata": {},
     "output_type": "execute_result"
    }
   ],
   "source": [
    "chain(Rz(0), Rx(0), Rz(0))"
   ]
  },
  {
   "cell_type": "markdown",
   "metadata": {},
   "source": [
    "`Rx`, `Ry` and `Rz` will construct new rotation gate, which are just shorthands for `rot(X, 0.0)`, etc.\n",
    "\n",
    "Then, let's pile them up vertically with another method called **rollrepeat**"
   ]
  },
  {
   "cell_type": "code",
   "execution_count": 6,
   "metadata": {},
   "outputs": [
    {
     "data": {
      "text/plain": [
       "layer (generic function with 2 methods)"
      ]
     },
     "execution_count": 6,
     "metadata": {},
     "output_type": "execute_result"
    }
   ],
   "source": [
    "layer(x::Symbol) = layer(Val(x))\n",
    "layer(::Val{:first}) = rollrepeat(chain(Rx(0), Rz(0)))"
   ]
  },
  {
   "cell_type": "markdown",
   "metadata": {},
   "source": [
    "In **幺**, the factory method **rollrepeat** will construct a block called **Roller**. It is mathematically equivalent to the kronecker product of all operators in this layer:\n",
    "\n",
    "\\begin{equation}\n",
    "rollrepeat(n, U) \\iff roll(n, \\text{i=>U for i = 1:n}) \\iff kron(n, \\text{i=>U for i=1:n}) \\iff U \\otimes \\dots \\otimes U\n",
    "\\end{equation}"
   ]
  },
  {
   "cell_type": "code",
   "execution_count": 7,
   "metadata": {},
   "outputs": [
    {
     "data": {
      "text/plain": [
       "Total: 4, DataType: Complex{Float64}\n",
       "\u001b[1m\u001b[36mroller\u001b[39m\u001b[22m\n",
       "├─ X gate\n",
       "├─ X gate\n",
       "├─ X gate\n",
       "└─ X gate\n"
      ]
     },
     "execution_count": 7,
     "metadata": {},
     "output_type": "execute_result"
    }
   ],
   "source": [
    "roll(4, i=>X for i = 1:4)"
   ]
  },
  {
   "cell_type": "code",
   "execution_count": 8,
   "metadata": {},
   "outputs": [
    {
     "data": {
      "text/plain": [
       "Total: 4, DataType: Complex{Float64}\n",
       "\u001b[1m\u001b[36mroller\u001b[39m\u001b[22m\n",
       "├─ X gate\n",
       "├─ X gate\n",
       "├─ X gate\n",
       "└─ X gate\n"
      ]
     },
     "execution_count": 8,
     "metadata": {},
     "output_type": "execute_result"
    }
   ],
   "source": [
    "rollrepeat(4, X)"
   ]
  },
  {
   "cell_type": "code",
   "execution_count": 9,
   "metadata": {},
   "outputs": [
    {
     "data": {
      "text/plain": [
       "Total: 4, DataType: Complex{Float64}\n",
       "\u001b[1m\u001b[36mkron\u001b[39m\u001b[22m\n",
       "├─ \u001b[1m\u001b[37m1\u001b[39m\u001b[22m=>X gate\n",
       "├─ \u001b[1m\u001b[37m2\u001b[39m\u001b[22m=>X gate\n",
       "├─ \u001b[1m\u001b[37m3\u001b[39m\u001b[22m=>X gate\n",
       "└─ \u001b[1m\u001b[37m4\u001b[39m\u001b[22m=>X gate\n"
      ]
     },
     "execution_count": 9,
     "metadata": {},
     "output_type": "execute_result"
    }
   ],
   "source": [
    "kron(4, i=>X for i = 1:4)"
   ]
  },
  {
   "cell_type": "markdown",
   "metadata": {},
   "source": [
    "However, `kron` is calculated differently comparing to `roll`. In principal, **Roller** will be able to calculate small blocks with same size with higher efficiency. But for large blocks **Roller** may be slower. In **幺**, we offer you this freedom to choose the most suitable solution.\n",
    "\n",
    "\n",
    "all factory methods will **lazy** evaluate **the first arguements**, which is the number of qubits. It will return a lambda function that requires a single interger input. The instance of desired block will only be constructed until all the information is filled."
   ]
  },
  {
   "cell_type": "code",
   "execution_count": 10,
   "metadata": {},
   "outputs": [
    {
     "data": {
      "text/plain": [
       "(::#33) (generic function with 1 method)"
      ]
     },
     "execution_count": 10,
     "metadata": {},
     "output_type": "execute_result"
    }
   ],
   "source": [
    "rollrepeat(X)"
   ]
  },
  {
   "cell_type": "code",
   "execution_count": 11,
   "metadata": {},
   "outputs": [
    {
     "data": {
      "text/plain": [
       "Total: 4, DataType: Complex{Float64}\n",
       "\u001b[1m\u001b[36mroller\u001b[39m\u001b[22m\n",
       "├─ X gate\n",
       "├─ X gate\n",
       "├─ X gate\n",
       "└─ X gate\n"
      ]
     },
     "execution_count": 11,
     "metadata": {},
     "output_type": "execute_result"
    }
   ],
   "source": [
    "rollrepeat(X)(4)"
   ]
  },
  {
   "cell_type": "markdown",
   "metadata": {},
   "source": [
    "When you filled all the information in somewhere of the declaration, 幺 will be able to infer the others."
   ]
  },
  {
   "cell_type": "code",
   "execution_count": 12,
   "metadata": {},
   "outputs": [
    {
     "data": {
      "text/plain": [
       "Total: 4, DataType: Complex{Float64}\n",
       "\u001b[1m\u001b[34mchain\u001b[39m\u001b[22m\n",
       "├─ \u001b[1m\u001b[36mroller\u001b[39m\u001b[22m\n",
       "│  ├─ X gate\n",
       "│  ├─ X gate\n",
       "│  ├─ X gate\n",
       "│  └─ X gate\n",
       "└─ \u001b[1m\u001b[36mroller\u001b[39m\u001b[22m\n",
       "   ├─ Y gate\n",
       "   ├─ Y gate\n",
       "   ├─ Y gate\n",
       "   └─ Y gate\n"
      ]
     },
     "execution_count": 12,
     "metadata": {},
     "output_type": "execute_result"
    }
   ],
   "source": [
    "chain(4, rollrepeat(X), rollrepeat(Y))"
   ]
  },
  {
   "cell_type": "markdown",
   "metadata": {},
   "source": [
    "We will now define the rest of rotation layers"
   ]
  },
  {
   "cell_type": "code",
   "execution_count": 13,
   "metadata": {},
   "outputs": [
    {
     "data": {
      "text/plain": [
       "layer (generic function with 4 methods)"
      ]
     },
     "execution_count": 13,
     "metadata": {},
     "output_type": "execute_result"
    }
   ],
   "source": [
    "layer(::Val{:last}) = rollrepeat(chain(Rz(0), Rx(0)))\n",
    "layer(::Val{:mid}) = rollrepeat(chain(Rz(0), Rx(0), Rz(0)))"
   ]
  },
  {
   "cell_type": "markdown",
   "metadata": {},
   "source": [
    "### CNOT Entangler\n",
    "\n",
    "Another component of quantum circuit born machine is several **CNOT** operators applied on different qubits."
   ]
  },
  {
   "cell_type": "code",
   "execution_count": 14,
   "metadata": {},
   "outputs": [
    {
     "data": {
      "text/plain": [
       "entangler (generic function with 1 method)"
      ]
     },
     "execution_count": 14,
     "metadata": {},
     "output_type": "execute_result"
    }
   ],
   "source": [
    "entangler(pairs) = chain(control([ctrl, ], target=>X) for (ctrl, target) in pairs)"
   ]
  },
  {
   "cell_type": "markdown",
   "metadata": {},
   "source": [
    "We can then define such a born machine"
   ]
  },
  {
   "cell_type": "code",
   "execution_count": 15,
   "metadata": {},
   "outputs": [
    {
     "data": {
      "text/plain": [
       "QCBM (generic function with 1 method)"
      ]
     },
     "execution_count": 15,
     "metadata": {},
     "output_type": "execute_result"
    }
   ],
   "source": [
    "function QCBM(n, nlayer, pairs)\n",
    "    circuit = chain(n)\n",
    "    push!(circuit, layer(:first))\n",
    "    \n",
    "    for i = 1:(nlayer - 1)\n",
    "        push!(circuit, cache(entangler(pairs)))\n",
    "        push!(circuit, layer(:mid))\n",
    "    end\n",
    "    \n",
    "    push!(circuit, cache(entangler(pairs)))\n",
    "    push!(circuit, layer(:last))\n",
    "    \n",
    "    circuit\n",
    "end"
   ]
  },
  {
   "cell_type": "markdown",
   "metadata": {},
   "source": [
    "We use the method `cache` here to tag the entangler block that it should be cached after its first run, because it is actually a constant oracle. Let's see what will be constructed"
   ]
  },
  {
   "cell_type": "code",
   "execution_count": 16,
   "metadata": {},
   "outputs": [
    {
     "data": {
      "text/plain": [
       "Total: 4, DataType: Complex{Float64}\n",
       "\u001b[1m\u001b[34mchain\u001b[39m\u001b[22m\n",
       "├─ \u001b[1m\u001b[36mroller\u001b[39m\u001b[22m\n",
       "│  ├─ \u001b[1m\u001b[34mchain\u001b[39m\u001b[22m\n",
       "│  │  ├─ Rot X gate: 0.0\n",
       "│  │  └─ Rot Z gate: 0.0\n",
       "│  ├─ \u001b[1m\u001b[34mchain\u001b[39m\u001b[22m\n",
       "│  │  ├─ Rot X gate: 0.0\n",
       "│  │  └─ Rot Z gate: 0.0\n",
       "│  ├─ \u001b[1m\u001b[34mchain\u001b[39m\u001b[22m\n",
       "│  │  ├─ Rot X gate: 0.0\n",
       "│  │  └─ Rot Z gate: 0.0\n",
       "│  └─ \u001b[1m\u001b[34mchain\u001b[39m\u001b[22m\n",
       "│     ├─ Rot X gate: 0.0\n",
       "│     └─ Rot Z gate: 0.0\n",
       "├─ \u001b[1m\u001b[34mchain\u001b[39m\u001b[22m (Cached)\n",
       "│  ├─ \u001b[1m\u001b[31mcontrol(\u001b[39m\u001b[22m\u001b[1m\u001b[31m1\u001b[39m\u001b[22m\u001b[1m\u001b[31m)\u001b[39m\u001b[22m\n",
       "│  │  └─ \u001b[1m\u001b[37m2\u001b[39m\u001b[22m=>X gate\n",
       "│  ├─ \u001b[1m\u001b[31mcontrol(\u001b[39m\u001b[22m\u001b[1m\u001b[31m2\u001b[39m\u001b[22m\u001b[1m\u001b[31m)\u001b[39m\u001b[22m\n",
       "│  │  └─ \u001b[1m\u001b[37m3\u001b[39m\u001b[22m=>X gate\n",
       "│  └─ \u001b[1m\u001b[31mcontrol(\u001b[39m\u001b[22m\u001b[1m\u001b[31m3\u001b[39m\u001b[22m\u001b[1m\u001b[31m)\u001b[39m\u001b[22m\n",
       "│     └─ \u001b[1m\u001b[37m4\u001b[39m\u001b[22m=>X gate\n",
       "└─ \u001b[1m\u001b[36mroller\u001b[39m\u001b[22m\n",
       "   ├─ \u001b[1m\u001b[34mchain\u001b[39m\u001b[22m\n",
       "   │  ├─ Rot Z gate: 0.0\n",
       "   │  └─ Rot X gate: 0.0\n",
       "   ├─ \u001b[1m\u001b[34mchain\u001b[39m\u001b[22m\n",
       "   │  ├─ Rot Z gate: 0.0\n",
       "   │  └─ Rot X gate: 0.0\n",
       "   ├─ \u001b[1m\u001b[34mchain\u001b[39m\u001b[22m\n",
       "   │  ├─ Rot Z gate: 0.0\n",
       "   │  └─ Rot X gate: 0.0\n",
       "   └─ \u001b[1m\u001b[34mchain\u001b[39m\u001b[22m\n",
       "      ├─ Rot Z gate: 0.0\n",
       "      └─ Rot X gate: 0.0\n"
      ]
     },
     "execution_count": 16,
     "metadata": {},
     "output_type": "execute_result"
    }
   ],
   "source": [
    "QCBM(4, 1, [1=>2, 2=>3, 3=>4])"
   ]
  },
  {
   "cell_type": "markdown",
   "metadata": {},
   "source": [
    "## MMD Loss & Gradients\n",
    "\n",
    "The MMD loss is describe below:\n",
    "\n",
    "\\begin{equation}\n",
    "\\begin{aligned}\n",
    "\\mathcal{L} &= \\left| \\sum_{x} p \\theta(x) \\phi(x) - \\sum_{x} \\pi(x) \\phi(x) \\right|^2\\\\\n",
    "            &= \\langle K(x, y) \\rangle_{x \\sim p_{\\theta}, y\\sim p_{\\theta}} - 2 \\langle K(x, y) \\rangle_{x\\sim p_{\\theta}, y\\sim \\pi} + \\langle K(x, y) \\rangle_{x\\sim\\pi, y\\sim\\pi}\n",
    "\\end{aligned}\n",
    "\\end{equation}\n",
    "\n",
    "\n",
    "We will use a squared exponential kernel here."
   ]
  },
  {
   "cell_type": "code",
   "execution_count": 17,
   "metadata": {},
   "outputs": [
    {
     "data": {
      "text/plain": [
       "loss (generic function with 1 method)"
      ]
     },
     "execution_count": 17,
     "metadata": {},
     "output_type": "execute_result"
    }
   ],
   "source": [
    "struct Kernel\n",
    "    sigma::Float64\n",
    "    matrix::Matrix{Float64}\n",
    "end\n",
    "\n",
    "function Kernel(nqubits, sigma)\n",
    "    basis = collect(0:(1<<nqubits - 1))\n",
    "    Kernel(sigma, kernel_matrix(basis, basis, sigma))\n",
    "end\n",
    "\n",
    "expect(kernel::Kernel, px::Vector{Float64}, py::Vector{Float64}) = px' * kernel.matrix * py\n",
    "loss(qcbm, kernel::Kernel, ptrain) = (p = get_prob(qcbm) - ptrain; expect(kernel, p, p))"
   ]
  },
  {
   "cell_type": "markdown",
   "metadata": {},
   "source": [
    "Next, let's define the kernel matrix"
   ]
  },
  {
   "cell_type": "code",
   "execution_count": 18,
   "metadata": {},
   "outputs": [
    {
     "data": {
      "text/plain": [
       "kernel_matrix (generic function with 1 method)"
      ]
     },
     "execution_count": 18,
     "metadata": {},
     "output_type": "execute_result"
    }
   ],
   "source": [
    "function kernel_matrix(x, y, sigma)\n",
    "    dx2 = (x .- y').^2\n",
    "    gamma = 1.0 / (2 * sigma)\n",
    "    K = exp.(-gamma * dx2)\n",
    "    K\n",
    "end"
   ]
  },
  {
   "cell_type": "markdown",
   "metadata": {},
   "source": [
    "### Gradients\n",
    "\n",
    "\n",
    "the gradient of MMD loss is\n",
    "\n",
    "\\begin{equation}\n",
    "\\begin{aligned}\n",
    "\\frac{\\partial \\mathcal{L}}{\\partial \\theta^i_l} &= \\langle K(x, y) \\rangle_{x\\sim p_{\\theta^+}, y\\sim p_{\\theta}} - \\langle K(x, y) \\rangle_{x\\sim p_{\\theta}^-, y\\sim p_{\\theta}}\\\\\n",
    "&- \\langle K(x, y) \\rangle _{x\\sim p_{\\theta^+}, y\\sim\\pi} + \\langle K(x, y) \\rangle_{x\\sim p_{\\theta^-}, y\\sim\\pi}\n",
    "\\end{aligned}\n",
    "\\end{equation}\n",
    "\n",
    "We have to update one parameter of each rotation gate each time, and calculate its gradient then collect them. Since we will need to calculate the probability from the state vector frequently, let's define a shorthand first.\n",
    "\n",
    "\n",
    "Firstly, you have to define a quantum register. Each run of a QCBM's input is a simple $|00\\cdots 0\\rangle$ state. We provide string literal `bit` to help you define one-hot state vectors like this"
   ]
  },
  {
   "cell_type": "code",
   "execution_count": 19,
   "metadata": {},
   "outputs": [
    {
     "data": {
      "text/plain": [
       "DefaultRegister{1, Complex{Float64}}\n",
       "    active qubits: 4/4"
      ]
     },
     "execution_count": 19,
     "metadata": {},
     "output_type": "execute_result"
    }
   ],
   "source": [
    "r = register(bit\"0000\")"
   ]
  },
  {
   "cell_type": "markdown",
   "metadata": {},
   "source": [
    "We provide two method to apply a block to a register:\n",
    "\n",
    "    with(f, register)\n",
    "\n",
    "This method declares a context that has no side-effect, which means rather than apply a block directly to a register, it will copy the register first and then apply the block to this copy.\n",
    "\n",
    "    with!(f, register)\n",
    "\n",
    "This method declares a context that will have side-effect, which means the block will be applied to the register directly.\n",
    "\n",
    "In side the context you should use a pip `|>` to apply a block, which will looks like this:"
   ]
  },
  {
   "cell_type": "code",
   "execution_count": 20,
   "metadata": {},
   "outputs": [
    {
     "data": {
      "text/plain": [
       "false"
      ]
     },
     "execution_count": 20,
     "metadata": {},
     "output_type": "execute_result"
    }
   ],
   "source": [
    "our_register = register(bit\"0\"^5)\n",
    "\n",
    "new_register = with(our_register) do r\n",
    "    r |> kron(1=>X)\n",
    "    r |> kron(2=>X)\n",
    "end\n",
    "\n",
    "state(new_register) ≈ state(our_register)"
   ]
  },
  {
   "cell_type": "code",
   "execution_count": 21,
   "metadata": {},
   "outputs": [
    {
     "data": {
      "text/plain": [
       "true"
      ]
     },
     "execution_count": 21,
     "metadata": {},
     "output_type": "execute_result"
    }
   ],
   "source": [
    "state(new_register) ≈ state(register(bit\"00011\"))"
   ]
  },
  {
   "cell_type": "markdown",
   "metadata": {},
   "source": [
    "For convenience, we also provide the following interface, which allows you to apply a pre-defined circuit to a register.\n",
    "\n",
    "    with(block, register)\n",
    "    with!(block, register)"
   ]
  },
  {
   "cell_type": "code",
   "execution_count": 22,
   "metadata": {},
   "outputs": [
    {
     "data": {
      "text/plain": [
       "DefaultRegister{1, Complex{Float64}}\n",
       "    active qubits: 6/6"
      ]
     },
     "execution_count": 22,
     "metadata": {},
     "output_type": "execute_result"
    }
   ],
   "source": [
    "circuit = QCBM(6, 10, [1=>2, 3=>4, 5=>6, 2=>3, 4=>5, 6=>1]);\n",
    "with(circuit, register(bit\"0\"^6))"
   ]
  },
  {
   "cell_type": "markdown",
   "metadata": {},
   "source": [
    "Now, we define its shorthand"
   ]
  },
  {
   "cell_type": "code",
   "execution_count": 23,
   "metadata": {},
   "outputs": [
    {
     "data": {
      "text/plain": [
       "get_prob (generic function with 1 method)"
      ]
     },
     "execution_count": 23,
     "metadata": {},
     "output_type": "execute_result"
    }
   ],
   "source": [
    "get_prob(qcbm) = with!(qcbm, register(bit\"0\"^6)) |> statevec .|> abs2"
   ]
  },
  {
   "cell_type": "markdown",
   "metadata": {},
   "source": [
    "We will first iterate through each layer contains rotation gates and allocate an array to store our gradient"
   ]
  },
  {
   "cell_type": "code",
   "execution_count": 24,
   "metadata": {},
   "outputs": [
    {
     "data": {
      "text/plain": [
       "gradient (generic function with 13 methods)"
      ]
     },
     "execution_count": 24,
     "metadata": {},
     "output_type": "execute_result"
    }
   ],
   "source": [
    "import Base: gradient\n",
    "\n",
    "function gradient(n, nlayers, qcbm, kernel, ptrain)\n",
    "    prob = get_prob(qcbm)\n",
    "    grad = zeros(real(datatype(qcbm)), nparameters(qcbm))\n",
    "    idx = 0\n",
    "    for ilayer = 1:2:(2 * nlayers + 1)\n",
    "        idx = grad_layer!(grad, idx, prob, qcbm, qcbm[ilayer], kernel, ptrain)\n",
    "    end\n",
    "    grad\n",
    "end"
   ]
  },
  {
   "cell_type": "markdown",
   "metadata": {},
   "source": [
    "Then we iterate through each rotation gate."
   ]
  },
  {
   "cell_type": "code",
   "execution_count": 25,
   "metadata": {},
   "outputs": [
    {
     "data": {
      "text/plain": [
       "grad_layer! (generic function with 1 method)"
      ]
     },
     "execution_count": 25,
     "metadata": {},
     "output_type": "execute_result"
    }
   ],
   "source": [
    "function grad_layer!(grad, idx, prob, qcbm, layer, kernel, ptrain)\n",
    "    count = idx\n",
    "    for each_line in blocks(layer)\n",
    "        for each in blocks(each_line)\n",
    "            gradient!(grad, count+1, prob, qcbm, each, kernel, ptrain)\n",
    "            count += 1\n",
    "        end\n",
    "    end\n",
    "    count\n",
    "end"
   ]
  },
  {
   "cell_type": "markdown",
   "metadata": {},
   "source": [
    "We update each parameter by rotate it $-\\pi/2$ and $\\pi/2$"
   ]
  },
  {
   "cell_type": "code",
   "execution_count": 26,
   "metadata": {},
   "outputs": [
    {
     "data": {
      "text/plain": [
       "gradient! (generic function with 1 method)"
      ]
     },
     "execution_count": 26,
     "metadata": {},
     "output_type": "execute_result"
    }
   ],
   "source": [
    "function gradient!(grad, idx, prob, qcbm, gate, kernel, ptrain)\n",
    "    dispatch!(+, gate, pi / 2)\n",
    "    prob_pos = get_prob(qcbm)\n",
    "\n",
    "    dispatch!(-, gate, pi)\n",
    "    prob_neg = get_prob(qcbm)\n",
    "\n",
    "    dispatch!(+, gate, pi / 2) # set back\n",
    "\n",
    "    grad_pos = expect(kernel, prob, prob_pos) - expect(kernel, prob, prob_neg)\n",
    "    grad_neg = expect(kernel, ptrain, prob_pos) - expect(kernel, ptrain, prob_neg)\n",
    "    grad[idx] = grad_pos - grad_neg\n",
    "    grad\n",
    "end"
   ]
  },
  {
   "cell_type": "markdown",
   "metadata": {},
   "source": [
    "## Optimizer\n",
    "\n",
    "We will use the Adam optimizer. Since we don't want you to install another package for this, the following code for this optimizer is copied from [Knet.jl](https://github.com/denizyuret/Knet.jl)\n",
    "\n",
    "Reference: [Kingma, D. P., & Ba,\n",
    "J. L. (2015)](https://arxiv.org/abs/1412.6980). Adam: a Method for\n",
    "Stochastic Optimization. International Conference on Learning\n",
    "Representations, 1–13."
   ]
  },
  {
   "cell_type": "code",
   "execution_count": 27,
   "metadata": {},
   "outputs": [
    {
     "data": {
      "text/plain": [
       "gclip! (generic function with 1 method)"
      ]
     },
     "execution_count": 27,
     "metadata": {},
     "output_type": "execute_result"
    }
   ],
   "source": [
    "mutable struct Adam\n",
    "    lr::AbstractFloat\n",
    "    gclip::AbstractFloat\n",
    "    beta1::AbstractFloat\n",
    "    beta2::AbstractFloat\n",
    "    eps::AbstractFloat\n",
    "    t::Int\n",
    "    fstm\n",
    "    scndm\n",
    "end\n",
    "\n",
    "Adam(; lr=0.001, gclip=0, beta1=0.9, beta2=0.999, eps=1e-8)=Adam(lr, gclip, beta1, beta2, eps, 0, nothing, nothing)\n",
    "\n",
    "function update!(w, g, p::Adam)\n",
    "    gclip!(g, p.gclip)\n",
    "    if p.fstm===nothing; p.fstm=zeros(w); p.scndm=zeros(w); end\n",
    "    p.t += 1\n",
    "    BLAS.scale!(p.beta1, p.fstm)\n",
    "    BLAS.axpy!(1-p.beta1, g, p.fstm)\n",
    "    BLAS.scale!(p.beta2, p.scndm)\n",
    "    BLAS.axpy!(1-p.beta2, g .* g, p.scndm)\n",
    "    fstm_corrected = p.fstm / (1 - p.beta1 ^ p.t)\n",
    "    scndm_corrected = p.scndm / (1 - p.beta2 ^ p.t)\n",
    "    BLAS.axpy!(-p.lr, (fstm_corrected ./ (sqrt.(scndm_corrected) + p.eps)), w)\n",
    "end\n",
    "\n",
    "function gclip!(g, gclip)\n",
    "    if gclip == 0\n",
    "        g\n",
    "    else\n",
    "        gnorm = vecnorm(g)\n",
    "        if gnorm <= gclip\n",
    "            g\n",
    "        else\n",
    "            BLAS.scale!(gclip/gnorm, g)\n",
    "        end\n",
    "    end\n",
    "end"
   ]
  },
  {
   "cell_type": "markdown",
   "metadata": {},
   "source": [
    "The training of the quantum circuit is simple, just iterate through the steps."
   ]
  },
  {
   "cell_type": "code",
   "execution_count": 28,
   "metadata": {},
   "outputs": [
    {
     "data": {
      "text/plain": [
       "train! (generic function with 1 method)"
      ]
     },
     "execution_count": 28,
     "metadata": {},
     "output_type": "execute_result"
    }
   ],
   "source": [
    "function train!(qcbm, ptrain, optim; learning_rate=0.1, niter=50)\n",
    "    # initialize the parameters\n",
    "    params = 2pi * rand(nparameters(qcbm))\n",
    "    dispatch!(qcbm, params)\n",
    "    kernel = Kernel(nqubits(qcbm), 0.25)\n",
    "    \n",
    "    n, nlayers = nqubits(qcbm), (length(qcbm)-1)÷2\n",
    "    history = Float64[]\n",
    "    \n",
    "    for i = 1:niter\n",
    "        grad = gradient(n, nlayers, qcbm, kernel, ptrain)\n",
    "        curr_loss = loss(qcbm, kernel, ptrain)\n",
    "        push!(history, curr_loss)        \n",
    "        params = parameters(qcbm)\n",
    "        update!(params, grad, optim)\n",
    "        dispatch!(qcbm, params)\n",
    "    end\n",
    "    history\n",
    "end"
   ]
  },
  {
   "cell_type": "code",
   "execution_count": 29,
   "metadata": {
    "scrolled": true
   },
   "outputs": [
    {
     "data": {
      "image/svg+xml": [
       "<?xml version=\"1.0\" encoding=\"utf-8\"?>\n",
       "<svg xmlns=\"http://www.w3.org/2000/svg\" xmlns:xlink=\"http://www.w3.org/1999/xlink\" width=\"600\" height=\"450\" viewBox=\"0 0 600 450\">\n",
       "<defs>\n",
       "  <clipPath id=\"clip0800\">\n",
       "    <rect x=\"75\" y=\"33\" width=\"481\" height=\"361\"/>\n",
       "  </clipPath>\n",
       "</defs>\n",
       "<defs>\n",
       "  <clipPath id=\"clip0801\">\n",
       "    <rect x=\"0\" y=\"0\" width=\"600\" height=\"450\"/>\n",
       "  </clipPath>\n",
       "</defs>\n",
       "<polyline clip-path=\"url(#clip0801)\" style=\"stroke:#ededed; stroke-width:1.05; stroke-opacity:1; fill:none\" points=\"\n",
       "  75,378.75 555,378.75 \n",
       "  \"/>\n",
       "<polyline clip-path=\"url(#clip0801)\" style=\"stroke:#ededed; stroke-width:1.05; stroke-opacity:1; fill:none\" points=\"\n",
       "  75,363.75 555,363.75 \n",
       "  \"/>\n",
       "<polyline clip-path=\"url(#clip0801)\" style=\"stroke:#ededed; stroke-width:1.05; stroke-opacity:1; fill:none\" points=\"\n",
       "  75,348.75 555,348.75 \n",
       "  \"/>\n",
       "<polyline clip-path=\"url(#clip0801)\" style=\"stroke:#ededed; stroke-width:1.05; stroke-opacity:1; fill:none\" points=\"\n",
       "  75,333.75 555,333.75 \n",
       "  \"/>\n",
       "<polyline clip-path=\"url(#clip0801)\" style=\"stroke:#cccccc; stroke-width:1.05; stroke-opacity:1; fill:none\" points=\"\n",
       "  75,318.75 555,318.75 \n",
       "  \"/>\n",
       "<polyline clip-path=\"url(#clip0801)\" style=\"stroke:#ededed; stroke-width:1.05; stroke-opacity:1; fill:none\" points=\"\n",
       "  75,303.75 555,303.75 \n",
       "  \"/>\n",
       "<polyline clip-path=\"url(#clip0801)\" style=\"stroke:#ededed; stroke-width:1.05; stroke-opacity:1; fill:none\" points=\"\n",
       "  75,288.75 555,288.75 \n",
       "  \"/>\n",
       "<polyline clip-path=\"url(#clip0801)\" style=\"stroke:#ededed; stroke-width:1.05; stroke-opacity:1; fill:none\" points=\"\n",
       "  75,273.75 555,273.75 \n",
       "  \"/>\n",
       "<polyline clip-path=\"url(#clip0801)\" style=\"stroke:#ededed; stroke-width:1.05; stroke-opacity:1; fill:none\" points=\"\n",
       "  75,258.75 555,258.75 \n",
       "  \"/>\n",
       "<polyline clip-path=\"url(#clip0801)\" style=\"stroke:#cccccc; stroke-width:1.05; stroke-opacity:1; fill:none\" points=\"\n",
       "  75,243.75 555,243.75 \n",
       "  \"/>\n",
       "<polyline clip-path=\"url(#clip0801)\" style=\"stroke:#ededed; stroke-width:1.05; stroke-opacity:1; fill:none\" points=\"\n",
       "  75,228.75 555,228.75 \n",
       "  \"/>\n",
       "<polyline clip-path=\"url(#clip0801)\" style=\"stroke:#ededed; stroke-width:1.05; stroke-opacity:1; fill:none\" points=\"\n",
       "  75,213.75 555,213.75 \n",
       "  \"/>\n",
       "<polyline clip-path=\"url(#clip0801)\" style=\"stroke:#ededed; stroke-width:1.05; stroke-opacity:1; fill:none\" points=\"\n",
       "  75,198.75 555,198.75 \n",
       "  \"/>\n",
       "<polyline clip-path=\"url(#clip0801)\" style=\"stroke:#ededed; stroke-width:1.05; stroke-opacity:1; fill:none\" points=\"\n",
       "  75,183.75 555,183.75 \n",
       "  \"/>\n",
       "<polyline clip-path=\"url(#clip0801)\" style=\"stroke:#cccccc; stroke-width:1.05; stroke-opacity:1; fill:none\" points=\"\n",
       "  75,168.75 555,168.75 \n",
       "  \"/>\n",
       "<polyline clip-path=\"url(#clip0801)\" style=\"stroke:#ededed; stroke-width:1.05; stroke-opacity:1; fill:none\" points=\"\n",
       "  75,153.75 555,153.75 \n",
       "  \"/>\n",
       "<polyline clip-path=\"url(#clip0801)\" style=\"stroke:#ededed; stroke-width:1.05; stroke-opacity:1; fill:none\" points=\"\n",
       "  75,138.75 555,138.75 \n",
       "  \"/>\n",
       "<polyline clip-path=\"url(#clip0801)\" style=\"stroke:#ededed; stroke-width:1.05; stroke-opacity:1; fill:none\" points=\"\n",
       "  75,123.75 555,123.75 \n",
       "  \"/>\n",
       "<polyline clip-path=\"url(#clip0801)\" style=\"stroke:#ededed; stroke-width:1.05; stroke-opacity:1; fill:none\" points=\"\n",
       "  75,108.75 555,108.75 \n",
       "  \"/>\n",
       "<polyline clip-path=\"url(#clip0801)\" style=\"stroke:#cccccc; stroke-width:1.05; stroke-opacity:1; fill:none\" points=\"\n",
       "  75,93.75 555,93.75 \n",
       "  \"/>\n",
       "<polyline clip-path=\"url(#clip0801)\" style=\"stroke:#ededed; stroke-width:1.05; stroke-opacity:1; fill:none\" points=\"\n",
       "  75,78.75 555,78.75 \n",
       "  \"/>\n",
       "<polyline clip-path=\"url(#clip0801)\" style=\"stroke:#ededed; stroke-width:1.05; stroke-opacity:1; fill:none\" points=\"\n",
       "  75,63.75 555,63.75 \n",
       "  \"/>\n",
       "<polyline clip-path=\"url(#clip0801)\" style=\"stroke:#ededed; stroke-width:1.05; stroke-opacity:1; fill:none\" points=\"\n",
       "  75,48.75 555,48.75 \n",
       "  \"/>\n",
       "<polyline clip-path=\"url(#clip0801)\" style=\"stroke:#ededed; stroke-width:1.05; stroke-opacity:1; fill:none\" points=\"\n",
       "  94.2,393.75 94.2,33.75 \n",
       "  \"/>\n",
       "<polyline clip-path=\"url(#clip0801)\" style=\"stroke:#ededed; stroke-width:1.05; stroke-opacity:1; fill:none\" points=\"\n",
       "  113.4,393.75 113.4,33.75 \n",
       "  \"/>\n",
       "<polyline clip-path=\"url(#clip0801)\" style=\"stroke:#ededed; stroke-width:1.05; stroke-opacity:1; fill:none\" points=\"\n",
       "  132.6,393.75 132.6,33.75 \n",
       "  \"/>\n",
       "<polyline clip-path=\"url(#clip0801)\" style=\"stroke:#ededed; stroke-width:1.05; stroke-opacity:1; fill:none\" points=\"\n",
       "  151.8,393.75 151.8,33.75 \n",
       "  \"/>\n",
       "<polyline clip-path=\"url(#clip0801)\" style=\"stroke:#cccccc; stroke-width:1.05; stroke-opacity:1; fill:none\" points=\"\n",
       "  171,393.75 171,33.75 \n",
       "  \"/>\n",
       "<polyline clip-path=\"url(#clip0801)\" style=\"stroke:#ededed; stroke-width:1.05; stroke-opacity:1; fill:none\" points=\"\n",
       "  190.2,393.75 190.2,33.75 \n",
       "  \"/>\n",
       "<polyline clip-path=\"url(#clip0801)\" style=\"stroke:#ededed; stroke-width:1.05; stroke-opacity:1; fill:none\" points=\"\n",
       "  209.4,393.75 209.4,33.75 \n",
       "  \"/>\n",
       "<polyline clip-path=\"url(#clip0801)\" style=\"stroke:#ededed; stroke-width:1.05; stroke-opacity:1; fill:none\" points=\"\n",
       "  228.6,393.75 228.6,33.75 \n",
       "  \"/>\n",
       "<polyline clip-path=\"url(#clip0801)\" style=\"stroke:#ededed; stroke-width:1.05; stroke-opacity:1; fill:none\" points=\"\n",
       "  247.8,393.75 247.8,33.75 \n",
       "  \"/>\n",
       "<polyline clip-path=\"url(#clip0801)\" style=\"stroke:#cccccc; stroke-width:1.05; stroke-opacity:1; fill:none\" points=\"\n",
       "  267,393.75 267,33.75 \n",
       "  \"/>\n",
       "<polyline clip-path=\"url(#clip0801)\" style=\"stroke:#ededed; stroke-width:1.05; stroke-opacity:1; fill:none\" points=\"\n",
       "  286.2,393.75 286.2,33.75 \n",
       "  \"/>\n",
       "<polyline clip-path=\"url(#clip0801)\" style=\"stroke:#ededed; stroke-width:1.05; stroke-opacity:1; fill:none\" points=\"\n",
       "  305.4,393.75 305.4,33.75 \n",
       "  \"/>\n",
       "<polyline clip-path=\"url(#clip0801)\" style=\"stroke:#ededed; stroke-width:1.05; stroke-opacity:1; fill:none\" points=\"\n",
       "  324.6,393.75 324.6,33.75 \n",
       "  \"/>\n",
       "<polyline clip-path=\"url(#clip0801)\" style=\"stroke:#ededed; stroke-width:1.05; stroke-opacity:1; fill:none\" points=\"\n",
       "  343.8,393.75 343.8,33.75 \n",
       "  \"/>\n",
       "<polyline clip-path=\"url(#clip0801)\" style=\"stroke:#cccccc; stroke-width:1.05; stroke-opacity:1; fill:none\" points=\"\n",
       "  363,393.75 363,33.75 \n",
       "  \"/>\n",
       "<polyline clip-path=\"url(#clip0801)\" style=\"stroke:#ededed; stroke-width:1.05; stroke-opacity:1; fill:none\" points=\"\n",
       "  382.2,393.75 382.2,33.75 \n",
       "  \"/>\n",
       "<polyline clip-path=\"url(#clip0801)\" style=\"stroke:#ededed; stroke-width:1.05; stroke-opacity:1; fill:none\" points=\"\n",
       "  401.4,393.75 401.4,33.75 \n",
       "  \"/>\n",
       "<polyline clip-path=\"url(#clip0801)\" style=\"stroke:#ededed; stroke-width:1.05; stroke-opacity:1; fill:none\" points=\"\n",
       "  420.6,393.75 420.6,33.75 \n",
       "  \"/>\n",
       "<polyline clip-path=\"url(#clip0801)\" style=\"stroke:#ededed; stroke-width:1.05; stroke-opacity:1; fill:none\" points=\"\n",
       "  439.8,393.75 439.8,33.75 \n",
       "  \"/>\n",
       "<polyline clip-path=\"url(#clip0801)\" style=\"stroke:#cccccc; stroke-width:1.05; stroke-opacity:1; fill:none\" points=\"\n",
       "  459,393.75 459,33.75 \n",
       "  \"/>\n",
       "<polyline clip-path=\"url(#clip0801)\" style=\"stroke:#ededed; stroke-width:1.05; stroke-opacity:1; fill:none\" points=\"\n",
       "  478.2,393.75 478.2,33.75 \n",
       "  \"/>\n",
       "<polyline clip-path=\"url(#clip0801)\" style=\"stroke:#ededed; stroke-width:1.05; stroke-opacity:1; fill:none\" points=\"\n",
       "  497.4,393.75 497.4,33.75 \n",
       "  \"/>\n",
       "<polyline clip-path=\"url(#clip0801)\" style=\"stroke:#ededed; stroke-width:1.05; stroke-opacity:1; fill:none\" points=\"\n",
       "  516.6,393.75 516.6,33.75 \n",
       "  \"/>\n",
       "<polyline clip-path=\"url(#clip0801)\" style=\"stroke:#ededed; stroke-width:1.05; stroke-opacity:1; fill:none\" points=\"\n",
       "  535.8,393.75 535.8,33.75 \n",
       "  \"/>\n",
       "<polyline clip-path=\"url(#clip0801)\" style=\"stroke:#cccccc; stroke-width:1.05; stroke-opacity:1; fill:none\" points=\"\n",
       "  555,393.75 555,33.75 \n",
       "  \"/>\n",
       "<g clip-path=\"url(#clip0801)\">\n",
       "<text style=\"fill:#000000; fill-opacity:1; font-family:Arial,Helvetica Neue,Helvetica,sans-serif; font-size:15; text-anchor:start;\" transform=\"rotate(0, 62.1368, 398.016)\" x=\"62.1368\" y=\"398.016\">0</text>\n",
       "</g>\n",
       "<g clip-path=\"url(#clip0801)\">\n",
       "<text style=\"fill:#000000; fill-opacity:1; font-family:Arial,Helvetica Neue,Helvetica,sans-serif; font-size:15; text-anchor:start;\" transform=\"rotate(0, 32.8655, 323.016)\" x=\"32.8655\" y=\"323.016\">0.005</text>\n",
       "</g>\n",
       "<g clip-path=\"url(#clip0801)\">\n",
       "<text style=\"fill:#000000; fill-opacity:1; font-family:Arial,Helvetica Neue,Helvetica,sans-serif; font-size:15; text-anchor:start;\" transform=\"rotate(0, 32.8655, 248.016)\" x=\"32.8655\" y=\"248.016\">0.010</text>\n",
       "</g>\n",
       "<g clip-path=\"url(#clip0801)\">\n",
       "<text style=\"fill:#000000; fill-opacity:1; font-family:Arial,Helvetica Neue,Helvetica,sans-serif; font-size:15; text-anchor:start;\" transform=\"rotate(0, 32.8655, 173.016)\" x=\"32.8655\" y=\"173.016\">0.015</text>\n",
       "</g>\n",
       "<g clip-path=\"url(#clip0801)\">\n",
       "<text style=\"fill:#000000; fill-opacity:1; font-family:Arial,Helvetica Neue,Helvetica,sans-serif; font-size:15; text-anchor:start;\" transform=\"rotate(0, 32.8655, 98.016)\" x=\"32.8655\" y=\"98.016\">0.020</text>\n",
       "</g>\n",
       "<polyline clip-path=\"url(#clip0801)\" style=\"stroke:#000000; stroke-width:1.05; stroke-opacity:1; fill:none\" points=\"\n",
       "  75,393.75 75,393.75 84,393.75 75,393.75 75,378.75 79.5,378.75 75,378.75 75,363.75 79.5,363.75 75,363.75 \n",
       "  75,348.75 79.5,348.75 75,348.75 75,333.75 79.5,333.75 75,333.75 75,318.75 84,318.75 75,318.75 75,303.75 \n",
       "  79.5,303.75 75,303.75 75,288.75 79.5,288.75 75,288.75 75,273.75 79.5,273.75 75,273.75 75,258.75 79.5,258.75 \n",
       "  75,258.75 75,243.75 84,243.75 75,243.75 75,228.75 79.5,228.75 75,228.75 75,213.75 79.5,213.75 75,213.75 \n",
       "  75,198.75 79.5,198.75 75,198.75 75,183.75 79.5,183.75 75,183.75 75,168.75 84,168.75 75,168.75 75,153.75 \n",
       "  79.5,153.75 75,153.75 75,138.75 79.5,138.75 75,138.75 75,123.75 79.5,123.75 75,123.75 75,108.75 79.5,108.75 \n",
       "  75,108.75 75,93.75 84,93.75 75,93.75 75,78.75 79.5,78.75 75,78.75 75,63.75 79.5,63.75 75,63.75 \n",
       "  75,48.75 79.5,48.75 75,48.75 75,33.75 79.5,33.75 75,33.75 75,33.75 \n",
       "  \"/>\n",
       "<g clip-path=\"url(#clip0801)\">\n",
       "<text style=\"fill:#000000; fill-opacity:1; font-family:Arial,Helvetica Neue,Helvetica,sans-serif; font-size:15; text-anchor:start;\" transform=\"rotate(0, 70.8184, 411.642)\" x=\"70.8184\" y=\"411.642\">0</text>\n",
       "</g>\n",
       "<g clip-path=\"url(#clip0801)\">\n",
       "<text style=\"fill:#000000; fill-opacity:1; font-family:Arial,Helvetica Neue,Helvetica,sans-serif; font-size:15; text-anchor:start;\" transform=\"rotate(0, 162.637, 411.642)\" x=\"162.637\" y=\"411.642\">10</text>\n",
       "</g>\n",
       "<g clip-path=\"url(#clip0801)\">\n",
       "<text style=\"fill:#000000; fill-opacity:1; font-family:Arial,Helvetica Neue,Helvetica,sans-serif; font-size:15; text-anchor:start;\" transform=\"rotate(0, 258.637, 411.642)\" x=\"258.637\" y=\"411.642\">20</text>\n",
       "</g>\n",
       "<g clip-path=\"url(#clip0801)\">\n",
       "<text style=\"fill:#000000; fill-opacity:1; font-family:Arial,Helvetica Neue,Helvetica,sans-serif; font-size:15; text-anchor:start;\" transform=\"rotate(0, 354.637, 411.642)\" x=\"354.637\" y=\"411.642\">30</text>\n",
       "</g>\n",
       "<g clip-path=\"url(#clip0801)\">\n",
       "<text style=\"fill:#000000; fill-opacity:1; font-family:Arial,Helvetica Neue,Helvetica,sans-serif; font-size:15; text-anchor:start;\" transform=\"rotate(0, 450.637, 411.642)\" x=\"450.637\" y=\"411.642\">40</text>\n",
       "</g>\n",
       "<g clip-path=\"url(#clip0801)\">\n",
       "<text style=\"fill:#000000; fill-opacity:1; font-family:Arial,Helvetica Neue,Helvetica,sans-serif; font-size:15; text-anchor:start;\" transform=\"rotate(0, 546.637, 411.642)\" x=\"546.637\" y=\"411.642\">50</text>\n",
       "</g>\n",
       "<polyline clip-path=\"url(#clip0801)\" style=\"stroke:#000000; stroke-width:1.05; stroke-opacity:1; fill:none\" points=\"\n",
       "  75,393.75 75,393.75 75,384.75 75,393.75 94.2,393.75 94.2,389.25 94.2,393.75 113.4,393.75 113.4,389.25 113.4,393.75 \n",
       "  132.6,393.75 132.6,389.25 132.6,393.75 151.8,393.75 151.8,389.25 151.8,393.75 171,393.75 171,384.75 171,393.75 190.2,393.75 \n",
       "  190.2,389.25 190.2,393.75 209.4,393.75 209.4,389.25 209.4,393.75 228.6,393.75 228.6,389.25 228.6,393.75 247.8,393.75 247.8,389.25 \n",
       "  247.8,393.75 267,393.75 267,384.75 267,393.75 286.2,393.75 286.2,389.25 286.2,393.75 305.4,393.75 305.4,389.25 305.4,393.75 \n",
       "  324.6,393.75 324.6,389.25 324.6,393.75 343.8,393.75 343.8,389.25 343.8,393.75 363,393.75 363,384.75 363,393.75 382.2,393.75 \n",
       "  382.2,389.25 382.2,393.75 401.4,393.75 401.4,389.25 401.4,393.75 420.6,393.75 420.6,389.25 420.6,393.75 439.8,393.75 439.8,389.25 \n",
       "  439.8,393.75 459,393.75 459,384.75 459,393.75 478.2,393.75 478.2,389.25 478.2,393.75 497.4,393.75 497.4,389.25 497.4,393.75 \n",
       "  516.6,393.75 516.6,389.25 516.6,393.75 535.8,393.75 535.8,389.25 535.8,393.75 555,393.75 555,384.75 555,393.75 \n",
       "  \n",
       "  \"/>\n",
       "<polyline clip-path=\"url(#clip0801)\" style=\"stroke:#000000; stroke-width:1.05; stroke-opacity:1; fill:none\" points=\"\n",
       "  555,393.75 555,393.75 546,393.75 555,393.75 555,378.75 550.5,378.75 555,378.75 555,363.75 550.5,363.75 555,363.75 \n",
       "  555,348.75 550.5,348.75 555,348.75 555,333.75 550.5,333.75 555,333.75 555,318.75 546,318.75 555,318.75 555,303.75 \n",
       "  550.5,303.75 555,303.75 555,288.75 550.5,288.75 555,288.75 555,273.75 550.5,273.75 555,273.75 555,258.75 550.5,258.75 \n",
       "  555,258.75 555,243.75 546,243.75 555,243.75 555,228.75 550.5,228.75 555,228.75 555,213.75 550.5,213.75 555,213.75 \n",
       "  555,198.75 550.5,198.75 555,198.75 555,183.75 550.5,183.75 555,183.75 555,168.75 546,168.75 555,168.75 555,153.75 \n",
       "  550.5,153.75 555,153.75 555,138.75 550.5,138.75 555,138.75 555,123.75 550.5,123.75 555,123.75 555,108.75 550.5,108.75 \n",
       "  555,108.75 555,93.75 546,93.75 555,93.75 555,78.75 550.5,78.75 555,78.75 555,63.75 550.5,63.75 555,63.75 \n",
       "  555,48.75 550.5,48.75 555,48.75 555,33.75 550.5,33.75 555,33.75 555,33.75 \n",
       "  \"/>\n",
       "<polyline clip-path=\"url(#clip0801)\" style=\"stroke:#000000; stroke-width:1.05; stroke-opacity:1; fill:none\" points=\"\n",
       "  75,33.75 75,33.75 75,42.75 75,33.75 94.2,33.75 94.2,38.25 94.2,33.75 113.4,33.75 113.4,38.25 113.4,33.75 \n",
       "  132.6,33.75 132.6,38.25 132.6,33.75 151.8,33.75 151.8,38.25 151.8,33.75 171,33.75 171,42.75 171,33.75 190.2,33.75 \n",
       "  190.2,38.25 190.2,33.75 209.4,33.75 209.4,38.25 209.4,33.75 228.6,33.75 228.6,38.25 228.6,33.75 247.8,33.75 247.8,38.25 \n",
       "  247.8,33.75 267,33.75 267,42.75 267,33.75 286.2,33.75 286.2,38.25 286.2,33.75 305.4,33.75 305.4,38.25 305.4,33.75 \n",
       "  324.6,33.75 324.6,38.25 324.6,33.75 343.8,33.75 343.8,38.25 343.8,33.75 363,33.75 363,42.75 363,33.75 382.2,33.75 \n",
       "  382.2,38.25 382.2,33.75 401.4,33.75 401.4,38.25 401.4,33.75 420.6,33.75 420.6,38.25 420.6,33.75 439.8,33.75 439.8,38.25 \n",
       "  439.8,33.75 459,33.75 459,42.75 459,33.75 478.2,33.75 478.2,38.25 478.2,33.75 497.4,33.75 497.4,38.25 497.4,33.75 \n",
       "  516.6,33.75 516.6,38.25 516.6,33.75 535.8,33.75 535.8,38.25 535.8,33.75 555,33.75 555,42.75 555,33.75 \n",
       "  \n",
       "  \"/>\n",
       "<g clip-path=\"url(#clip0801)\">\n",
       "<text style=\"fill:#000000; fill-opacity:1; font-family:Arial,Helvetica Neue,Helvetica,sans-serif; font-size:15; text-anchor:middle;\" transform=\"rotate(0, 315, 442.4)\" x=\"315\" y=\"442.4\">iteration</text>\n",
       "</g>\n",
       "<g clip-path=\"url(#clip0801)\">\n",
       "<text style=\"fill:#000000; fill-opacity:1; font-family:Arial,Helvetica Neue,Helvetica,sans-serif; font-size:15; text-anchor:middle;\" transform=\"rotate(-90, 18.6, 213.75)\" x=\"18.6\" y=\"213.75\">loss</text>\n",
       "</g>\n",
       "<polyline clip-path=\"url(#clip0800)\" style=\"stroke:#00528a; stroke-width:1.05; stroke-opacity:1; fill:none\" points=\"\n",
       "  84.6,36.896 94.2,169.883 103.8,237.02 113.4,280.93 123,288.017 132.6,263.338 142.2,298.456 151.8,328.687 161.4,335.514 171,347.81 \n",
       "  180.6,350.677 190.2,352.016 199.8,360.171 209.4,364.721 219,364.16 228.6,364.09 238.2,365.566 247.8,371.372 257.4,376.87 267,379.381 \n",
       "  276.6,380.557 286.2,379.738 295.8,380.771 305.4,384.906 315,385.602 324.6,386.458 334.2,387.801 343.8,386.866 353.4,386.605 363,387.814 \n",
       "  372.6,387.573 382.2,388.603 391.8,390.268 401.4,390.319 411,390.498 420.6,390.837 430.2,391.075 439.8,391.281 449.4,391.515 459,391.702 \n",
       "  468.6,391.863 478.2,391.906 487.8,392.083 497.4,392.34 507,392.565 516.6,392.61 526.2,392.796 535.8,393.023 545.4,392.915 555,392.955 \n",
       "  \n",
       "  \"/>\n",
       "</svg>\n"
      ],
      "text/plain": [
       "GR.SVG(UInt8[0x3c, 0x3f, 0x78, 0x6d, 0x6c, 0x20, 0x76, 0x65, 0x72, 0x73  …  0x2f, 0x3e, 0x0a, 0x3c, 0x2f, 0x73, 0x76, 0x67, 0x3e, 0x0a])"
      ]
     },
     "execution_count": 29,
     "metadata": {},
     "output_type": "execute_result"
    }
   ],
   "source": [
    "optim = Adam(lr=0.1)\n",
    "his = train!(circuit, pg, optim, niter=50, learning_rate=0.1)\n",
    "plot(1:50, his, xlabel=\"iteration\", ylabel=\"loss\")"
   ]
  },
  {
   "cell_type": "code",
   "execution_count": 30,
   "metadata": {},
   "outputs": [
    {
     "data": {
      "image/svg+xml": [
       "<?xml version=\"1.0\" encoding=\"utf-8\"?>\n",
       "<svg xmlns=\"http://www.w3.org/2000/svg\" xmlns:xlink=\"http://www.w3.org/1999/xlink\" width=\"600\" height=\"450\" viewBox=\"0 0 600 450\">\n",
       "<defs>\n",
       "  <clipPath id=\"clip0900\">\n",
       "    <rect x=\"75\" y=\"33\" width=\"481\" height=\"361\"/>\n",
       "  </clipPath>\n",
       "</defs>\n",
       "<defs>\n",
       "  <clipPath id=\"clip0901\">\n",
       "    <rect x=\"0\" y=\"0\" width=\"600\" height=\"450\"/>\n",
       "  </clipPath>\n",
       "</defs>\n",
       "<polyline clip-path=\"url(#clip0901)\" style=\"stroke:#ededed; stroke-width:1.05; stroke-opacity:1; fill:none\" points=\"\n",
       "  75,364.95 555,364.95 \n",
       "  \"/>\n",
       "<polyline clip-path=\"url(#clip0901)\" style=\"stroke:#ededed; stroke-width:1.05; stroke-opacity:1; fill:none\" points=\"\n",
       "  75,336.15 555,336.15 \n",
       "  \"/>\n",
       "<polyline clip-path=\"url(#clip0901)\" style=\"stroke:#ededed; stroke-width:1.05; stroke-opacity:1; fill:none\" points=\"\n",
       "  75,307.35 555,307.35 \n",
       "  \"/>\n",
       "<polyline clip-path=\"url(#clip0901)\" style=\"stroke:#cccccc; stroke-width:1.05; stroke-opacity:1; fill:none\" points=\"\n",
       "  75,278.55 555,278.55 \n",
       "  \"/>\n",
       "<polyline clip-path=\"url(#clip0901)\" style=\"stroke:#ededed; stroke-width:1.05; stroke-opacity:1; fill:none\" points=\"\n",
       "  75,249.75 555,249.75 \n",
       "  \"/>\n",
       "<polyline clip-path=\"url(#clip0901)\" style=\"stroke:#ededed; stroke-width:1.05; stroke-opacity:1; fill:none\" points=\"\n",
       "  75,220.95 555,220.95 \n",
       "  \"/>\n",
       "<polyline clip-path=\"url(#clip0901)\" style=\"stroke:#ededed; stroke-width:1.05; stroke-opacity:1; fill:none\" points=\"\n",
       "  75,192.15 555,192.15 \n",
       "  \"/>\n",
       "<polyline clip-path=\"url(#clip0901)\" style=\"stroke:#ededed; stroke-width:1.05; stroke-opacity:1; fill:none\" points=\"\n",
       "  75,163.35 555,163.35 \n",
       "  \"/>\n",
       "<polyline clip-path=\"url(#clip0901)\" style=\"stroke:#cccccc; stroke-width:1.05; stroke-opacity:1; fill:none\" points=\"\n",
       "  75,134.55 555,134.55 \n",
       "  \"/>\n",
       "<polyline clip-path=\"url(#clip0901)\" style=\"stroke:#ededed; stroke-width:1.05; stroke-opacity:1; fill:none\" points=\"\n",
       "  75,105.75 555,105.75 \n",
       "  \"/>\n",
       "<polyline clip-path=\"url(#clip0901)\" style=\"stroke:#ededed; stroke-width:1.05; stroke-opacity:1; fill:none\" points=\"\n",
       "  75,76.95 555,76.95 \n",
       "  \"/>\n",
       "<polyline clip-path=\"url(#clip0901)\" style=\"stroke:#ededed; stroke-width:1.05; stroke-opacity:1; fill:none\" points=\"\n",
       "  75,48.15 555,48.15 \n",
       "  \"/>\n",
       "<polyline clip-path=\"url(#clip0901)\" style=\"stroke:#ededed; stroke-width:1.05; stroke-opacity:1; fill:none\" points=\"\n",
       "  102.429,393.75 102.429,33.75 \n",
       "  \"/>\n",
       "<polyline clip-path=\"url(#clip0901)\" style=\"stroke:#ededed; stroke-width:1.05; stroke-opacity:1; fill:none\" points=\"\n",
       "  129.857,393.75 129.857,33.75 \n",
       "  \"/>\n",
       "<polyline clip-path=\"url(#clip0901)\" style=\"stroke:#ededed; stroke-width:1.05; stroke-opacity:1; fill:none\" points=\"\n",
       "  157.286,393.75 157.286,33.75 \n",
       "  \"/>\n",
       "<polyline clip-path=\"url(#clip0901)\" style=\"stroke:#ededed; stroke-width:1.05; stroke-opacity:1; fill:none\" points=\"\n",
       "  184.714,393.75 184.714,33.75 \n",
       "  \"/>\n",
       "<polyline clip-path=\"url(#clip0901)\" style=\"stroke:#cccccc; stroke-width:1.05; stroke-opacity:1; fill:none\" points=\"\n",
       "  212.143,393.75 212.143,33.75 \n",
       "  \"/>\n",
       "<polyline clip-path=\"url(#clip0901)\" style=\"stroke:#ededed; stroke-width:1.05; stroke-opacity:1; fill:none\" points=\"\n",
       "  239.571,393.75 239.571,33.75 \n",
       "  \"/>\n",
       "<polyline clip-path=\"url(#clip0901)\" style=\"stroke:#ededed; stroke-width:1.05; stroke-opacity:1; fill:none\" points=\"\n",
       "  267,393.75 267,33.75 \n",
       "  \"/>\n",
       "<polyline clip-path=\"url(#clip0901)\" style=\"stroke:#ededed; stroke-width:1.05; stroke-opacity:1; fill:none\" points=\"\n",
       "  294.429,393.75 294.429,33.75 \n",
       "  \"/>\n",
       "<polyline clip-path=\"url(#clip0901)\" style=\"stroke:#ededed; stroke-width:1.05; stroke-opacity:1; fill:none\" points=\"\n",
       "  321.857,393.75 321.857,33.75 \n",
       "  \"/>\n",
       "<polyline clip-path=\"url(#clip0901)\" style=\"stroke:#cccccc; stroke-width:1.05; stroke-opacity:1; fill:none\" points=\"\n",
       "  349.286,393.75 349.286,33.75 \n",
       "  \"/>\n",
       "<polyline clip-path=\"url(#clip0901)\" style=\"stroke:#ededed; stroke-width:1.05; stroke-opacity:1; fill:none\" points=\"\n",
       "  376.714,393.75 376.714,33.75 \n",
       "  \"/>\n",
       "<polyline clip-path=\"url(#clip0901)\" style=\"stroke:#ededed; stroke-width:1.05; stroke-opacity:1; fill:none\" points=\"\n",
       "  404.143,393.75 404.143,33.75 \n",
       "  \"/>\n",
       "<polyline clip-path=\"url(#clip0901)\" style=\"stroke:#ededed; stroke-width:1.05; stroke-opacity:1; fill:none\" points=\"\n",
       "  431.571,393.75 431.571,33.75 \n",
       "  \"/>\n",
       "<polyline clip-path=\"url(#clip0901)\" style=\"stroke:#ededed; stroke-width:1.05; stroke-opacity:1; fill:none\" points=\"\n",
       "  459,393.75 459,33.75 \n",
       "  \"/>\n",
       "<polyline clip-path=\"url(#clip0901)\" style=\"stroke:#cccccc; stroke-width:1.05; stroke-opacity:1; fill:none\" points=\"\n",
       "  486.429,393.75 486.429,33.75 \n",
       "  \"/>\n",
       "<polyline clip-path=\"url(#clip0901)\" style=\"stroke:#ededed; stroke-width:1.05; stroke-opacity:1; fill:none\" points=\"\n",
       "  513.857,393.75 513.857,33.75 \n",
       "  \"/>\n",
       "<polyline clip-path=\"url(#clip0901)\" style=\"stroke:#ededed; stroke-width:1.05; stroke-opacity:1; fill:none\" points=\"\n",
       "  541.286,393.75 541.286,33.75 \n",
       "  \"/>\n",
       "<g clip-path=\"url(#clip0901)\">\n",
       "<text style=\"fill:#000000; fill-opacity:1; font-family:Arial,Helvetica Neue,Helvetica,sans-serif; font-size:15; text-anchor:start;\" transform=\"rotate(0, 41.2287, 282.816)\" x=\"41.2287\" y=\"282.816\">0.01</text>\n",
       "</g>\n",
       "<g clip-path=\"url(#clip0901)\">\n",
       "<text style=\"fill:#000000; fill-opacity:1; font-family:Arial,Helvetica Neue,Helvetica,sans-serif; font-size:15; text-anchor:start;\" transform=\"rotate(0, 41.2287, 138.816)\" x=\"41.2287\" y=\"138.816\">0.02</text>\n",
       "</g>\n",
       "<polyline clip-path=\"url(#clip0901)\" style=\"stroke:#000000; stroke-width:1.05; stroke-opacity:1; fill:none\" points=\"\n",
       "  75,393.75 75,393.75 79.5,393.75 75,393.75 75,364.95 79.5,364.95 75,364.95 75,336.15 79.5,336.15 75,336.15 \n",
       "  75,307.35 79.5,307.35 75,307.35 75,278.55 84,278.55 75,278.55 75,249.75 79.5,249.75 75,249.75 75,220.95 \n",
       "  79.5,220.95 75,220.95 75,192.15 79.5,192.15 75,192.15 75,163.35 79.5,163.35 75,163.35 75,134.55 84,134.55 \n",
       "  75,134.55 75,105.75 79.5,105.75 75,105.75 75,76.95 79.5,76.95 75,76.95 75,48.15 79.5,48.15 75,48.15 \n",
       "  75,33.75 \n",
       "  \"/>\n",
       "<g clip-path=\"url(#clip0901)\">\n",
       "<text style=\"fill:#000000; fill-opacity:1; font-family:Arial,Helvetica Neue,Helvetica,sans-serif; font-size:15; text-anchor:start;\" transform=\"rotate(0, 70.8184, 411.642)\" x=\"70.8184\" y=\"411.642\">0</text>\n",
       "</g>\n",
       "<g clip-path=\"url(#clip0901)\">\n",
       "<text style=\"fill:#000000; fill-opacity:1; font-family:Arial,Helvetica Neue,Helvetica,sans-serif; font-size:15; text-anchor:start;\" transform=\"rotate(0, 203.78, 411.642)\" x=\"203.78\" y=\"411.642\">20</text>\n",
       "</g>\n",
       "<g clip-path=\"url(#clip0901)\">\n",
       "<text style=\"fill:#000000; fill-opacity:1; font-family:Arial,Helvetica Neue,Helvetica,sans-serif; font-size:15; text-anchor:start;\" transform=\"rotate(0, 340.922, 411.642)\" x=\"340.922\" y=\"411.642\">40</text>\n",
       "</g>\n",
       "<g clip-path=\"url(#clip0901)\">\n",
       "<text style=\"fill:#000000; fill-opacity:1; font-family:Arial,Helvetica Neue,Helvetica,sans-serif; font-size:15; text-anchor:start;\" transform=\"rotate(0, 478.065, 411.642)\" x=\"478.065\" y=\"411.642\">60</text>\n",
       "</g>\n",
       "<polyline clip-path=\"url(#clip0901)\" style=\"stroke:#000000; stroke-width:1.05; stroke-opacity:1; fill:none\" points=\"\n",
       "  75,393.75 75,393.75 75,384.75 75,393.75 102.429,393.75 102.429,389.25 102.429,393.75 129.857,393.75 129.857,389.25 129.857,393.75 \n",
       "  157.286,393.75 157.286,389.25 157.286,393.75 184.714,393.75 184.714,389.25 184.714,393.75 212.143,393.75 212.143,384.75 212.143,393.75 239.571,393.75 \n",
       "  239.571,389.25 239.571,393.75 267,393.75 267,389.25 267,393.75 294.429,393.75 294.429,389.25 294.429,393.75 321.857,393.75 321.857,389.25 \n",
       "  321.857,393.75 349.286,393.75 349.286,384.75 349.286,393.75 376.714,393.75 376.714,389.25 376.714,393.75 404.143,393.75 404.143,389.25 404.143,393.75 \n",
       "  431.571,393.75 431.571,389.25 431.571,393.75 459,393.75 459,389.25 459,393.75 486.429,393.75 486.429,384.75 486.429,393.75 513.857,393.75 \n",
       "  513.857,389.25 513.857,393.75 541.286,393.75 541.286,389.25 541.286,393.75 555,393.75 \n",
       "  \"/>\n",
       "<polyline clip-path=\"url(#clip0901)\" style=\"stroke:#000000; stroke-width:1.05; stroke-opacity:1; fill:none\" points=\"\n",
       "  555,393.75 555,393.75 550.5,393.75 555,393.75 555,364.95 550.5,364.95 555,364.95 555,336.15 550.5,336.15 555,336.15 \n",
       "  555,307.35 550.5,307.35 555,307.35 555,278.55 546,278.55 555,278.55 555,249.75 550.5,249.75 555,249.75 555,220.95 \n",
       "  550.5,220.95 555,220.95 555,192.15 550.5,192.15 555,192.15 555,163.35 550.5,163.35 555,163.35 555,134.55 546,134.55 \n",
       "  555,134.55 555,105.75 550.5,105.75 555,105.75 555,76.95 550.5,76.95 555,76.95 555,48.15 550.5,48.15 555,48.15 \n",
       "  555,33.75 \n",
       "  \"/>\n",
       "<polyline clip-path=\"url(#clip0901)\" style=\"stroke:#000000; stroke-width:1.05; stroke-opacity:1; fill:none\" points=\"\n",
       "  75,33.75 75,33.75 75,42.75 75,33.75 102.429,33.75 102.429,38.25 102.429,33.75 129.857,33.75 129.857,38.25 129.857,33.75 \n",
       "  157.286,33.75 157.286,38.25 157.286,33.75 184.714,33.75 184.714,38.25 184.714,33.75 212.143,33.75 212.143,42.75 212.143,33.75 239.571,33.75 \n",
       "  239.571,38.25 239.571,33.75 267,33.75 267,38.25 267,33.75 294.429,33.75 294.429,38.25 294.429,33.75 321.857,33.75 321.857,38.25 \n",
       "  321.857,33.75 349.286,33.75 349.286,42.75 349.286,33.75 376.714,33.75 376.714,38.25 376.714,33.75 404.143,33.75 404.143,38.25 404.143,33.75 \n",
       "  431.571,33.75 431.571,38.25 431.571,33.75 459,33.75 459,38.25 459,33.75 486.429,33.75 486.429,42.75 486.429,33.75 513.857,33.75 \n",
       "  513.857,38.25 513.857,33.75 541.286,33.75 541.286,38.25 541.286,33.75 555,33.75 \n",
       "  \"/>\n",
       "<g clip-path=\"url(#clip0901)\">\n",
       "<text style=\"fill:#000000; fill-opacity:1; font-family:Arial,Helvetica Neue,Helvetica,sans-serif; font-size:15; text-anchor:middle;\" transform=\"rotate(0, 315, 442.4)\" x=\"315\" y=\"442.4\">x</text>\n",
       "</g>\n",
       "<g clip-path=\"url(#clip0901)\">\n",
       "<text style=\"fill:#000000; fill-opacity:1; font-family:Arial,Helvetica Neue,Helvetica,sans-serif; font-size:15; text-anchor:middle;\" transform=\"rotate(-90, 18.6, 213.75)\" x=\"18.6\" y=\"213.75\">p</text>\n",
       "</g>\n",
       "<polyline clip-path=\"url(#clip0900)\" style=\"stroke:#00528a; stroke-width:1.05; stroke-opacity:1; fill:none\" points=\"\n",
       "  75,348.836 81.8571,334.477 88.7143,339.579 95.5714,345.62 102.429,310.76 109.286,322.525 116.143,302.493 123,318.577 129.857,281.414 136.714,250.08 \n",
       "  143.571,251.717 150.429,250.829 157.286,225.994 164.143,213.437 171,204.097 177.857,188.911 184.714,165.479 191.571,175.249 198.429,136.541 205.286,134.574 \n",
       "  212.143,137.753 219,94.5814 225.857,102.065 232.714,108.495 239.571,69.9075 246.429,50.4838 253.286,55.5147 260.143,62.4848 267,45.6779 273.857,38.9073 \n",
       "  280.714,43.5534 287.571,52.4689 294.429,60.5793 301.286,62.6001 308.143,48.9882 315,45.8984 321.857,57.9156 328.714,74.9191 335.571,71.274 342.429,81.1788 \n",
       "  349.286,117.856 356.143,110.692 363,166.271 369.857,143.48 376.714,166.992 383.571,169.697 390.429,182.685 397.286,204.385 404.143,221.989 411,224.84 \n",
       "  417.857,255.314 424.714,246.767 431.571,252.102 438.429,288.778 445.286,291.248 452.143,320.338 459,315.049 465.857,323.121 472.714,319.958 479.571,358.842 \n",
       "  486.429,367.782 493.286,377.65 500.143,371.236 507,379.694 \n",
       "  \"/>\n",
       "<polyline clip-path=\"url(#clip0900)\" style=\"stroke:#ff6700; stroke-width:1.05; stroke-opacity:1; fill:none\" points=\"\n",
       "  81.8571,361.387 88.7143,353.783 95.5714,345.535 102.429,336.633 109.286,327.077 116.143,316.871 123,306.03 129.857,294.577 136.714,282.548 143.571,269.984 \n",
       "  150.429,256.941 157.286,243.484 164.143,229.688 171,215.64 177.857,201.433 184.714,187.172 191.571,172.969 198.429,158.94 205.286,145.207 212.143,131.897 \n",
       "  219,119.136 225.857,107.05 232.714,95.7605 239.571,85.3871 246.429,76.0406 253.286,67.8234 260.143,60.827 267,55.1307 273.857,50.7997 280.714,47.884 \n",
       "  287.571,46.4176 294.429,46.4176 301.286,47.884 308.143,50.7997 315,55.1307 321.857,60.827 328.714,67.8234 335.571,76.0406 342.429,85.3871 349.286,95.7605 \n",
       "  356.143,107.05 363,119.136 369.857,131.897 376.714,145.207 383.571,158.94 390.429,172.969 397.286,187.172 404.143,201.433 411,215.64 417.857,229.688 \n",
       "  424.714,243.484 431.571,256.941 438.429,269.984 445.286,282.548 452.143,294.577 459,306.03 465.857,316.871 472.714,327.077 479.571,336.633 486.429,345.535 \n",
       "  493.286,353.783 500.143,361.387 507,368.363 513.857,374.73 \n",
       "  \"/>\n",
       "</svg>\n"
      ],
      "text/plain": [
       "GR.SVG(UInt8[0x3c, 0x3f, 0x78, 0x6d, 0x6c, 0x20, 0x76, 0x65, 0x72, 0x73  …  0x2f, 0x3e, 0x0a, 0x3c, 0x2f, 0x73, 0x76, 0x67, 0x3e, 0x0a])"
      ]
     },
     "execution_count": 30,
     "metadata": {},
     "output_type": "execute_result"
    }
   ],
   "source": [
    "p = get_prob(circuit)\n",
    "plot(0:1<<n-1, p, pg, xlabel=\"x\", ylabel=\"p\")"
   ]
  }
 ],
 "metadata": {
  "kernelspec": {
   "display_name": "Julia 0.6.3",
   "language": "julia",
   "name": "julia-0.6"
  },
  "language_info": {
   "file_extension": ".jl",
   "mimetype": "application/julia",
   "name": "julia",
   "version": "0.6.3"
  }
 },
 "nbformat": 4,
 "nbformat_minor": 3
}
