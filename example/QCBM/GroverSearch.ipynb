{
 "cells": [
  {
   "cell_type": "code",
   "execution_count": 3,
   "metadata": {},
   "outputs": [],
   "source": [
    "using Compat.Test\n",
    "using QuCircuit\n",
    "import Base:sparse\n",
    "import QuCircuit: GateType, gate, PrimitiveBlock"
   ]
  },
  {
   "cell_type": "code",
   "execution_count": 4,
   "metadata": {},
   "outputs": [
    {
     "data": {
      "text/plain": [
       "show (generic function with 290 methods)"
      ]
     },
     "execution_count": 4,
     "metadata": {},
     "output_type": "execute_result"
    }
   ],
   "source": [
    "################################################\n",
    "#              Grover Search Block             #\n",
    "################################################\n",
    "# psi and oracle are needed\n",
    "struct Reflect{N, T} <: PrimitiveBlock{N, T}\n",
    "    state :: Vector{T}\n",
    "end\n",
    "Reflect(state::Vector{T}) where T = Reflect{log2i(length(state)), T}(state)\n",
    "Reflect(psi::Register) = Reflect(statevec(psi))\n",
    "\n",
    "# NOTE: this should not be matrix multiplication based\n",
    "import QuCircuit: apply!\n",
    "function apply!(r::Register, g::Reflect)\n",
    "    @views r.state[:,:] .= 2* (g.state'*r.state) .* reshape(g.state, :, 1) - r.state\n",
    "    r\n",
    "end\n",
    "# since julia does not allow call overide on AbstractGate.\n",
    "(rf::Reflect)(reg::Register) = apply!(reg, rf)\n",
    "\n",
    "import Base: show\n",
    "function show(io::IO, g::Reflect{N, T}) where {N, T}\n",
    "    print(\"Reflect(N = $N\")\n",
    "end"
   ]
  },
  {
   "cell_type": "code",
   "execution_count": 5,
   "metadata": {},
   "outputs": [
    {
     "data": {
      "text/plain": [
       "Default Register (CPU, Complex{Float64}):\n",
       "    total: 3\n",
       "    batch: 1\n",
       "    active: 3"
      ]
     },
     "execution_count": 5,
     "metadata": {},
     "output_type": "execute_result"
    }
   ],
   "source": [
    "reg0 = rand_state(3)\n",
    "mirror = randn(1<<3)*im; mirror[:]/=norm(mirror)\n",
    "rf = Reflect(mirror)\n",
    "reg = copy(reg0)\n",
    "apply!(reg, rf)"
   ]
  },
  {
   "cell_type": "code",
   "execution_count": 6,
   "metadata": {},
   "outputs": [
    {
     "data": {
      "text/plain": [
       "\u001b[1m\u001b[32mTest Passed\n",
       "\u001b[39m\u001b[22m"
      ]
     },
     "execution_count": 6,
     "metadata": {},
     "output_type": "execute_result"
    }
   ],
   "source": [
    "v0, v1 = vec(reg.state), vec(reg0.state)\n",
    "@test rf.state'*v0 ≈ rf.state'*v1\n",
    "@test v0-rf.state'*v0*rf.state ≈ -(v1-rf.state'*v1*rf.state)"
   ]
  },
  {
   "cell_type": "code",
   "execution_count": 7,
   "metadata": {},
   "outputs": [
    {
     "data": {
      "text/plain": [
       "inference_oracle (generic function with 1 method)"
      ]
     },
     "execution_count": 7,
     "metadata": {},
     "output_type": "execute_result"
    }
   ],
   "source": [
    "# if basis[abs(locs)] == locs>0?1:0, then flip the sign.\n",
    "inference_oracle(locs) = Z(abs(locs[end])) |> C(locs[1:end-1]...)"
   ]
  },
  {
   "cell_type": "code",
   "execution_count": 8,
   "metadata": {},
   "outputs": [
    {
     "data": {
      "text/plain": [
       "control:\n",
       "\ttotal: 3\n",
       "\t[-1, 2] control\n",
       "\tQuCircuit.Z{Complex{Float64}} at 3"
      ]
     },
     "execution_count": 8,
     "metadata": {},
     "output_type": "execute_result"
    }
   ],
   "source": [
    "oracle = inference_oracle([2,-1,3])(3)"
   ]
  },
  {
   "cell_type": "code",
   "execution_count": 9,
   "metadata": {},
   "outputs": [
    {
     "data": {
      "text/plain": [
       "\u001b[1m\u001b[32mTest Passed\n",
       "\u001b[39m\u001b[22m"
      ]
     },
     "execution_count": 9,
     "metadata": {},
     "output_type": "execute_result"
    }
   ],
   "source": [
    "# ≈ method for Identity/PermuteMultiply/Sparse\n",
    "# add and mimus between sparse matrices.\n",
    "# alway use sorted CSC format.\n",
    "v = ones(1<<3)\n",
    "v[Int(0b110)+1] *= -1\n",
    "@test sparse(oracle) ≈ Diagonal(v)"
   ]
  },
  {
   "cell_type": "code",
   "execution_count": 32,
   "metadata": {},
   "outputs": [
    {
     "data": {
      "text/plain": [
       "GroverSearch (generic function with 1 method)"
      ]
     },
     "execution_count": 32,
     "metadata": {},
     "output_type": "execute_result"
    }
   ],
   "source": [
    "uniform_state(num_bit) = register(ones(Complex128, 1<<num_bit)/sqrt(1<<num_bit))\n",
    "\n",
    "grover_step!(psi::Register) = rv1(oracle(psi))\n",
    "num_grover_step(prob::Real) = Int(round(pi/4/sqrt(prob))) - 1\n",
    "\n",
    "function GroverSearch(oracle, num_bit::Int; psi = uniform_state(num_bit))\n",
    "    uni_reflect = Reflect(uniform_state(num_bit))\n",
    "    # solve a real search problem\n",
    "    num_iter = num_grover_step(1.0/(1<<num_bit))\n",
    "\n",
    "    for i in 1:num_iter\n",
    "        psi = uni_reflect(oracle(psi))\n",
    "    end\n",
    "    psi\n",
    "end"
   ]
  },
  {
   "cell_type": "code",
   "execution_count": 33,
   "metadata": {},
   "outputs": [
    {
     "data": {
      "text/plain": [
       "\u001b[1m\u001b[32mTest Passed\n",
       "\u001b[39m\u001b[22m"
      ]
     },
     "execution_count": 33,
     "metadata": {},
     "output_type": "execute_result"
    }
   ],
   "source": [
    "####### Construct Grover Search Using Reflection Block\n",
    "num_bit = 12\n",
    "oracle = inference_oracle(push!(collect(Int, 1:num_bit-1), num_bit))(num_bit)\n",
    "\n",
    "psi = GroverSearch(oracle, 12)\n",
    "target_state = zeros(1<<num_bit); target_state[end] = 1\n",
    "@test isapprox(abs(statevec(psi)'*target_state), 1, atol=1e-3)"
   ]
  },
  {
   "cell_type": "code",
   "execution_count": 28,
   "metadata": {},
   "outputs": [
    {
     "data": {
      "text/plain": [
       "bmask (generic function with 2 methods)"
      ]
     },
     "execution_count": 28,
     "metadata": {},
     "output_type": "execute_result"
    }
   ],
   "source": [
    "function indices_with(num_bit::Int, poss::Vector{Int}, vals::Vector{UInt}, basis::Vector{UInt})\n",
    "    mask = bmask(poss)\n",
    "    valmask = bmask(poss[vals.!=0])\n",
    "    basis[(basis .& mask) .== valmask]\n",
    "end\n",
    "bmask(ibit::Vector{Int}) = reduce(+, zero(UInt), [one(UInt) << b for b in (ibit.-1)])\n",
    "bmask(ibit::Int) = one(UInt) << (ibit-1)"
   ]
  },
  {
   "cell_type": "code",
   "execution_count": 29,
   "metadata": {},
   "outputs": [
    {
     "data": {
      "text/plain": [
       "inference (generic function with 1 method)"
      ]
     },
     "execution_count": 29,
     "metadata": {},
     "output_type": "execute_result"
    }
   ],
   "source": [
    "################################################\n",
    "#                Doing Inference               #\n",
    "################################################\n",
    "target_space(oracle) = real(Diagonal(sparse(oracle)).diag) .< 0\n",
    "\n",
    "function inference(psi::Register, evidense::Vector{Int}, num_iter::Int)\n",
    "    oracle = inference_oracle(evidense)(nqubit(psi))\n",
    "    ts = target_space(oracle)\n",
    "    rv1 = Reflect(copy(psi))\n",
    "    grover = chain(oracle, rv1)\n",
    "    for i in 1:num_iter\n",
    "        p_target = norm(statevec(psi)[ts])^2\n",
    "        println(\"step $i, overlap = $p_target\")\n",
    "        grover(psi)\n",
    "    end\n",
    "    psi\n",
    "end\n",
    "\n",
    "# the second version"
   ]
  },
  {
   "cell_type": "code",
   "execution_count": 34,
   "metadata": {},
   "outputs": [
    {
     "name": "stdout",
     "output_type": "stream",
     "text": [
      "Estimated num_step = 14.097256465070478\n",
      "step 1, overlap = 0.003103920299949686\n",
      "step 2, overlap = 0.027704537456708447\n",
      "step 3, overlap = 0.07568783025444918\n",
      "step 4, overlap = 0.14467821421130111\n",
      "step 5, overlap = 0.23126007368335585\n",
      "step 6, overlap = 0.33114686413019734\n",
      "step 7, overlap = 0.4393933328295995\n",
      "step 8, overlap = 0.5506403512960796\n",
      "step 9, overlap = 0.659380238098992\n",
      "step 10, overlap = 0.7602294363253448\n",
      "step 11, overlap = 0.8481950458145451\n",
      "step 12, overlap = 0.918922014533759\n",
      "step 13, overlap = 0.9689087510009813\n",
      "0.9956804830918514\n"
     ]
    }
   ],
   "source": [
    "# test inference\n",
    "num_bit = 12\n",
    "psi0 = rand_state(num_bit)\n",
    "#psi0 = uniform_state(num_bit)\n",
    "evidense = [1, 2, 3, 4, 5, 6, 7, 8, 9]\n",
    "#evidense = collect(1:num_bit)\n",
    "\n",
    "# the desired subspace\n",
    "basis = collect(UInt, 0:1<<num_bit-1)\n",
    "subinds = indices_with(num_bit, abs.(evidense), UInt.(evidense.>0), basis)\n",
    "\n",
    "v_desired = statevec(psi0)[subinds+1]\n",
    "p = norm(v_desired)^2\n",
    "v_desired[:] ./= sqrt(p)\n",
    "\n",
    "# search the subspace\n",
    "num_iter = num_grover_step(p)\n",
    "println(\"Estimated num_step = \", pi/4/sqrt(p))\n",
    "psi = inference(psi0, evidense, num_iter)\n",
    "println((psi.state[subinds+1]'*v_desired) |> abs2)"
   ]
  },
  {
   "cell_type": "code",
   "execution_count": null,
   "metadata": {},
   "outputs": [],
   "source": []
  }
 ],
 "metadata": {
  "kernelspec": {
   "display_name": "Julia 0.6.0",
   "language": "julia",
   "name": "julia-0.6"
  },
  "language_info": {
   "file_extension": ".jl",
   "mimetype": "application/julia",
   "name": "julia",
   "version": "0.6.0"
  }
 },
 "nbformat": 4,
 "nbformat_minor": 2
}
