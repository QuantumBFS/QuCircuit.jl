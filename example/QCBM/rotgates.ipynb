{
 "cells": [
  {
   "cell_type": "code",
   "execution_count": 57,
   "metadata": {},
   "outputs": [
    {
     "data": {
      "text/plain": [
       "rot_basis (generic function with 1 method)"
      ]
     },
     "execution_count": 57,
     "metadata": {},
     "output_type": "execute_result"
    }
   ],
   "source": [
    "using Compat.Test\n",
    "using QuCircuit\n",
    "import Base:sparse\n",
    "import QuCircuit: GateType\n",
    "rot_basis() = gate(GateType{:RotBasis}) |> roll"
   ]
  },
  {
   "cell_type": "code",
   "execution_count": 58,
   "metadata": {},
   "outputs": [],
   "source": [
    "import QuCircuit: PrimitiveBlock\n",
    "# use different types for parameters and matrix\n",
    "#= ideal interface should be\n",
    "@sparsegate begin\n",
    "    RotBasis(theta::T, phi::T) where T = sparse(chain(rot(T, :X, -theta), rot(T, :Z, -phi)))\n",
    "end\n",
    "=#\n",
    "struct RotBasis{Tp, Tm} <: PrimitiveBlock{1, Tm}\n",
    "    theta::Tp\n",
    "    phi::Tp\n",
    "end"
   ]
  },
  {
   "cell_type": "code",
   "execution_count": 59,
   "metadata": {},
   "outputs": [
    {
     "data": {
      "text/plain": [
       "sparse (generic function with 36 methods)"
      ]
     },
     "execution_count": 59,
     "metadata": {},
     "output_type": "execute_result"
    }
   ],
   "source": [
    "# chain -> *\n",
    "sparse(rb::RotBasis{T}) where T = sparse(chain(rot(T, :X, -rb.theta), rot(T, :Z, -rb.phi)))"
   ]
  },
  {
   "cell_type": "code",
   "execution_count": 60,
   "metadata": {},
   "outputs": [
    {
     "data": {
      "text/plain": [
       "Rx{Float64}: 0.3"
      ]
     },
     "execution_count": 60,
     "metadata": {},
     "output_type": "execute_result"
    }
   ],
   "source": [
    "rot(Float64, :X, 0.3)"
   ]
  },
  {
   "cell_type": "code",
   "execution_count": 61,
   "metadata": {},
   "outputs": [
    {
     "ename": "LoadError",
     "evalue": "\u001b[91mMethodError: no method matching nqubits(::Type{QuCircuit.GateType{:RotBasis}})\u001b[0m\nClosest candidates are:\n  nqubits(\u001b[91m::Type{QuCircuit.GateType{:X}}\u001b[39m) at /home/leo/jcode/QuCircuit.jl/src/Blocks/ConstantGate.jl:19\n  nqubits(\u001b[91m::Type{QuCircuit.GateType{:Y}}\u001b[39m) at /home/leo/jcode/QuCircuit.jl/src/Blocks/ConstantGate.jl:19\n  nqubits(\u001b[91m::Type{QuCircuit.GateType{:Z}}\u001b[39m) at /home/leo/jcode/QuCircuit.jl/src/Blocks/ConstantGate.jl:19\n  ...\u001b[39m",
     "output_type": "error",
     "traceback": [
      "\u001b[91mMethodError: no method matching nqubits(::Type{QuCircuit.GateType{:RotBasis}})\u001b[0m\nClosest candidates are:\n  nqubits(\u001b[91m::Type{QuCircuit.GateType{:X}}\u001b[39m) at /home/leo/jcode/QuCircuit.jl/src/Blocks/ConstantGate.jl:19\n  nqubits(\u001b[91m::Type{QuCircuit.GateType{:Y}}\u001b[39m) at /home/leo/jcode/QuCircuit.jl/src/Blocks/ConstantGate.jl:19\n  nqubits(\u001b[91m::Type{QuCircuit.GateType{:Z}}\u001b[39m) at /home/leo/jcode/QuCircuit.jl/src/Blocks/ConstantGate.jl:19\n  ...\u001b[39m",
      "",
      "Stacktrace:",
      " [1] \u001b[1mQuCircuit.Gate\u001b[22m\u001b[22m\u001b[1m(\u001b[22m\u001b[22m::Type{QuCircuit.GateType{:RotBasis}}\u001b[1m)\u001b[22m\u001b[22m at \u001b[1m/home/leo/jcode/QuCircuit.jl/src/Blocks/ConstantGate.jl:13\u001b[22m\u001b[22m",
      " [2] \u001b[1mrot_basis\u001b[22m\u001b[22m\u001b[1m(\u001b[22m\u001b[22m\u001b[1m)\u001b[22m\u001b[22m at \u001b[1m./In[57]:5\u001b[22m\u001b[22m"
     ]
    }
   ],
   "source": [
    "reg = zero_state(3)\n",
    "rb = rot_basis()(4)\n",
    "rb(reg)"
   ]
  },
  {
   "cell_type": "code",
   "execution_count": 62,
   "metadata": {},
   "outputs": [
    {
     "data": {
      "text/plain": [
       "get_axis (generic function with 1 method)"
      ]
     },
     "execution_count": 62,
     "metadata": {},
     "output_type": "execute_result"
    }
   ],
   "source": [
    "function get_axis(A::AbstractArray{T, N}, dim, i) where {T, N}\n",
    "\tgetindex(A, ntuple(d->d==dim?i:Colon(), Val{N})...)\n",
    "end"
   ]
  },
  {
   "cell_type": "code",
   "execution_count": 6,
   "metadata": {},
   "outputs": [
    {
     "data": {
      "text/plain": [
       "randpolar (generic function with 1 method)"
      ]
     },
     "execution_count": 6,
     "metadata": {},
     "output_type": "execute_result"
    }
   ],
   "source": [
    "# translation between polar angle and len-2 complex vector.\n",
    "function u2polar(vec)\n",
    "    ratio = get_axis(vec, 1, 2)./get_axis(vec, 1, 1)\n",
    "    @. [atan(abs(ratio))'*2; angle(ratio)']\n",
    "end\n",
    "\n",
    "function polar2u(polar)\n",
    "    theta, phi = get_axis(polar, 1, 1)', get_axis(polar, 1, 2)'\n",
    "    @. [cos(theta/2)*exp(-im*phi/2); sin(theta/2)*exp(im*phi/2)]\n",
    "end\n",
    "\n",
    "# random polar basis, n-> number of basis\n",
    "randpolar(params...) = rand(2, params...)*pi"
   ]
  },
  {
   "cell_type": "code",
   "execution_count": 7,
   "metadata": {},
   "outputs": [
    {
     "name": "stdout",
     "output_type": "stream",
     "text": [
      "(2, 10)"
     ]
    },
    {
     "data": {
      "text/plain": [
       "\u001b[1m\u001b[32mTest Passed\n",
       "\u001b[39m\u001b[22m"
      ]
     },
     "execution_count": 7,
     "metadata": {},
     "output_type": "execute_result"
    }
   ],
   "source": [
    "polar = randpolar(10)\n",
    "print(size(polar))\n",
    "@test all(isapprox.(polar |> polar2u |> u2polar, polar))"
   ]
  },
  {
   "cell_type": "code",
   "execution_count": 8,
   "metadata": {},
   "outputs": [
    {
     "ename": "LoadError",
     "evalue": "\u001b[91mUndefVarError: basic_gate not defined\u001b[39m",
     "output_type": "error",
     "traceback": [
      "\u001b[91mUndefVarError: basic_gate not defined\u001b[39m",
      "",
      "Stacktrace:",
      " [1] \u001b[1mrot_basis\u001b[22m\u001b[22m\u001b[1m(\u001b[22m\u001b[22m\u001b[1m)\u001b[22m\u001b[22m at \u001b[1m./In[1]:3\u001b[22m\u001b[22m"
     ]
    }
   ],
   "source": [
    "rb = rot_basis()\n",
    "angles = randpolar()\n",
    "# prepair a state in the angles direction.\n",
    "psi = angles |> polar2u |> Register\n",
    "# rotate to the same direction for measurements.\n",
    "dispatch!(rb, vec(angles))\n",
    "\n",
    "@test state(psi |> rb) ≈ [1,0]"
   ]
  },
  {
   "cell_type": "code",
   "execution_count": 55,
   "metadata": {},
   "outputs": [
    {
     "data": {
      "text/plain": [
       "show (generic function with 1 method)"
      ]
     },
     "execution_count": 55,
     "metadata": {},
     "output_type": "execute_result"
    }
   ],
   "source": [
    "# Grover search block\n",
    "# psi and oracle are needed\n",
    "struct Reflect{N, T} <: PrimitiveBlock{N, T}\n",
    "    state :: Vector{T}\n",
    "end\n",
    "\n",
    "Reflect(state::Vector{T}) where T = Reflect{log2i(length(state)), T}(state)\n",
    "\n",
    "# NOTE: this should not be matrix multiplication based\n",
    "function apply!(r::Register, g::Reflect)\n",
    "    println(size(g.state' * r.state), reshape(g.state, :, 1)|>size)\n",
    "    @views r.state[:,:] .= 2* (g.state'*r.state) .* reshape(g.state, :, 1) - r.state\n",
    "    \n",
    "end\n",
    "\n",
    "function show(io::IO, g::Reflect{N, T}) where {N, T}\n",
    "    print(\"Reflect(N = $N\")\n",
    "end"
   ]
  },
  {
   "cell_type": "code",
   "execution_count": 56,
   "metadata": {},
   "outputs": [
    {
     "name": "stdout",
     "output_type": "stream",
     "text": [
      "(1, 1)(8, 1)\n"
     ]
    },
    {
     "data": {
      "text/plain": [
       "8×1 SubArray{Complex{Float64},2,Array{Complex{Float64},2},Tuple{Base.Slice{Base.OneTo{Int64}},Base.Slice{Base.OneTo{Int64}}},true}:\n",
       " -45.0013+0.0im\n",
       "  64.4213+0.0im\n",
       "  29.4315+0.0im\n",
       " -25.3453+0.0im\n",
       " -50.3702+0.0im\n",
       "  31.9865+0.0im\n",
       "  -102.02+0.0im\n",
       " -78.1152+0.0im"
      ]
     },
     "execution_count": 56,
     "metadata": {},
     "output_type": "execute_result"
    },
    {
     "name": "stderr",
     "output_type": "stream",
     "text": [
      "\u001b[1m\u001b[33mWARNING: \u001b[39m\u001b[22m\u001b[33m/home/leo/jcode/QuCircuit.jl/src/Register is not an existing directory, Revise is not watching\u001b[39m\n"
     ]
    }
   ],
   "source": [
    "rf = Reflect(randn(1<<3)*im)\n",
    "apply!(reg, rf)"
   ]
  },
  {
   "cell_type": "code",
   "execution_count": 28,
   "metadata": {},
   "outputs": [
    {
     "data": {
      "text/plain": [
       "inference_oracle (generic function with 1 method)"
      ]
     },
     "execution_count": 28,
     "metadata": {},
     "output_type": "execute_result"
    }
   ],
   "source": [
    "inference_oracle(locs) = X(i) |> C(locs)"
   ]
  },
  {
   "cell_type": "code",
   "execution_count": 118,
   "metadata": {},
   "outputs": [
    {
     "ename": "LoadError",
     "evalue": "\u001b[91mUndefVarError: basis not defined\u001b[39m",
     "output_type": "error",
     "traceback": [
      "\u001b[91mUndefVarError: basis not defined\u001b[39m",
      ""
     ]
    }
   ],
   "source": [
    "num_bit = 9\n",
    "b = basis(num_bit)\n",
    "psi0 = rand_state(num_bit)\n",
    "psi = copy(psi0)\n",
    "psi |> inference_oracle([9, 2, -3])\n",
    "psi0[indices_with(num_bit, [9, 2, 3], [1, 1, 0])] *= -1\n",
    "@test psi == psi0"
   ]
  },
  {
   "cell_type": "code",
   "execution_count": null,
   "metadata": {},
   "outputs": [],
   "source": []
  }
 ],
 "metadata": {
  "kernelspec": {
   "display_name": "Julia 0.6.0",
   "language": "julia",
   "name": "julia-0.6"
  },
  "language_info": {
   "file_extension": ".jl",
   "mimetype": "application/julia",
   "name": "julia",
   "version": "0.6.0"
  }
 },
 "nbformat": 4,
 "nbformat_minor": 2
}
