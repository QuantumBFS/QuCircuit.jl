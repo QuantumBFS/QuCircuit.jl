{
 "cells": [
  {
   "cell_type": "code",
   "execution_count": 35,
   "metadata": {},
   "outputs": [],
   "source": [
    "using Compat.Test\n",
    "using QuCircuit\n",
    "import Base:sparse\n",
    "import QuCircuit: GateType, gate"
   ]
  },
  {
   "cell_type": "code",
   "execution_count": 36,
   "metadata": {},
   "outputs": [
    {
     "data": {
      "text/plain": [
       "RotBasis{Float64}(0.5, 0.4)"
      ]
     },
     "execution_count": 36,
     "metadata": {},
     "output_type": "execute_result"
    }
   ],
   "source": [
    "import QuCircuit: PrimitiveBlock\n",
    "# use different types for parameters and matrix\n",
    "\n",
    "mutable struct RotBasis{T} <: PrimitiveBlock{1, Complex{T}}\n",
    "    theta::T\n",
    "    phi::T\n",
    "end\n",
    "RotBasis(0.5, 0.4)"
   ]
  },
  {
   "cell_type": "code",
   "execution_count": 48,
   "metadata": {},
   "outputs": [
    {
     "data": {
      "text/plain": [
       "rot_basis (generic function with 1 method)"
      ]
     },
     "execution_count": 48,
     "metadata": {},
     "output_type": "execute_result"
    }
   ],
   "source": [
    "# chain -> *\n",
    "sparse(rb::RotBasis{T}) where T = sparse(chain(rot(:Z, -rb.phi), rot(:Y, -rb.theta)))\n",
    "rot_basis(num_bit::Int) = roll(num_bit, RotBasis(0.5, 0.2))"
   ]
  },
  {
   "cell_type": "code",
   "execution_count": 38,
   "metadata": {},
   "outputs": [
    {
     "data": {
      "text/plain": [
       "Default Register (CPU, Complex{Float64}):\n",
       "    total: 4\n",
       "    batch: 1\n",
       "    active: 4"
      ]
     },
     "execution_count": 38,
     "metadata": {},
     "output_type": "execute_result"
    }
   ],
   "source": [
    "num_bit = 4\n",
    "reg = zero_state(num_bit) # useless randn_state\n",
    "rb = rot_basis(num_bit)\n",
    "rb(reg)"
   ]
  },
  {
   "cell_type": "code",
   "execution_count": 39,
   "metadata": {},
   "outputs": [
    {
     "data": {
      "text/plain": [
       "get_axis (generic function with 1 method)"
      ]
     },
     "execution_count": 39,
     "metadata": {},
     "output_type": "execute_result"
    }
   ],
   "source": [
    "function get_axis(A::AbstractArray{T, N}, dim, i) where {T, N}\n",
    "\tgetindex(A, ntuple(d->d==dim?i:Colon(), Val{N})...)\n",
    "end"
   ]
  },
  {
   "cell_type": "code",
   "execution_count": 40,
   "metadata": {},
   "outputs": [
    {
     "data": {
      "text/plain": [
       "randpolar (generic function with 1 method)"
      ]
     },
     "execution_count": 40,
     "metadata": {},
     "output_type": "execute_result"
    }
   ],
   "source": [
    "# translation between polar angle and len-2 complex vector.\n",
    "function u2polar(vec)\n",
    "    ratio = get_axis(vec, 1, 2)./get_axis(vec, 1, 1)\n",
    "    @. [atan(abs(ratio))'*2; angle(ratio)']\n",
    "end\n",
    "\n",
    "function polar2u(polar)\n",
    "    theta, phi = get_axis(polar, 1, 1)', get_axis(polar, 1, 2)'\n",
    "    @. [cos(theta/2)*exp(-im*phi/2); sin(theta/2)*exp(im*phi/2)]\n",
    "end\n",
    "\n",
    "# random polar basis, n-> number of basis\n",
    "randpolar(params...) = rand(2, params...)*pi"
   ]
  },
  {
   "cell_type": "code",
   "execution_count": 41,
   "metadata": {},
   "outputs": [
    {
     "name": "stdout",
     "output_type": "stream",
     "text": [
      "(2, 10)"
     ]
    },
    {
     "data": {
      "text/plain": [
       "\u001b[1m\u001b[32mTest Passed\n",
       "\u001b[39m\u001b[22m"
      ]
     },
     "execution_count": 41,
     "metadata": {},
     "output_type": "execute_result"
    }
   ],
   "source": [
    "polar = randpolar(10)\n",
    "print(size(polar))\n",
    "@test all(isapprox.(polar |> polar2u |> u2polar, polar))"
   ]
  },
  {
   "cell_type": "code",
   "execution_count": 50,
   "metadata": {},
   "outputs": [
    {
     "data": {
      "text/plain": [
       "dispatch! (generic function with 12 methods)"
      ]
     },
     "execution_count": 50,
     "metadata": {},
     "output_type": "execute_result"
    }
   ],
   "source": [
    "import QuCircuit: dispatch!, nparameters\n",
    "\n",
    "nparameters(rb::RotBasis) = 2\n",
    "function dispatch!(f::Function, rb::RotBasis, params::Vector)\n",
    "    rb.theta = f(rb.theta, params[1])\n",
    "    rb.phi = f(rb.phi, params[2])\n",
    "    rb\n",
    "end"
   ]
  },
  {
   "cell_type": "code",
   "execution_count": 65,
   "metadata": {},
   "outputs": [
    {
     "data": {
      "text/plain": [
       "\u001b[1m\u001b[32mTest Passed\n",
       "\u001b[39m\u001b[22m"
      ]
     },
     "execution_count": 65,
     "metadata": {},
     "output_type": "execute_result"
    }
   ],
   "source": [
    "rb = roll(1, RotBasis(0.1,0.3))#rot_basis(1)\n",
    "angles = randpolar(1)\n",
    "# prepair a state in the angles direction.\n",
    "psi = angles |> polar2u |> register\n",
    "\n",
    "# rotate to the same direction for measurements.\n",
    "dispatch!(rb, vec(angles))\n",
    "@test state(psi |> rb) ≈ [1,0]"
   ]
  },
  {
   "cell_type": "code",
   "execution_count": 113,
   "metadata": {},
   "outputs": [
    {
     "ename": "LoadError",
     "evalue": "\u001b[91mUndefVarError: qcbm not defined\u001b[39m",
     "output_type": "error",
     "traceback": [
      "\u001b[91mUndefVarError: qcbm not defined\u001b[39m",
      ""
     ]
    }
   ],
   "source": [
    "################################################\n",
    "#     Random Basis WaveFunction Learning       #\n",
    "################################################\n",
    "# Define a circuit\n",
    "num_bit = 6\n",
    "depth = 10\n",
    "circuit = qcbm(num_bit, depth)\n",
    "rot = rot_basis(num_bit)\n",
    "\n",
    "rand_basis!(rot) = dispatch!(rot, vec(randpolar(nqubit(rot))))\n",
    "\n",
    "# rotate the output wave function\n",
    "function (qcbm::QCBM)(params)\n",
    "    psi = zero_state(nqubit(qcbm.circuit))\n",
    "    dispatch!(qcbm.circuit, params)\n",
    "    vec(rot(state(qcbm.circuit(psi))))\n",
    "end\n",
    "\n",
    "function train_rand_basis(qcbm::QCBM, psi_train; learning_rate = 0.1, maxiter=10)\n",
    "    params = 2pi * rand(nparameters(qcbm))\n",
    "    kernel = RBFKernel(qcbm.n, [2.0], false)\n",
    "\n",
    "    for i = 1:maxiter\n",
    "        # select random basis and rotate target wave function to selected basis.\n",
    "        rt |> rand_basis\n",
    "        ptrain = abs2(rot(psi_train))\n",
    "        \n",
    "        grad = gradient(qcbm, copy(params), kernel, ptrain)\n",
    "        println(i, \" step, loss = \", loss(qcbm, copy(params), kernel, ptrain))\n",
    "        params .-= learning_rate * grad\n",
    "    end\n",
    "    params\n",
    "end"
   ]
  },
  {
   "cell_type": "code",
   "execution_count": null,
   "metadata": {},
   "outputs": [],
   "source": [
    "################################################\n",
    "#                   Clone GAN                  #\n",
    "################################################\n",
    "\n",
    "# probabilities and kernel\n",
    "psi_train = ... # some state\n",
    "p_data(γ::Vector{Float64}) = copy(psi_train) |> dispatch!(rot, γ) |> abs2\n",
    "p_model(θ::Vector{Float64}) = zero_state(num_bit) |> dispatch!(circuit,θ) |> rot |> abs2\n",
    "kernel = RBFKernel(num_bit, [2], false)\n",
    "\n",
    "# get gradient with respect to single parameter\n",
    "function grad1(theta_list::Vector, pd::Vector, pm_func::Function, pm::Vector, i::Int)\n",
    "    theta_list_ = copy(theta_list)\n",
    "    # +pi/2 phase\n",
    "    pp = pm_func(theta_list_[i] += pi/2; theta_list_)\n",
    "    # -pi/2 phase\n",
    "    pn = pm_func(theta_list_[i] -= pi/2; theta_list_)\n",
    "    expect(kernel, pm, pmp) - expect(kernel, pm0, pmn) - (expect(kernel, pd, pmp) - expect(kernel, pd, pmn))\n",
    "end\n",
    "\n",
    "takerot(θ::Vector) = view(θ, end-2*num_bit+1:end)\n",
    "loss(θ::Vector{Float64}) = MMDLoss(kernel, p_model(θ), p_data(θ|>takerot))\n",
    "\n",
    "function gradient(theta_list::Vector)\n",
    "    # for stability consern, we do not use the cached probability output.\n",
    "    γ = θ|>takerot\n",
    "    pm = p_model(θ)\n",
    "    pd = p_data(γ)\n",
    "\n",
    "    grad = map(i->grad1(θ, pd, p_model, pm, i), 1:length(θ))\n",
    "    grad_data = map(i->grad1(γ, pm, p_data, pd, i), 1:length(γ))\n",
    "    grad |> takerot += grad_data\n",
    "\n",
    "    grad\n",
    "end"
   ]
  },
  {
   "cell_type": "code",
   "execution_count": null,
   "metadata": {},
   "outputs": [],
   "source": [
    "function train_clonegan(psi_train; learning_rate = 0.1, maxiter=10)\n",
    "    θ = vcat(nparam(circuit), randpolar(num_bit)|>vec)\n",
    "    kernel = RBFKernel(num_bit, [2.0], false)\n",
    "\n",
    "    for i = 1:maxiter\n",
    "        # select random basis and rotate target wave function to selected basis.\n",
    "        grad = gradient(θ)\n",
    "        grad |> takerot *= -5  # tune the rotation parameters\n",
    "        println(i, \" step, loss = \", loss(θ))\n",
    "        \n",
    "        params .-= learning_rate * grad\n",
    "    end\n",
    "    params\n",
    "end"
   ]
  },
  {
   "cell_type": "code",
   "execution_count": null,
   "metadata": {},
   "outputs": [],
   "source": [
    "# check with respect to numerical differenciation\n",
    "θ = vcat(nparam(circuit), randpolar(num_bit)|>vec)\n",
    "@test all(isapprox.(gradient(θ), num_gradient(θ)))"
   ]
  },
  {
   "cell_type": "code",
   "execution_count": null,
   "metadata": {},
   "outputs": [],
   "source": [
    "#=\n",
    "scipy sort CSR method.\n",
    "/*\n",
    " * Sort CSR column indices inplace\n",
    " *\n",
    " * Input Arguments:\n",
    " *   I  n_row           - number of rows in A\n",
    " *   I  Ap[n_row+1]     - row pointer\n",
    " *   I  Aj[nnz(A)]      - column indices\n",
    " *   T  Ax[nnz(A)]      - nonzeros\n",
    " *\n",
    " */\n",
    "template<class I, class T>\n",
    "void csr_sort_indices(const I n_row,\n",
    "                      const I Ap[],\n",
    "                            I Aj[],\n",
    "                            T Ax[])\n",
    "{\n",
    "    std::vector< std::pair<I,T> > temp;\n",
    "\n",
    "    for(I i = 0; i < n_row; i++){\n",
    "        I row_start = Ap[i];\n",
    "        I row_end   = Ap[i+1];\n",
    "\n",
    "        temp.resize(row_end - row_start);\n",
    "        for (I jj = row_start, n = 0; jj < row_end; jj++, n++){\n",
    "            temp[n].first  = Aj[jj];\n",
    "            temp[n].second = Ax[jj];\n",
    "        }\n",
    "\n",
    "        std::sort(temp.begin(),temp.end(),kv_pair_less<I,T>);\n",
    "\n",
    "        for(I jj = row_start, n = 0; jj < row_end; jj++, n++){\n",
    "            Aj[jj] = temp[n].first;\n",
    "            Ax[jj] = temp[n].second;\n",
    "        }\n",
    "    }\n",
    "}\n",
    "=#"
   ]
  }
 ],
 "metadata": {
  "kernelspec": {
   "display_name": "Julia 0.6.0",
   "language": "julia",
   "name": "julia-0.6"
  },
  "language_info": {
   "file_extension": ".jl",
   "mimetype": "application/julia",
   "name": "julia",
   "version": "0.6.0"
  }
 },
 "nbformat": 4,
 "nbformat_minor": 2
}
