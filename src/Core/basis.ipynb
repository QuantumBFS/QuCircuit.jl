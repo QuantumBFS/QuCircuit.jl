{
 "cells": [
  {
   "cell_type": "code",
   "execution_count": 1,
   "metadata": {},
   "outputs": [
    {
     "data": {
      "text/plain": [
       "flip! (generic function with 2 methods)"
      ]
     },
     "execution_count": 1,
     "metadata": {},
     "output_type": "execute_result"
    }
   ],
   "source": [
    "import Base: getindex, size, println\n",
    "function println(x)\n",
    "    show(STDOUT, \"text/plain\", x)\n",
    "    print(\"\\n\")\n",
    "end\n",
    "using BenchmarkTools\n",
    "\n",
    "########## Bit-Wise Operations ##############\n",
    "BInt = Int64\n",
    "DInt = UInt64\n",
    "\n",
    "Ints = Union{Vector{Int}, Int}\n",
    "Intsu = Union{Ints, UnitRange{Int}}\n",
    "DInts = Union{Vector{DInt}, DInt}\n",
    "bmask(ibit::Int) = one(DInt) << (ibit-1)\n",
    "bmask(ibit::Vector{Int}) = reduce(+, zero(DInt), [one(DInt) << b for b in (ibit.-1)])\n",
    "bmask(bits::UnitRange{Int}) = ((one(DInt) << (bits.stop - bits.start + 1)) - one(DInt)) << (bits.start-1)\n",
    "\n",
    "# bit size\n",
    "bsizeof(x) = sizeof(x) << 3\n",
    "function bit_length(x::DInt)\n",
    "    local n = 0\n",
    "    while x!=0\n",
    "        n += 1\n",
    "        x >>= 1\n",
    "    end\n",
    "    return n\n",
    "end\n",
    "\n",
    "# take a bit/bits\n",
    "takebit(indices::DInts, ibit::Int) = @. (indices >> (ibit-1)) & 1\n",
    "takebit(indices::DInt, ibit::Vector{Int}) = @. (indices .>> (ibit-1)) & 1\n",
    "# a position is 1?\n",
    "testbit(indices::DInts, ibit::Int) = @. (indices & bmask(ibit)) != 0\n",
    "testbit(indices::DInt, ibit::Vector{Int}) = @. (indices & bmask(ibit)) != 0\n",
    "\n",
    "# set a bit\n",
    "setbit(indices::DInts, ibit::Intsu) = indices .| bmask(ibit)\n",
    "setbit!(indices::DInts, ibit::Intsu) = indices[:] |= bmask(ibit)\n",
    "\n",
    "# flip a bit/bits\n",
    "flip(indices::DInts, ibit::Intsu) = xor.(indices, bmask(ibit))\n",
    "flip!(indices::DInts, ibit::Intsu) = indices[:] = xor.(indices, bmask(ibit))\n",
    "# flip all bits\n",
    "flip(indices::DInts) = ~indices\n",
    "flip!(indices::DInts) = indices[:] = ~indices"
   ]
  },
  {
   "cell_type": "code",
   "execution_count": 2,
   "metadata": {
    "scrolled": true
   },
   "outputs": [
    {
     "data": {
      "text/plain": [
       "rollaxis2! (generic function with 1 method)"
      ]
     },
     "execution_count": 2,
     "metadata": {},
     "output_type": "execute_result"
    }
   ],
   "source": [
    "\"\"\"move 1st dim to last\"\"\"\n",
    "function lrollaxis2!(vec::AbstractArray)\n",
    "    n = length(vec)\n",
    "    halfn = n >> 1\n",
    "    temp = vec[2:2:n]\n",
    "    vec[1:halfn] = vec[1:2:n]\n",
    "    vec[halfn+1:end] = temp\n",
    "    vec\n",
    "end\n",
    "\n",
    "\"\"\"move last dim to 1st\"\"\"\n",
    "function rrollaxis2!(vec::AbstractArray)\n",
    "    n = length(vec)\n",
    "    halfn = n >> 1\n",
    "    temp = vec[halfn+1:end]\n",
    "    vec[1:2:n] = vec[1:halfn]\n",
    "    vec[2:2:n] = temp\n",
    "    vec\n",
    "end\n",
    "\n",
    "function rollaxis2!(v::AbstractArray, k::Int)\n",
    "    if k > 0\n",
    "        for i=1:k\n",
    "            lrollaxis2!(v)\n",
    "        end\n",
    "    else\n",
    "        for i=1:-k\n",
    "            rrollaxis2!(v)\n",
    "        end\n",
    "    end\n",
    "    v\n",
    "end"
   ]
  },
  {
   "cell_type": "code",
   "execution_count": 55,
   "metadata": {
    "collapsed": true
   },
   "outputs": [],
   "source": [
    "v = randn([2 for i=1:10]...)\n",
    "v2 = copy(v)\n",
    "@assert rollaxis2!(v, 5) == permutedims(v2, [(i+4)%10+1 for i=1:10])\n",
    "@assert rollaxis2!(v, -5) == v2\n",
    "@assert rollaxis2!(v, 0) == v2"
   ]
  },
  {
   "cell_type": "code",
   "execution_count": 5,
   "metadata": {
    "scrolled": true
   },
   "outputs": [
    {
     "data": {
      "text/plain": [
       "BenchmarkTools.Trial: \n",
       "  memory estimate:  48.94 KiB\n",
       "  allocs estimate:  2573\n",
       "  --------------\n",
       "  minimum time:     81.436 μs (0.00% GC)\n",
       "  median time:      84.490 μs (0.00% GC)\n",
       "  mean time:        93.673 μs (2.43% GC)\n",
       "  maximum time:     1.943 ms (89.97% GC)\n",
       "  --------------\n",
       "  samples:          10000\n",
       "  evals/sample:     1"
      ]
     },
     "execution_count": 5,
     "metadata": {},
     "output_type": "execute_result"
    }
   ],
   "source": [
    "@benchmark permutedims(v2, [(i)%10+1 for i=1:10])"
   ]
  },
  {
   "cell_type": "code",
   "execution_count": 221,
   "metadata": {},
   "outputs": [
    {
     "data": {
      "text/plain": [
       "BenchmarkTools.Trial: \n",
       "  memory estimate:  8.45 KiB\n",
       "  allocs estimate:  11\n",
       "  --------------\n",
       "  minimum time:     2.043 μs (0.00% GC)\n",
       "  median time:      2.190 μs (0.00% GC)\n",
       "  mean time:        3.016 μs (20.68% GC)\n",
       "  maximum time:     254.649 μs (93.09% GC)\n",
       "  --------------\n",
       "  samples:          10000\n",
       "  evals/sample:     9"
      ]
     },
     "execution_count": 221,
     "metadata": {},
     "output_type": "execute_result"
    }
   ],
   "source": [
    "@benchmark rollaxis2!(v2, 1)"
   ]
  },
  {
   "cell_type": "code",
   "execution_count": 184,
   "metadata": {},
   "outputs": [
    {
     "data": {
      "text/plain": [
       "roll_prod (generic function with 1 method)"
      ]
     },
     "execution_count": 184,
     "metadata": {},
     "output_type": "execute_result"
    }
   ],
   "source": [
    "function roll_prod(s, n, ops)\n",
    "    st = reshape(s, 2, 1<<(n-1))\n",
    "\n",
    "    for i = 1:n\n",
    "        st .= ops[i] * st\n",
    "        rollaxis2!(s)\n",
    "    end\n",
    "    s\n",
    "end"
   ]
  },
  {
   "cell_type": "code",
   "execution_count": 156,
   "metadata": {},
   "outputs": [
    {
     "data": {
      "text/plain": [
       "focus_prod (generic function with 1 method)"
      ]
     },
     "execution_count": 156,
     "metadata": {},
     "output_type": "execute_result"
    }
   ],
   "source": [
    "function focus_prod(s, n, ops)\n",
    "    st = reshape(s, 2, 1<<(n-1))\n",
    "    st .= first(ops) * st\n",
    "\n",
    "    for i = 2:n\n",
    "        s = reshape(s, ntuple(x->2, Val{n}))\n",
    "        perm = collect(1:n)\n",
    "        perm[1] = i\n",
    "        perm[i] = 1\n",
    "        permutedims!(s, s, perm)\n",
    "        st = reshape(s, 2, 1<<(n-1))\n",
    "        st .= ops[i] * st\n",
    "        permutedims!(s, s, perm)\n",
    "    end\n",
    "    s\n",
    "end"
   ]
  },
  {
   "cell_type": "code",
   "execution_count": 157,
   "metadata": {},
   "outputs": [
    {
     "data": {
      "text/plain": [
       "BenchmarkTools.Trial: \n",
       "  memory estimate:  855.78 KiB\n",
       "  allocs estimate:  49321\n",
       "  --------------\n",
       "  minimum time:     2.263 ms (0.00% GC)\n",
       "  median time:      2.285 ms (0.00% GC)\n",
       "  mean time:        2.378 ms (2.28% GC)\n",
       "  maximum time:     5.386 ms (41.44% GC)\n",
       "  --------------\n",
       "  samples:          2101\n",
       "  evals/sample:     1"
      ]
     },
     "execution_count": 157,
     "metadata": {},
     "output_type": "execute_result"
    }
   ],
   "source": [
    "ops = [rand(2, 2) for i=1:10];\n",
    "s = rand(1<<10)\n",
    "n = 10\n",
    "@benchmark focus_prod($s, n, $ops)"
   ]
  },
  {
   "cell_type": "code",
   "execution_count": 183,
   "metadata": {},
   "outputs": [
    {
     "data": {
      "text/plain": [
       "BenchmarkTools.Trial: \n",
       "  memory estimate:  165.09 KiB\n",
       "  allocs estimate:  72\n",
       "  --------------\n",
       "  minimum time:     52.231 μs (0.00% GC)\n",
       "  median time:      54.464 μs (0.00% GC)\n",
       "  mean time:        64.145 μs (13.49% GC)\n",
       "  maximum time:     1.503 ms (90.43% GC)\n",
       "  --------------\n",
       "  samples:          10000\n",
       "  evals/sample:     1"
      ]
     },
     "execution_count": 183,
     "metadata": {},
     "output_type": "execute_result"
    }
   ],
   "source": [
    "ops = [rand(2, 2) for i=1:10];\n",
    "s = rand(1<<10)\n",
    "n = 10\n",
    "@benchmark roll_prod($s, n, $ops)"
   ]
  },
  {
   "cell_type": "code",
   "execution_count": 116,
   "metadata": {},
   "outputs": [
    {
     "data": {
      "text/plain": [
       "setto! (generic function with 1 method)"
      ]
     },
     "execution_count": 116,
     "metadata": {},
     "output_type": "execute_result"
    }
   ],
   "source": [
    "pos_mask(ibit::Int) = 1 << (ibit-1)\n",
    "pos_mask(ibit::Vector{Int}) = reduce(+, zero(DInt), [1 << b for b in (ibit.-1)])\n",
    "# take a bit/bits\n",
    "takebit(indices::DInts, ibit::Int) = (indices .>> (ibit-1)) .& 1\n",
    "takebit(indices::DInt, ibit::Vector{Int}) = (indices .>> (ibit.-1)) .& 1\n",
    "\n",
    "setto!(indices::DInts, mask::Ints) = indices[:] .⊻= mask"
   ]
  },
  {
   "cell_type": "code",
   "execution_count": 267,
   "metadata": {},
   "outputs": [
    {
     "data": {
      "text/plain": [
       "swap_bits! (generic function with 1 method)"
      ]
     },
     "execution_count": 267,
     "metadata": {},
     "output_type": "execute_result"
    }
   ],
   "source": [
    "function swap_bits!(basis::Vector{DInt}, i::Int, j::Int)\n",
    "    temp = takebit(basis, i)\n",
    "    setto!(basis, takebit(basis, j).<<(i-1))\n",
    "    setto!(basis, temp.<<(j-1))\n",
    "end"
   ]
  },
  {
   "cell_type": "code",
   "execution_count": 264,
   "metadata": {
    "scrolled": true
   },
   "outputs": [
    {
     "name": "stdout",
     "output_type": "stream",
     "text": [
      "5-element Array{String,1}:\n",
      " \"0001\"\n",
      " \"0010\"\n",
      " \"0011\"\n",
      " \"0110\"\n",
      " \"0111\"\n"
     ]
    }
   ],
   "source": [
    "basis = [1,2,3,6,7]\n",
    "println([bin(b,4) for b in basis])"
   ]
  },
  {
   "cell_type": "code",
   "execution_count": 268,
   "metadata": {},
   "outputs": [
    {
     "name": "stdout",
     "output_type": "stream",
     "text": [
      "5-element Array{String,1}:\n",
      " \"0000\"\n",
      " \"0011\"\n",
      " \"0011\"\n",
      " \"0111\"\n",
      " \"0111\"\n"
     ]
    }
   ],
   "source": [
    "swap_bits!(basis, 1,2)\n",
    "println([bin(b,4) for b in basis])"
   ]
  },
  {
   "cell_type": "code",
   "execution_count": 246,
   "metadata": {},
   "outputs": [
    {
     "ename": "LoadError",
     "evalue": "\u001b[91mUndefVarError: rolling not defined\u001b[39m",
     "output_type": "error",
     "traceback": [
      "\u001b[91mUndefVarError: rolling not defined\u001b[39m",
      ""
     ]
    }
   ],
   "source": [
    "rolling([X, Y, (), chain(K2,G2), L])"
   ]
  },
  {
   "cell_type": "code",
   "execution_count": 62,
   "metadata": {},
   "outputs": [
    {
     "data": {
      "text/plain": [
       "6"
      ]
     },
     "execution_count": 62,
     "metadata": {},
     "output_type": "execute_result"
    }
   ],
   "source": [
    "function swapbit(num::Ints, i::Int, j::Int)\n",
    "    i = i-1\n",
    "    j = j-1\n",
    "    k = @. (num >> j) & 1 - (num >> i) & 1\n",
    "    @. num + k*(1<<i) - k*(1<<j)\n",
    "end\n",
    "swapbit(5, 1,2)"
   ]
  },
  {
   "cell_type": "code",
   "execution_count": 63,
   "metadata": {},
   "outputs": [
    {
     "data": {
      "text/plain": [
       "BenchmarkTools.Trial: \n",
       "  memory estimate:  15.88 KiB\n",
       "  allocs estimate:  2\n",
       "  --------------\n",
       "  minimum time:     7.942 μs (0.00% GC)\n",
       "  median time:      8.186 μs (0.00% GC)\n",
       "  mean time:        9.024 μs (7.05% GC)\n",
       "  maximum time:     294.192 μs (89.22% GC)\n",
       "  --------------\n",
       "  samples:          10000\n",
       "  evals/sample:     5"
      ]
     },
     "execution_count": 63,
     "metadata": {},
     "output_type": "execute_result"
    }
   ],
   "source": [
    "i,j=0,1\n",
    "b=collect(1:1000)\n",
    "@benchmark swapbit(b, i,j)"
   ]
  },
  {
   "cell_type": "code",
   "execution_count": 49,
   "metadata": {},
   "outputs": [
    {
     "data": {
      "text/plain": [
       "1000-element Array{Int64,1}:\n",
       "   0\n",
       "   1\n",
       "   2\n",
       "   3\n",
       "   4\n",
       "   5\n",
       "   6\n",
       "   7\n",
       "   8\n",
       "   9\n",
       "  10\n",
       "  11\n",
       "  12\n",
       "   ⋮\n",
       " 988\n",
       " 989\n",
       " 990\n",
       " 991\n",
       " 992\n",
       " 993\n",
       " 994\n",
       " 995\n",
       " 996\n",
       " 997\n",
       " 998\n",
       " 999"
      ]
     },
     "execution_count": 49,
     "metadata": {},
     "output_type": "execute_result"
    }
   ],
   "source": [
    "swapbit(b, i,j)"
   ]
  },
  {
   "cell_type": "code",
   "execution_count": 56,
   "metadata": {},
   "outputs": [
    {
     "data": {
      "text/plain": [
       "bmask (generic function with 3 methods)"
      ]
     },
     "execution_count": 56,
     "metadata": {},
     "output_type": "execute_result"
    }
   ],
   "source": [
    "bmask(bits::UnitRange{Int}) = ((one(DInt) << (bits.stop - bits.start + 1)) - one(DInt)) << (bits.start-1)"
   ]
  },
  {
   "cell_type": "code",
   "execution_count": 57,
   "metadata": {},
   "outputs": [
    {
     "data": {
      "text/plain": [
       "\"11111\""
      ]
     },
     "execution_count": 57,
     "metadata": {},
     "output_type": "execute_result"
    }
   ],
   "source": [
    "bin(bmask(1:5))"
   ]
  },
  {
   "cell_type": "code",
   "execution_count": 3,
   "metadata": {},
   "outputs": [
    {
     "data": {
      "text/plain": [
       "indices_with (generic function with 1 method)"
      ]
     },
     "execution_count": 3,
     "metadata": {},
     "output_type": "execute_result"
    }
   ],
   "source": [
    "# utils used in controled bits\n",
    "function indices_with(num_bit::Int, poss::Vector{Int}, vals::Vector{BInt}, indices::Vector{DInt})\n",
    "    sls = Vector{Union{Colon, Int}}([Colon() for i=1:num_bit])\n",
    "    sls[poss] = vals.+1\n",
    "    reshape(getindex(reshape(indices, fill(2, num_bit)...), sls...), 1<<(num_bit-length(poss)))\n",
    "end"
   ]
  },
  {
   "cell_type": "code",
   "execution_count": 27,
   "metadata": {},
   "outputs": [
    {
     "data": {
      "text/plain": [
       "BenchmarkTools.Trial: \n",
       "  memory estimate:  144.59 KiB\n",
       "  allocs estimate:  600\n",
       "  --------------\n",
       "  minimum time:     214.452 μs (0.00% GC)\n",
       "  median time:      218.172 μs (0.00% GC)\n",
       "  mean time:        247.412 μs (3.21% GC)\n",
       "  maximum time:     2.100 ms (81.98% GC)\n",
       "  --------------\n",
       "  samples:          10000\n",
       "  evals/sample:     1"
      ]
     },
     "execution_count": 27,
     "metadata": {},
     "output_type": "execute_result"
    }
   ],
   "source": [
    "num_bit = 16\n",
    "basis = collect(UInt, 1:1<<num_bit)-1\n",
    "@benchmark indices_with(num_bit, [3, 7], [1, 1], basis)"
   ]
  },
  {
   "cell_type": "code",
   "execution_count": 5,
   "metadata": {},
   "outputs": [
    {
     "data": {
      "text/plain": [
       "_subspace (generic function with 1 method)"
      ]
     },
     "execution_count": 5,
     "metadata": {},
     "output_type": "execute_result"
    }
   ],
   "source": [
    "function _subspace(num_bit::Int, poss::Vector{Int}, base::DInt, output::Vector{DInt})\n",
    "    if length(poss) == 0\n",
    "        return output[1] = base\n",
    "    else\n",
    "        rest, pos = poss[1:end-1], poss[end]\n",
    "        # efficiency of vcat?\n",
    "        _subspace(num_bit, rest, base, output[1:1<<length(rest)])\n",
    "        _subspace(num_bit, rest, flip(base, pos), output[1<<length(rest)+1:end])\n",
    "    end\n",
    "end"
   ]
  },
  {
   "cell_type": "code",
   "execution_count": 6,
   "metadata": {},
   "outputs": [
    {
     "data": {
      "text/plain": [
       "indices_with (generic function with 2 methods)"
      ]
     },
     "execution_count": 6,
     "metadata": {},
     "output_type": "execute_result"
    }
   ],
   "source": [
    "function indices_with(num_bit::Int, poss::Vector{Int}, vals::Vector{BInt})\n",
    "    remain_poss = setdiff(1:num_bit, poss)\n",
    "    onepos = poss[vals.!=0]\n",
    "    mask = length(onepos) == 0?zero(DInt):bmask(onepos)\n",
    "    output = Array{DInt}(1<<length(remain_poss))\n",
    "    _subspace(num_bit, remain_poss, mask, output)\n",
    "    output\n",
    "end"
   ]
  },
  {
   "cell_type": "code",
   "execution_count": 71,
   "metadata": {},
   "outputs": [
    {
     "data": {
      "text/plain": [
       "16384-element Array{UInt64,1}:\n",
       " 0x000014ba1de12440\n",
       " 0x0000000005a0be80\n",
       " 0x0000000005a0be80\n",
       " 0x0000000005a0be80\n",
       " 0x00000000058fbe38\n",
       " 0x00000000058fbe58\n",
       " 0x00000000058fbe78\n",
       " 0x00000000058fec26\n",
       " 0x0000000100000000\n",
       " 0x00000000058fbf20\n",
       " 0x0000000100000000\n",
       " 0x000000000000005a\n",
       " 0x0000000000000070\n",
       "                  ⋮\n",
       " 0x000000000000ff70\n",
       " 0x000000000000ff72\n",
       " 0x000000000000ff78\n",
       " 0x000000000000ff7a\n",
       " 0x000000000000ff90\n",
       " 0x000000000000ff92\n",
       " 0x000000000000ff98\n",
       " 0x000000000000ff9a\n",
       " 0x000000000000ffb0\n",
       " 0x000000000000ffb2\n",
       " 0x000000000000ffb8\n",
       " 0x000000000000ffba"
      ]
     },
     "execution_count": 71,
     "metadata": {},
     "output_type": "execute_result"
    }
   ],
   "source": [
    "num_bit = 16\n",
    "indices_with(num_bit, [1,2], [0,0])"
   ]
  },
  {
   "cell_type": "code",
   "execution_count": 7,
   "metadata": {},
   "outputs": [
    {
     "name": "stdout",
     "output_type": "stream",
     "text": [
      "bmask([1, 2, 3]) = 0x0000000000000007\n"
     ]
    },
    {
     "data": {
      "text/plain": [
       "\"1111111111111000\""
      ]
     },
     "execution_count": 7,
     "metadata": {},
     "output_type": "execute_result"
    }
   ],
   "source": [
    "neg(num_bit::Int, mask::DInt) = bmask(1:num_bit) ⊻ mask\n",
    "@show bmask([1,2,3])\n",
    "bin(neg(16, bmask([1,2,3])))"
   ]
  },
  {
   "cell_type": "code",
   "execution_count": 47,
   "metadata": {},
   "outputs": [
    {
     "data": {
      "text/plain": [
       "indices_with2 (generic function with 1 method)"
      ]
     },
     "execution_count": 47,
     "metadata": {},
     "output_type": "execute_result"
    }
   ],
   "source": [
    "function indices_with2(num_bit::Int, poss::Vector{Int}, vals::Vector{BInt}, basis::Vector{DInt})\n",
    "    mask = bmask(poss)\n",
    "    valmask = bmask(poss[vals.!=0])\n",
    "    basis[(basis .& mask) .== valmask]\n",
    "end"
   ]
  },
  {
   "cell_type": "code",
   "execution_count": 48,
   "metadata": {},
   "outputs": [
    {
     "data": {
      "text/plain": [
       "BenchmarkTools.Trial: \n",
       "  memory estimate:  27.03 KiB\n",
       "  allocs estimate:  70\n",
       "  --------------\n",
       "  minimum time:     216.503 μs (0.00% GC)\n",
       "  median time:      219.320 μs (0.00% GC)\n",
       "  mean time:        229.426 μs (0.54% GC)\n",
       "  maximum time:     2.027 ms (80.18% GC)\n",
       "  --------------\n",
       "  samples:          10000\n",
       "  evals/sample:     1"
      ]
     },
     "execution_count": 48,
     "metadata": {},
     "output_type": "execute_result"
    }
   ],
   "source": [
    "num_bit = 16\n",
    "basis = collect(UInt, 0:1<<num_bit-1)\n",
    "@benchmark indices_with2(num_bit, [1,2,3,4,5,6], [0,0,1,1,0,1], basis)"
   ]
  },
  {
   "cell_type": "code",
   "execution_count": 24,
   "metadata": {},
   "outputs": [
    {
     "data": {
      "text/plain": [
       "true"
      ]
     },
     "execution_count": 24,
     "metadata": {},
     "output_type": "execute_result"
    }
   ],
   "source": [
    "indices_with(num_bit, [1,2], [0,0], basis) == indices_with2(num_bit, [1,2], [0,0], basis)"
   ]
  },
  {
   "cell_type": "code",
   "execution_count": 28,
   "metadata": {},
   "outputs": [
    {
     "data": {
      "text/plain": [
       "32768-element Array{UInt64,1}:\n",
       " 0x0000000000000001\n",
       " 0x0000000000000003\n",
       " 0x0000000000000005\n",
       " 0x0000000000000007\n",
       " 0x0000000000000009\n",
       " 0x000000000000000b\n",
       " 0x000000000000000d\n",
       " 0x000000000000000f\n",
       " 0x0000000000000011\n",
       " 0x0000000000000013\n",
       " 0x0000000000000015\n",
       " 0x0000000000000017\n",
       " 0x0000000000000019\n",
       "                  ⋮\n",
       " 0x000000000000ffe9\n",
       " 0x000000000000ffeb\n",
       " 0x000000000000ffed\n",
       " 0x000000000000ffef\n",
       " 0x000000000000fff1\n",
       " 0x000000000000fff3\n",
       " 0x000000000000fff5\n",
       " 0x000000000000fff7\n",
       " 0x000000000000fff9\n",
       " 0x000000000000fffb\n",
       " 0x000000000000fffd\n",
       " 0x000000000000ffff"
      ]
     },
     "execution_count": 28,
     "metadata": {},
     "output_type": "execute_result"
    }
   ],
   "source": [
    "indices_with2(num_bit, [1], [1], basis)"
   ]
  },
  {
   "cell_type": "code",
   "execution_count": 111,
   "metadata": {},
   "outputs": [
    {
     "data": {
      "text/plain": [
       "indices_with (generic function with 3 methods)"
      ]
     },
     "execution_count": 111,
     "metadata": {},
     "output_type": "execute_result"
    }
   ],
   "source": [
    "function indices_with(num_bit::Int, pos::Int, val::BInt)\n",
    "    res = Array{DInt}(1<<(num_bit-1))\n",
    "    step = 1<<pos\n",
    "    halfstep = step>>1\n",
    "    halfstep_1 = halfstep-1\n",
    "    offset = val==1?halfstep:0\n",
    "    maxval = 1<<num_bit-1\n",
    "    \n",
    "    @simd for i in 1:1<<(num_bit-pos)\n",
    "        start = (i-1)*step+offset\n",
    "        ihalfstep = i*halfstep\n",
    "        @inbounds res[ihalfstep-halfstep_1:ihalfstep] = collect(start:start+halfstep_1)\n",
    "    end\n",
    "    res\n",
    "end"
   ]
  },
  {
   "cell_type": "code",
   "execution_count": 112,
   "metadata": {},
   "outputs": [
    {
     "data": {
      "text/plain": [
       "8-element Array{UInt64,1}:\n",
       " 0x0000000000000000\n",
       " 0x0000000000000002\n",
       " 0x0000000000000004\n",
       " 0x0000000000000006\n",
       " 0x0000000000000008\n",
       " 0x000000000000000a\n",
       " 0x000000000000000c\n",
       " 0x000000000000000e"
      ]
     },
     "execution_count": 112,
     "metadata": {},
     "output_type": "execute_result"
    }
   ],
   "source": [
    "indices_with(4, 1,0)"
   ]
  },
  {
   "cell_type": "code",
   "execution_count": 96,
   "metadata": {},
   "outputs": [
    {
     "data": {
      "text/plain": [
       "true"
      ]
     },
     "execution_count": 96,
     "metadata": {},
     "output_type": "execute_result"
    }
   ],
   "source": [
    "indices_with(num_bit, 1, 0) == indices_with2(num_bit, [1], [0], basis)"
   ]
  },
  {
   "cell_type": "code",
   "execution_count": 113,
   "metadata": {},
   "outputs": [
    {
     "data": {
      "text/plain": [
       "BenchmarkTools.Trial: \n",
       "  memory estimate:  5.25 MiB\n",
       "  allocs estimate:  98314\n",
       "  --------------\n",
       "  minimum time:     2.018 ms (0.00% GC)\n",
       "  median time:      2.167 ms (0.00% GC)\n",
       "  mean time:        3.217 ms (27.34% GC)\n",
       "  maximum time:     11.664 ms (66.03% GC)\n",
       "  --------------\n",
       "  samples:          1550\n",
       "  evals/sample:     1"
      ]
     },
     "execution_count": 113,
     "metadata": {},
     "output_type": "execute_result"
    }
   ],
   "source": [
    "@benchmark indices_with(num_bit, 1, 0)"
   ]
  },
  {
   "cell_type": "code",
   "execution_count": null,
   "metadata": {
    "collapsed": true
   },
   "outputs": [],
   "source": []
  }
 ],
 "metadata": {
  "kernelspec": {
   "display_name": "Julia 0.6.0",
   "language": "julia",
   "name": "julia-0.6"
  },
  "language_info": {
   "file_extension": ".jl",
   "mimetype": "application/julia",
   "name": "julia",
   "version": "0.6.0"
  }
 },
 "nbformat": 4,
 "nbformat_minor": 2
}
