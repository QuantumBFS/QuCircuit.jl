{
 "cells": [
  {
   "cell_type": "code",
   "execution_count": 1,
   "metadata": {},
   "outputs": [],
   "source": [
    "include(\"gates.jl\")\n",
    "using Compat.Test\n",
    "import QuCircuit: PrimitiveBlock, CompositeBlock, MatrixBlock"
   ]
  },
  {
   "cell_type": "code",
   "execution_count": 2,
   "metadata": {},
   "outputs": [],
   "source": [
    "GATES = [:X, :Y, :Z]\n",
    "slower(s::Symbol) = s |> string |> lowercast |> Symbol\n",
    "for G in GATES\n",
    "    GATE = Symbol(G, :Gate)\n",
    "    @eval struct $GATE{MT} <: PrimitiveBlock{1, MT} end\n",
    "    @eval mat(g::$GATE{MT}) where MT = $(Symbol(:PAULI_,G))\n",
    "end"
   ]
  },
  {
   "cell_type": "code",
   "execution_count": 18,
   "metadata": {},
   "outputs": [
    {
     "data": {
      "text/plain": [
       "blocks (generic function with 2 methods)"
      ]
     },
     "execution_count": 18,
     "metadata": {},
     "output_type": "execute_result"
    }
   ],
   "source": [
    "############ General Single Qubit Multi-Control Gate ###########\n",
    "struct ControlBlock{GT<:MatrixBlock, N, MT} <: CompositeBlock{N, MT}\n",
    "    target::GT\n",
    "    cbits::Vector{Int}\n",
    "    ibit::Int\n",
    "end\n",
    "\n",
    "struct SingleControlBlock{GT<:MatrixBlock, N, MT} <: CompositeBlock{N, MT}\n",
    "    target::GT\n",
    "    cbit::Int\n",
    "    ibit::Int\n",
    "end\n",
    "\n",
    "blocks(cb::SingleControlBlock) = [rb.target]"
   ]
  },
  {
   "cell_type": "code",
   "execution_count": 24,
   "metadata": {},
   "outputs": [
    {
     "data": {
      "text/plain": [
       "mat (generic function with 11 methods)"
      ]
     },
     "execution_count": 24,
     "metadata": {},
     "output_type": "execute_result"
    }
   ],
   "source": [
    "function mat(cb::ControlBlock{GT, N, MT}) where {GT, N, MT}\n",
    "   controlled_U1(N, mat(cb.target), cb.cbits, cb.ibit)\n",
    "end"
   ]
  },
  {
   "cell_type": "code",
   "execution_count": 25,
   "metadata": {},
   "outputs": [],
   "source": [
    "for (G, MATFUNC) in zip(GATES, [:cxgate, :cygate, :czgate])\n",
    "    GATE = Symbol(G, :Gate)\n",
    "    @eval function mat(cb::SingleControlBlock{$GATE, N, MT}) where {N, MT}\n",
    "        $MATFUNC(MT, N, cb.cbit, cb.ibit)\n",
    "    end\n",
    "end"
   ]
  },
  {
   "cell_type": "code",
   "execution_count": 26,
   "metadata": {},
   "outputs": [
    {
     "data": {
      "text/plain": [
       "2×2 PermuteMultiply{Complex{Int64},Int64}:\n",
       "  0     1+0im\n",
       " 1+0im   0   "
      ]
     },
     "execution_count": 26,
     "metadata": {},
     "output_type": "execute_result"
    }
   ],
   "source": [
    "#function apply!(r::Register, c::RepeatedBlock{N, MT, XGate{MT}}) where {N, MT}\n",
    "#end\n",
    "xg = XGate{ComplexF64}()\n",
    "mat(xg)"
   ]
  },
  {
   "cell_type": "code",
   "execution_count": 27,
   "metadata": {},
   "outputs": [
    {
     "data": {
      "text/plain": [
       "SingleControlBlock{XGate,2,Complex{Float64}}(XGate{Complex{Float64}}(), 2, 1)"
      ]
     },
     "execution_count": 27,
     "metadata": {},
     "output_type": "execute_result"
    }
   ],
   "source": [
    "cb = SingleControlBlock{XGate, 2, ComplexF64}(xg, 2,1)"
   ]
  },
  {
   "cell_type": "code",
   "execution_count": 28,
   "metadata": {},
   "outputs": [
    {
     "data": {
      "text/plain": [
       "\u001b[1m\u001b[32mTest Passed\n",
       "\u001b[39m\u001b[22m"
      ]
     },
     "execution_count": 28,
     "metadata": {},
     "output_type": "execute_result"
    }
   ],
   "source": [
    "@test mat(cb) == CNOT_MAT"
   ]
  },
  {
   "cell_type": "code",
   "execution_count": 29,
   "metadata": {},
   "outputs": [
    {
     "data": {
      "text/plain": [
       "blocks (generic function with 2 methods)"
      ]
     },
     "execution_count": 29,
     "metadata": {},
     "output_type": "execute_result"
    }
   ],
   "source": [
    "mutable struct RepeatedBlock{GT<:MatrixBlock, N, MT} <: CompositeBlock{N, MT}\n",
    "    unit::GT\n",
    "    bits::Vector{Int}\n",
    "end\n",
    "for (G, MATFUNC) in zip(GATES, [:xgate, :ygate, :zgate])\n",
    "    GGate = Symbol(G, :Gate)\n",
    "    @eval function mat(cb::RepeatedBlock{$GGate, N, MT}) where {N, MT}\n",
    "        $MATFUNC(MT, N, cb.bits)\n",
    "    end\n",
    "end\n",
    "blocks(rb::RepeatedBlock) = [rb.unit]"
   ]
  },
  {
   "cell_type": "code",
   "execution_count": 12,
   "metadata": {},
   "outputs": [
    {
     "data": {
      "text/plain": [
       "RepeatedBlock{XGate,2,Complex{Float64}}(XGate{Complex{Float64}}(), [1, 2])"
      ]
     },
     "execution_count": 12,
     "metadata": {},
     "output_type": "execute_result"
    }
   ],
   "source": [
    "rb = RepeatedBlock{XGate, 2, Complex128}(xg, [1,2])"
   ]
  },
  {
   "cell_type": "code",
   "execution_count": 13,
   "metadata": {},
   "outputs": [
    {
     "data": {
      "text/plain": [
       "\u001b[1m\u001b[32mTest Passed\n",
       "\u001b[39m\u001b[22m"
      ]
     },
     "execution_count": 13,
     "metadata": {},
     "output_type": "execute_result"
    }
   ],
   "source": [
    "@test mat(rb) == kron(PAULI_X, PAULI_X)"
   ]
  },
  {
   "cell_type": "code",
   "execution_count": 23,
   "metadata": {},
   "outputs": [
    {
     "data": {
      "text/plain": [
       "2×2 PermuteMultiply{Complex{Int64},Int64}:\n",
       "  0     1+0im\n",
       " 1+0im   0   "
      ]
     },
     "execution_count": 23,
     "metadata": {},
     "output_type": "execute_result"
    }
   ],
   "source": [
    "mcb = ControlBlock{XGate, 2, Complex128}(xg, [2], 1)\n",
    "mat(mcb.target)"
   ]
  },
  {
   "cell_type": "code",
   "execution_count": 30,
   "metadata": {},
   "outputs": [
    {
     "data": {
      "text/plain": [
       "true"
      ]
     },
     "execution_count": 30,
     "metadata": {},
     "output_type": "execute_result"
    }
   ],
   "source": [
    "mat(mcb) == CNOT_MAT"
   ]
  },
  {
   "cell_type": "code",
   "execution_count": null,
   "metadata": {},
   "outputs": [],
   "source": []
  }
 ],
 "metadata": {
  "kernelspec": {
   "display_name": "Julia 0.6.0",
   "language": "julia",
   "name": "julia-0.6"
  },
  "language_info": {
   "file_extension": ".jl",
   "mimetype": "application/julia",
   "name": "julia",
   "version": "0.6.0"
  }
 },
 "nbformat": 4,
 "nbformat_minor": 2
}
