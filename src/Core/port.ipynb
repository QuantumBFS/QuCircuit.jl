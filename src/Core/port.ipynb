{
 "cells": [
  {
   "cell_type": "code",
   "execution_count": 1,
   "metadata": {},
   "outputs": [],
   "source": [
    "include(\"gates.jl\")\n",
    "using Compat.Test\n",
    "import QuCircuit: PrimitiveBlock, CompositeBlock, MatrixBlock"
   ]
  },
  {
   "cell_type": "code",
   "execution_count": 11,
   "metadata": {},
   "outputs": [],
   "source": [
    "GATES = [:X, :Y, :Z]\n",
    "slower(s::Symbol) = s |> string |> lowercast |> Symbol\n",
    "for G in GATES\n",
    "    @eval struct $(Symbol(G, :Gate)){MT} <: PrimitiveBlock{1, MT} end\n",
    "end"
   ]
  },
  {
   "cell_type": "code",
   "execution_count": 3,
   "metadata": {},
   "outputs": [
    {
     "data": {
      "text/plain": [
       "blocks (generic function with 1 method)"
      ]
     },
     "execution_count": 3,
     "metadata": {},
     "output_type": "execute_result"
    }
   ],
   "source": [
    "############ General Single Qubit Multi-Control Gate ###########\n",
    "struct ControlBlock{GT<:MatrixBlock, N, MT} <: CompositeBlock{N, MT}\n",
    "    target::GT\n",
    "    cbits::Vector{Int}\n",
    "    ibit::Int\n",
    "end\n",
    "\n",
    "struct SingleControlBlock{GT<:MatrixBlock, N, MT} <: CompositeBlock{N, MT}\n",
    "    target::GT\n",
    "    cbits::Vector{Int}\n",
    "    ibit::Int\n",
    "end\n",
    "\n",
    "########### Control XYZ #############\n",
    "abstract type ControlXYZ{N, MT} <: CompositeBlock{N, MT} end\n",
    "for G in GATES\n",
    "    @eval struct $Symbol(:C, G, :Gate){N, MT} <: ControlXYZ{N, MT}\n",
    "        cbit::Int\n",
    "        ibit::Int\n",
    "    end\n",
    "end\n",
    "\n",
    "blocks(cb::ControlBlock) = [rb.target]"
   ]
  },
  {
   "cell_type": "code",
   "execution_count": 5,
   "metadata": {},
   "outputs": [],
   "source": [
    "function mat(cb::ControlBlock{MatrixBlock, N, MT}) where {N, MT}\n",
    "   controlled_U1(N, mat(MT, cb.target, ), cb.cbits, cb.ibit)\n",
    "end\n",
    "\n",
    "for (GATETYPE, MATFUNC) in zip(GATETYPES, [:cxgate, :cygate, :czgate])\n",
    "    @eval function mat(cb::$GATETYPE{N, MT}) where {N, MT}\n",
    "        $MATFUNC(MT, N, cb.cbit, cb.ibit)\n",
    "    end\n",
    "end"
   ]
  },
  {
   "cell_type": "code",
   "execution_count": 6,
   "metadata": {},
   "outputs": [
    {
     "data": {
      "text/plain": [
       "CXGate{2,Complex{Float64}}(2, 1)"
      ]
     },
     "execution_count": 6,
     "metadata": {},
     "output_type": "execute_result"
    }
   ],
   "source": [
    "#function apply!(r::Register, c::RepeatedBlock{N, MT, XGate{MT}}) where {N, MT}\n",
    "#end\n",
    "cb = CXGate{2, ComplexF64}(2,1)"
   ]
  },
  {
   "cell_type": "code",
   "execution_count": 7,
   "metadata": {},
   "outputs": [
    {
     "data": {
      "text/plain": [
       "\u001b[1m\u001b[32mTest Passed\n",
       "\u001b[39m\u001b[22m"
      ]
     },
     "execution_count": 7,
     "metadata": {},
     "output_type": "execute_result"
    }
   ],
   "source": [
    "@test mat(cb) == CNOT_MAT"
   ]
  },
  {
   "cell_type": "code",
   "execution_count": 18,
   "metadata": {},
   "outputs": [
    {
     "data": {
      "text/plain": [
       "blocks (generic function with 2 methods)"
      ]
     },
     "execution_count": 18,
     "metadata": {},
     "output_type": "execute_result"
    }
   ],
   "source": [
    "mutable struct RepeatedBlock{GT<:MatrixBlock, N, MT} <: CompositeBlock{N, MT}\n",
    "    unit::GT\n",
    "end\n",
    "for (G, MATFUNC) in zip(GATES, [:xgate, :ygate, :zgate])\n",
    "    GGate = Symbol(G, :Gate)\n",
    "    GBlock = Symbol(G, :Block)\n",
    "    @eval struct $GBlock{GT<:$GGate, N, MT} <: PrimitiveBlock{N, MT}\n",
    "        target::GT\n",
    "        bits::Vector{Int}\n",
    "    end\n",
    "    @eval function mat(cb::$GATETYPE{N, MT}) where {N, MT}\n",
    "        $MATFUNC(MT, N, cb.ibit)\n",
    "    end\n",
    "end\n",
    "blocks(rb::RepeatedBlock) = [rb.unit]"
   ]
  },
  {
   "cell_type": "code",
   "execution_count": null,
   "metadata": {},
   "outputs": [],
   "source": [
    "function mat(rb::RepeatedBlock{N, XGate{MT}}) where {N, MT}\n",
    "    rb\n",
    "end\n",
    "\n",
    "for (GATETYPE, MATFUNC) in zip([:XGate, :ZGate], [:cnotgate, :czgate])\n",
    "    @eval function mat(cb::RepeatedBlock{$GATETYPE, N, MT}) where {N, MT}\n",
    "        $MATFUNC(N, cb.cbit, cb.ibit)\n",
    "    end\n",
    "end"
   ]
  }
 ],
 "metadata": {
  "kernelspec": {
   "display_name": "Julia 0.6.0",
   "language": "julia",
   "name": "julia-0.6"
  },
  "language_info": {
   "file_extension": ".jl",
   "mimetype": "application/julia",
   "name": "julia",
   "version": "0.6.0"
  }
 },
 "nbformat": 4,
 "nbformat_minor": 2
}
