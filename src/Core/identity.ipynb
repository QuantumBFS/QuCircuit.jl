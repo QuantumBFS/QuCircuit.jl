{
 "cells": [
  {
   "cell_type": "code",
   "execution_count": 1,
   "metadata": {},
   "outputs": [
    {
     "data": {
      "text/plain": [
       "println (generic function with 4 methods)"
      ]
     },
     "execution_count": 1,
     "metadata": {},
     "output_type": "execute_result"
    }
   ],
   "source": [
    "import Base: getindex, size, println\n",
    "function println(x)\n",
    "    show(STDOUT, \"text/plain\", x)\n",
    "    print(\"\\n\")\n",
    "end"
   ]
  },
  {
   "cell_type": "code",
   "execution_count": 2,
   "metadata": {},
   "outputs": [
    {
     "data": {
      "text/plain": [
       "getindex (generic function with 185 methods)"
      ]
     },
     "execution_count": 2,
     "metadata": {},
     "output_type": "execute_result"
    }
   ],
   "source": [
    "struct Identity{Tv} <: AbstractMatrix{Tv}\n",
    "    n::Int\n",
    "end\n",
    "Identity(n::Int) = Identity{Int}(n)\n",
    "\n",
    "size(A::Identity, i::Int) = A.n\n",
    "size(A::Identity) = (A.n, A.n)\n",
    "getindex(A::Identity{T}, i::Integer, j::Integer) where T = T(i==j)"
   ]
  },
  {
   "cell_type": "code",
   "execution_count": 3,
   "metadata": {},
   "outputs": [
    {
     "data": {
      "text/plain": [
       "4×4 Identity{Float64}:\n",
       " 1.0  0.0  0.0  0.0\n",
       " 0.0  1.0  0.0  0.0\n",
       " 0.0  0.0  1.0  0.0\n",
       " 0.0  0.0  0.0  1.0"
      ]
     },
     "execution_count": 3,
     "metadata": {},
     "output_type": "execute_result"
    }
   ],
   "source": [
    "id = Identity{Float64}(4)"
   ]
  },
  {
   "cell_type": "code",
   "execution_count": 4,
   "metadata": {},
   "outputs": [
    {
     "data": {
      "text/plain": [
       "full (generic function with 25 methods)"
      ]
     },
     "execution_count": 4,
     "metadata": {},
     "output_type": "execute_result"
    }
   ],
   "source": [
    "import Base: sparse, full\n",
    "sparse(A::Identity{T}) where T = speye(T, A.n)\n",
    "full(A::Identity{T}) where T = eye(T, A.n)"
   ]
  },
  {
   "cell_type": "code",
   "execution_count": 5,
   "metadata": {},
   "outputs": [],
   "source": [
    "import Base: transpose, conj, copy, real, imag, ctranspose\n",
    "for func in (:conj, :real, :imag, :ctranspose, :transpose, :copy)\n",
    "    @eval ($func)(M::Identity{T}) where T = Identity{T}(M.n)\n",
    "end"
   ]
  },
  {
   "cell_type": "code",
   "execution_count": 6,
   "metadata": {},
   "outputs": [
    {
     "data": {
      "text/plain": [
       "== (generic function with 127 methods)"
      ]
     },
     "execution_count": 6,
     "metadata": {},
     "output_type": "execute_result"
    }
   ],
   "source": [
    "import Base: *, /, ==\n",
    "*(A::Identity{T}, B::Number) where T = Diagonal(fill(promote_type(T, eltype(B))(B), A.n))\n",
    "*(B::Number, A::Identity{T}) where T = Diagonal(fill(promote_type(T, eltype(B))(B), A.n))\n",
    "/(A::Identity{T}, B::Number) where T = Diagonal(fill(promote_type(T, eltype(B))(1/B), A.n))\n",
    "==(A::Identity, B::Identity) = A.n == B.n"
   ]
  },
  {
   "cell_type": "code",
   "execution_count": 7,
   "metadata": {},
   "outputs": [
    {
     "name": "stdout",
     "output_type": "stream",
     "text": [
      "4×4 Diagonal{Complex{Float64}}:\n",
      " 0.0+2.0im      ⋅          ⋅          ⋅    \n",
      "     ⋅      0.0+2.0im      ⋅          ⋅    \n",
      "     ⋅          ⋅      0.0+2.0im      ⋅    \n",
      "     ⋅          ⋅          ⋅      0.0+2.0im\n",
      "4×4 Diagonal{Float64}:\n",
      " 2.0   ⋅    ⋅    ⋅ \n",
      "  ⋅   2.0   ⋅    ⋅ \n",
      "  ⋅    ⋅   2.0   ⋅ \n",
      "  ⋅    ⋅    ⋅   2.0\n",
      "4×4 Diagonal{Complex{Float64}}:\n",
      " 0.0-0.333333im      ⋅               ⋅               ⋅         \n",
      "     ⋅           0.0-0.333333im      ⋅               ⋅         \n",
      "     ⋅               ⋅           0.0-0.333333im      ⋅         \n",
      "     ⋅               ⋅               ⋅           0.0-0.333333im\n",
      "true\n"
     ]
    }
   ],
   "source": [
    "println(id*2im)\n",
    "println(2*id)\n",
    "println(id/3im)\n",
    "println(id==id)"
   ]
  },
  {
   "cell_type": "code",
   "execution_count": 8,
   "metadata": {},
   "outputs": [
    {
     "data": {
      "text/plain": [
       "inv (generic function with 28 methods)"
      ]
     },
     "execution_count": 8,
     "metadata": {},
     "output_type": "execute_result"
    }
   ],
   "source": [
    "import Base: nnz, nonzeros, inv\n",
    "nnz(M::Identity) = M.n\n",
    "nonzeros(M::Identity{T}) where T = ones(T, M.n)\n",
    "inv(M::Identity) = M"
   ]
  },
  {
   "cell_type": "code",
   "execution_count": 9,
   "metadata": {},
   "outputs": [
    {
     "name": "stdout",
     "output_type": "stream",
     "text": [
      "4\n",
      "4-element Array{Float64,1}:\n",
      " 1.0\n",
      " 1.0\n",
      " 1.0\n",
      " 1.0\n",
      "4×4 Identity{Float64}:\n",
      " 1.0  0.0  0.0  0.0\n",
      " 0.0  1.0  0.0  0.0\n",
      " 0.0  0.0  1.0  0.0\n",
      " 0.0  0.0  0.0  1.0\n"
     ]
    }
   ],
   "source": [
    "println(nnz(id))\n",
    "println(nonzeros(id))\n",
    "println(inv(id))"
   ]
  },
  {
   "cell_type": "code",
   "execution_count": 26,
   "metadata": {},
   "outputs": [
    {
     "data": {
      "text/plain": [
       "* (generic function with 191 methods)"
      ]
     },
     "execution_count": 26,
     "metadata": {},
     "output_type": "execute_result"
    }
   ],
   "source": [
    "####### multiply ###########\n",
    "Mats = Union{SparseMatrixCSC, StridedVecOrMat}\n",
    "function (*)(A::Identity, B::Mats)\n",
    "    size(A, 2) == size(B, 1) || throw(DimensionMismatch())\n",
    "    B\n",
    "end\n",
    "function (*)(A::Mats, B::Identity)\n",
    "    size(A, ndims(A)) == size(B, 1) || throw(DimensionMismatch())\n",
    "    A\n",
    "end\n",
    "#### why can not take a union here?\n",
    "function (*)(A::Identity, B::Diagonal)\n",
    "    size(A, 2) == size(B, 1) || throw(DimensionMismatch())\n",
    "    B\n",
    "end\n",
    "function (*)(A::Diagonal, B::Identity)\n",
    "    size(A, ndims(A)) == size(B, 1) || throw(DimensionMismatch())\n",
    "    A\n",
    "end\n",
    "function (*)(A::Identity, B::Identity)\n",
    "    size(A, 2) == size(B, 1) || throw(DimensionMismatch())\n",
    "    B\n",
    "end"
   ]
  },
  {
   "cell_type": "code",
   "execution_count": 11,
   "metadata": {},
   "outputs": [
    {
     "data": {
      "text/plain": [
       "Identity"
      ]
     },
     "execution_count": 11,
     "metadata": {},
     "output_type": "execute_result"
    }
   ],
   "source": [
    "typeintersect(Identity, AbstractArray)"
   ]
  },
  {
   "cell_type": "code",
   "execution_count": 12,
   "metadata": {},
   "outputs": [
    {
     "data": {
      "text/plain": [
       "4×5 Array{Float64,2}:\n",
       " 0.0200548  0.280313  0.119009  0.7276    0.707122\n",
       " 0.412546   0.994307  0.981615  0.966783  0.679972\n",
       " 0.732867   0.450539  0.276721  0.571208  0.211329\n",
       " 0.376325   0.993609  0.662932  0.830309  0.234954"
      ]
     },
     "execution_count": 12,
     "metadata": {},
     "output_type": "execute_result"
    }
   ],
   "source": [
    "mat = rand(5,4)\n",
    "id*mat'"
   ]
  },
  {
   "cell_type": "code",
   "execution_count": 13,
   "metadata": {},
   "outputs": [
    {
     "data": {
      "text/plain": [
       "adddiag! (generic function with 1 method)"
      ]
     },
     "execution_count": 13,
     "metadata": {},
     "output_type": "execute_result"
    }
   ],
   "source": [
    "function setdiag!(A::AbstractMatrix, B::Number)\n",
    "    n = size(A, 1)\n",
    "    A[1:n+1:end] = B\n",
    "    A\n",
    "end\n",
    "function adddiag!(A::AbstractMatrix, B::Number)\n",
    "    n = size(A, 1)\n",
    "    A[1:n+1:end] += B\n",
    "    A\n",
    "end"
   ]
  },
  {
   "cell_type": "code",
   "execution_count": 14,
   "metadata": {},
   "outputs": [
    {
     "ename": "LoadError",
     "evalue": "\u001b[91mUndefVarError: offsetdiag! not defined\u001b[39m",
     "output_type": "error",
     "traceback": [
      "\u001b[91mUndefVarError: offsetdiag! not defined\u001b[39m",
      ""
     ]
    }
   ],
   "source": [
    "A = rand(4,4)\n",
    "offsetdiag!(A, 3)\n",
    "A"
   ]
  },
  {
   "cell_type": "code",
   "execution_count": 15,
   "metadata": {},
   "outputs": [
    {
     "data": {
      "text/plain": [
       "kron (generic function with 16 methods)"
      ]
     },
     "execution_count": 15,
     "metadata": {},
     "output_type": "execute_result"
    }
   ],
   "source": [
    "import Base: kron\n",
    "\n",
    "kron(A::Identity{Ta}, B::Identity{Tb}) where {Ta, Tb}= Identity{promote_type(Ta, Tb)}(A.n*B.n)\n",
    "\n",
    "function kron(A::AbstractMatrix{Tv}, B::Identity) where Tv\n",
    "    mA, nA = size(A)\n",
    "    nB = B.n\n",
    "    C = zeros(Tv, mA*nB, nA*nB)\n",
    "    @inbounds for j = 1:nA\n",
    "        for i = 1:mA\n",
    "            val = A[i,j]\n",
    "            @inbounds @simd for k = 1:nB\n",
    "                C[(i-1)*nB+k, (j-1)*nB+k] = val\n",
    "            end\n",
    "        end\n",
    "    end\n",
    "    C\n",
    "end\n",
    "function kron(A::Identity, B::AbstractMatrix{Tv}) where Tv\n",
    "    mB, nB = size(B)\n",
    "    nA = A.n\n",
    "    C = zeros(Tv, mB*nA, nB*nA)\n",
    "    @inbounds @simd for i = 1:nA\n",
    "        C[(i-1)*mB+1:i*mB, (i-1)*nB+1:i*nB] = B\n",
    "    end\n",
    "    C\n",
    "end"
   ]
  },
  {
   "cell_type": "code",
   "execution_count": 16,
   "metadata": {},
   "outputs": [
    {
     "data": {
      "text/plain": [
       "BenchmarkTools.Trial: \n",
       "  memory estimate:  4.45 KiB\n",
       "  allocs estimate:  3\n",
       "  --------------\n",
       "  minimum time:     1.611 μs (0.00% GC)\n",
       "  median time:      1.750 μs (0.00% GC)\n",
       "  mean time:        2.069 μs (12.29% GC)\n",
       "  maximum time:     184.557 μs (93.45% GC)\n",
       "  --------------\n",
       "  samples:          10000\n",
       "  evals/sample:     10"
      ]
     },
     "execution_count": 16,
     "metadata": {},
     "output_type": "execute_result"
    }
   ],
   "source": [
    "using BenchmarkTools\n",
    "@benchmark kron(A, id) == kron(A, full(id))"
   ]
  },
  {
   "cell_type": "code",
   "execution_count": 17,
   "metadata": {},
   "outputs": [
    {
     "data": {
      "text/plain": [
       "BenchmarkTools.Trial: \n",
       "  memory estimate:  4.70 KiB\n",
       "  allocs estimate:  11\n",
       "  --------------\n",
       "  minimum time:     1.785 μs (0.00% GC)\n",
       "  median time:      1.911 μs (0.00% GC)\n",
       "  mean time:        2.221 μs (12.19% GC)\n",
       "  maximum time:     177.861 μs (93.35% GC)\n",
       "  --------------\n",
       "  samples:          10000\n",
       "  evals/sample:     10"
      ]
     },
     "execution_count": 17,
     "metadata": {},
     "output_type": "execute_result"
    }
   ],
   "source": [
    "@benchmark kron(id, A) == kron(full(id), A)"
   ]
  },
  {
   "cell_type": "code",
   "execution_count": 129,
   "metadata": {},
   "outputs": [
    {
     "data": {
      "text/plain": [
       "kron (generic function with 24 methods)"
      ]
     },
     "execution_count": 129,
     "metadata": {},
     "output_type": "execute_result"
    }
   ],
   "source": [
    "function kron(A::Identity, B::SparseMatrixCSC)\n",
    "    nA = A.n\n",
    "    mB, nB = size(B)\n",
    "    nV = nnz(B)\n",
    "    nzval = repeat(B.nzval, outer=nA)\n",
    "    rowval = vcat([B.rowval+(i-1)*mB for i in 1:nA]...)\n",
    "    colptr = vcat([B.colptr[(i==1?1:2):end]+(i-1)*nV for i in 1:nA]...)\n",
    "    SparseMatrixCSC(mB*nA, nB*nA, colptr, rowval, nzval)\n",
    "end\n",
    "function kron(A::SparseMatrixCSC{T}, B::Identity) where T\n",
    "    nB = B.n\n",
    "    mA, nA = size(A)\n",
    "    nV = nnz(A)\n",
    "    #rowval = reshape(hcat([A.rowval+(i-1)*nB for i in 1:nB]...), nB*nV)\n",
    "    #rowval = vcat([(r-1)*nB+1:r*nB for r in A.rowval]...)\n",
    "    rowval = Vector{Int}(nB*nV)\n",
    "    nzval = Vector{T}(nB*nV)\n",
    "    z=0\n",
    "    @inbounds for i in 1:nA\n",
    "        rstart = A.colptr[i]\n",
    "        rend = A.colptr[i+1]-1\n",
    "        row = A.rowval[rstart:rend]\n",
    "        nzv = A.nzval[rstart:rend]\n",
    "        nrow = length(row)\n",
    "        @inbounds @simd for k in 1:nB\n",
    "            rowval[z+1:z+nrow] = (row-1)*nB+k\n",
    "            nzval[z+1:z+nrow] = nzv\n",
    "            z+=nrow\n",
    "        end\n",
    "    end\n",
    "    nl = diff(A.colptr)\n",
    "    colptr = prepend!(cumsum(repeat(nl, inner=nB))+1, 1)\n",
    "    #println(nzval)\n",
    "    #println(rowval)\n",
    "    #println(colptr)\n",
    "    SparseMatrixCSC(mA*nB, nA*nB, colptr, rowval, nzval)\n",
    "end"
   ]
  },
  {
   "cell_type": "code",
   "execution_count": 130,
   "metadata": {
    "scrolled": true
   },
   "outputs": [
    {
     "name": "stdout",
     "output_type": "stream",
     "text": [
      "5-element Array{Int64,1}:\n",
      " 1\n",
      " 1\n",
      " 1\n",
      " 2\n",
      " 2\n",
      "1-element Array{Int64,1}:\n",
      " 2\n"
     ]
    }
   ],
   "source": [
    "sa = sprand(4,4,0.2)\n",
    "println(sa.colptr)\n",
    "println(sa.rowval)"
   ]
  },
  {
   "cell_type": "code",
   "execution_count": 131,
   "metadata": {},
   "outputs": [
    {
     "name": "stdout",
     "output_type": "stream",
     "text": [
      "true\n"
     ]
    }
   ],
   "source": [
    "println(kron(id, sa) == kron(id, full(sa)))"
   ]
  },
  {
   "cell_type": "code",
   "execution_count": 132,
   "metadata": {},
   "outputs": [
    {
     "name": "stdout",
     "output_type": "stream",
     "text": [
      "4×16 Array{Float64,2}:\n",
      " 0.0  0.0  0.0  0.0  0.0  0.0  0.0  0.0  0.0  0.0  0.0  0.0  0.0  0.0  0.0  0.0\n",
      " 0.0  0.0  0.0  0.0  0.0  0.0  0.0  0.0  0.0  0.0  0.0  0.0  0.0  0.0  0.0  0.0\n",
      " 0.0  0.0  0.0  0.0  0.0  0.0  0.0  0.0  0.0  0.0  0.0  0.0  0.0  0.0  0.0  0.0\n",
      " 0.0  0.0  0.0  0.0  0.0  0.0  0.0  0.0  0.0  0.0  0.0  0.0  0.0  0.0  0.0  0.0\n"
     ]
    }
   ],
   "source": [
    "println(full(kron(sa, id))[1:4,:])"
   ]
  },
  {
   "cell_type": "code",
   "execution_count": 133,
   "metadata": {},
   "outputs": [
    {
     "data": {
      "text/plain": [
       "true"
      ]
     },
     "execution_count": 133,
     "metadata": {},
     "output_type": "execute_result"
    }
   ],
   "source": [
    "kron(full(sa), id) == full(kron(sa, id))"
   ]
  },
  {
   "cell_type": "code",
   "execution_count": 134,
   "metadata": {},
   "outputs": [
    {
     "data": {
      "text/plain": [
       "4×4 Diagonal{Complex{Float64}}:\n",
       " 0.5+0.0im      ⋅          ⋅          ⋅    \n",
       "     ⋅      0.0+0.3im      ⋅          ⋅    \n",
       "     ⋅          ⋅      0.2+0.0im      ⋅    \n",
       "     ⋅          ⋅          ⋅      1.0+0.0im"
      ]
     },
     "execution_count": 134,
     "metadata": {},
     "output_type": "execute_result"
    }
   ],
   "source": [
    "p1 = Identity(4)\n",
    "p2 = sprand(Complex128, 4,4, 0.5)\n",
    "p3 = rand(Complex128, 4,4)\n",
    "v = [0.5, 0.3im, 0.2, 1.0]\n",
    "Dv = Diagonal(v)"
   ]
  },
  {
   "cell_type": "code",
   "execution_count": 135,
   "metadata": {},
   "outputs": [
    {
     "name": "stdout",
     "output_type": "stream",
     "text": [
      "Identity{Int64}Identity{Int64}\n",
      "true\n",
      "true\n",
      "Identity{Int64}Identity{Int64}Identity{Int64}\n",
      "true\n",
      "SparseMatrixCSC{Complex{Float64},Int64}SparseMatrixCSC{Complex{Float64},Int64}\n",
      "true\n",
      "false\n",
      "SparseMatrixCSC{Complex{Float64},Int64}SparseMatrixCSC{Complex{Float64},Int64}SparseMatrixCSC{Complex{Float64},Int64}\n",
      "true\n",
      "Array{Complex{Float64},2}Array{Complex{Float64},2}\n",
      "true\n",
      "false\n",
      "Array{Complex{Float64},2}Array{Complex{Float64},2}Array{Complex{Float64},2}\n",
      "true\n",
      "Diagonal{Complex{Float64}}Diagonal{Complex{Float64}}\n",
      "true\n",
      "false\n",
      "Diagonal{Complex{Float64}}Diagonal{Complex{Float64}}Diagonal{Complex{Float64}}\n",
      "true\n"
     ]
    }
   ],
   "source": [
    "for target in [p1, p2, p3, Dv]\n",
    "    lres = p1*target\n",
    "    rres = (target')*p1\n",
    "    println(typeof(lres), typeof(rres))\n",
    "    println(lres == target)\n",
    "    println(rres == target')\n",
    "    println(typeof(target), typeof(lres), typeof(rres))\n",
    "    println(typeof(lres) == typeof(target) == typeof(rres))\n",
    "end"
   ]
  },
  {
   "cell_type": "code",
   "execution_count": 136,
   "metadata": {
    "collapsed": true
   },
   "outputs": [],
   "source": [
    "# see the definition of diagonal"
   ]
  },
  {
   "cell_type": "code",
   "execution_count": 137,
   "metadata": {},
   "outputs": [
    {
     "data": {
      "text/plain": [
       "kron (generic function with 24 methods)"
      ]
     },
     "execution_count": 137,
     "metadata": {},
     "output_type": "execute_result"
    }
   ],
   "source": [
    "kron(A::Identity, B::Diagonal{Tb}) where Tb = Diagonal{Tb}(repeat(B.diag, outer=A.n))\n",
    "kron(B::Diagonal{Tb}, A::Identity) where Tb = Diagonal{Tb}(repeat(B.diag, inner=A.n))"
   ]
  },
  {
   "cell_type": "code",
   "execution_count": 138,
   "metadata": {},
   "outputs": [
    {
     "data": {
      "text/plain": [
       "12×12 Diagonal{Int64}:\n",
       " 1  ⋅  ⋅  ⋅  ⋅  ⋅  ⋅  ⋅  ⋅  ⋅  ⋅  ⋅\n",
       " ⋅  1  ⋅  ⋅  ⋅  ⋅  ⋅  ⋅  ⋅  ⋅  ⋅  ⋅\n",
       " ⋅  ⋅  1  ⋅  ⋅  ⋅  ⋅  ⋅  ⋅  ⋅  ⋅  ⋅\n",
       " ⋅  ⋅  ⋅  1  ⋅  ⋅  ⋅  ⋅  ⋅  ⋅  ⋅  ⋅\n",
       " ⋅  ⋅  ⋅  ⋅  2  ⋅  ⋅  ⋅  ⋅  ⋅  ⋅  ⋅\n",
       " ⋅  ⋅  ⋅  ⋅  ⋅  2  ⋅  ⋅  ⋅  ⋅  ⋅  ⋅\n",
       " ⋅  ⋅  ⋅  ⋅  ⋅  ⋅  2  ⋅  ⋅  ⋅  ⋅  ⋅\n",
       " ⋅  ⋅  ⋅  ⋅  ⋅  ⋅  ⋅  2  ⋅  ⋅  ⋅  ⋅\n",
       " ⋅  ⋅  ⋅  ⋅  ⋅  ⋅  ⋅  ⋅  3  ⋅  ⋅  ⋅\n",
       " ⋅  ⋅  ⋅  ⋅  ⋅  ⋅  ⋅  ⋅  ⋅  3  ⋅  ⋅\n",
       " ⋅  ⋅  ⋅  ⋅  ⋅  ⋅  ⋅  ⋅  ⋅  ⋅  3  ⋅\n",
       " ⋅  ⋅  ⋅  ⋅  ⋅  ⋅  ⋅  ⋅  ⋅  ⋅  ⋅  3"
      ]
     },
     "execution_count": 138,
     "metadata": {},
     "output_type": "execute_result"
    }
   ],
   "source": [
    "d = Diagonal([1,2,3])\n",
    "kron(d, p1)"
   ]
  },
  {
   "cell_type": "code",
   "execution_count": 139,
   "metadata": {},
   "outputs": [
    {
     "data": {
      "text/plain": [
       "kron (generic function with 24 methods)"
      ]
     },
     "execution_count": 139,
     "metadata": {},
     "output_type": "execute_result"
    }
   ],
   "source": [
    "####### diagonal kron ########\n",
    "function kron(A::StridedMatrix{Tv}, B::Diagonal{Tb}) where {Tv, Tb}\n",
    "    mA, nA = size(A)\n",
    "    nB = size(B, 1)\n",
    "    C = zeros(promote_type(Tv, Tb), mA*nB, nA*nB)\n",
    "    @inbounds for j = 1:nA\n",
    "        for i = 1:mA\n",
    "            val = A[i,j]\n",
    "            @inbounds @simd for k = 1:nB\n",
    "                C[(i-1)*nB+k, (j-1)*nB+k] = val*B.diag[k]  # merge\n",
    "            end\n",
    "        end\n",
    "    end\n",
    "    C\n",
    "end\n",
    "\n",
    "function kron(A::Diagonal{Ta}, B::StridedMatrix{Tv}) where {Tv, Ta}\n",
    "    mB, nB = size(B)\n",
    "    nA = size(A, 1)\n",
    "    C = zeros(promote_type(Tv, Ta), mB*nA, nB*nA)\n",
    "    @inbounds @simd for i = 1:nA\n",
    "        C[(i-1)*mB+1:i*mB, (i-1)*nB+1:i*nB] = B*A.diag[i]\n",
    "    end\n",
    "    C\n",
    "end"
   ]
  },
  {
   "cell_type": "code",
   "execution_count": 140,
   "metadata": {},
   "outputs": [
    {
     "name": "stdout",
     "output_type": "stream",
     "text": [
      "true\n",
      "true\n"
     ]
    }
   ],
   "source": [
    "ds = rand(3,3)\n",
    "println(kron(d, ds)==kron(full(d), ds))\n",
    "println(kron(ds, d)==kron(ds, full(d)))"
   ]
  },
  {
   "cell_type": "code",
   "execution_count": 141,
   "metadata": {},
   "outputs": [
    {
     "data": {
      "text/plain": [
       "kron (generic function with 24 methods)"
      ]
     },
     "execution_count": 141,
     "metadata": {},
     "output_type": "execute_result"
    }
   ],
   "source": [
    "function kron(A::Diagonal, B::SparseMatrixCSC)\n",
    "    nA = size(A, 1)\n",
    "    mB, nB = size(B)\n",
    "    nV = nnz(B)\n",
    "    nzval = vcat([B.nzval*A.diag[i] for i in 1:nA]...)\n",
    "    rowval = vcat([B.rowval+(i-1)*mB for i in 1:nA]...)\n",
    "    colptr = vcat([B.colptr[(i==1?1:2):end]+(i-1)*nV for i in 1:nA]...)\n",
    "    SparseMatrixCSC(mB*nA, nB*nA, colptr, rowval, nzval)\n",
    "end\n",
    "\n",
    "function kron(A::SparseMatrixCSC{T}, B::Diagonal{Tb}) where {T, Tb}\n",
    "    nB = size(B, 1)\n",
    "    mA, nA = size(A)\n",
    "    nV = nnz(A)\n",
    "    rowval = Vector{Int}(nB*nV)\n",
    "    nzval = Vector{promote_type(T, Tb)}(nB*nV)\n",
    "    z=0\n",
    "    @inbounds for i in 1:nA\n",
    "        rstart = A.colptr[i]\n",
    "        rend = A.colptr[i+1]-1\n",
    "        row = A.rowval[rstart:rend]\n",
    "        nzv = A.nzval[rstart:rend]\n",
    "        nrow = length(row)\n",
    "        @inbounds @simd for k in 1:nB\n",
    "            rowval[z+1:z+nrow] = (row-1)*nB+k\n",
    "            nzval[z+1:z+nrow] = nzv*B.diag[k]\n",
    "            z+=nrow\n",
    "        end\n",
    "    end\n",
    "    nl = diff(A.colptr)\n",
    "    colptr = prepend!(cumsum(repeat(nl, inner=nB))+1, 1)\n",
    "    SparseMatrixCSC(mA*nB, nA*nB, colptr, rowval, nzval)\n",
    "end"
   ]
  },
  {
   "cell_type": "code",
   "execution_count": 142,
   "metadata": {},
   "outputs": [
    {
     "data": {
      "text/plain": [
       "true"
      ]
     },
     "execution_count": 142,
     "metadata": {},
     "output_type": "execute_result"
    }
   ],
   "source": [
    "kron(d, p2) == kron(full(d), p2)"
   ]
  },
  {
   "cell_type": "code",
   "execution_count": 143,
   "metadata": {},
   "outputs": [
    {
     "data": {
      "text/plain": [
       "true"
      ]
     },
     "execution_count": 143,
     "metadata": {},
     "output_type": "execute_result"
    }
   ],
   "source": [
    "full(kron(p2, d)) == kron(full(p2), full(d))"
   ]
  },
  {
   "cell_type": "code",
   "execution_count": 144,
   "metadata": {},
   "outputs": [
    {
     "data": {
      "text/plain": [
       "true"
      ]
     },
     "execution_count": 144,
     "metadata": {},
     "output_type": "execute_result"
    }
   ],
   "source": [
    "kron(p2, d) == kron(full(p2), full(d))"
   ]
  },
  {
   "cell_type": "code",
   "execution_count": null,
   "metadata": {
    "collapsed": true
   },
   "outputs": [],
   "source": []
  }
 ],
 "metadata": {
  "kernelspec": {
   "display_name": "Julia 0.6.0",
   "language": "julia",
   "name": "julia-0.6"
  },
  "language_info": {
   "file_extension": ".jl",
   "mimetype": "application/julia",
   "name": "julia",
   "version": "0.6.0"
  }
 },
 "nbformat": 4,
 "nbformat_minor": 2
}
