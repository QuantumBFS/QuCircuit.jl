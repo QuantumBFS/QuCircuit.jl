{
 "cells": [
  {
   "cell_type": "code",
   "execution_count": 7,
   "metadata": {},
   "outputs": [
    {
     "name": "stderr",
     "output_type": "stream",
     "text": [
      "\u001b[1m\u001b[33mWARNING: \u001b[39m\u001b[22m\u001b[33mreplacing docs for 'BInt :: Union{}' in module 'Main'.\u001b[39m\n",
      "\u001b[1m\u001b[33mWARNING: \u001b[39m\u001b[22m\u001b[33mreplacing docs for '_subspace :: Tuple{Int64,Array{Int64,1},Int64}' in module 'Main'.\u001b[39m\n",
      "\u001b[1m\u001b[33mWARNING: \u001b[39m\u001b[22m\u001b[33mreplacing docs for 'PermuteMultiply :: Union{}' in module 'Main'.\u001b[39m\n"
     ]
    },
    {
     "data": {
      "text/plain": [
       "zgate (generic function with 1 method)"
      ]
     },
     "execution_count": 7,
     "metadata": {},
     "output_type": "execute_result"
    }
   ],
   "source": [
    "include(\"basis.jl\")\n",
    "include(\"permmul.jl\")\n",
    "\n",
    "function xgate(bits::Ints, basis::Vector{DInt})\n",
    "    norder = flip(basis, bits)\n",
    "    PermuteMultiply(norder+1, ones(length(basis)))\n",
    "end\n",
    "\n",
    "function ygate(bits::Int, basis::Vector{DInt})\n",
    "    norder = flip(basis, bits)\n",
    "    #vals = [b -> im^reduce(+,2*takebit(b, bits)-1) for b in basis]\n",
    "    vals = mapreduce(bit->im*(2*takebit(basis, bit)-1), .*, bits)\n",
    "    #vals = mapreduce(bit->takebit(basis, bit)?im:-im, .*, bits)\n",
    "    PermuteMultiply(norder+1, vals)\n",
    "end\n",
    "\n",
    "function zgate(bits::Ints, basis::Vector{DInt})\n",
    "    vals = mapreduce(bit->(-1)^(2*takebit(basis, bit)-1), .*, bits)\n",
    "    PermuteMultiply(basis+1, vals)\n",
    "end"
   ]
  },
  {
   "cell_type": "code",
   "execution_count": 10,
   "metadata": {},
   "outputs": [
    {
     "ename": "LoadError",
     "evalue": "\u001b[91mMethodError: no method matching ^(::Int64, ::Array{Int64,1})\u001b[0m\nClosest candidates are:\n  ^(::Integer, \u001b[91m::Bool\u001b[39m) at bool.jl:93\n  ^(::Number, \u001b[91m::Rational\u001b[39m) at rational.jl:423\n  ^(::Integer, \u001b[91m::BigInt\u001b[39m) at gmp.jl:483\n  ...\u001b[39m",
     "output_type": "error",
     "traceback": [
      "\u001b[91mMethodError: no method matching ^(::Int64, ::Array{Int64,1})\u001b[0m\nClosest candidates are:\n  ^(::Integer, \u001b[91m::Bool\u001b[39m) at bool.jl:93\n  ^(::Number, \u001b[91m::Rational\u001b[39m) at rational.jl:423\n  ^(::Integer, \u001b[91m::BigInt\u001b[39m) at gmp.jl:483\n  ...\u001b[39m",
      "",
      "Stacktrace:",
      " [1] \u001b[1mzgate\u001b[22m\u001b[22m\u001b[1m(\u001b[22m\u001b[22m::Int64, ::Array{Int64,1}\u001b[1m)\u001b[22m\u001b[22m at \u001b[1m./In[7]:18\u001b[22m\u001b[22m"
     ]
    }
   ],
   "source": [
    "zgate(1, basis(1))"
   ]
  },
  {
   "cell_type": "code",
   "execution_count": null,
   "metadata": {
    "collapsed": true
   },
   "outputs": [],
   "source": []
  }
 ],
 "metadata": {
  "kernelspec": {
   "display_name": "Julia 0.6.0",
   "language": "julia",
   "name": "julia-0.6"
  },
  "language_info": {
   "file_extension": ".jl",
   "mimetype": "application/julia",
   "name": "julia",
   "version": "0.6.0"
  }
 },
 "nbformat": 4,
 "nbformat_minor": 2
}
