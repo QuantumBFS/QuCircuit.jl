{
 "cells": [
  {
   "cell_type": "code",
   "execution_count": 2,
   "metadata": {},
   "outputs": [
    {
     "data": {
      "text/plain": [
       "println (generic function with 4 methods)"
      ]
     },
     "execution_count": 2,
     "metadata": {},
     "output_type": "execute_result"
    }
   ],
   "source": [
    "import Base: getindex, size, println\n",
    "function println(x)\n",
    "    show(STDOUT, \"text/plain\", x)\n",
    "    print(\"\\n\")\n",
    "end"
   ]
  },
  {
   "cell_type": "code",
   "execution_count": 3,
   "metadata": {},
   "outputs": [
    {
     "data": {
      "text/plain": [
       "getindex (generic function with 185 methods)"
      ]
     },
     "execution_count": 3,
     "metadata": {},
     "output_type": "execute_result"
    }
   ],
   "source": [
    "struct Identity{Tv} <: AbstractMatrix{Tv}\n",
    "    n::Int\n",
    "end\n",
    "Identity(n::Int) = Identity{Int}(n)\n",
    "\n",
    "size(A::Identity, i::Int) = A.n\n",
    "size(A::Identity) = (A.n, A.n)\n",
    "getindex(A::Identity{T}, i::Integer, j::Integer) where T = T(i==j)"
   ]
  },
  {
   "cell_type": "code",
   "execution_count": 133,
   "metadata": {},
   "outputs": [
    {
     "data": {
      "text/plain": [
       "4×4 Identity{Float64}:\n",
       " 1.0  0.0  0.0  0.0\n",
       " 0.0  1.0  0.0  0.0\n",
       " 0.0  0.0  1.0  0.0\n",
       " 0.0  0.0  0.0  1.0"
      ]
     },
     "execution_count": 133,
     "metadata": {},
     "output_type": "execute_result"
    }
   ],
   "source": [
    "id = Identity{Float64}(4)"
   ]
  },
  {
   "cell_type": "code",
   "execution_count": 5,
   "metadata": {},
   "outputs": [
    {
     "data": {
      "text/plain": [
       "full (generic function with 25 methods)"
      ]
     },
     "execution_count": 5,
     "metadata": {},
     "output_type": "execute_result"
    }
   ],
   "source": [
    "import Base: sparse, full\n",
    "sparse(A::Identity{T}) where T = speye(T, A.n)\n",
    "full(A::Identity{T}) where T = eye(T, A.n)"
   ]
  },
  {
   "cell_type": "code",
   "execution_count": 6,
   "metadata": {
    "collapsed": true
   },
   "outputs": [],
   "source": [
    "import Base: transpose, conj, copy, real, imag, ctranspose, kron\n",
    "for func in (:conj, :real, :imag, :ctranspose, :transpose, :copy)\n",
    "    @eval ($func)(M::Identity{T}) where T = Identity{T}(M.n)\n",
    "end"
   ]
  },
  {
   "cell_type": "code",
   "execution_count": 7,
   "metadata": {},
   "outputs": [
    {
     "data": {
      "text/plain": [
       "== (generic function with 127 methods)"
      ]
     },
     "execution_count": 7,
     "metadata": {},
     "output_type": "execute_result"
    }
   ],
   "source": [
    "import Base: *, /, ==\n",
    "*(A::Identity{T}, B::Number) where T = Diagonal(fill(promote_type(T, eltype(B))(B), A.n))\n",
    "*(B::Number, A::Identity{T}) where T = Diagonal(fill(promote_type(T, eltype(B))(B), A.n))\n",
    "/(A::Identity{T}, B::Number) where T = Diagonal(fill(promote_type(T, eltype(B))(1/B), A.n))\n",
    "==(A::Identity, B::Identity) = A.n == B.n"
   ]
  },
  {
   "cell_type": "code",
   "execution_count": 8,
   "metadata": {},
   "outputs": [
    {
     "name": "stdout",
     "output_type": "stream",
     "text": [
      "4×4 Diagonal{Complex{Float64}}:\n",
      " 0.0+2.0im      ⋅          ⋅          ⋅    \n",
      "     ⋅      0.0+2.0im      ⋅          ⋅    \n",
      "     ⋅          ⋅      0.0+2.0im      ⋅    \n",
      "     ⋅          ⋅          ⋅      0.0+2.0im\n",
      "4×4 Diagonal{Float64}:\n",
      " 2.0   ⋅    ⋅    ⋅ \n",
      "  ⋅   2.0   ⋅    ⋅ \n",
      "  ⋅    ⋅   2.0   ⋅ \n",
      "  ⋅    ⋅    ⋅   2.0\n",
      "4×4 Diagonal{Complex{Float64}}:\n",
      " 0.0-0.333333im      ⋅               ⋅               ⋅         \n",
      "     ⋅           0.0-0.333333im      ⋅               ⋅         \n",
      "     ⋅               ⋅           0.0-0.333333im      ⋅         \n",
      "     ⋅               ⋅               ⋅           0.0-0.333333im\n",
      "true\n"
     ]
    }
   ],
   "source": [
    "println(id*2im)\n",
    "println(2*id)\n",
    "println(id/3im)\n",
    "println(id==id)"
   ]
  },
  {
   "cell_type": "code",
   "execution_count": 9,
   "metadata": {},
   "outputs": [
    {
     "data": {
      "text/plain": [
       "inv (generic function with 28 methods)"
      ]
     },
     "execution_count": 9,
     "metadata": {},
     "output_type": "execute_result"
    }
   ],
   "source": [
    "import Base: nnz, nonzeros, inv\n",
    "nnz(M::Identity) = M.n\n",
    "nonzeros(M::Identity{T}) where T = ones(T, M.n)\n",
    "inv(M::Identity) = M"
   ]
  },
  {
   "cell_type": "code",
   "execution_count": 10,
   "metadata": {},
   "outputs": [
    {
     "name": "stdout",
     "output_type": "stream",
     "text": [
      "4\n",
      "4-element Array{Float64,1}:\n",
      " 1.0\n",
      " 1.0\n",
      " 1.0\n",
      " 1.0\n",
      "4×4 Identity{Float64}:\n",
      " 1.0  0.0  0.0  0.0\n",
      " 0.0  1.0  0.0  0.0\n",
      " 0.0  0.0  1.0  0.0\n",
      " 0.0  0.0  0.0  1.0\n"
     ]
    }
   ],
   "source": [
    "println(nnz(id))\n",
    "println(nonzeros(id))\n",
    "println(inv(id))"
   ]
  },
  {
   "cell_type": "code",
   "execution_count": 11,
   "metadata": {},
   "outputs": [
    {
     "data": {
      "text/plain": [
       "* (generic function with 189 methods)"
      ]
     },
     "execution_count": 11,
     "metadata": {},
     "output_type": "execute_result"
    }
   ],
   "source": [
    "####### multiply ###########\n",
    "Mats = Union{SparseMatrixCSC, StridedVecOrMat}\n",
    "function (*)(A::Identity, B::Mats)\n",
    "    size(A, 2) == size(B, 1) || throw(DimensionMismatch())\n",
    "    B\n",
    "end\n",
    "function (*)(A::Mats, B::Identity)\n",
    "    size(A, ndims(A)) == size(B, 1) || throw(DimensionMismatch())\n",
    "    A\n",
    "end\n",
    "#### why can not take a union here?\n",
    "function (*)(A::Identity, B::Diagonal)\n",
    "    size(A, 2) == size(B, 1) || throw(DimensionMismatch())\n",
    "    B\n",
    "end\n",
    "function (*)(A::Diagonal, B::Identity)\n",
    "    size(A, ndims(A)) == size(B, 1) || throw(DimensionMismatch())\n",
    "    A\n",
    "end\n",
    "function (*)(A::Identity, B::Identity)\n",
    "    size(A, 2) == size(B, 1) || throw(DimensionMismatch())\n",
    "    B\n",
    "end"
   ]
  },
  {
   "cell_type": "code",
   "execution_count": 12,
   "metadata": {},
   "outputs": [
    {
     "data": {
      "text/plain": [
       "Identity"
      ]
     },
     "execution_count": 12,
     "metadata": {},
     "output_type": "execute_result"
    }
   ],
   "source": [
    "typeintersect(Identity, AbstractArray)"
   ]
  },
  {
   "cell_type": "code",
   "execution_count": 13,
   "metadata": {},
   "outputs": [
    {
     "data": {
      "text/plain": [
       "4×5 Array{Float64,2}:\n",
       " 0.786424  0.945411   0.58803   0.637621  0.558157\n",
       " 0.339167  0.400816   0.146227  0.647954  0.745609\n",
       " 0.901472  0.955759   0.392278  0.385646  0.413835\n",
       " 0.189123  0.0767857  0.24016   0.755861  0.277056"
      ]
     },
     "execution_count": 13,
     "metadata": {},
     "output_type": "execute_result"
    }
   ],
   "source": [
    "mat = rand(5,4)\n",
    "id*mat'"
   ]
  },
  {
   "cell_type": "code",
   "execution_count": 14,
   "metadata": {},
   "outputs": [
    {
     "data": {
      "text/plain": [
       "adddiag! (generic function with 1 method)"
      ]
     },
     "execution_count": 14,
     "metadata": {},
     "output_type": "execute_result"
    }
   ],
   "source": [
    "function setdiag!(A::AbstractMatrix, B::Number)\n",
    "    n = size(A, 1)\n",
    "    A[1:n+1:end] = B\n",
    "    A\n",
    "end\n",
    "function adddiag!(A::AbstractMatrix, B::Number)\n",
    "    n = size(A, 1)\n",
    "    A[1:n+1:end] += B\n",
    "    A\n",
    "end"
   ]
  },
  {
   "cell_type": "code",
   "execution_count": 15,
   "metadata": {},
   "outputs": [
    {
     "ename": "LoadError",
     "evalue": "\u001b[91mUndefVarError: offsetdiag! not defined\u001b[39m",
     "output_type": "error",
     "traceback": [
      "\u001b[91mUndefVarError: offsetdiag! not defined\u001b[39m",
      ""
     ]
    }
   ],
   "source": [
    "A = rand(4,4)\n",
    "offsetdiag!(A, 3)\n",
    "A"
   ]
  },
  {
   "cell_type": "code",
   "execution_count": 16,
   "metadata": {},
   "outputs": [
    {
     "data": {
      "text/plain": [
       "kron (generic function with 16 methods)"
      ]
     },
     "execution_count": 16,
     "metadata": {},
     "output_type": "execute_result"
    }
   ],
   "source": [
    "import Base: kron\n",
    "\n",
    "kron(A::Identity{Ta}, B::Identity{Tb}) where {Ta, Tb}= Identity{promote_type(Ta, Tb)}(A.n*B.n)\n",
    "\n",
    "function kron(A::AbstractMatrix{Tv}, B::Identity) where Tv\n",
    "    mA, nA = size(A)\n",
    "    nB = B.n\n",
    "    nzval = Vector{Tv}(nB*mA*nA)\n",
    "    rowval = Vector{Int}(nB*mA*nA)\n",
    "    colptr = collect(1:mA:nB*mA*nA+1)\n",
    "    @inbounds for j = 1:nA\n",
    "        source = A[:,j]\n",
    "        startbase = (j-1)*nB*mA - mA\n",
    "        @inbounds for j2 = 1:nB\n",
    "            start = startbase + j2*mA\n",
    "            row = j2-nB\n",
    "            @inbounds @simd for i = 1:mA\n",
    "                nzval[start+i] = source[i]\n",
    "                rowval[start+i] = row+nB*i\n",
    "            end\n",
    "        end\n",
    "    end\n",
    "    SparseMatrixCSC(mA*nB, nA*nB, colptr, rowval, nzval)\n",
    "end\n",
    "function kron(A::Identity, B::AbstractMatrix{Tv}) where Tv\n",
    "    nA = A.n\n",
    "    mB, nB = size(B)\n",
    "    rowval = Vector{Int}(nB*mB*nA)\n",
    "    nzval = Vector{Tv}(nB*mB*nA)\n",
    "    @inbounds for j in 1:nA\n",
    "        r0 = (j-1)*mB\n",
    "        @inbounds for j2 in 1:nB\n",
    "            start = ((j-1)*nB+j2-1)*mB\n",
    "            @inbounds @simd for i in 1:mB\n",
    "                rowval[start+i] = r0+i\n",
    "                nzval[start+i] = B[i,j2]\n",
    "            end\n",
    "        end\n",
    "    end\n",
    "    colptr = collect(1:mB:nB*mB*nA+1)\n",
    "    SparseMatrixCSC(mB*nA, nA*nB, colptr, rowval, nzval)\n",
    "end"
   ]
  },
  {
   "cell_type": "code",
   "execution_count": 17,
   "metadata": {},
   "outputs": [
    {
     "data": {
      "text/plain": [
       "PermuteMultiply"
      ]
     },
     "execution_count": 17,
     "metadata": {},
     "output_type": "execute_result"
    }
   ],
   "source": [
    "include(\"../permmul.jl\")\n",
    "PermuteMultiply(A::Identity{T}) where T = PermuteMultiply(collect(1:A.n), ones(T, A.n))"
   ]
  },
  {
   "cell_type": "code",
   "execution_count": 18,
   "metadata": {},
   "outputs": [
    {
     "data": {
      "text/plain": [
       "BenchmarkTools.Trial: \n",
       "  memory estimate:  281.63 KiB\n",
       "  allocs estimate:  8\n",
       "  --------------\n",
       "  minimum time:     31.070 μs (0.00% GC)\n",
       "  median time:      44.507 μs (0.00% GC)\n",
       "  mean time:        50.842 μs (11.63% GC)\n",
       "  maximum time:     703.356 μs (83.69% GC)\n",
       "  --------------\n",
       "  samples:          10000\n",
       "  evals/sample:     1"
      ]
     },
     "execution_count": 18,
     "metadata": {},
     "output_type": "execute_result"
    }
   ],
   "source": [
    "using BenchmarkTools\n",
    "using ProfileView\n",
    "id = Identity(1000)\n",
    "target = randn(4,4)\n",
    "@benchmark kron(id, target)"
   ]
  },
  {
   "cell_type": "code",
   "execution_count": 18,
   "metadata": {},
   "outputs": [
    {
     "data": {
      "text/plain": [
       "true"
      ]
     },
     "execution_count": 18,
     "metadata": {},
     "output_type": "execute_result"
    }
   ],
   "source": [
    "kron(A, id) == kron(A, sparse(id))"
   ]
  },
  {
   "cell_type": "code",
   "execution_count": 19,
   "metadata": {},
   "outputs": [
    {
     "data": {
      "text/plain": [
       "true"
      ]
     },
     "execution_count": 19,
     "metadata": {},
     "output_type": "execute_result"
    }
   ],
   "source": [
    "kron(id, A) == kron(sparse(id), A)"
   ]
  },
  {
   "cell_type": "code",
   "execution_count": 58,
   "metadata": {},
   "outputs": [
    {
     "data": {
      "text/plain": [
       "BenchmarkTools.Trial: \n",
       "  memory estimate:  289.58 KiB\n",
       "  allocs estimate:  10\n",
       "  --------------\n",
       "  minimum time:     59.136 μs (0.00% GC)\n",
       "  median time:      61.897 μs (0.00% GC)\n",
       "  mean time:        69.675 μs (9.58% GC)\n",
       "  maximum time:     815.035 μs (83.09% GC)\n",
       "  --------------\n",
       "  samples:          10000\n",
       "  evals/sample:     1"
      ]
     },
     "execution_count": 58,
     "metadata": {},
     "output_type": "execute_result"
    }
   ],
   "source": [
    "sid = PermuteMultiply(id)\n",
    "@benchmark kron(sid, target)"
   ]
  },
  {
   "cell_type": "code",
   "execution_count": 21,
   "metadata": {},
   "outputs": [
    {
     "data": {
      "text/plain": [
       "BenchmarkTools.Trial: \n",
       "  memory estimate:  282.13 KiB\n",
       "  allocs estimate:  16\n",
       "  --------------\n",
       "  minimum time:     32.058 μs (0.00% GC)\n",
       "  median time:      45.875 μs (0.00% GC)\n",
       "  mean time:        64.422 μs (12.17% GC)\n",
       "  maximum time:     1.994 ms (84.77% GC)\n",
       "  --------------\n",
       "  samples:          10000\n",
       "  evals/sample:     1"
      ]
     },
     "execution_count": 21,
     "metadata": {},
     "output_type": "execute_result"
    }
   ],
   "source": [
    "@benchmark kron(target, id)"
   ]
  },
  {
   "cell_type": "code",
   "execution_count": 22,
   "metadata": {},
   "outputs": [
    {
     "data": {
      "text/plain": [
       "BenchmarkTools.Trial: \n",
       "  memory estimate:  289.58 KiB\n",
       "  allocs estimate:  10\n",
       "  --------------\n",
       "  minimum time:     69.803 μs (0.00% GC)\n",
       "  median time:      71.497 μs (0.00% GC)\n",
       "  mean time:        89.201 μs (8.20% GC)\n",
       "  maximum time:     1.801 ms (81.05% GC)\n",
       "  --------------\n",
       "  samples:          10000\n",
       "  evals/sample:     1"
      ]
     },
     "execution_count": 22,
     "metadata": {},
     "output_type": "execute_result"
    }
   ],
   "source": [
    "@benchmark kron(target, sid)"
   ]
  },
  {
   "cell_type": "code",
   "execution_count": 55,
   "metadata": {},
   "outputs": [
    {
     "data": {
      "text/plain": [
       "kron (generic function with 30 methods)"
      ]
     },
     "execution_count": 55,
     "metadata": {},
     "output_type": "execute_result"
    }
   ],
   "source": [
    "function kron(A::Identity, B::SparseMatrixCSC{T}) where T\n",
    "    nA = A.n\n",
    "    mB, nB = size(B)\n",
    "    nV = nnz(B)\n",
    "    nzval = Vector{T}(nA*nV)\n",
    "    rowval = Vector{Int}(nA*nV)\n",
    "    colptr = Vector{Int}(nB*nA+1)\n",
    "    nzval = Vector{T}(nA*nV)\n",
    "    colptr[1] = 1\n",
    "    @inbounds for i = 1:nA\n",
    "        r0 = (i-1)*mB\n",
    "        start = nV*(i-1)\n",
    "        @inbounds @simd for k = 1:nV\n",
    "            rowval[start+k] = B.rowval[k]+r0\n",
    "            nzval[start+k] = B.nzval[k]\n",
    "        end\n",
    "        colbase = (i-1)*nB\n",
    "        @inbounds @simd for j=2:nB+1\n",
    "            colptr[colbase+j] = B.colptr[j]+start\n",
    "        end\n",
    "    end\n",
    "    SparseMatrixCSC(mB*nA, nB*nA, colptr, rowval, nzval)\n",
    "end\n",
    "function kron(A::SparseMatrixCSC{T}, B::Identity) where T\n",
    "    nB = B.n\n",
    "    mA, nA = size(A)\n",
    "    nV = nnz(A)\n",
    "    rowval = Vector{Int}(nB*nV)\n",
    "    colptr = Vector{Int}(nA*nB+1)\n",
    "    nzval = Vector{T}(nB*nV)\n",
    "    z=1\n",
    "    colptr[1] = 1\n",
    "    @inbounds for i in 1:nA\n",
    "        rstart = A.colptr[i]\n",
    "        rend = A.colptr[i+1]-1\n",
    "        colbase = (i-1)*nB+1\n",
    "        @inbounds for k in 1:nB\n",
    "            irow_nB = k - nB\n",
    "            @inbounds @simd for r in rstart:rend\n",
    "                rowval[z] = A.rowval[r]*nB+irow_nB\n",
    "                nzval[z] = A.nzval[r]\n",
    "                z+=1\n",
    "            end\n",
    "            colptr[colbase+k] = z\n",
    "        end\n",
    "    end\n",
    "    SparseMatrixCSC(mA*nB, nA*nB, colptr, rowval, nzval)\n",
    "end"
   ]
  },
  {
   "cell_type": "code",
   "execution_count": 20,
   "metadata": {
    "collapsed": true,
    "scrolled": true
   },
   "outputs": [],
   "source": [
    "sa = sprand(4,4,0.2)\n",
    "Sa = sprand(16,16,0.2);"
   ]
  },
  {
   "cell_type": "code",
   "execution_count": 53,
   "metadata": {},
   "outputs": [
    {
     "name": "stdout",
     "output_type": "stream",
     "text": [
      "true\n"
     ]
    }
   ],
   "source": [
    "println(kron(id, sa) == kron(sparse(id), sa))"
   ]
  },
  {
   "cell_type": "code",
   "execution_count": 54,
   "metadata": {},
   "outputs": [
    {
     "name": "stdout",
     "output_type": "stream",
     "text": [
      "true\n"
     ]
    }
   ],
   "source": [
    "println(kron(sa, id) == kron(full(sa), full(id)))"
   ]
  },
  {
   "cell_type": "code",
   "execution_count": null,
   "metadata": {
    "collapsed": true
   },
   "outputs": [],
   "source": [
    "kron(full(sa), id) == full(kron(sa, id))"
   ]
  },
  {
   "cell_type": "code",
   "execution_count": null,
   "metadata": {
    "collapsed": true
   },
   "outputs": [],
   "source": [
    "@benchmark kron(Sa, id)"
   ]
  },
  {
   "cell_type": "code",
   "execution_count": null,
   "metadata": {
    "collapsed": true
   },
   "outputs": [],
   "source": [
    "@benchmark kron(Sa, sid)"
   ]
  },
  {
   "cell_type": "code",
   "execution_count": 56,
   "metadata": {},
   "outputs": [
    {
     "data": {
      "text/plain": [
       "BenchmarkTools.Trial: \n",
       "  memory estimate:  1.31 MiB\n",
       "  allocs estimate:  9\n",
       "  --------------\n",
       "  minimum time:     127.899 μs (0.00% GC)\n",
       "  median time:      149.976 μs (0.00% GC)\n",
       "  mean time:        173.867 μs (13.62% GC)\n",
       "  maximum time:     962.296 μs (76.84% GC)\n",
       "  --------------\n",
       "  samples:          10000\n",
       "  evals/sample:     1"
      ]
     },
     "execution_count": 56,
     "metadata": {},
     "output_type": "execute_result"
    }
   ],
   "source": [
    "@benchmark kron(id, Sa)"
   ]
  },
  {
   "cell_type": "code",
   "execution_count": 59,
   "metadata": {},
   "outputs": [
    {
     "data": {
      "text/plain": [
       "BenchmarkTools.Trial: \n",
       "  memory estimate:  945.80 KiB\n",
       "  allocs estimate:  9\n",
       "  --------------\n",
       "  minimum time:     142.348 μs (0.00% GC)\n",
       "  median time:      165.237 μs (0.00% GC)\n",
       "  mean time:        185.693 μs (10.77% GC)\n",
       "  maximum time:     1.049 ms (74.70% GC)\n",
       "  --------------\n",
       "  samples:          10000\n",
       "  evals/sample:     1"
      ]
     },
     "execution_count": 59,
     "metadata": {},
     "output_type": "execute_result"
    }
   ],
   "source": [
    "@benchmark kron(sid, Sa)"
   ]
  },
  {
   "cell_type": "code",
   "execution_count": 138,
   "metadata": {},
   "outputs": [
    {
     "data": {
      "text/plain": [
       "4×4 Diagonal{Complex{Float64}}:\n",
       " 0.5+0.0im      ⋅          ⋅          ⋅    \n",
       "     ⋅      0.0+0.3im      ⋅          ⋅    \n",
       "     ⋅          ⋅      0.2+0.0im      ⋅    \n",
       "     ⋅          ⋅          ⋅      1.0+0.0im"
      ]
     },
     "execution_count": 138,
     "metadata": {},
     "output_type": "execute_result"
    }
   ],
   "source": [
    "p1 = Identity(4)\n",
    "p2 = sprand(Complex128, 4,4, 0.5)\n",
    "p3 = rand(Complex128, 4,4)\n",
    "v = [0.5, 0.3im, 0.2, 1.0]\n",
    "Dv = Diagonal(v)"
   ]
  },
  {
   "cell_type": "code",
   "execution_count": 139,
   "metadata": {},
   "outputs": [
    {
     "name": "stdout",
     "output_type": "stream",
     "text": [
      "Identity{Int64}Array{Int64,2}\n",
      "true\n",
      "true\n",
      "Identity{Int64}Identity{Int64}Array{Int64,2}\n",
      "false\n",
      "SparseMatrixCSC{Complex{Float64},Int64}Array{Complex{Float64},2}\n",
      "true\n",
      "true\n",
      "SparseMatrixCSC{Complex{Float64},Int64}SparseMatrixCSC{Complex{Float64},Int64}Array{Complex{Float64},2}\n",
      "false\n",
      "Array{Complex{Float64},2}Array{Complex{Float64},2}\n",
      "true\n",
      "true\n",
      "Array{Complex{Float64},2}Array{Complex{Float64},2}Array{Complex{Float64},2}\n",
      "true\n",
      "Diagonal{Complex{Float64}}Array{Complex{Float64},2}\n",
      "true\n",
      "true\n",
      "Diagonal{Complex{Float64}}Diagonal{Complex{Float64}}Array{Complex{Float64},2}\n",
      "false\n"
     ]
    }
   ],
   "source": [
    "for target in [p1, p2, p3, Dv]\n",
    "    lres = p1*target\n",
    "    rres = (target')*p1\n",
    "    println(typeof(lres), typeof(rres))\n",
    "    println(lres == target)\n",
    "    println(rres == target')\n",
    "    println(typeof(target), typeof(lres), typeof(rres))\n",
    "    println(typeof(lres) == typeof(target) == typeof(rres))\n",
    "end"
   ]
  },
  {
   "cell_type": "code",
   "execution_count": 140,
   "metadata": {
    "collapsed": true
   },
   "outputs": [],
   "source": [
    "# see the definition of diagonal"
   ]
  },
  {
   "cell_type": "code",
   "execution_count": 141,
   "metadata": {},
   "outputs": [
    {
     "data": {
      "text/plain": [
       "kron (generic function with 34 methods)"
      ]
     },
     "execution_count": 141,
     "metadata": {},
     "output_type": "execute_result"
    }
   ],
   "source": [
    "kron(A::Identity, B::Diagonal{Tb}) where Tb = Diagonal{Tb}(repeat(B.diag, outer=A.n))\n",
    "kron(B::Diagonal{Tb}, A::Identity) where Tb = Diagonal{Tb}(repeat(B.diag, inner=A.n))"
   ]
  },
  {
   "cell_type": "code",
   "execution_count": 142,
   "metadata": {},
   "outputs": [
    {
     "data": {
      "text/plain": [
       "12×12 Diagonal{Int64}:\n",
       " 1  ⋅  ⋅  ⋅  ⋅  ⋅  ⋅  ⋅  ⋅  ⋅  ⋅  ⋅\n",
       " ⋅  1  ⋅  ⋅  ⋅  ⋅  ⋅  ⋅  ⋅  ⋅  ⋅  ⋅\n",
       " ⋅  ⋅  1  ⋅  ⋅  ⋅  ⋅  ⋅  ⋅  ⋅  ⋅  ⋅\n",
       " ⋅  ⋅  ⋅  1  ⋅  ⋅  ⋅  ⋅  ⋅  ⋅  ⋅  ⋅\n",
       " ⋅  ⋅  ⋅  ⋅  2  ⋅  ⋅  ⋅  ⋅  ⋅  ⋅  ⋅\n",
       " ⋅  ⋅  ⋅  ⋅  ⋅  2  ⋅  ⋅  ⋅  ⋅  ⋅  ⋅\n",
       " ⋅  ⋅  ⋅  ⋅  ⋅  ⋅  2  ⋅  ⋅  ⋅  ⋅  ⋅\n",
       " ⋅  ⋅  ⋅  ⋅  ⋅  ⋅  ⋅  2  ⋅  ⋅  ⋅  ⋅\n",
       " ⋅  ⋅  ⋅  ⋅  ⋅  ⋅  ⋅  ⋅  3  ⋅  ⋅  ⋅\n",
       " ⋅  ⋅  ⋅  ⋅  ⋅  ⋅  ⋅  ⋅  ⋅  3  ⋅  ⋅\n",
       " ⋅  ⋅  ⋅  ⋅  ⋅  ⋅  ⋅  ⋅  ⋅  ⋅  3  ⋅\n",
       " ⋅  ⋅  ⋅  ⋅  ⋅  ⋅  ⋅  ⋅  ⋅  ⋅  ⋅  3"
      ]
     },
     "execution_count": 142,
     "metadata": {},
     "output_type": "execute_result"
    }
   ],
   "source": [
    "d = Diagonal([1,2,3])\n",
    "kron(d, p1)"
   ]
  },
  {
   "cell_type": "code",
   "execution_count": 143,
   "metadata": {},
   "outputs": [
    {
     "data": {
      "text/plain": [
       "kron (generic function with 34 methods)"
      ]
     },
     "execution_count": 143,
     "metadata": {},
     "output_type": "execute_result"
    }
   ],
   "source": [
    "####### diagonal kron ########\n",
    "function kron(A::StridedMatrix{Tv}, B::Diagonal{Tb}) where {Tv, Tb}\n",
    "    mA, nA = size(A)\n",
    "    nB = size(B, 1)\n",
    "    C = zeros(promote_type(Tv, Tb), mA*nB, nA*nB)\n",
    "    @inbounds for j = 1:nA\n",
    "        for i = 1:mA\n",
    "            val = A[i,j]\n",
    "            @inbounds @simd for k = 1:nB\n",
    "                C[(i-1)*nB+k, (j-1)*nB+k] = val*B.diag[k]  # merge\n",
    "            end\n",
    "        end\n",
    "    end\n",
    "    C\n",
    "end\n",
    "\n",
    "function kron(A::Diagonal{Ta}, B::StridedMatrix{Tv}) where {Tv, Ta}\n",
    "    mB, nB = size(B)\n",
    "    nA = size(A, 1)\n",
    "    C = zeros(promote_type(Tv, Ta), mB*nA, nB*nA)\n",
    "    @inbounds @simd for i = 1:nA\n",
    "        C[(i-1)*mB+1:i*mB, (i-1)*nB+1:i*nB] = B*A.diag[i]\n",
    "    end\n",
    "    C\n",
    "end"
   ]
  },
  {
   "cell_type": "code",
   "execution_count": null,
   "metadata": {
    "collapsed": true
   },
   "outputs": [],
   "source": [
    "ds = rand(3,3)\n",
    "println(kron(d, ds)==kron(full(d), ds))\n",
    "println(kron(ds, d)==kron(ds, full(d)))"
   ]
  },
  {
   "cell_type": "code",
   "execution_count": null,
   "metadata": {
    "collapsed": true
   },
   "outputs": [],
   "source": [
    "function kron(A::Diagonal, B::SparseMatrixCSC)\n",
    "    nA = size(A, 1)\n",
    "    mB, nB = size(B)\n",
    "    nV = nnz(B)\n",
    "    nzval = vcat([B.nzval*A.diag[i] for i in 1:nA]...)\n",
    "    rowval = vcat([B.rowval+(i-1)*mB for i in 1:nA]...)\n",
    "    colptr = vcat([B.colptr[(i==1?1:2):end]+(i-1)*nV for i in 1:nA]...)\n",
    "    SparseMatrixCSC(mB*nA, nB*nA, colptr, rowval, nzval)\n",
    "end\n",
    "\n",
    "function kron(A::SparseMatrixCSC{T}, B::Diagonal{Tb}) where {T, Tb}\n",
    "    nB = size(B, 1)\n",
    "    mA, nA = size(A)\n",
    "    nV = nnz(A)\n",
    "    rowval = Vector{Int}(nB*nV)\n",
    "    nzval = Vector{promote_type(T, Tb)}(nB*nV)\n",
    "    z=0\n",
    "    @inbounds for i in 1:nA\n",
    "        rstart = A.colptr[i]\n",
    "        rend = A.colptr[i+1]-1\n",
    "        row = A.rowval[rstart:rend]\n",
    "        nzv = A.nzval[rstart:rend]\n",
    "        nrow = length(row)\n",
    "        @inbounds @simd for k in 1:nB\n",
    "            rowval[z+1:z+nrow] = (row-1)*nB+k\n",
    "            nzval[z+1:z+nrow] = nzv*B.diag[k]\n",
    "            z+=nrow\n",
    "        end\n",
    "    end\n",
    "    nl = diff(A.colptr)\n",
    "    colptr = prepend!(cumsum(repeat(nl, inner=nB))+1, 1)\n",
    "    SparseMatrixCSC(mA*nB, nA*nB, colptr, rowval, nzval)\n",
    "end"
   ]
  },
  {
   "cell_type": "code",
   "execution_count": null,
   "metadata": {
    "collapsed": true
   },
   "outputs": [],
   "source": [
    "kron(d, p2) == kron(full(d), p2)"
   ]
  },
  {
   "cell_type": "code",
   "execution_count": null,
   "metadata": {
    "collapsed": true
   },
   "outputs": [],
   "source": [
    "full(kron(p2, d)) == kron(full(p2), full(d))"
   ]
  },
  {
   "cell_type": "code",
   "execution_count": null,
   "metadata": {
    "collapsed": true
   },
   "outputs": [],
   "source": [
    "kron(p2, d) == kron(full(p2), full(d))"
   ]
  },
  {
   "cell_type": "code",
   "execution_count": 119,
   "metadata": {},
   "outputs": [
    {
     "data": {
      "text/plain": [
       "kron (generic function with 31 methods)"
      ]
     },
     "execution_count": 119,
     "metadata": {},
     "output_type": "execute_result"
    }
   ],
   "source": [
    "function kron(A::Identity, B::PermuteMultiply{T}) where T\n",
    "    nA = size(A, 1)\n",
    "    nB = size(B, 1)\n",
    "    perm = Vector{Int}(nB*nA)\n",
    "    vals = Vector{T}(nB*nA)\n",
    "    @inbounds for i = 1:nA\n",
    "        start = (i-1)*nB\n",
    "        @inbounds @simd for j = 1:nB\n",
    "            perm[start+j] = start +B.perm[j]\n",
    "            vals[start+j] = B.vals[j]\n",
    "        end\n",
    "    end\n",
    "    PermuteMultiply(perm, vals)\n",
    "end"
   ]
  },
  {
   "cell_type": "code",
   "execution_count": 120,
   "metadata": {},
   "outputs": [
    {
     "data": {
      "text/plain": [
       "BenchmarkTools.Trial: \n",
       "  memory estimate:  15.26 MiB\n",
       "  allocs estimate:  5\n",
       "  --------------\n",
       "  minimum time:     2.492 ms (0.00% GC)\n",
       "  median time:      3.080 ms (16.55% GC)\n",
       "  mean time:        3.018 ms (14.05% GC)\n",
       "  maximum time:     78.043 ms (95.65% GC)\n",
       "  --------------\n",
       "  samples:          1654\n",
       "  evals/sample:     1"
      ]
     },
     "execution_count": 120,
     "metadata": {},
     "output_type": "execute_result"
    }
   ],
   "source": [
    "@benchmark kron(id, sid)"
   ]
  },
  {
   "cell_type": "code",
   "execution_count": 115,
   "metadata": {},
   "outputs": [
    {
     "data": {
      "text/plain": [
       "true"
      ]
     },
     "execution_count": 115,
     "metadata": {},
     "output_type": "execute_result"
    }
   ],
   "source": [
    "sparse(kron(id, sid)) == kron(sparse(id), sparse(sid))"
   ]
  },
  {
   "cell_type": "code",
   "execution_count": 130,
   "metadata": {},
   "outputs": [
    {
     "data": {
      "text/plain": [
       "kron (generic function with 32 methods)"
      ]
     },
     "execution_count": 130,
     "metadata": {},
     "output_type": "execute_result"
    }
   ],
   "source": [
    "function kron(A::PermuteMultiply{T}, B::Identity) where T\n",
    "    nA = size(A, 1)\n",
    "    nB = size(B, 1)\n",
    "    vals = Vector{T}(nB*nA)\n",
    "    perm = Vector{Int}(nB*nA)\n",
    "    @inbounds for i = 1:nA\n",
    "        start = (i-1)*nB\n",
    "        permAi = (A.perm[i]-1)*nB\n",
    "        val = A.vals[i]\n",
    "        @inbounds @simd for j = 1:nB\n",
    "            perm[start+j] = permAi + j\n",
    "            vals[start+j] = val\n",
    "        end\n",
    "    end\n",
    "    PermuteMultiply(perm, vals)\n",
    "end"
   ]
  },
  {
   "cell_type": "code",
   "execution_count": 131,
   "metadata": {},
   "outputs": [
    {
     "data": {
      "text/plain": [
       "true"
      ]
     },
     "execution_count": 131,
     "metadata": {},
     "output_type": "execute_result"
    }
   ],
   "source": [
    "sparse(kron(sid, id)) == kron(sparse(sid), sparse(id))"
   ]
  },
  {
   "cell_type": "code",
   "execution_count": 132,
   "metadata": {},
   "outputs": [
    {
     "data": {
      "text/plain": [
       "BenchmarkTools.Trial: \n",
       "  memory estimate:  15.26 MiB\n",
       "  allocs estimate:  5\n",
       "  --------------\n",
       "  minimum time:     2.494 ms (0.00% GC)\n",
       "  median time:      3.096 ms (17.81% GC)\n",
       "  mean time:        2.998 ms (14.42% GC)\n",
       "  maximum time:     72.131 ms (96.21% GC)\n",
       "  --------------\n",
       "  samples:          1665\n",
       "  evals/sample:     1"
      ]
     },
     "execution_count": 132,
     "metadata": {},
     "output_type": "execute_result"
    }
   ],
   "source": [
    "@benchmark kron(sid, id)"
   ]
  },
  {
   "cell_type": "code",
   "execution_count": 134,
   "metadata": {},
   "outputs": [
    {
     "data": {
      "text/plain": [
       "kron (generic function with 34 methods)"
      ]
     },
     "execution_count": 134,
     "metadata": {},
     "output_type": "execute_result"
    }
   ],
   "source": [
    "kron(A::Identity, B::Diagonal{Tb}) where Tb = Diagonal{Tb}(repeat(B.diag, outer=A.n))\n",
    "kron(B::Diagonal{Tb}, A::Identity) where Tb = Diagonal{Tb}(repeat(B.diag, inner=A.n))"
   ]
  },
  {
   "cell_type": "code",
   "execution_count": 145,
   "metadata": {},
   "outputs": [
    {
     "data": {
      "text/plain": [
       "BenchmarkTools.Trial: \n",
       "  memory estimate:  85.22 KiB\n",
       "  allocs estimate:  222\n",
       "  --------------\n",
       "  minimum time:     41.256 μs (0.00% GC)\n",
       "  median time:      42.734 μs (0.00% GC)\n",
       "  mean time:        52.742 μs (10.70% GC)\n",
       "  maximum time:     2.078 ms (93.89% GC)\n",
       "  --------------\n",
       "  samples:          10000\n",
       "  evals/sample:     1"
      ]
     },
     "execution_count": 145,
     "metadata": {},
     "output_type": "execute_result"
    }
   ],
   "source": [
    "id = Identity(100)\n",
    "Dv = Diagonal(randn(100))\n",
    "@benchmark kron(id, Dv)"
   ]
  },
  {
   "cell_type": "code",
   "execution_count": 169,
   "metadata": {},
   "outputs": [
    {
     "data": {
      "text/plain": [
       "kron (generic function with 34 methods)"
      ]
     },
     "execution_count": 169,
     "metadata": {},
     "output_type": "execute_result"
    }
   ],
   "source": [
    "function irepv(v::AbstractArray{Tv}, n::Int) where Tv\n",
    "    nV = length(v)\n",
    "    res = Vector{Tv}(nV*n)\n",
    "    @inbounds for j = 1:nV\n",
    "        vj = v[j]\n",
    "        base = (j-1)*n\n",
    "        @inbounds @simd for i = 1:n\n",
    "            res[base+i] = vj\n",
    "        end\n",
    "    end\n",
    "    res\n",
    "end\n",
    "function orepv(v::AbstractArray{Tv}, n::Int) where Tv\n",
    "    nV = length(v)\n",
    "    res = Vector{Tv}(nV*n)\n",
    "    @inbounds for i = 1:n\n",
    "        base = (i-1)*nV\n",
    "        @inbounds @simd for j = 1:nV\n",
    "            res[base+j] = v[j]\n",
    "        end\n",
    "    end\n",
    "    res\n",
    "end\n",
    "kron(A::Identity, B::Diagonal) = Diagonal(orepv(B.diag, A.n))\n",
    "kron(B::Diagonal, A::Identity) = Diagonal(irepv(B.diag, A.n))"
   ]
  },
  {
   "cell_type": "code",
   "execution_count": 170,
   "metadata": {},
   "outputs": [
    {
     "name": "stdout",
     "output_type": "stream",
     "text": [
      "true\n",
      "true\n"
     ]
    }
   ],
   "source": [
    "println(sparse(kron(id, Dv)) == kron(sparse(id), sparse(Dv)))\n",
    "println(sparse(kron(Dv, id)) == kron(sparse(Dv), sparse(id)))"
   ]
  },
  {
   "cell_type": "code",
   "execution_count": 164,
   "metadata": {},
   "outputs": [
    {
     "data": {
      "text/plain": [
       "BenchmarkTools.Trial: \n",
       "  memory estimate:  78.22 KiB\n",
       "  allocs estimate:  3\n",
       "  --------------\n",
       "  minimum time:     6.868 μs (0.00% GC)\n",
       "  median time:      12.466 μs (0.00% GC)\n",
       "  mean time:        15.213 μs (18.21% GC)\n",
       "  maximum time:     330.777 μs (90.46% GC)\n",
       "  --------------\n",
       "  samples:          10000\n",
       "  evals/sample:     3"
      ]
     },
     "execution_count": 164,
     "metadata": {},
     "output_type": "execute_result"
    }
   ],
   "source": [
    "@benchmark kron($id, $Dv)"
   ]
  },
  {
   "cell_type": "code",
   "execution_count": 171,
   "metadata": {},
   "outputs": [
    {
     "data": {
      "text/plain": [
       "BenchmarkTools.Trial: \n",
       "  memory estimate:  78.22 KiB\n",
       "  allocs estimate:  3\n",
       "  --------------\n",
       "  minimum time:     7.563 μs (0.00% GC)\n",
       "  median time:      12.879 μs (0.00% GC)\n",
       "  mean time:        20.268 μs (22.63% GC)\n",
       "  maximum time:     969.589 μs (91.32% GC)\n",
       "  --------------\n",
       "  samples:          10000\n",
       "  evals/sample:     3"
      ]
     },
     "execution_count": 171,
     "metadata": {},
     "output_type": "execute_result"
    }
   ],
   "source": [
    "@benchmark kron($Dv, $id)"
   ]
  },
  {
   "cell_type": "code",
   "execution_count": null,
   "metadata": {
    "collapsed": true
   },
   "outputs": [],
   "source": []
  }
 ],
 "metadata": {
  "kernelspec": {
   "display_name": "Julia 0.6.0",
   "language": "julia",
   "name": "julia-0.6"
  },
  "language_info": {
   "file_extension": ".jl",
   "mimetype": "application/julia",
   "name": "julia",
   "version": "0.6.0"
  }
 },
 "nbformat": 4,
 "nbformat_minor": 2
}
