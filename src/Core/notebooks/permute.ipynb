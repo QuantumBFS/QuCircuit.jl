{
 "cells": [
  {
   "cell_type": "code",
   "execution_count": 239,
   "metadata": {},
   "outputs": [
    {
     "ename": "LoadError",
     "evalue": "\u001b[91merror in method definition: function Base.invperm must be explicitly imported to be extended\u001b[39m",
     "output_type": "error",
     "traceback": [
      "\u001b[91merror in method definition: function Base.invperm must be explicitly imported to be extended\u001b[39m",
      ""
     ]
    }
   ],
   "source": [
    "using BenchmarkTools\n",
    "struct PermuteMultiply{Tv, Ti<:Integer} <: AbstractMatrix{Tv}\n",
    "    perm::Vector{Ti}   # new orders\n",
    "    vals::Vector{Tv}  # multiplied values.\n",
    "\n",
    "    function PermuteMultiply{Tv, Ti}(perm::Vector{Ti}, vals::Vector{Tv}) where {Tv, Ti<:Integer}\n",
    "        if length(perm) != length(vals)\n",
    "            throw(DimensionMismatch(\"permutation ($(length(perm))) and multiply ($(length(vals))) length mismatch.\"))\n",
    "        end\n",
    "        new{Tv, Ti}(perm, vals)\n",
    "    end\n",
    "end\n",
    "\n",
    "function invperm(order)\n",
    "    v = similar(order)\n",
    "    @inbounds @simd for i=1:length(order)\n",
    "        v[order[i]] = i\n",
    "    end\n",
    "    v\n",
    "end\n",
    "\n",
    "function PermuteMultiply(perm::Vector, vals::Vector)\n",
    "    Tv = eltype(vals)\n",
    "    Ti = eltype(perm)\n",
    "    PermuteMultiply{Tv,Ti}(perm, vals)\n",
    "end\n",
    "\n",
    "import Base: size, show, eltype, getindex, full\n",
    "size(M::PermuteMultiply) = (length(M.perm), length(M.perm))\n",
    "function size(A::PermuteMultiply, d::Integer)\n",
    "    if d < 1\n",
    "        throw(ArgumentError(\"dimension must be ≥ 1, got $d\"))\n",
    "    elseif d<=2\n",
    "        return length(A.perm)\n",
    "    else\n",
    "        return 1\n",
    "    end\n",
    "end\n",
    "getindex(M::PermuteMultiply, i::Integer, j::Integer) = M.perm[i] == j ? M.vals[i] : 0"
   ]
  },
  {
   "cell_type": "code",
   "execution_count": 240,
   "metadata": {},
   "outputs": [
    {
     "data": {
      "text/plain": [
       "full (generic function with 25 methods)"
      ]
     },
     "execution_count": 240,
     "metadata": {},
     "output_type": "execute_result"
    }
   ],
   "source": [
    "@benchmark full(p1)\n",
    "function Matrix{T}(M::PermuteMultiply) where T\n",
    "    n = size(M, 1)\n",
    "    Mf = zeros(T, n, n)\n",
    "    @inbounds for i=1:n\n",
    "        Mf[i, M.perm[i]] = M.vals[i]\n",
    "    end\n",
    "    return Mf\n",
    "end\n",
    "Matrix(M::PermuteMultiply{T}) where {T} = Matrix{T}(M)\n",
    "Array(M::PermuteMultiply) = Matrix(M)\n",
    "full(M::PermuteMultiply) = Matrix(M)"
   ]
  },
  {
   "cell_type": "code",
   "execution_count": 241,
   "metadata": {},
   "outputs": [
    {
     "name": "stdout",
     "output_type": "stream",
     "text": [
      "PermuteMultiply\n",
      "- (2) * 0.1 + 0.0im\n",
      "- (1) * 0.2 + 0.0im\n",
      "- (4) * 0.0 + 0.4im\n",
      "- (3) * 0.5 + 0.0im\n",
      "\n"
     ]
    }
   ],
   "source": [
    "import Base: show\n",
    "function show(io::IO, M::PermuteMultiply)\n",
    "    println(\"PermuteMultiply\")\n",
    "    for item in zip(M.perm, M.vals)\n",
    "        i, p = item\n",
    "        println(\"- ($i) * $p\")\n",
    "    end\n",
    "end\n",
    "\n",
    "println(p1)"
   ]
  },
  {
   "cell_type": "code",
   "execution_count": 435,
   "metadata": {},
   "outputs": [
    {
     "data": {
      "text/plain": [
       "pmrand (generic function with 2 methods)"
      ]
     },
     "execution_count": 435,
     "metadata": {},
     "output_type": "execute_result"
    }
   ],
   "source": [
    "import Base: randn\n",
    "randn(T::Type{Complex{F}}, n::Int...) where F = randn(F, n...) + im*randn(F, n...)\n",
    "pmrand(T::Type, n::Int) = PermuteMultiply(randperm(n), randn(T, n))\n",
    "pmrand(n::Int) = PermuteMultiply(randperm(n), randn(n))"
   ]
  },
  {
   "cell_type": "code",
   "execution_count": 437,
   "metadata": {},
   "outputs": [
    {
     "name": "stdout",
     "output_type": "stream",
     "text": [
      "PermuteMultiply\n",
      "- (2) * 0.1 + 0.0im\n",
      "- (1) * 0.2 + 0.0im\n",
      "- (4) * 0.0 + 0.4im\n",
      "- (3) * 0.5 + 0.0im\n",
      "\n",
      "PermuteMultiply\n",
      "- (1) * 0.274625711759987 + 0.8443762778750868im\n",
      "- (3) * -1.0505635217492233 + 2.0240720084886794im\n",
      "- (2) * 0.5371287098449212 - 0.5238685022371369im\n",
      "- (4) * -0.17687353184013457 + 0.3817937452006296im\n",
      "\n",
      "Complex{Float64}[0.494975-0.424953im -0.100426+1.21454im 0.866+0.0614908im -0.527156-0.383367im; 1.25135+0.321035im -2.0168-0.393942im -0.360625+0.431917im 0.102813+0.772808im; 2.05566+0.532734im 0.900861+1.30656im 1.73243+0.123618im 1.00657+0.523671im; 0.390475+0.305632im -0.926132+0.753056im 1.74789+0.191208im 0.0461557+0.758886im]\n",
      "true\n",
      "true\n",
      "true\n"
     ]
    }
   ],
   "source": [
    "p1 = PermuteMultiply([2,1,4,3],[0.1, 0.2, 0.4im, 0.5])\n",
    "p2 = PermuteMultiply([2,1,4,3],[0.1, 0.2im, 0.4, 0.5])\n",
    "p3 = pmrand(Complex128, 4)\n",
    "sp = sprand(4,4,0.3)\n",
    "ds = randn(Complex128, 4,4)\n",
    "println(p1)\n",
    "println(p3)\n",
    "println(ds)\n",
    "fp1, fp2, fp3 = full(p1), full(p2), full(p3)\n",
    "sp1, sp2, sp3 = sparse(p1), sparse(p2), sparse(p3)\n",
    "println(fp1 == p1 == sp1)\n",
    "println(size(p1)==size(fp1) && size(p1,1) == size(fp1,1))\n",
    "println(!isapprox(p1, p2))"
   ]
  },
  {
   "cell_type": "code",
   "execution_count": 244,
   "metadata": {},
   "outputs": [
    {
     "name": "stdout",
     "output_type": "stream",
     "text": [
      "Complex{Float64}\n"
     ]
    }
   ],
   "source": [
    "println(eltype(p1))"
   ]
  },
  {
   "cell_type": "code",
   "execution_count": 245,
   "metadata": {},
   "outputs": [
    {
     "data": {
      "text/plain": [
       "Array (generic function with 1 method)"
      ]
     },
     "execution_count": 245,
     "metadata": {},
     "output_type": "execute_result"
    }
   ],
   "source": [
    "function Matrix{T}(M::PermuteMultiply) where T\n",
    "    n = size(M, 1)\n",
    "    Mf = zeros(T, n, n)\n",
    "    @inbounds for i=1:n\n",
    "        Mf[i, M.perm[i]] = M.vals[i]\n",
    "    end\n",
    "    return Mf\n",
    "end\n",
    "Matrix(M::PermuteMultiply{T}) where {T} = Matrix{T}(M)\n",
    "Array(M::PermuteMultiply) = Matrix(M)"
   ]
  },
  {
   "cell_type": "code",
   "execution_count": 246,
   "metadata": {},
   "outputs": [
    {
     "data": {
      "text/plain": [
       "sparse (generic function with 23 methods)"
      ]
     },
     "execution_count": 246,
     "metadata": {},
     "output_type": "execute_result"
    }
   ],
   "source": [
    "import Base: sparse, kron\n",
    "function sparse(M::PermuteMultiply{T}) where {T}\n",
    "    n = size(M, 1)\n",
    "    sparse(collect(1:n), M.perm, M.vals, n, n)\n",
    "end"
   ]
  },
  {
   "cell_type": "code",
   "execution_count": 247,
   "metadata": {},
   "outputs": [
    {
     "data": {
      "text/plain": [
       "adjoint (generic function with 2 methods)"
      ]
     },
     "execution_count": 247,
     "metadata": {},
     "output_type": "execute_result"
    }
   ],
   "source": [
    "import Base: *, /, ==, copy, conj, real, imag\n",
    "for func in (:conj, :real, :imag)\n",
    "    @eval ($func)(M::PermuteMultiply) = PermuteMultiply(M.perm, ($func)(M.vals))\n",
    "end\n",
    "copy(M::PermuteMultiply) = PermuteMultiply(copy(M.perm), copy(M.vals))\n",
    "\n",
    "\n",
    "import Base: transpose\n",
    "function transpose(M::PermuteMultiply)\n",
    "    new_perm = invperm(M.perm)\n",
    "    return PermuteMultiply(new_perm, M.vals[new_perm])\n",
    "end\n",
    "\n",
    "\n",
    "adjoint(S::PermuteMultiply{<:Real}) = transpose(S)\n",
    "adjoint(S::PermuteMultiply{<:Complex}) = conj(transpose(S))"
   ]
  },
  {
   "cell_type": "code",
   "execution_count": 248,
   "metadata": {},
   "outputs": [
    {
     "name": "stdout",
     "output_type": "stream",
     "text": [
      "true\n",
      "true\n",
      "true\n",
      "true\n"
     ]
    }
   ],
   "source": [
    "println(conj(p1)==conj(fp1))\n",
    "println(adjoint(p1)==transpose(conj(fp1)))\n",
    "println(real(p1)==real(fp1))\n",
    "println(imag(p1)==imag(fp1))"
   ]
  },
  {
   "cell_type": "code",
   "execution_count": 249,
   "metadata": {},
   "outputs": [
    {
     "name": "stdout",
     "output_type": "stream",
     "text": [
      "true\n",
      "true\n",
      "true\n"
     ]
    }
   ],
   "source": [
    "println(p1*transpose(p1)==fp1*transpose(fp1))\n",
    "println(p1*2==fp1*2)\n",
    "println(p1/2==fp1/2)"
   ]
  },
  {
   "cell_type": "code",
   "execution_count": 250,
   "metadata": {
    "scrolled": true
   },
   "outputs": [
    {
     "data": {
      "text/plain": [
       "== (generic function with 133 methods)"
      ]
     },
     "execution_count": 250,
     "metadata": {},
     "output_type": "execute_result"
    }
   ],
   "source": [
    "*(A::PermuteMultiply, B::Number) = PermuteMultiply(A.perm, A.vals*B)\n",
    "*(B::Number, A::PermuteMultiply) = A*B\n",
    "/(A::PermuteMultiply, B::Number) = PermuteMultiply(A.perm, A.vals/B)\n",
    "==(A::PermuteMultiply, B::PermuteMultiply) = (A.perm==B.perm) && (A.vals==B.vals)"
   ]
  },
  {
   "cell_type": "code",
   "execution_count": 251,
   "metadata": {},
   "outputs": [
    {
     "data": {
      "text/plain": [
       "inv (generic function with 28 methods)"
      ]
     },
     "execution_count": 251,
     "metadata": {},
     "output_type": "execute_result"
    }
   ],
   "source": [
    "import Base: nnz, nonzeros, inv\n",
    "nnz(M::PermuteMultiply) = length(M.vals)\n",
    "nonzeros(M::PermuteMultiply) = M.vals\n",
    "\n",
    "function inv(M::PermuteMultiply)\n",
    "    new_perm = invperm(M.perm)\n",
    "    return PermuteMultiply(new_perm, 1.0 ./ M.vals[new_perm])\n",
    "end"
   ]
  },
  {
   "cell_type": "code",
   "execution_count": 252,
   "metadata": {},
   "outputs": [
    {
     "name": "stdout",
     "output_type": "stream",
     "text": [
      "true\n",
      "true\n"
     ]
    }
   ],
   "source": [
    "println(nnz(p1)==4)\n",
    "println(inv(p1) * p1==eye(4))"
   ]
  },
  {
   "cell_type": "code",
   "execution_count": 418,
   "metadata": {},
   "outputs": [
    {
     "data": {
      "text/plain": [
       "* (generic function with 194 methods)"
      ]
     },
     "execution_count": 418,
     "metadata": {},
     "output_type": "execute_result"
    }
   ],
   "source": [
    "function (*)(A::PermuteMultiply{Ta}, X::AbstractVector{Tx}) where {Ta, Tx}\n",
    "    nX = length(X)\n",
    "    nX == size(A, 2) || throw(DimensionMismatch())\n",
    "    v = similar(X, promote_type(Ta, Tx))\n",
    "    @simd for i = 1:nX\n",
    "        @inbounds v[i] = A.vals[i]*X[A.perm[i]]\n",
    "    end\n",
    "    v\n",
    "end\n",
    "\n",
    "function (*)(X::RowVector{Tx}, A::PermuteMultiply{Ta}) where {Tx, Ta}\n",
    "    nX = length(X)\n",
    "    nX == size(A, 1) || throw(DimensionMismatch())\n",
    "    v = similar(X, promote_type(Tx, Ta))\n",
    "    @simd for i = 1:nX\n",
    "        @inbounds v[A.perm[i]] = A.vals[i]*X[i]\n",
    "    end\n",
    "    v\n",
    "end\n",
    "\n",
    "function (*)(D::Diagonal{Td}, A::PermuteMultiply{Ta}) where {Td, Ta}\n",
    "    T = Base.promote_op(*, Td, Ta)\n",
    "    PermuteMultiply(A.perm, A.vals .* D.diag)\n",
    "end\n",
    "\n",
    "function (*)(A::PermuteMultiply{Ta}, D::Diagonal{Td}) where {Td, Ta}\n",
    "    T = Base.promote_op(*, Td, Ta)\n",
    "    PermuteMultiply(A.perm, A.vals .* view(D.diag, A.perm))\n",
    "end\n",
    "\n",
    "function (*)(A::PermuteMultiply, B::PermuteMultiply)\n",
    "    size(A, 1) == size(B, 1) || throw(DimensionMismatch())\n",
    "    PermuteMultiply(B.perm[A.perm], A.vals.*view(B.vals, A.perm))\n",
    "end"
   ]
  },
  {
   "cell_type": "code",
   "execution_count": 419,
   "metadata": {
    "collapsed": true
   },
   "outputs": [],
   "source": [
    "Ds = randn(1000,1000)\n",
    "Pm = pmrand(1000)\n",
    "v = randn(1000)\n",
    "Dv = Diagonal(v)\n",
    "sPm = sparse(Pm);"
   ]
  },
  {
   "cell_type": "code",
   "execution_count": 420,
   "metadata": {},
   "outputs": [
    {
     "name": "stdout",
     "output_type": "stream",
     "text": [
      "true\n",
      "true\n",
      "true\n",
      "true\n"
     ]
    }
   ],
   "source": [
    "println(Pm*v == sparse(Pm)*v)\n",
    "println(Pm*Dv == sparse(Pm)*Dv)\n",
    "println(v'*Pm == v'*sparse(Pm))\n",
    "println(Dv'*Pm == Dv'*sparse(Pm))"
   ]
  },
  {
   "cell_type": "code",
   "execution_count": 434,
   "metadata": {
    "collapsed": true
   },
   "outputs": [],
   "source": [
    "#@benchmark $(v')*$Pm\n",
    "#@benchmark $Pm*$v\n",
    "#@benchmark $Dv*$Pm\n",
    "#@benchmark $Pm*$Dv\n",
    "#@benchmark $Pm*$Pm"
   ]
  },
  {
   "cell_type": "code",
   "execution_count": 408,
   "metadata": {},
   "outputs": [
    {
     "data": {
      "text/plain": [
       "* (generic function with 193 methods)"
      ]
     },
     "execution_count": 408,
     "metadata": {},
     "output_type": "execute_result"
    }
   ],
   "source": [
    "# to matrix\n",
    "function (*)(A::PermuteMultiply, X::AbstractMatrix)\n",
    "    size(X, 1) == size(A, 2) || throw(DimensionMismatch())\n",
    "    return @views A.vals .* X[A.perm, :]   # this may be inefficient for sparse CSC matrix.\n",
    "end\n",
    "\n",
    "function (*)(X::AbstractMatrix, A::PermuteMultiply)\n",
    "    mX, nX = size(X)\n",
    "    nX == size(A, 1) || throw(DimensionMismatch())\n",
    "    return @views (A.vals' .* X)[:, invperm(A.perm)]\n",
    "end"
   ]
  },
  {
   "cell_type": "code",
   "execution_count": 409,
   "metadata": {},
   "outputs": [
    {
     "name": "stdout",
     "output_type": "stream",
     "text": [
      "true\n",
      "true\n"
     ]
    }
   ],
   "source": [
    "println(Pm*Ds == sparse(Pm)*Ds)\n",
    "println(Ds*Pm == Ds*sparse(Pm))"
   ]
  },
  {
   "cell_type": "code",
   "execution_count": 404,
   "metadata": {},
   "outputs": [
    {
     "data": {
      "text/plain": [
       "BenchmarkTools.Trial: \n",
       "  memory estimate:  30.60 MiB\n",
       "  allocs estimate:  2005004\n",
       "  --------------\n",
       "  minimum time:     40.862 ms (4.32% GC)\n",
       "  median time:      42.362 ms (4.53% GC)\n",
       "  mean time:        42.693 ms (5.95% GC)\n",
       "  maximum time:     51.611 ms (4.82% GC)\n",
       "  --------------\n",
       "  samples:          118\n",
       "  evals/sample:     1"
      ]
     },
     "execution_count": 404,
     "metadata": {},
     "output_type": "execute_result"
    }
   ],
   "source": [
    "#@benchmark $sPm*$Ds\n",
    "#@benchmark $Pm*$Ds\n",
    "#@benchmark $Ds*$sPm\n",
    "#@benchmark $Ds*$Pm\n",
    "@benchmark $v'*$Pm"
   ]
  },
  {
   "cell_type": "code",
   "execution_count": 141,
   "metadata": {},
   "outputs": [
    {
     "data": {
      "text/plain": [
       "* (generic function with 193 methods)"
      ]
     },
     "execution_count": 141,
     "metadata": {},
     "output_type": "execute_result"
    }
   ],
   "source": [
    "function (*)(A::PermuteMultiply, X::SparseMatrixCSC)\n",
    "    nA = size(A, 1)\n",
    "    mX, nX = size(X)\n",
    "    mX == nA || throw(DimensionMismatch())\n",
    "    perm = invperm(A.perm)\n",
    "    nzval = similar(X.nzval)\n",
    "    rowval = similar(X.rowval)\n",
    "    @inbounds for j = 1:nA\n",
    "        @inbounds @simd for k = X.colptr[j]:X.colptr[j+1]-1\n",
    "            r = perm[X.rowval[k]]\n",
    "            nzval[k] = X.nzval[k]*A.vals[r]\n",
    "            rowval[k] = r\n",
    "        end\n",
    "    end\n",
    "    SparseMatrixCSC(mX, nX, X.colptr, rowval, nzval)\n",
    "end\n",
    "\n",
    "function (*)(X::SparseMatrixCSC, A::PermuteMultiply)\n",
    "    nA = size(A, 1)\n",
    "    mX, nX = size(X)\n",
    "    nX == nA || throw(DimensionMismatch())\n",
    "    perm = invperm(A.perm)\n",
    "    nzval = similar(X.nzval)\n",
    "    colptr = similar(X.colptr)\n",
    "    rowval = similar(X.rowval)\n",
    "    colptr[1] = 1\n",
    "    z = 1\n",
    "    @inbounds for j = 1:nA\n",
    "        pk = perm[j]\n",
    "        va = A.vals[pk]\n",
    "        @inbounds @simd for k = X.colptr[pk]:X.colptr[pk+1]-1\n",
    "            nzval[z] = X.nzval[k]*va\n",
    "            rowval[z] = X.rowval[k]\n",
    "            z+=1\n",
    "        end\n",
    "        colptr[j+1] = z\n",
    "    end\n",
    "    SparseMatrixCSC(mX, nX, colptr, rowval, nzval)\n",
    "end"
   ]
  },
  {
   "cell_type": "code",
   "execution_count": 135,
   "metadata": {},
   "outputs": [
    {
     "name": "stdout",
     "output_type": "stream",
     "text": [
      "true\n",
      "true\n",
      "true\n"
     ]
    }
   ],
   "source": [
    "println(Sp*Pm == Sp*sPm)\n",
    "println((Pm*Sp)*Sp==(sPm*Sp)*Sp)\n",
    "println(Pm*Sp*Sp == sPm*Sp*Sp)"
   ]
  },
  {
   "cell_type": "code",
   "execution_count": 145,
   "metadata": {},
   "outputs": [
    {
     "data": {
      "text/plain": [
       "BenchmarkTools.Trial: \n",
       "  memory estimate:  164.53 KiB\n",
       "  allocs estimate:  7\n",
       "  --------------\n",
       "  minimum time:     64.573 μs (0.00% GC)\n",
       "  median time:      67.606 μs (0.00% GC)\n",
       "  mean time:        75.255 μs (7.67% GC)\n",
       "  maximum time:     1.193 ms (84.53% GC)\n",
       "  --------------\n",
       "  samples:          10000\n",
       "  evals/sample:     1"
      ]
     },
     "execution_count": 145,
     "metadata": {},
     "output_type": "execute_result"
    }
   ],
   "source": [
    "#@benchmark $Sp*$Pm\n",
    "#@benchmark $Sp*$sPm\n",
    "#@benchmark $Pm*$Sp\n",
    "#@benchmark $sPm*$Sp\n",
    "#@benchmark invperm($Pm.perm)"
   ]
  },
  {
   "cell_type": "code",
   "execution_count": 12,
   "metadata": {},
   "outputs": [
    {
     "name": "stdout",
     "output_type": "stream",
     "text": [
      "true\n",
      "true\n",
      "true\n",
      "true\n",
      "true\n",
      "true\n",
      "true\n"
     ]
    }
   ],
   "source": [
    "println(full(p3*p2) == full(p3)*full(p2))\n",
    "println(full(sparse(p3)*p2) == full(p3)*full(p2))\n",
    "println(full(p3)*p2 == full(p3)*full(p2))\n",
    "\n",
    "v = [0.5, 0.3, 0.2, 1.0]\n",
    "println(p3*v == full(p3)*v)\n",
    "\n",
    "println(v'*p3==v'*full(p3))\n",
    "\n",
    "Dv = diagm(v)\n",
    "println(Dv*p3 == Dv*full(p3) == full(Dv)*full(p3))\n",
    "println(p3*Dv == full(p3)*Dv == full(p3)*full(Dv))"
   ]
  },
  {
   "cell_type": "code",
   "execution_count": 18,
   "metadata": {},
   "outputs": [
    {
     "data": {
      "text/plain": [
       "true"
      ]
     },
     "execution_count": 18,
     "metadata": {},
     "output_type": "execute_result"
    }
   ],
   "source": [
    "p3==full(p3)==sparse(p3)"
   ]
  },
  {
   "cell_type": "code",
   "execution_count": 46,
   "metadata": {},
   "outputs": [
    {
     "data": {
      "text/plain": [
       "kron (generic function with 14 methods)"
      ]
     },
     "execution_count": 46,
     "metadata": {},
     "output_type": "execute_result"
    }
   ],
   "source": [
    "function kron(A::PermuteMultiply{Ta}, B::PermuteMultiply{Tb}) where {Ta, Tb}\n",
    "    nA = size(A, 1)\n",
    "    nB = size(B, 1)\n",
    "    Tc = promote_type(Ta, Tb)\n",
    "    vals = kron(A.vals, B.vals)\n",
    "    perm = Vector{Int}(nB*nA)\n",
    "    permA = (A.perm.-1)*nB\n",
    "    @inbounds for i = 1:nA\n",
    "        #perm[(i-1)*nB+1:i*nB] = permA[i] +B.perm\n",
    "        start = (i-1)*nB\n",
    "        permAi = permA[i]\n",
    "        @inbounds @simd for j = 1:nB\n",
    "            perm[start+j] = permAi +B.perm[j]\n",
    "        end\n",
    "    end\n",
    "    PermuteMultiply(perm, vals)\n",
    "end"
   ]
  },
  {
   "cell_type": "code",
   "execution_count": 53,
   "metadata": {
    "collapsed": true
   },
   "outputs": [],
   "source": [
    "Dv = Diagonal(randn(1<<8))\n",
    "Pm = PermuteMultiply(randperm(1<<8), randn(1<<8));"
   ]
  },
  {
   "cell_type": "code",
   "execution_count": 54,
   "metadata": {},
   "outputs": [
    {
     "data": {
      "text/plain": [
       "true"
      ]
     },
     "execution_count": 54,
     "metadata": {},
     "output_type": "execute_result"
    }
   ],
   "source": [
    "sparse(kron(Pm, Pm)) == kron(sparse(Pm), sparse(Pm))"
   ]
  },
  {
   "cell_type": "code",
   "execution_count": 107,
   "metadata": {
    "collapsed": true
   },
   "outputs": [],
   "source": [
    "sPm = sparse(Pm);\n",
    "#@benchmark kron($Pm, $Pm)"
   ]
  },
  {
   "cell_type": "code",
   "execution_count": 23,
   "metadata": {},
   "outputs": [
    {
     "data": {
      "text/plain": [
       "PermuteMultiply"
      ]
     },
     "execution_count": 23,
     "metadata": {},
     "output_type": "execute_result"
    }
   ],
   "source": [
    "kron(A::PermuteMultiply, B::Diagonal) = kron(A, PermuteMultiply(B))\n",
    "kron(A::Diagonal, B::PermuteMultiply) = kron(PermuteMultiply(A), B)\n",
    "PermuteMultiply(dmat::Diagonal) = PermuteMultiply(collect(1:size(dmat, 1)), dmat.diag)"
   ]
  },
  {
   "cell_type": "code",
   "execution_count": 24,
   "metadata": {},
   "outputs": [
    {
     "name": "stdout",
     "output_type": "stream",
     "text": [
      "true\n",
      "true\n",
      "true\n"
     ]
    }
   ],
   "source": [
    "println(kron(sparse(Pm), sparse(Dv)) == sparse(kron(Pm, Dv)))\n",
    "println(sparse(kron(Pm, Dv)) == kron(sparse(Pm), sparse(Dv)))\n",
    "println(sparse(kron(Dv, Pm)) == kron(sparse(Dv), sparse(Pm)))"
   ]
  },
  {
   "cell_type": "code",
   "execution_count": 25,
   "metadata": {},
   "outputs": [
    {
     "data": {
      "text/plain": [
       "kron (generic function with 18 methods)"
      ]
     },
     "execution_count": 25,
     "metadata": {},
     "output_type": "execute_result"
    }
   ],
   "source": [
    "kron(A::PermuteMultiply, B::SparseMatrixCSC) = kron(sparse(A), B)\n",
    "kron(A::SparseMatrixCSC, B::PermuteMultiply) = kron(A, sparse(B))"
   ]
  },
  {
   "cell_type": "code",
   "execution_count": 66,
   "metadata": {},
   "outputs": [
    {
     "data": {
      "text/plain": [
       "kron (generic function with 18 methods)"
      ]
     },
     "execution_count": 66,
     "metadata": {},
     "output_type": "execute_result"
    }
   ],
   "source": [
    "function kron(A::PermuteMultiply{Ta}, B::SparseMatrixCSC{Tb}) where {Ta, Tb}\n",
    "    nA = size(A, 1)\n",
    "    mB, nB = size(B)\n",
    "    nV = nnz(B)\n",
    "    perm = invperm(A.perm)\n",
    "    #nzval = kron(A.vals[perm], B.nzval)\n",
    "    nzval = Vector{promote_type(Ta, Tb)}(nA*nV)\n",
    "    rowval = Vector{Int}(nA*nV)\n",
    "    colptr = Vector{Int}(nA*nB+1)\n",
    "    colptr[1] = 1\n",
    "    @inbounds @simd for i in 1:nA\n",
    "        start_row = (i-1)*nV\n",
    "        start_ri = (perm[i]-1)*mB\n",
    "        v0 = A.vals[perm[i]]\n",
    "        @inbounds @simd for j = 1:nV\n",
    "            nzval[start_row+j] = B.nzval[j]*v0\n",
    "            rowval[start_row+j] = B.rowval[j] + start_ri\n",
    "        end\n",
    "        start_col = (i-1)*nB+1\n",
    "        start_ci = (i-1)*nV\n",
    "        @inbounds @simd for j = 1:nB\n",
    "            colptr[start_col+j] = B.colptr[j+1] + start_ci\n",
    "        end\n",
    "        #=\n",
    "        rowval[(i-1)*nV+1:i*nV] = B.rowval+(perm[i]-1)*mB\n",
    "        colptr[(i-1)*nB+1:i*nB+1] = B.colptr+(i-1)*nV\n",
    "        =#\n",
    "    end\n",
    "    SparseMatrixCSC(mB*nA, nB*nA, colptr, rowval, nzval)\n",
    "end"
   ]
  },
  {
   "cell_type": "code",
   "execution_count": 67,
   "metadata": {},
   "outputs": [
    {
     "data": {
      "text/plain": [
       "true"
      ]
     },
     "execution_count": 67,
     "metadata": {},
     "output_type": "execute_result"
    }
   ],
   "source": [
    "kron(p1, sp) == kron(sparse(p1), sp)"
   ]
  },
  {
   "cell_type": "code",
   "execution_count": 68,
   "metadata": {
    "collapsed": true
   },
   "outputs": [],
   "source": [
    "Sp = sprand(1000, 1000, 0.01);\n",
    "sp = sprand(4, 4, 0.3);"
   ]
  },
  {
   "cell_type": "code",
   "execution_count": 108,
   "metadata": {
    "collapsed": true
   },
   "outputs": [],
   "source": [
    "#@benchmark kron($Pm, $Sp)"
   ]
  },
  {
   "cell_type": "code",
   "execution_count": 128,
   "metadata": {},
   "outputs": [
    {
     "data": {
      "text/plain": [
       "kron (generic function with 20 methods)"
      ]
     },
     "execution_count": 128,
     "metadata": {},
     "output_type": "execute_result"
    }
   ],
   "source": [
    "function kron(A::SparseMatrixCSC{T}, B::PermuteMultiply{Tb}) where {T, Tb}\n",
    "    nB = size(B, 1)\n",
    "    mA, nA = size(A)\n",
    "    nV = nnz(A)\n",
    "    perm = invperm(B.perm)\n",
    "    rowval = Vector{Int}(nB*nV)\n",
    "    colptr = Vector{Int}(nA*nB+1)\n",
    "    nzval = Vector{promote_type(T, Tb)}(nB*nV)\n",
    "    z=1\n",
    "    colptr[z] = 1\n",
    "    @inbounds for i in 1:nA\n",
    "        rstart = A.colptr[i]\n",
    "        rend = A.colptr[i+1]-1\n",
    "        @inbounds for k in 1:nB\n",
    "            irow = perm[k]\n",
    "            bval = B.vals[irow]\n",
    "            irow_nB = irow - nB\n",
    "            @inbounds @simd for r in rstart:rend\n",
    "                rowval[z] = A.rowval[r]*nB+irow_nB\n",
    "                nzval[z] = A.nzval[r]*bval\n",
    "                z+=1\n",
    "            end\n",
    "            colptr[(i-1)*nB+k+1] = z\n",
    "        end\n",
    "    end\n",
    "    SparseMatrixCSC(mA*nB, nA*nB, colptr, rowval, nzval)\n",
    "end"
   ]
  },
  {
   "cell_type": "code",
   "execution_count": 129,
   "metadata": {},
   "outputs": [
    {
     "data": {
      "text/plain": [
       "true"
      ]
     },
     "execution_count": 129,
     "metadata": {},
     "output_type": "execute_result"
    }
   ],
   "source": [
    "kron(sp, p1) == kron(sp, sparse(p1))"
   ]
  },
  {
   "cell_type": "code",
   "execution_count": 109,
   "metadata": {
    "collapsed": true
   },
   "outputs": [],
   "source": [
    "#@benchmark kron(Sp, Pm)\n",
    "sPm = sparse(Pm);\n",
    "#@benchmark kron(Sp, sPm)"
   ]
  },
  {
   "cell_type": "code",
   "execution_count": 163,
   "metadata": {},
   "outputs": [
    {
     "data": {
      "text/plain": [
       "kron (generic function with 20 methods)"
      ]
     },
     "execution_count": 163,
     "metadata": {},
     "output_type": "execute_result"
    }
   ],
   "source": [
    "function kron(A::StridedMatrix{Tv}, B::PermuteMultiply{Tb}) where {Tv, Tb}\n",
    "    mA, nA = size(A)\n",
    "    nB = size(B, 1)\n",
    "    perm = invperm(B.perm)\n",
    "    nzval = Vector{promote_type(Tv, Tb)}(mA*nA*nB)\n",
    "    rowval = Vector{Int}(mA*nA*nB)\n",
    "    colptr = collect(1:mA:nA*nB*mA+1)\n",
    "    z = 1\n",
    "    @inbounds for j = 1:nA\n",
    "        @inbounds for j2 = 1:nB\n",
    "            p2 = perm[j2]\n",
    "            val2 = B.vals[p2]\n",
    "            ir = p2\n",
    "            @inbounds @simd for i = 1:mA\n",
    "                nzval[z] = A[i, j]*val2  # merge\n",
    "                rowval[z] = ir\n",
    "                z += 1\n",
    "                ir += nB\n",
    "            end\n",
    "        end\n",
    "    end\n",
    "    SparseMatrixCSC(mA*nB, nA*nB, colptr, rowval, nzval)\n",
    "end\n",
    "\n",
    "function kron(A::PermuteMultiply{Ta}, B::StridedMatrix{Tb}) where {Tb, Ta}\n",
    "    mB, nB = size(B)\n",
    "    nA = size(A, 1)\n",
    "    perm = invperm(A.perm)\n",
    "    nzval = Vector{promote_type(Ta, Tb)}(mB*nA*nB)\n",
    "    rowval = Vector{Int}(mB*nA*nB)\n",
    "    colptr = collect(1:mB:nA*nB*mB+1)\n",
    "    z = 1\n",
    "    @inbounds for j = 1:nA\n",
    "        colbase = (j-1)*nB\n",
    "        p1 = perm[j]\n",
    "        val2 = A.vals[p1]\n",
    "        ir = (p1-1)*mB\n",
    "        @inbounds for j2 = 1:nB\n",
    "            @inbounds @simd for i2 = 1:mB\n",
    "                nzval[z] = B[i2, j2]*val2  # merge\n",
    "                rowval[z] = ir+i2\n",
    "                z += 1\n",
    "            end\n",
    "        end\n",
    "    end\n",
    "    SparseMatrixCSC(nA*mB, nA*nB, colptr, rowval, nzval)\n",
    "end"
   ]
  },
  {
   "cell_type": "code",
   "execution_count": 164,
   "metadata": {},
   "outputs": [
    {
     "name": "stdout",
     "output_type": "stream",
     "text": [
      "true\n",
      "true\n"
     ]
    }
   ],
   "source": [
    "Dm = randn(100,100);\n",
    "println(kron(Dm, p1) == kron(Dm, sparse(p1)))\n",
    "println(kron(p1, Dm) == kron(sparse(p1), Dm))"
   ]
  },
  {
   "cell_type": "code",
   "execution_count": 111,
   "metadata": {
    "collapsed": true
   },
   "outputs": [],
   "source": [
    "sp1 = sparse(p1);\n",
    "#@benchmark kron(Dm, sp1)\n",
    "#@benchmark size(kron(Dm, p1))\n",
    "#@benchmark size(kron(p1, Dm))\n",
    "#@benchmark size(kron(sp1, Dm))"
   ]
  },
  {
   "cell_type": "code",
   "execution_count": 168,
   "metadata": {},
   "outputs": [
    {
     "data": {
      "text/plain": [
       "false"
      ]
     },
     "execution_count": 168,
     "metadata": {},
     "output_type": "execute_result"
    }
   ],
   "source": [
    "issubtype(typeof(p1), StridedMatrix)"
   ]
  },
  {
   "cell_type": "code",
   "execution_count": 444,
   "metadata": {},
   "outputs": [
    {
     "data": {
      "text/plain": [
       "([2, 1, 4, 1, 4, 3], [1, 2, 2, 3, 3, 4])"
      ]
     },
     "execution_count": 444,
     "metadata": {},
     "output_type": "execute_result"
    }
   ],
   "source": [
    "findn(sp)"
   ]
  },
  {
   "cell_type": "code",
   "execution_count": 455,
   "metadata": {},
   "outputs": [
    {
     "data": {
      "text/plain": [
       "PermuteMultiply"
      ]
     },
     "execution_count": 455,
     "metadata": {},
     "output_type": "execute_result"
    }
   ],
   "source": [
    "function PermuteMultiply(ds::AbstractMatrix)\n",
    "    i,j,v = findnz(ds)\n",
    "    j == collect(1:size(ds, 2)) || throw(ArgumentError())\n",
    "    order = invperm(i)\n",
    "    PermuteMultiply(order, v[order])\n",
    "end"
   ]
  },
  {
   "cell_type": "code",
   "execution_count": 456,
   "metadata": {},
   "outputs": [
    {
     "data": {
      "text/plain": [
       "true"
      ]
     },
     "execution_count": 456,
     "metadata": {},
     "output_type": "execute_result"
    }
   ],
   "source": [
    "PermuteMultiply(full(p1)) == p1"
   ]
  },
  {
   "cell_type": "code",
   "execution_count": 460,
   "metadata": {},
   "outputs": [
    {
     "data": {
      "text/plain": [
       "convert (generic function with 722 methods)"
      ]
     },
     "execution_count": 460,
     "metadata": {},
     "output_type": "execute_result"
    }
   ],
   "source": [
    "import Base: convert\n",
    "convert(::Type{PermuteMultiply{T}}, B::PermuteMultiply) where T = PermuteMultiply(B.perm, T.(B.vals))"
   ]
  },
  {
   "cell_type": "code",
   "execution_count": 462,
   "metadata": {},
   "outputs": [
    {
     "data": {
      "text/plain": [
       "4×4 PermuteMultiply{Complex{Float16},Int64}:\n",
       "        0       0.099976+0.0im     0          0        \n",
       " 0.19995+0.0im          0          0          0        \n",
       "        0               0          0       0.0+0.3999im\n",
       "        0               0       0.5+0.0im     0        "
      ]
     },
     "execution_count": 462,
     "metadata": {},
     "output_type": "execute_result"
    }
   ],
   "source": [
    "convert(PermuteMultiply{Complex32}, p1)"
   ]
  },
  {
   "cell_type": "code",
   "execution_count": null,
   "metadata": {
    "collapsed": true
   },
   "outputs": [],
   "source": []
  }
 ],
 "metadata": {
  "kernelspec": {
   "display_name": "Julia 0.6.0",
   "language": "julia",
   "name": "julia-0.6"
  },
  "language_info": {
   "file_extension": ".jl",
   "mimetype": "application/julia",
   "name": "julia",
   "version": "0.6.0"
  }
 },
 "nbformat": 4,
 "nbformat_minor": 2
}
