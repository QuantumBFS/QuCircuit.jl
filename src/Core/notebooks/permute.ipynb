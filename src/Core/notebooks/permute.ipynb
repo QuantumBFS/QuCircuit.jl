{
 "cells": [
  {
   "cell_type": "code",
   "execution_count": 1,
   "metadata": {},
   "outputs": [
    {
     "data": {
      "text/plain": [
       "getindex (generic function with 191 methods)"
      ]
     },
     "execution_count": 1,
     "metadata": {},
     "output_type": "execute_result"
    }
   ],
   "source": [
    "using BenchmarkTools\n",
    "struct PermuteMultiply{Tv, Ti<:Integer} <: AbstractMatrix{Tv}\n",
    "    perm::Vector{Ti}   # new orders\n",
    "    vals::Vector{Tv}  # multiplied values.\n",
    "\n",
    "    function PermuteMultiply{Tv, Ti}(perm::Vector{Ti}, vals::Vector{Tv}) where {Tv, Ti<:Integer}\n",
    "        if length(perm) != length(vals)\n",
    "            throw(DimensionMismatch(\"permutation ($(length(perm))) and multiply ($(length(vals))) length mismatch.\"))\n",
    "        end\n",
    "        new{Tv, Ti}(perm, vals)\n",
    "    end\n",
    "end\n",
    "function PermuteMultiply(perm::Vector, vals::Vector)\n",
    "    Tv = eltype(vals)\n",
    "    Ti = eltype(perm)\n",
    "    PermuteMultiply{Tv,Ti}(perm, vals)\n",
    "end\n",
    "\n",
    "import Base: size, show, eltype, getindex, full\n",
    "size(M::PermuteMultiply) = (length(M.perm), length(M.perm))\n",
    "function size(A::PermuteMultiply, d::Integer)\n",
    "    if d < 1\n",
    "        throw(ArgumentError(\"dimension must be ≥ 1, got $d\"))\n",
    "    elseif d<=2\n",
    "        return length(A.perm)\n",
    "    else\n",
    "        return 1\n",
    "    end\n",
    "end\n",
    "getindex(M::PermuteMultiply, i::Integer, j::Integer) = M.perm[i] == j ? M.vals[i] : 0"
   ]
  },
  {
   "cell_type": "code",
   "execution_count": 2,
   "metadata": {},
   "outputs": [
    {
     "name": "stdout",
     "output_type": "stream",
     "text": [
      "Complex{Float64}[0 0.1+0.0im 0 0; 0.2+0.0im 0 0 0; 0 0 0 0.0+0.4im; 0 0 0.5+0.0im 0]\n",
      "Complex{Float64}[0 0.1+0.0im 0 0; 0.0+0.2im 0 0 0; 0 0 0 0.4+0.0im; 0 0 0.5+0.0im 0]\n",
      "(4, 4) 4\n",
      "false\n"
     ]
    }
   ],
   "source": [
    "p1 = PermuteMultiply([2,1,4,3],[0.1, 0.2, 0.4im, 0.5])\n",
    "p2 = PermuteMultiply([2,1,4,3],[0.1, 0.2im, 0.4, 0.5])\n",
    "p3 = PermuteMultiply([4,1,2,3],[0.5, 0.4im, 0.3, 0.2])\n",
    "println(p1)\n",
    "println(p2)\n",
    "println(size(p1),\" \" ,size(p1,1))\n",
    "println(isapprox(p1, p2))"
   ]
  },
  {
   "cell_type": "code",
   "execution_count": 3,
   "metadata": {},
   "outputs": [
    {
     "name": "stdout",
     "output_type": "stream",
     "text": [
      "Complex{Float64}\n"
     ]
    }
   ],
   "source": [
    "println(eltype(p1))"
   ]
  },
  {
   "cell_type": "code",
   "execution_count": 4,
   "metadata": {},
   "outputs": [
    {
     "name": "stdout",
     "output_type": "stream",
     "text": [
      "Complex{Float64}[0.0+0.0im 0.1+0.0im 0.0+0.0im 0.0+0.0im; 0.2+0.0im 0.0+0.0im 0.0+0.0im 0.0+0.0im; 0.0+0.0im 0.0+0.0im 0.0+0.0im 0.0+0.4im; 0.0+0.0im 0.0+0.0im 0.5+0.0im 0.0+0.0im]"
     ]
    }
   ],
   "source": [
    "@benchmark full(p1)\n",
    "function Matrix{T}(M::PermuteMultiply) where T\n",
    "    n = size(M, 1)\n",
    "    Mf = zeros(T, n, n)\n",
    "    @inbounds for i=1:n\n",
    "        Mf[i, M.perm[i]] = M.vals[i]\n",
    "    end\n",
    "    return Mf\n",
    "end\n",
    "Matrix(M::PermuteMultiply{T}) where {T} = Matrix{T}(M)\n",
    "Array(M::PermuteMultiply) = Matrix(M)\n",
    "full(M::PermuteMultiply) = Matrix(M)\n",
    "\n",
    "print(full(p1))"
   ]
  },
  {
   "cell_type": "code",
   "execution_count": 5,
   "metadata": {},
   "outputs": [
    {
     "name": "stdout",
     "output_type": "stream",
     "text": [
      "Complex{Float64}[0.0+0.0im 0.1+0.0im 0.0+0.0im 0.0+0.0im; 0.2+0.0im 0.0+0.0im 0.0+0.0im 0.0+0.0im; 0.0+0.0im 0.0+0.0im 0.0+0.0im 0.0+0.4im; 0.0+0.0im 0.0+0.0im 0.5+0.0im 0.0+0.0im]\n",
      "  [2, 1]  =  0.2+0.0im\n",
      "  [1, 2]  =  0.1+0.0im\n",
      "  [4, 3]  =  0.5+0.0im\n",
      "  [3, 4]  =  0.0+0.4im"
     ]
    }
   ],
   "source": [
    "function Matrix{T}(M::PermuteMultiply) where T\n",
    "    n = size(M, 1)\n",
    "    Mf = zeros(T, n, n)\n",
    "    @inbounds for i=1:n\n",
    "        Mf[i, M.perm[i]] = M.vals[i]\n",
    "    end\n",
    "    return Mf\n",
    "end\n",
    "Matrix(M::PermuteMultiply{T}) where {T} = Matrix{T}(M)\n",
    "Array(M::PermuteMultiply) = Matrix(M)\n",
    "\n",
    "print(full(p1))\n",
    "print(sparse(p1))"
   ]
  },
  {
   "cell_type": "code",
   "execution_count": 6,
   "metadata": {},
   "outputs": [
    {
     "data": {
      "text/plain": [
       "sparse (generic function with 23 methods)"
      ]
     },
     "execution_count": 6,
     "metadata": {},
     "output_type": "execute_result"
    }
   ],
   "source": [
    "import Base: sparse, kron\n",
    "function sparse(M::PermuteMultiply{T}) where {T}\n",
    "    n = size(M, 1)\n",
    "    sparse(collect(1:n), M.perm, M.vals, n, n)\n",
    "end"
   ]
  },
  {
   "cell_type": "code",
   "execution_count": 7,
   "metadata": {},
   "outputs": [
    {
     "name": "stdout",
     "output_type": "stream",
     "text": [
      "\n",
      "  [2, 1]  =  0.0+0.2im\n",
      "  [1, 2]  =  0.1+0.0im\n",
      "  [4, 3]  =  0.5+0.0im\n",
      "  [3, 4]  =  0.4+0.0im"
     ]
    }
   ],
   "source": [
    "print(sparse(p2))"
   ]
  },
  {
   "cell_type": "code",
   "execution_count": 8,
   "metadata": {},
   "outputs": [
    {
     "name": "stdout",
     "output_type": "stream",
     "text": [
      "PermuteMultiply\n",
      "- (2) * 0.1 + 0.0im\n",
      "- (1) * 0.2 + 0.0im\n",
      "- (4) * 0.0 + 0.4im\n",
      "- (3) * 0.5 + 0.0im\n",
      "\n"
     ]
    }
   ],
   "source": [
    "import Base: show\n",
    "function show(io::IO, M::PermuteMultiply)\n",
    "    println(\"PermuteMultiply\")\n",
    "    for item in zip(M.perm, M.vals)\n",
    "        i, p = item\n",
    "        println(\"- ($i) * $p\")\n",
    "    end\n",
    "end\n",
    "\n",
    "println(p1)"
   ]
  },
  {
   "cell_type": "code",
   "execution_count": 9,
   "metadata": {},
   "outputs": [
    {
     "data": {
      "text/plain": [
       "adjoint (generic function with 2 methods)"
      ]
     },
     "execution_count": 9,
     "metadata": {},
     "output_type": "execute_result"
    }
   ],
   "source": [
    "import Base: *, /, ==, copy, conj, real, imag\n",
    "for func in (:conj, :real, :imag)\n",
    "    @eval ($func)(M::PermuteMultiply) = PermuteMultiply(M.perm, ($func)(M.vals))\n",
    "end\n",
    "copy(M::PermuteMultiply) = PermuteMultiply(copy(M.perm), copy(M.vals))\n",
    "\n",
    "\n",
    "import Base: transpose\n",
    "function transpose(M::PermuteMultiply)\n",
    "    new_perm = sortperm(M.perm)\n",
    "    return PermuteMultiply(new_perm, M.vals[new_perm])\n",
    "end\n",
    "\n",
    "\n",
    "adjoint(S::PermuteMultiply{<:Real}) = transpose(S)\n",
    "adjoint(S::PermuteMultiply{<:Complex}) = conj(transpose(S))"
   ]
  },
  {
   "cell_type": "code",
   "execution_count": 10,
   "metadata": {},
   "outputs": [
    {
     "name": "stdout",
     "output_type": "stream",
     "text": [
      "Complex{Float64}[0.0+0.0im 0.0+0.0im 0.0+0.0im 0.0+0.0im; 0.0+0.0im 0.0+0.0im 0.0+0.0im 0.0+0.0im; 0.0+0.0im 0.0+0.0im 0.0+0.0im 0.0+0.0im; 0.0+0.0im 0.0+0.0im 0.0+0.0im 0.0+0.0im]\n",
      "Complex{Float64}[0.0+0.0im 0.0+0.0im 0.0+0.0im 0.0+0.0im; 0.0+0.0im 0.0+0.0im 0.0+0.0im 0.0+0.0im; 0.0+0.0im 0.0+0.0im 0.0+0.0im 0.0+0.0im; 0.0+0.0im 0.0+0.0im 0.0+0.0im 0.0+0.0im]\n",
      "[0.0 0.0 0.0 0.0; 0.0 0.0 0.0 0.0; 0.0 0.0 0.0 0.0; 0.0 0.0 0.0 0.0]\n",
      "[0.0 0.0 0.0 0.0; 0.0 0.0 0.0 0.0; 0.0 0.0 0.0 0.0; 0.0 0.0 0.0 0.0]\n"
     ]
    }
   ],
   "source": [
    "println(conj(p1)-conj(full(p1)))\n",
    "println(adjoint(p1)-transpose(conj(full(p1))))\n",
    "println(real(p1)-real(full(p1)))\n",
    "println(imag(p1)-imag(full(p1)))"
   ]
  },
  {
   "cell_type": "code",
   "execution_count": 11,
   "metadata": {},
   "outputs": [
    {
     "name": "stdout",
     "output_type": "stream",
     "text": [
      "Complex{Float64}[0.01+0.0im 0.0+0.0im 0.0+0.0im 0.0+0.0im; 0.0+0.0im 0.04+0.0im 0.0+0.0im 0.0+0.0im; 0.0+0.0im 0.0+0.0im -0.16+0.0im 0.0+0.0im; 0.0+0.0im 0.0+0.0im 0.0+0.0im 0.25+0.0im]\n",
      "Complex{Float64}[0.0+0.0im 0.2+0.0im 0.0+0.0im 0.0+0.0im; 0.4+0.0im 0.0+0.0im 0.0+0.0im 0.0+0.0im; 0.0+0.0im 0.0+0.0im 0.0+0.0im 0.0+0.8im; 0.0+0.0im 0.0+0.0im 1.0+0.0im 0.0+0.0im]\n",
      "Complex{Float64}[0.0+0.0im 0.05+0.0im 0.0+0.0im 0.0+0.0im; 0.1+0.0im 0.0+0.0im 0.0+0.0im 0.0+0.0im; 0.0+0.0im 0.0+0.0im 0.0+0.0im 0.0+0.2im; 0.0+0.0im 0.0+0.0im 0.25+0.0im 0.0+0.0im]\n",
      "false\n"
     ]
    }
   ],
   "source": [
    "println(p1*transpose(p1))\n",
    "println(p1*2)\n",
    "println(p1/2)\n",
    "println(p1==p2)"
   ]
  },
  {
   "cell_type": "code",
   "execution_count": 12,
   "metadata": {
    "scrolled": true
   },
   "outputs": [
    {
     "data": {
      "text/plain": [
       "== (generic function with 133 methods)"
      ]
     },
     "execution_count": 12,
     "metadata": {},
     "output_type": "execute_result"
    }
   ],
   "source": [
    "*(A::PermuteMultiply, B::Number) = PermuteMultiply(A.perm, A.vals*B)\n",
    "*(B::Number, A::PermuteMultiply) = A*B\n",
    "/(A::PermuteMultiply, B::Number) = PermuteMultiply(A.perm, A.vals/B)\n",
    "==(A::PermuteMultiply, B::PermuteMultiply) = (A.perm==B.perm) && (A.vals==B.vals)"
   ]
  },
  {
   "cell_type": "code",
   "execution_count": 13,
   "metadata": {},
   "outputs": [
    {
     "name": "stdout",
     "output_type": "stream",
     "text": [
      "Complex{Float64}[0.01+0.0im 0.0+0.0im 0.0+0.0im 0.0+0.0im; 0.0+0.0im 0.04+0.0im 0.0+0.0im 0.0+0.0im; 0.0+0.0im 0.0+0.0im -0.16+0.0im 0.0+0.0im; 0.0+0.0im 0.0+0.0im 0.0+0.0im 0.25+0.0im]\n",
      "PermuteMultiply\n",
      "- (2) * 0.2 + 0.0im\n",
      "- (1) * 0.4 + 0.0im\n",
      "- (4) * 0.0 + 0.8im\n",
      "- (3) * 1.0 + 0.0im\n",
      "\n",
      "PermuteMultiply\n",
      "- (2) * 0.05 + 0.0im\n",
      "- (1) * 0.1 + 0.0im\n",
      "- (4) * 0.0 + 0.2im\n",
      "- (3) * 0.25 + 0.0im\n",
      "\n",
      "false\n"
     ]
    }
   ],
   "source": [
    "println(p1*transpose(p1))\n",
    "println(p1*2)\n",
    "println(p1/2)\n",
    "println(p1==p2)"
   ]
  },
  {
   "cell_type": "code",
   "execution_count": 14,
   "metadata": {},
   "outputs": [
    {
     "data": {
      "text/plain": [
       "inv (generic function with 28 methods)"
      ]
     },
     "execution_count": 14,
     "metadata": {},
     "output_type": "execute_result"
    }
   ],
   "source": [
    "import Base: nnz, nonzeros, inv\n",
    "nnz(M::PermuteMultiply) = length(M.vals)\n",
    "nonzeros(M::PermuteMultiply) = M.vals\n",
    "\n",
    "function inv(M::PermuteMultiply)\n",
    "    new_perm = sortperm(M.perm)\n",
    "    return PermuteMultiply(new_perm, 1.0 ./ M.vals[new_perm])\n",
    "end"
   ]
  },
  {
   "cell_type": "code",
   "execution_count": 15,
   "metadata": {},
   "outputs": [
    {
     "name": "stdout",
     "output_type": "stream",
     "text": [
      "4\n",
      "Complex{Float64}[1.0+0.0im 0.0+0.0im 0.0+0.0im 0.0+0.0im; 0.0+0.0im 1.0+0.0im 0.0+0.0im 0.0+0.0im; 0.0+0.0im 0.0+0.0im 1.0+0.0im 0.0+0.0im; 0.0+0.0im 0.0+0.0im 0.0+0.0im 1.0+0.0im]\n"
     ]
    }
   ],
   "source": [
    "println(nnz(p1))\n",
    "println(inv(p1) * p1)"
   ]
  },
  {
   "cell_type": "code",
   "execution_count": 16,
   "metadata": {},
   "outputs": [
    {
     "data": {
      "text/plain": [
       "* (generic function with 191 methods)"
      ]
     },
     "execution_count": 16,
     "metadata": {},
     "output_type": "execute_result"
    }
   ],
   "source": [
    "function (*)(A::PermuteMultiply, X::AbstractVector)\n",
    "    length(X) == size(A, 2) || throw(DimensionMismatch())\n",
    "    return A.vals .* X[A.perm]\n",
    "end\n",
    "\n",
    "function (*)(X::AbstractVector, A::PermuteMultiply)\n",
    "    length(X) == size(A, 1) || throw(DimensionMismatch())\n",
    "    return (A.vals .* X)[sortperm(A.perm)]\n",
    "end\n",
    "\n",
    "function (*)(A::PermuteMultiply, X::AbstractMatrix)\n",
    "    size(X, 1) == size(A, 2) || throw(DimensionMismatch())\n",
    "    return A.vals .* X[A.perm, :]   # this may be inefficient for sparse CSC matrix.\n",
    "end\n",
    "\n",
    "function (*)(X::AbstractMatrix, A::PermuteMultiply)\n",
    "    size(X, 2) == size(A, 1) || throw(DimensionMismatch())\n",
    "    return (A.vals' .* X)[:, sortperm(A.perm)] # how can we lazy evaluate and cache this sort order?\n",
    "end\n",
    "function (*)(D::Diagonal, A::PermuteMultiply)\n",
    "    T = Base.promote_op(*, eltype(D), eltype(A))\n",
    "    B = copy(A)\n",
    "    B.vals *= D.diag\n",
    "    return B\n",
    "end\n",
    "\n",
    "function (*)(A::PermuteMultiply, D::Diagonal)\n",
    "    T = Base.promote_op(*, eltype(D), eltype(A))\n",
    "    B = copy(A)\n",
    "    B.vals *= D.diag[B.perm]\n",
    "    return B\n",
    "end\n",
    "\n",
    "function (*)(A::PermuteMultiply, B::PermuteMultiply)\n",
    "    size(A, 1) == size(B, 1) || throw(DimensionMismatch())\n",
    "    PermuteMultiply(B.perm[A.perm], A.vals.*B.vals[A.perm])\n",
    "end"
   ]
  },
  {
   "cell_type": "code",
   "execution_count": 17,
   "metadata": {},
   "outputs": [
    {
     "name": "stdout",
     "output_type": "stream",
     "text": [
      "Complex{Float64}[0.0+0.0im 0.0+0.0im 0.25+0.0im 0.0+0.0im; 0.0+0.0im 0.0+0.04im 0.0+0.0im 0.0+0.0im; 0.0+0.06im 0.0+0.0im 0.0+0.0im 0.0+0.0im; 0.0+0.0im 0.0+0.0im 0.0+0.0im 0.08+0.0im]\n",
      "Complex{Float64}[0.0+0.0im 0.0+0.0im 0.25+0.0im 0.0+0.0im; 0.0+0.0im 0.0+0.04im 0.0+0.0im 0.0+0.0im; 0.0-0.06im 0.0+0.0im 0.0+0.0im 0.0+0.0im; 0.0+0.0im 0.0+0.0im 0.0+0.0im 0.08+0.0im]\n",
      "Complex{Float64}[0.0+0.0im 0.0+0.0im 0.25+0.0im 0.0+0.0im; 0.0+0.0im 0.0+0.04im 0.0+0.0im 0.0+0.0im; 0.0-0.06im 0.0+0.0im 0.0+0.0im 0.0+0.0im; 0.0+0.0im 0.0+0.0im 0.0+0.0im 0.08+0.0im]\n",
      "Complex{Float64}[0.5+0.0im, 0.0+0.2im, 0.09+0.0im, 0.04+0.0im]\n",
      "Complex{Float64}[0.5+0.0im, 0.0+0.2im, 0.09+0.0im, 0.04+0.0im]\n",
      "Complex{Float64}[0.0+0.12im 0.06+0.0im 0.2+0.0im 0.25-0.0im]\n",
      "Complex{Float64}[0.0+0.12im 0.06-0.0im 0.2-0.0im 0.25-0.0im]\n",
      "Complex{Float64}[0.0-0.0im 0.0-0.0im 0.0-0.0im 0.25-0.0im; 0.0-0.12im 0.0-0.0im 0.0-0.0im 0.0-0.0im; 0.0-0.0im 0.06-0.0im 0.0-0.0im 0.0-0.0im; 0.0-0.0im 0.0-0.0im 0.2-0.0im 0.0-0.0im]\n",
      "Complex{Float64}[0.0+0.0im 0.0+0.0im 0.0+0.0im 0.25+0.0im; 0.0+0.12im 0.0+0.0im 0.0+0.0im 0.0+0.0im; 0.0+0.0im 0.06+0.0im 0.0+0.0im 0.0+0.0im; 0.0+0.0im 0.0+0.0im 0.2+0.0im 0.0+0.0im]\n",
      "Complex{Float64}[0.0+0.0im 0.0+0.0im 0.0+0.0im 0.5+0.0im; 0.0+0.2im 0.0+0.0im 0.0+0.0im 0.0+0.0im; 0.0+0.0im 0.09+0.0im 0.0+0.0im 0.0+0.0im; 0.0+0.0im 0.0+0.0im 0.04+0.0im 0.0+0.0im]\n",
      "Complex{Float64}[0.0+0.0im 0.0+0.0im 0.0+0.0im 0.5+0.0im; 0.0+0.2im 0.0+0.0im 0.0+0.0im 0.0+0.0im; 0.0+0.0im 0.09+0.0im 0.0+0.0im 0.0+0.0im; 0.0+0.0im 0.0+0.0im 0.04+0.0im 0.0+0.0im]\n"
     ]
    }
   ],
   "source": [
    "println(full(p3*p2))\n",
    "println(full(sparse(p3)*p2))\n",
    "println(full(p3)*p2)\n",
    "\n",
    "v = [0.5, 0.3, 0.2, 1.0]\n",
    "println(p3*v)\n",
    "println(full(p3)*v)\n",
    "\n",
    "println(v'*p3)\n",
    "println(v'*full(p3))\n",
    "\n",
    "Dv = diagm(v)\n",
    "println(Dv*p3)\n",
    "println(Dv*full(p3))\n",
    "println(p3*Dv)\n",
    "println(full(p3)*Dv)"
   ]
  },
  {
   "cell_type": "code",
   "execution_count": 18,
   "metadata": {},
   "outputs": [
    {
     "data": {
      "text/plain": [
       "true"
      ]
     },
     "execution_count": 18,
     "metadata": {},
     "output_type": "execute_result"
    }
   ],
   "source": [
    "p3==full(p3)==sparse(p3)"
   ]
  },
  {
   "cell_type": "code",
   "execution_count": 19,
   "metadata": {},
   "outputs": [
    {
     "data": {
      "text/plain": [
       "kron (generic function with 14 methods)"
      ]
     },
     "execution_count": 19,
     "metadata": {},
     "output_type": "execute_result"
    }
   ],
   "source": [
    "function kron(A::PermuteMultiply{Ta}, B::PermuteMultiply{Tb}) where {Ta, Tb}\n",
    "    nA = size(A, 1)\n",
    "    nB = size(B, 1)\n",
    "    Tc = promote_type(Ta, Tb)\n",
    "    vals = kron(A.vals, B.vals)\n",
    "    perm = Vector{Int}(nB*nA)\n",
    "    permA = (A.perm.-1)*nB\n",
    "    @inbounds for i = 1:nA\n",
    "        #perm[(i-1)*nB+1:i*nB] = permA[i] +B.perm\n",
    "        start = (i-1)*nB\n",
    "        permAi = permA[i]\n",
    "        @simd for j = 1:nB\n",
    "            perm[start+j] = permAi +B.perm[j]\n",
    "        end\n",
    "    end\n",
    "    PermuteMultiply(perm, vals)\n",
    "end"
   ]
  },
  {
   "cell_type": "code",
   "execution_count": 20,
   "metadata": {},
   "outputs": [],
   "source": [
    "Dv = Diagonal(randn(1<<8))\n",
    "Pm = PermuteMultiply(randperm(1<<8), randn(1<<8));"
   ]
  },
  {
   "cell_type": "code",
   "execution_count": 21,
   "metadata": {},
   "outputs": [
    {
     "data": {
      "text/plain": [
       "true"
      ]
     },
     "execution_count": 21,
     "metadata": {},
     "output_type": "execute_result"
    }
   ],
   "source": [
    "sparse(kron(Pm, Pm)) == kron(sparse(Pm), sparse(Pm))"
   ]
  },
  {
   "cell_type": "code",
   "execution_count": 22,
   "metadata": {},
   "outputs": [
    {
     "data": {
      "text/plain": [
       "BenchmarkTools.Trial: \n",
       "  memory estimate:  1.00 MiB\n",
       "  allocs estimate:  13\n",
       "  --------------\n",
       "  minimum time:     153.579 μs (0.00% GC)\n",
       "  median time:      228.585 μs (0.00% GC)\n",
       "  mean time:        269.033 μs (11.00% GC)\n",
       "  maximum time:     1.754 ms (71.18% GC)\n",
       "  --------------\n",
       "  samples:          10000\n",
       "  evals/sample:     1"
      ]
     },
     "execution_count": 22,
     "metadata": {},
     "output_type": "execute_result"
    }
   ],
   "source": [
    "sPm = sparse(Pm)\n",
    "@benchmark kron($Pm, $Pm)"
   ]
  },
  {
   "cell_type": "code",
   "execution_count": 23,
   "metadata": {},
   "outputs": [
    {
     "data": {
      "text/plain": [
       "PermuteMultiply"
      ]
     },
     "execution_count": 23,
     "metadata": {},
     "output_type": "execute_result"
    }
   ],
   "source": [
    "kron(A::PermuteMultiply, B::Diagonal) = kron(A, PermuteMultiply(B))\n",
    "kron(A::Diagonal, B::PermuteMultiply) = kron(PermuteMultiply(A), B)\n",
    "PermuteMultiply(dmat::Diagonal) = PermuteMultiply(collect(1:size(dmat, 1)), dmat.diag)"
   ]
  },
  {
   "cell_type": "code",
   "execution_count": 24,
   "metadata": {},
   "outputs": [
    {
     "name": "stdout",
     "output_type": "stream",
     "text": [
      "true\n",
      "true\n",
      "true\n"
     ]
    }
   ],
   "source": [
    "println(kron(sparse(Pm), sparse(Dv)) == sparse(kron(Pm, Dv)))\n",
    "println(sparse(kron(Pm, Dv)) == kron(sparse(Pm), sparse(Dv)))\n",
    "println(sparse(kron(Dv, Pm)) == kron(sparse(Dv), sparse(Pm)))"
   ]
  },
  {
   "cell_type": "code",
   "execution_count": 25,
   "metadata": {},
   "outputs": [
    {
     "data": {
      "text/plain": [
       "kron (generic function with 18 methods)"
      ]
     },
     "execution_count": 25,
     "metadata": {},
     "output_type": "execute_result"
    }
   ],
   "source": [
    "kron(A::PermuteMultiply, B::SparseMatrixCSC) = kron(sparse(A), B)\n",
    "kron(A::SparseMatrixCSC, B::PermuteMultiply) = kron(A, sparse(B))"
   ]
  },
  {
   "cell_type": "code",
   "execution_count": 26,
   "metadata": {},
   "outputs": [
    {
     "data": {
      "text/plain": [
       "kron (generic function with 18 methods)"
      ]
     },
     "execution_count": 26,
     "metadata": {},
     "output_type": "execute_result"
    }
   ],
   "source": [
    "function kron(A::PermuteMultiply{Ta}, B::SparseMatrixCSC{Tb}) where {Ta, Tb}\n",
    "    nA = size(A, 1)\n",
    "    mB, nB = size(B)\n",
    "    nV = nnz(B)\n",
    "    perm = sortperm(A.perm)\n",
    "    #nzval = kron(A.vals[perm], B.nzval)\n",
    "    nzval = Vector{promote_type(Ta, Tb)}(nA*nV)\n",
    "    rowval = Vector{Int}(nA*nV)\n",
    "    colptr = Vector{Int}(nA*nB+1)\n",
    "    colptr[1] = 1\n",
    "    @inbounds @simd for i in 1:nA\n",
    "        start_row = (i-1)*nV\n",
    "        start_ri = (perm[i]-1)*mB\n",
    "        v0 = A.vals[perm[i]]\n",
    "        for j = 1:nV\n",
    "            nzval[start_row+j] = B.nzval[j]*v0\n",
    "            rowval[start_row+j] = B.rowval[j] + start_ri\n",
    "        end\n",
    "        start_col = (i-1)*nB+1\n",
    "        start_ci = (i-1)*nV\n",
    "        for j = 1:nB\n",
    "            colptr[start_col+j] = B.colptr[j+1] + start_ci\n",
    "        end\n",
    "        #rowval[(i-1)*nV+1:i*nV] = B.rowval+(perm[i]-1)*mB\n",
    "        #colptr[(i-1)*nB+1:i*nB+1] = B.colptr+(i-1)*nV\n",
    "    end\n",
    "    SparseMatrixCSC(mB*nA, nB*nA, colptr, rowval, nzval)\n",
    "end"
   ]
  },
  {
   "cell_type": "code",
   "execution_count": 27,
   "metadata": {},
   "outputs": [
    {
     "ename": "LoadError",
     "evalue": "\u001b[91mUndefVarError: sp not defined\u001b[39m",
     "output_type": "error",
     "traceback": [
      "\u001b[91mUndefVarError: sp not defined\u001b[39m",
      ""
     ]
    }
   ],
   "source": [
    "kron(p1, sp) == kron(sparse(p1), sp)"
   ]
  },
  {
   "cell_type": "code",
   "execution_count": 28,
   "metadata": {
    "collapsed": true
   },
   "outputs": [],
   "source": [
    "Sp = sprand(1000, 1000, 0.01);\n",
    "sp = sprand(4, 4, 0.3);"
   ]
  },
  {
   "cell_type": "code",
   "execution_count": 29,
   "metadata": {},
   "outputs": [
    {
     "data": {
      "text/plain": [
       "BenchmarkTools.Trial: \n",
       "  memory estimate:  41.46 MiB\n",
       "  allocs estimate:  9\n",
       "  --------------\n",
       "  minimum time:     7.008 ms (0.00% GC)\n",
       "  median time:      7.625 ms (6.77% GC)\n",
       "  mean time:        9.420 ms (10.76% GC)\n",
       "  maximum time:     81.228 ms (85.35% GC)\n",
       "  --------------\n",
       "  samples:          530\n",
       "  evals/sample:     1"
      ]
     },
     "execution_count": 29,
     "metadata": {},
     "output_type": "execute_result"
    }
   ],
   "source": [
    "@benchmark kron(Pm, Sp)"
   ]
  },
  {
   "cell_type": "code",
   "execution_count": 43,
   "metadata": {},
   "outputs": [
    {
     "data": {
      "text/plain": [
       "kron (generic function with 18 methods)"
      ]
     },
     "execution_count": 43,
     "metadata": {},
     "output_type": "execute_result"
    }
   ],
   "source": [
    "function kron(A::SparseMatrixCSC{T}, B::PermuteMultiply{Tb}) where {T, Tb}\n",
    "    nB = size(B, 1)\n",
    "    mA, nA = size(A)\n",
    "    nV = nnz(A)\n",
    "    perm = sortperm(B.perm)\n",
    "    rowval = Vector{Int}(nB*nV)\n",
    "    colptr = Vector{Int}(nA*nB+1)\n",
    "    nzval = Vector{promote_type(T, Tb)}(nB*nV)\n",
    "    z=1\n",
    "    colptr[z] = 1\n",
    "    @inbounds for i in 1:nA\n",
    "        rstart = A.colptr[i]\n",
    "        rend = A.colptr[i+1]-1\n",
    "        @simd for k in 1:nB\n",
    "            irow = perm[k]\n",
    "            for r in rstart:rend\n",
    "                rowval[z] = (A.rowval[r]-1)*nB+irow\n",
    "                nzval[z] = A.nzval[r]*B.vals[irow]\n",
    "                z+=1\n",
    "            end\n",
    "            colptr[(i-1)*nB+k+1] = z\n",
    "        end\n",
    "    end\n",
    "    SparseMatrixCSC(mA*nB, nA*nB, colptr, rowval, nzval)\n",
    "end"
   ]
  },
  {
   "cell_type": "code",
   "execution_count": 41,
   "metadata": {},
   "outputs": [
    {
     "data": {
      "text/plain": [
       "true"
      ]
     },
     "execution_count": 41,
     "metadata": {},
     "output_type": "execute_result"
    }
   ],
   "source": [
    "kron(sp, p1) == kron(sp, sparse(p1))"
   ]
  },
  {
   "cell_type": "code",
   "execution_count": 44,
   "metadata": {},
   "outputs": [
    {
     "data": {
      "text/plain": [
       "BenchmarkTools.Trial: \n",
       "  memory estimate:  41.46 MiB\n",
       "  allocs estimate:  9\n",
       "  --------------\n",
       "  minimum time:     7.924 ms (0.00% GC)\n",
       "  median time:      15.129 ms (3.72% GC)\n",
       "  mean time:        13.032 ms (11.79% GC)\n",
       "  maximum time:     86.256 ms (82.21% GC)\n",
       "  --------------\n",
       "  samples:          384\n",
       "  evals/sample:     1"
      ]
     },
     "execution_count": 44,
     "metadata": {},
     "output_type": "execute_result"
    }
   ],
   "source": [
    "@benchmark kron(Sp, Pm)"
   ]
  },
  {
   "cell_type": "code",
   "execution_count": 33,
   "metadata": {},
   "outputs": [
    {
     "data": {
      "text/plain": [
       "BenchmarkTools.Trial: \n",
       "  memory estimate:  41.45 MiB\n",
       "  allocs estimate:  7\n",
       "  --------------\n",
       "  minimum time:     46.951 ms (1.13% GC)\n",
       "  median time:      54.182 ms (1.24% GC)\n",
       "  mean time:        57.958 ms (8.62% GC)\n",
       "  maximum time:     199.432 ms (64.27% GC)\n",
       "  --------------\n",
       "  samples:          87\n",
       "  evals/sample:     1"
      ]
     },
     "execution_count": 33,
     "metadata": {},
     "output_type": "execute_result"
    }
   ],
   "source": [
    "sPm = sparse(Pm)\n",
    "@benchmark kron(Sp, sPm)"
   ]
  },
  {
   "cell_type": "code",
   "execution_count": null,
   "metadata": {
    "collapsed": true
   },
   "outputs": [],
   "source": []
  }
 ],
 "metadata": {
  "kernelspec": {
   "display_name": "Julia 0.6.0",
   "language": "julia",
   "name": "julia-0.6"
  },
  "language_info": {
   "file_extension": ".jl",
   "mimetype": "application/julia",
   "name": "julia",
   "version": "0.6.0"
  }
 },
 "nbformat": 4,
 "nbformat_minor": 2
}
