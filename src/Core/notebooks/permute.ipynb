{
 "cells": [
  {
   "cell_type": "code",
   "execution_count": 1,
   "metadata": {},
   "outputs": [
    {
     "data": {
      "text/plain": [
       "getindex (generic function with 191 methods)"
      ]
     },
     "execution_count": 1,
     "metadata": {},
     "output_type": "execute_result"
    }
   ],
   "source": [
    "using BenchmarkTools\n",
    "struct PermuteMultiply{Tv, Ti<:Integer} <: AbstractMatrix{Tv}\n",
    "    perm::Vector{Ti}   # new orders\n",
    "    vals::Vector{Tv}  # multiplied values.\n",
    "\n",
    "    function PermuteMultiply{Tv, Ti}(perm::Vector{Ti}, vals::Vector{Tv}) where {Tv, Ti<:Integer}\n",
    "        if length(perm) != length(vals)\n",
    "            throw(DimensionMismatch(\"permutation ($(length(perm))) and multiply ($(length(vals))) length mismatch.\"))\n",
    "        end\n",
    "        new{Tv, Ti}(perm, vals)\n",
    "    end\n",
    "end\n",
    "function PermuteMultiply(perm::Vector, vals::Vector)\n",
    "    Tv = eltype(vals)\n",
    "    Ti = eltype(perm)\n",
    "    PermuteMultiply{Tv,Ti}(perm, vals)\n",
    "end\n",
    "\n",
    "import Base: size, show, eltype, getindex, full\n",
    "size(M::PermuteMultiply) = (length(M.perm), length(M.perm))\n",
    "function size(A::PermuteMultiply, d::Integer)\n",
    "    if d < 1\n",
    "        throw(ArgumentError(\"dimension must be ≥ 1, got $d\"))\n",
    "    elseif d<=2\n",
    "        return length(A.perm)\n",
    "    else\n",
    "        return 1\n",
    "    end\n",
    "end\n",
    "getindex(M::PermuteMultiply, i::Integer, j::Integer) = M.perm[i] == j ? M.vals[i] : 0"
   ]
  },
  {
   "cell_type": "code",
   "execution_count": 2,
   "metadata": {},
   "outputs": [
    {
     "name": "stdout",
     "output_type": "stream",
     "text": [
      "Complex{Float64}[0 0.1+0.0im 0 0; 0.2+0.0im 0 0 0; 0 0 0 0.0+0.4im; 0 0 0.5+0.0im 0]\n",
      "Complex{Float64}[0 0.1+0.0im 0 0; 0.0+0.2im 0 0 0; 0 0 0 0.4+0.0im; 0 0 0.5+0.0im 0]\n",
      "(4, 4) 4\n",
      "false\n"
     ]
    }
   ],
   "source": [
    "p1 = PermuteMultiply([2,1,4,3],[0.1, 0.2, 0.4im, 0.5])\n",
    "p2 = PermuteMultiply([2,1,4,3],[0.1, 0.2im, 0.4, 0.5])\n",
    "p3 = PermuteMultiply([4,1,2,3],[0.5, 0.4im, 0.3, 0.2])\n",
    "println(p1)\n",
    "println(p2)\n",
    "println(size(p1),\" \" ,size(p1,1))\n",
    "println(isapprox(p1, p2))"
   ]
  },
  {
   "cell_type": "code",
   "execution_count": 3,
   "metadata": {},
   "outputs": [
    {
     "name": "stdout",
     "output_type": "stream",
     "text": [
      "Complex{Float64}\n"
     ]
    }
   ],
   "source": [
    "println(eltype(p1))"
   ]
  },
  {
   "cell_type": "code",
   "execution_count": 4,
   "metadata": {},
   "outputs": [
    {
     "name": "stdout",
     "output_type": "stream",
     "text": [
      "Complex{Float64}[0.0+0.0im 0.1+0.0im 0.0+0.0im 0.0+0.0im; 0.2+0.0im 0.0+0.0im 0.0+0.0im 0.0+0.0im; 0.0+0.0im 0.0+0.0im 0.0+0.0im 0.0+0.4im; 0.0+0.0im 0.0+0.0im 0.5+0.0im 0.0+0.0im]"
     ]
    }
   ],
   "source": [
    "@benchmark full(p1)\n",
    "function Matrix{T}(M::PermuteMultiply) where T\n",
    "    n = size(M, 1)\n",
    "    Mf = zeros(T, n, n)\n",
    "    @inbounds for i=1:n\n",
    "        Mf[i, M.perm[i]] = M.vals[i]\n",
    "    end\n",
    "    return Mf\n",
    "end\n",
    "Matrix(M::PermuteMultiply{T}) where {T} = Matrix{T}(M)\n",
    "Array(M::PermuteMultiply) = Matrix(M)\n",
    "full(M::PermuteMultiply) = Matrix(M)\n",
    "\n",
    "print(full(p1))"
   ]
  },
  {
   "cell_type": "code",
   "execution_count": 5,
   "metadata": {},
   "outputs": [
    {
     "name": "stdout",
     "output_type": "stream",
     "text": [
      "Complex{Float64}[0.0+0.0im 0.1+0.0im 0.0+0.0im 0.0+0.0im; 0.2+0.0im 0.0+0.0im 0.0+0.0im 0.0+0.0im; 0.0+0.0im 0.0+0.0im 0.0+0.0im 0.0+0.4im; 0.0+0.0im 0.0+0.0im 0.5+0.0im 0.0+0.0im]\n",
      "  [2, 1]  =  0.2+0.0im\n",
      "  [1, 2]  =  0.1+0.0im\n",
      "  [4, 3]  =  0.5+0.0im\n",
      "  [3, 4]  =  0.0+0.4im"
     ]
    }
   ],
   "source": [
    "function Matrix{T}(M::PermuteMultiply) where T\n",
    "    n = size(M, 1)\n",
    "    Mf = zeros(T, n, n)\n",
    "    @inbounds for i=1:n\n",
    "        Mf[i, M.perm[i]] = M.vals[i]\n",
    "    end\n",
    "    return Mf\n",
    "end\n",
    "Matrix(M::PermuteMultiply{T}) where {T} = Matrix{T}(M)\n",
    "Array(M::PermuteMultiply) = Matrix(M)\n",
    "\n",
    "print(full(p1))\n",
    "print(sparse(p1))"
   ]
  },
  {
   "cell_type": "code",
   "execution_count": 6,
   "metadata": {},
   "outputs": [
    {
     "data": {
      "text/plain": [
       "sparse (generic function with 23 methods)"
      ]
     },
     "execution_count": 6,
     "metadata": {},
     "output_type": "execute_result"
    }
   ],
   "source": [
    "import Base: sparse, kron\n",
    "function sparse(M::PermuteMultiply{T}) where {T}\n",
    "    n = size(M, 1)\n",
    "    sparse(collect(1:n), M.perm, M.vals, n, n)\n",
    "end"
   ]
  },
  {
   "cell_type": "code",
   "execution_count": 7,
   "metadata": {},
   "outputs": [
    {
     "name": "stdout",
     "output_type": "stream",
     "text": [
      "\n",
      "  [2, 1]  =  0.0+0.2im\n",
      "  [1, 2]  =  0.1+0.0im\n",
      "  [4, 3]  =  0.5+0.0im\n",
      "  [3, 4]  =  0.4+0.0im"
     ]
    }
   ],
   "source": [
    "print(sparse(p2))"
   ]
  },
  {
   "cell_type": "code",
   "execution_count": 8,
   "metadata": {},
   "outputs": [
    {
     "name": "stdout",
     "output_type": "stream",
     "text": [
      "PermuteMultiply\n",
      "- (2) * 0.1 + 0.0im\n",
      "- (1) * 0.2 + 0.0im\n",
      "- (4) * 0.0 + 0.4im\n",
      "- (3) * 0.5 + 0.0im\n",
      "\n"
     ]
    }
   ],
   "source": [
    "import Base: show\n",
    "function show(io::IO, M::PermuteMultiply)\n",
    "    println(\"PermuteMultiply\")\n",
    "    for item in zip(M.perm, M.vals)\n",
    "        i, p = item\n",
    "        println(\"- ($i) * $p\")\n",
    "    end\n",
    "end\n",
    "\n",
    "println(p1)"
   ]
  },
  {
   "cell_type": "code",
   "execution_count": 9,
   "metadata": {},
   "outputs": [
    {
     "data": {
      "text/plain": [
       "adjoint (generic function with 2 methods)"
      ]
     },
     "execution_count": 9,
     "metadata": {},
     "output_type": "execute_result"
    }
   ],
   "source": [
    "import Base: *, /, ==, copy, conj, real, imag\n",
    "for func in (:conj, :real, :imag)\n",
    "    @eval ($func)(M::PermuteMultiply) = PermuteMultiply(M.perm, ($func)(M.vals))\n",
    "end\n",
    "copy(M::PermuteMultiply) = PermuteMultiply(copy(M.perm), copy(M.vals))\n",
    "\n",
    "\n",
    "import Base: transpose\n",
    "function transpose(M::PermuteMultiply)\n",
    "    new_perm = sortperm(M.perm)\n",
    "    return PermuteMultiply(new_perm, M.vals[new_perm])\n",
    "end\n",
    "\n",
    "\n",
    "adjoint(S::PermuteMultiply{<:Real}) = transpose(S)\n",
    "adjoint(S::PermuteMultiply{<:Complex}) = conj(transpose(S))"
   ]
  },
  {
   "cell_type": "code",
   "execution_count": 10,
   "metadata": {},
   "outputs": [
    {
     "name": "stdout",
     "output_type": "stream",
     "text": [
      "Complex{Float64}[0.0+0.0im 0.0+0.0im 0.0+0.0im 0.0+0.0im; 0.0+0.0im 0.0+0.0im 0.0+0.0im 0.0+0.0im; 0.0+0.0im 0.0+0.0im 0.0+0.0im 0.0+0.0im; 0.0+0.0im 0.0+0.0im 0.0+0.0im 0.0+0.0im]\n",
      "Complex{Float64}[0.0+0.0im 0.0+0.0im 0.0+0.0im 0.0+0.0im; 0.0+0.0im 0.0+0.0im 0.0+0.0im 0.0+0.0im; 0.0+0.0im 0.0+0.0im 0.0+0.0im 0.0+0.0im; 0.0+0.0im 0.0+0.0im 0.0+0.0im 0.0+0.0im]\n",
      "[0.0 0.0 0.0 0.0; 0.0 0.0 0.0 0.0; 0.0 0.0 0.0 0.0; 0.0 0.0 0.0 0.0]\n",
      "[0.0 0.0 0.0 0.0; 0.0 0.0 0.0 0.0; 0.0 0.0 0.0 0.0; 0.0 0.0 0.0 0.0]\n"
     ]
    }
   ],
   "source": [
    "println(conj(p1)-conj(full(p1)))\n",
    "println(adjoint(p1)-transpose(conj(full(p1))))\n",
    "println(real(p1)-real(full(p1)))\n",
    "println(imag(p1)-imag(full(p1)))"
   ]
  },
  {
   "cell_type": "code",
   "execution_count": 11,
   "metadata": {},
   "outputs": [
    {
     "name": "stdout",
     "output_type": "stream",
     "text": [
      "Complex{Float64}[0.01+0.0im 0.0+0.0im 0.0+0.0im 0.0+0.0im; 0.0+0.0im 0.04+0.0im 0.0+0.0im 0.0+0.0im; 0.0+0.0im 0.0+0.0im -0.16+0.0im 0.0+0.0im; 0.0+0.0im 0.0+0.0im 0.0+0.0im 0.25+0.0im]\n",
      "Complex{Float64}[0.0+0.0im 0.2+0.0im 0.0+0.0im 0.0+0.0im; 0.4+0.0im 0.0+0.0im 0.0+0.0im 0.0+0.0im; 0.0+0.0im 0.0+0.0im 0.0+0.0im 0.0+0.8im; 0.0+0.0im 0.0+0.0im 1.0+0.0im 0.0+0.0im]\n",
      "Complex{Float64}[0.0+0.0im 0.05+0.0im 0.0+0.0im 0.0+0.0im; 0.1+0.0im 0.0+0.0im 0.0+0.0im 0.0+0.0im; 0.0+0.0im 0.0+0.0im 0.0+0.0im 0.0+0.2im; 0.0+0.0im 0.0+0.0im 0.25+0.0im 0.0+0.0im]\n",
      "false\n"
     ]
    }
   ],
   "source": [
    "println(p1*transpose(p1))\n",
    "println(p1*2)\n",
    "println(p1/2)\n",
    "println(p1==p2)"
   ]
  },
  {
   "cell_type": "code",
   "execution_count": 12,
   "metadata": {
    "scrolled": true
   },
   "outputs": [
    {
     "data": {
      "text/plain": [
       "== (generic function with 133 methods)"
      ]
     },
     "execution_count": 12,
     "metadata": {},
     "output_type": "execute_result"
    }
   ],
   "source": [
    "*(A::PermuteMultiply, B::Number) = PermuteMultiply(A.perm, A.vals*B)\n",
    "*(B::Number, A::PermuteMultiply) = A*B\n",
    "/(A::PermuteMultiply, B::Number) = PermuteMultiply(A.perm, A.vals/B)\n",
    "==(A::PermuteMultiply, B::PermuteMultiply) = (A.perm==B.perm) && (A.vals==B.vals)"
   ]
  },
  {
   "cell_type": "code",
   "execution_count": 13,
   "metadata": {},
   "outputs": [
    {
     "name": "stdout",
     "output_type": "stream",
     "text": [
      "Complex{Float64}[0.01+0.0im 0.0+0.0im 0.0+0.0im 0.0+0.0im; 0.0+0.0im 0.04+0.0im 0.0+0.0im 0.0+0.0im; 0.0+0.0im 0.0+0.0im -0.16+0.0im 0.0+0.0im; 0.0+0.0im 0.0+0.0im 0.0+0.0im 0.25+0.0im]\n",
      "PermuteMultiply\n",
      "- (2) * 0.2 + 0.0im\n",
      "- (1) * 0.4 + 0.0im\n",
      "- (4) * 0.0 + 0.8im\n",
      "- (3) * 1.0 + 0.0im\n",
      "\n",
      "PermuteMultiply\n",
      "- (2) * 0.05 + 0.0im\n",
      "- (1) * 0.1 + 0.0im\n",
      "- (4) * 0.0 + 0.2im\n",
      "- (3) * 0.25 + 0.0im\n",
      "\n",
      "false\n"
     ]
    }
   ],
   "source": [
    "println(p1*transpose(p1))\n",
    "println(p1*2)\n",
    "println(p1/2)\n",
    "println(p1==p2)"
   ]
  },
  {
   "cell_type": "code",
   "execution_count": 14,
   "metadata": {},
   "outputs": [
    {
     "data": {
      "text/plain": [
       "inv (generic function with 28 methods)"
      ]
     },
     "execution_count": 14,
     "metadata": {},
     "output_type": "execute_result"
    }
   ],
   "source": [
    "import Base: nnz, nonzeros, inv\n",
    "nnz(M::PermuteMultiply) = length(M.vals)\n",
    "nonzeros(M::PermuteMultiply) = M.vals\n",
    "\n",
    "function inv(M::PermuteMultiply)\n",
    "    new_perm = sortperm(M.perm)\n",
    "    return PermuteMultiply(new_perm, 1.0 ./ M.vals[new_perm])\n",
    "end"
   ]
  },
  {
   "cell_type": "code",
   "execution_count": 15,
   "metadata": {},
   "outputs": [
    {
     "name": "stdout",
     "output_type": "stream",
     "text": [
      "4\n",
      "Complex{Float64}[1.0+0.0im 0.0+0.0im 0.0+0.0im 0.0+0.0im; 0.0+0.0im 1.0+0.0im 0.0+0.0im 0.0+0.0im; 0.0+0.0im 0.0+0.0im 1.0+0.0im 0.0+0.0im; 0.0+0.0im 0.0+0.0im 0.0+0.0im 1.0+0.0im]\n"
     ]
    }
   ],
   "source": [
    "println(nnz(p1))\n",
    "println(inv(p1) * p1)"
   ]
  },
  {
   "cell_type": "code",
   "execution_count": 16,
   "metadata": {},
   "outputs": [
    {
     "data": {
      "text/plain": [
       "* (generic function with 191 methods)"
      ]
     },
     "execution_count": 16,
     "metadata": {},
     "output_type": "execute_result"
    }
   ],
   "source": [
    "function (*)(A::PermuteMultiply, X::AbstractVector)\n",
    "    length(X) == size(A, 2) || throw(DimensionMismatch())\n",
    "    return A.vals .* X[A.perm]\n",
    "end\n",
    "\n",
    "function (*)(X::AbstractVector, A::PermuteMultiply)\n",
    "    length(X) == size(A, 1) || throw(DimensionMismatch())\n",
    "    return (A.vals .* X)[sortperm(A.perm)]\n",
    "end\n",
    "\n",
    "function (*)(A::PermuteMultiply, X::AbstractMatrix)\n",
    "    size(X, 1) == size(A, 2) || throw(DimensionMismatch())\n",
    "    return A.vals .* X[A.perm, :]   # this may be inefficient for sparse CSC matrix.\n",
    "end\n",
    "\n",
    "function (*)(X::AbstractMatrix, A::PermuteMultiply)\n",
    "    size(X, 2) == size(A, 1) || throw(DimensionMismatch())\n",
    "    return (A.vals' .* X)[:, sortperm(A.perm)] # how can we lazy evaluate and cache this sort order?\n",
    "end\n",
    "function (*)(D::Diagonal, A::PermuteMultiply)\n",
    "    T = Base.promote_op(*, eltype(D), eltype(A))\n",
    "    B = copy(A)\n",
    "    B.vals *= D.diag\n",
    "    return B\n",
    "end\n",
    "\n",
    "function (*)(A::PermuteMultiply, D::Diagonal)\n",
    "    T = Base.promote_op(*, eltype(D), eltype(A))\n",
    "    B = copy(A)\n",
    "    B.vals *= D.diag[B.perm]\n",
    "    return B\n",
    "end\n",
    "\n",
    "function (*)(A::PermuteMultiply, B::PermuteMultiply)\n",
    "    size(A, 1) == size(B, 1) || throw(DimensionMismatch())\n",
    "    PermuteMultiply(B.perm[A.perm], A.vals.*B.vals[A.perm])\n",
    "end"
   ]
  },
  {
   "cell_type": "code",
   "execution_count": 17,
   "metadata": {},
   "outputs": [
    {
     "name": "stdout",
     "output_type": "stream",
     "text": [
      "Complex{Float64}[0.0+0.0im 0.0+0.0im 0.25+0.0im 0.0+0.0im; 0.0+0.0im 0.0+0.04im 0.0+0.0im 0.0+0.0im; 0.0+0.06im 0.0+0.0im 0.0+0.0im 0.0+0.0im; 0.0+0.0im 0.0+0.0im 0.0+0.0im 0.08+0.0im]\n",
      "Complex{Float64}[0.0+0.0im 0.0+0.0im 0.25+0.0im 0.0+0.0im; 0.0+0.0im 0.0+0.04im 0.0+0.0im 0.0+0.0im; 0.0-0.06im 0.0+0.0im 0.0+0.0im 0.0+0.0im; 0.0+0.0im 0.0+0.0im 0.0+0.0im 0.08+0.0im]\n",
      "Complex{Float64}[0.0+0.0im 0.0+0.0im 0.25+0.0im 0.0+0.0im; 0.0+0.0im 0.0+0.04im 0.0+0.0im 0.0+0.0im; 0.0-0.06im 0.0+0.0im 0.0+0.0im 0.0+0.0im; 0.0+0.0im 0.0+0.0im 0.0+0.0im 0.08+0.0im]\n",
      "Complex{Float64}[0.5+0.0im, 0.0+0.2im, 0.09+0.0im, 0.04+0.0im]\n",
      "Complex{Float64}[0.5+0.0im, 0.0+0.2im, 0.09+0.0im, 0.04+0.0im]\n",
      "Complex{Float64}[0.0+0.12im 0.06+0.0im 0.2+0.0im 0.25-0.0im]\n",
      "Complex{Float64}[0.0+0.12im 0.06-0.0im 0.2-0.0im 0.25-0.0im]\n",
      "Complex{Float64}[0.0-0.0im 0.0-0.0im 0.0-0.0im 0.25-0.0im; 0.0-0.12im 0.0-0.0im 0.0-0.0im 0.0-0.0im; 0.0-0.0im 0.06-0.0im 0.0-0.0im 0.0-0.0im; 0.0-0.0im 0.0-0.0im 0.2-0.0im 0.0-0.0im]\n",
      "Complex{Float64}[0.0+0.0im 0.0+0.0im 0.0+0.0im 0.25+0.0im; 0.0+0.12im 0.0+0.0im 0.0+0.0im 0.0+0.0im; 0.0+0.0im 0.06+0.0im 0.0+0.0im 0.0+0.0im; 0.0+0.0im 0.0+0.0im 0.2+0.0im 0.0+0.0im]\n",
      "Complex{Float64}[0.0+0.0im 0.0+0.0im 0.0+0.0im 0.5+0.0im; 0.0+0.2im 0.0+0.0im 0.0+0.0im 0.0+0.0im; 0.0+0.0im 0.09+0.0im 0.0+0.0im 0.0+0.0im; 0.0+0.0im 0.0+0.0im 0.04+0.0im 0.0+0.0im]\n",
      "Complex{Float64}[0.0+0.0im 0.0+0.0im 0.0+0.0im 0.5+0.0im; 0.0+0.2im 0.0+0.0im 0.0+0.0im 0.0+0.0im; 0.0+0.0im 0.09+0.0im 0.0+0.0im 0.0+0.0im; 0.0+0.0im 0.0+0.0im 0.04+0.0im 0.0+0.0im]\n"
     ]
    }
   ],
   "source": [
    "println(full(p3*p2))\n",
    "println(full(sparse(p3)*p2))\n",
    "println(full(p3)*p2)\n",
    "\n",
    "v = [0.5, 0.3, 0.2, 1.0]\n",
    "println(p3*v)\n",
    "println(full(p3)*v)\n",
    "\n",
    "println(v'*p3)\n",
    "println(v'*full(p3))\n",
    "\n",
    "Dv = diagm(v)\n",
    "println(Dv*p3)\n",
    "println(Dv*full(p3))\n",
    "println(p3*Dv)\n",
    "println(full(p3)*Dv)"
   ]
  },
  {
   "cell_type": "code",
   "execution_count": 18,
   "metadata": {},
   "outputs": [
    {
     "data": {
      "text/plain": [
       "true"
      ]
     },
     "execution_count": 18,
     "metadata": {},
     "output_type": "execute_result"
    }
   ],
   "source": [
    "p3==full(p3)==sparse(p3)"
   ]
  },
  {
   "cell_type": "code",
   "execution_count": 52,
   "metadata": {},
   "outputs": [
    {
     "data": {
      "text/plain": [
       "kron (generic function with 18 methods)"
      ]
     },
     "execution_count": 52,
     "metadata": {},
     "output_type": "execute_result"
    }
   ],
   "source": [
    "function kron(A::PermuteMultiply{Ta}, B::PermuteMultiply{Tb}) where {Ta, Tb}\n",
    "    nA = size(A, 1)\n",
    "    nB = size(B, 1)\n",
    "    Tc = promote_type(Ta, Tb)\n",
    "    vals = kron(A.vals, B.vals)\n",
    "    perm = Vector{Int}(nB*nA)\n",
    "    permA = (A.perm.-1)*nB\n",
    "    @inbounds for i = 1:nA\n",
    "        #perm[(i-1)*nB+1:i*nB] = permA[i] +B.perm\n",
    "        start = (i-1)*nB\n",
    "        permAi = permA[i]\n",
    "        @inbounds @simd for j = 1:nB\n",
    "            perm[start+j] = permAi +B.perm[j]\n",
    "        end\n",
    "    end\n",
    "    PermuteMultiply(perm, vals)\n",
    "end"
   ]
  },
  {
   "cell_type": "code",
   "execution_count": 53,
   "metadata": {},
   "outputs": [],
   "source": [
    "Dv = Diagonal(randn(1<<8))\n",
    "Pm = PermuteMultiply(randperm(1<<8), randn(1<<8));"
   ]
  },
  {
   "cell_type": "code",
   "execution_count": 54,
   "metadata": {},
   "outputs": [
    {
     "data": {
      "text/plain": [
       "true"
      ]
     },
     "execution_count": 54,
     "metadata": {},
     "output_type": "execute_result"
    }
   ],
   "source": [
    "sparse(kron(Pm, Pm)) == kron(sparse(Pm), sparse(Pm))"
   ]
  },
  {
   "cell_type": "code",
   "execution_count": 55,
   "metadata": {},
   "outputs": [
    {
     "data": {
      "text/plain": [
       "BenchmarkTools.Trial: \n",
       "  memory estimate:  1.00 MiB\n",
       "  allocs estimate:  13\n",
       "  --------------\n",
       "  minimum time:     144.186 μs (0.00% GC)\n",
       "  median time:      169.589 μs (0.00% GC)\n",
       "  mean time:        214.620 μs (11.77% GC)\n",
       "  maximum time:     2.115 ms (71.26% GC)\n",
       "  --------------\n",
       "  samples:          10000\n",
       "  evals/sample:     1"
      ]
     },
     "execution_count": 55,
     "metadata": {},
     "output_type": "execute_result"
    }
   ],
   "source": [
    "sPm = sparse(Pm)\n",
    "@benchmark kron($Pm, $Pm)"
   ]
  },
  {
   "cell_type": "code",
   "execution_count": 23,
   "metadata": {},
   "outputs": [
    {
     "data": {
      "text/plain": [
       "PermuteMultiply"
      ]
     },
     "execution_count": 23,
     "metadata": {},
     "output_type": "execute_result"
    }
   ],
   "source": [
    "kron(A::PermuteMultiply, B::Diagonal) = kron(A, PermuteMultiply(B))\n",
    "kron(A::Diagonal, B::PermuteMultiply) = kron(PermuteMultiply(A), B)\n",
    "PermuteMultiply(dmat::Diagonal) = PermuteMultiply(collect(1:size(dmat, 1)), dmat.diag)"
   ]
  },
  {
   "cell_type": "code",
   "execution_count": 24,
   "metadata": {},
   "outputs": [
    {
     "name": "stdout",
     "output_type": "stream",
     "text": [
      "true\n",
      "true\n",
      "true\n"
     ]
    }
   ],
   "source": [
    "println(kron(sparse(Pm), sparse(Dv)) == sparse(kron(Pm, Dv)))\n",
    "println(sparse(kron(Pm, Dv)) == kron(sparse(Pm), sparse(Dv)))\n",
    "println(sparse(kron(Dv, Pm)) == kron(sparse(Dv), sparse(Pm)))"
   ]
  },
  {
   "cell_type": "code",
   "execution_count": 25,
   "metadata": {},
   "outputs": [
    {
     "data": {
      "text/plain": [
       "kron (generic function with 18 methods)"
      ]
     },
     "execution_count": 25,
     "metadata": {},
     "output_type": "execute_result"
    }
   ],
   "source": [
    "kron(A::PermuteMultiply, B::SparseMatrixCSC) = kron(sparse(A), B)\n",
    "kron(A::SparseMatrixCSC, B::PermuteMultiply) = kron(A, sparse(B))"
   ]
  },
  {
   "cell_type": "code",
   "execution_count": 66,
   "metadata": {},
   "outputs": [
    {
     "data": {
      "text/plain": [
       "kron (generic function with 18 methods)"
      ]
     },
     "execution_count": 66,
     "metadata": {},
     "output_type": "execute_result"
    }
   ],
   "source": [
    "function kron(A::PermuteMultiply{Ta}, B::SparseMatrixCSC{Tb}) where {Ta, Tb}\n",
    "    nA = size(A, 1)\n",
    "    mB, nB = size(B)\n",
    "    nV = nnz(B)\n",
    "    perm = sortperm(A.perm)\n",
    "    #nzval = kron(A.vals[perm], B.nzval)\n",
    "    nzval = Vector{promote_type(Ta, Tb)}(nA*nV)\n",
    "    rowval = Vector{Int}(nA*nV)\n",
    "    colptr = Vector{Int}(nA*nB+1)\n",
    "    colptr[1] = 1\n",
    "    @inbounds @simd for i in 1:nA\n",
    "        start_row = (i-1)*nV\n",
    "        start_ri = (perm[i]-1)*mB\n",
    "        v0 = A.vals[perm[i]]\n",
    "        @inbounds @simd for j = 1:nV\n",
    "            nzval[start_row+j] = B.nzval[j]*v0\n",
    "            rowval[start_row+j] = B.rowval[j] + start_ri\n",
    "        end\n",
    "        start_col = (i-1)*nB+1\n",
    "        start_ci = (i-1)*nV\n",
    "        @inbounds @simd for j = 1:nB\n",
    "            colptr[start_col+j] = B.colptr[j+1] + start_ci\n",
    "        end\n",
    "        #=\n",
    "        rowval[(i-1)*nV+1:i*nV] = B.rowval+(perm[i]-1)*mB\n",
    "        colptr[(i-1)*nB+1:i*nB+1] = B.colptr+(i-1)*nV\n",
    "        =#\n",
    "    end\n",
    "    SparseMatrixCSC(mB*nA, nB*nA, colptr, rowval, nzval)\n",
    "end"
   ]
  },
  {
   "cell_type": "code",
   "execution_count": 67,
   "metadata": {},
   "outputs": [
    {
     "data": {
      "text/plain": [
       "true"
      ]
     },
     "execution_count": 67,
     "metadata": {},
     "output_type": "execute_result"
    }
   ],
   "source": [
    "kron(p1, sp) == kron(sparse(p1), sp)"
   ]
  },
  {
   "cell_type": "code",
   "execution_count": 68,
   "metadata": {
    "collapsed": true
   },
   "outputs": [],
   "source": [
    "Sp = sprand(1000, 1000, 0.01);\n",
    "sp = sprand(4, 4, 0.3);"
   ]
  },
  {
   "cell_type": "code",
   "execution_count": 69,
   "metadata": {},
   "outputs": [
    {
     "data": {
      "text/plain": [
       "BenchmarkTools.Trial: \n",
       "  memory estimate:  40.59 MiB\n",
       "  allocs estimate:  9\n",
       "  --------------\n",
       "  minimum time:     6.750 ms (0.00% GC)\n",
       "  median time:      7.323 ms (6.25% GC)\n",
       "  mean time:        7.712 ms (10.33% GC)\n",
       "  maximum time:     82.123 ms (86.23% GC)\n",
       "  --------------\n",
       "  samples:          648\n",
       "  evals/sample:     1"
      ]
     },
     "execution_count": 69,
     "metadata": {},
     "output_type": "execute_result"
    }
   ],
   "source": [
    "@benchmark kron($Pm, $Sp)"
   ]
  },
  {
   "cell_type": "code",
   "execution_count": 128,
   "metadata": {},
   "outputs": [
    {
     "data": {
      "text/plain": [
       "kron (generic function with 20 methods)"
      ]
     },
     "execution_count": 128,
     "metadata": {},
     "output_type": "execute_result"
    }
   ],
   "source": [
    "function kron(A::SparseMatrixCSC{T}, B::PermuteMultiply{Tb}) where {T, Tb}\n",
    "    nB = size(B, 1)\n",
    "    mA, nA = size(A)\n",
    "    nV = nnz(A)\n",
    "    perm = sortperm(B.perm)\n",
    "    rowval = Vector{Int}(nB*nV)\n",
    "    colptr = Vector{Int}(nA*nB+1)\n",
    "    nzval = Vector{promote_type(T, Tb)}(nB*nV)\n",
    "    z=1\n",
    "    colptr[z] = 1\n",
    "    @inbounds for i in 1:nA\n",
    "        rstart = A.colptr[i]\n",
    "        rend = A.colptr[i+1]-1\n",
    "        @inbounds for k in 1:nB\n",
    "            irow = perm[k]\n",
    "            bval = B.vals[irow]\n",
    "            irow_nB = irow - nB\n",
    "            @inbounds @simd for r in rstart:rend\n",
    "                rowval[z] = A.rowval[r]*nB+irow_nB\n",
    "                nzval[z] = A.nzval[r]*bval\n",
    "                z+=1\n",
    "            end\n",
    "            colptr[(i-1)*nB+k+1] = z\n",
    "        end\n",
    "    end\n",
    "    SparseMatrixCSC(mA*nB, nA*nB, colptr, rowval, nzval)\n",
    "end"
   ]
  },
  {
   "cell_type": "code",
   "execution_count": 129,
   "metadata": {},
   "outputs": [
    {
     "data": {
      "text/plain": [
       "true"
      ]
     },
     "execution_count": 129,
     "metadata": {},
     "output_type": "execute_result"
    }
   ],
   "source": [
    "kron(sp, p1) == kron(sp, sparse(p1))"
   ]
  },
  {
   "cell_type": "code",
   "execution_count": 130,
   "metadata": {},
   "outputs": [
    {
     "data": {
      "text/plain": [
       "BenchmarkTools.Trial: \n",
       "  memory estimate:  40.59 MiB\n",
       "  allocs estimate:  9\n",
       "  --------------\n",
       "  minimum time:     7.762 ms (7.26% GC)\n",
       "  median time:      7.884 ms (7.68% GC)\n",
       "  mean time:        8.364 ms (9.07% GC)\n",
       "  maximum time:     70.551 ms (89.13% GC)\n",
       "  --------------\n",
       "  samples:          597\n",
       "  evals/sample:     1"
      ]
     },
     "execution_count": 130,
     "metadata": {},
     "output_type": "execute_result"
    }
   ],
   "source": [
    "@benchmark kron(Sp, Pm)"
   ]
  },
  {
   "cell_type": "code",
   "execution_count": 33,
   "metadata": {},
   "outputs": [
    {
     "data": {
      "text/plain": [
       "BenchmarkTools.Trial: \n",
       "  memory estimate:  41.45 MiB\n",
       "  allocs estimate:  7\n",
       "  --------------\n",
       "  minimum time:     46.951 ms (1.13% GC)\n",
       "  median time:      54.182 ms (1.24% GC)\n",
       "  mean time:        57.958 ms (8.62% GC)\n",
       "  maximum time:     199.432 ms (64.27% GC)\n",
       "  --------------\n",
       "  samples:          87\n",
       "  evals/sample:     1"
      ]
     },
     "execution_count": 33,
     "metadata": {},
     "output_type": "execute_result"
    }
   ],
   "source": [
    "sPm = sparse(Pm)\n",
    "@benchmark kron(Sp, sPm)"
   ]
  },
  {
   "cell_type": "code",
   "execution_count": 163,
   "metadata": {},
   "outputs": [
    {
     "data": {
      "text/plain": [
       "kron (generic function with 20 methods)"
      ]
     },
     "execution_count": 163,
     "metadata": {},
     "output_type": "execute_result"
    }
   ],
   "source": [
    "function kron(A::StridedMatrix{Tv}, B::PermuteMultiply{Tb}) where {Tv, Tb}\n",
    "    mA, nA = size(A)\n",
    "    nB = size(B, 1)\n",
    "    perm = sortperm(B.perm)\n",
    "    nzval = Vector{promote_type(Tv, Tb)}(mA*nA*nB)\n",
    "    rowval = Vector{Int}(mA*nA*nB)\n",
    "    colptr = collect(1:mA:nA*nB*mA+1)\n",
    "    z = 1\n",
    "    @inbounds for j = 1:nA\n",
    "        @inbounds for j2 = 1:nB\n",
    "            p2 = perm[j2]\n",
    "            val2 = B.vals[p2]\n",
    "            ir = p2\n",
    "            @inbounds @simd for i = 1:mA\n",
    "                nzval[z] = A[i, j]*val2  # merge\n",
    "                rowval[z] = ir\n",
    "                z += 1\n",
    "                ir += nB\n",
    "            end\n",
    "        end\n",
    "    end\n",
    "    SparseMatrixCSC(mA*nB, nA*nB, colptr, rowval, nzval)\n",
    "end\n",
    "\n",
    "function kron(A::PermuteMultiply{Ta}, B::StridedMatrix{Tb}) where {Tb, Ta}\n",
    "    mB, nB = size(B)\n",
    "    nA = size(A, 1)\n",
    "    perm = sortperm(A.perm)\n",
    "    nzval = Vector{promote_type(Ta, Tb)}(mB*nA*nB)\n",
    "    rowval = Vector{Int}(mB*nA*nB)\n",
    "    colptr = collect(1:mB:nA*nB*mB+1)\n",
    "    z = 1\n",
    "    @inbounds for j = 1:nA\n",
    "        colbase = (j-1)*nB\n",
    "        p1 = perm[j]\n",
    "        val2 = A.vals[p1]\n",
    "        ir = (p1-1)*mB\n",
    "        @inbounds for j2 = 1:nB\n",
    "            @inbounds @simd for i2 = 1:mB\n",
    "                nzval[z] = B[i2, j2]*val2  # merge\n",
    "                rowval[z] = ir+i2\n",
    "                z += 1\n",
    "            end\n",
    "        end\n",
    "    end\n",
    "    SparseMatrixCSC(nA*mB, nA*nB, colptr, rowval, nzval)\n",
    "end"
   ]
  },
  {
   "cell_type": "code",
   "execution_count": 164,
   "metadata": {},
   "outputs": [
    {
     "name": "stdout",
     "output_type": "stream",
     "text": [
      "true\n",
      "true\n"
     ]
    }
   ],
   "source": [
    "Dm = randn(100,100);\n",
    "println(kron(Dm, p1) == kron(Dm, sparse(p1)))\n",
    "println(kron(p1, Dm) == kron(sparse(p1), Dm))"
   ]
  },
  {
   "cell_type": "code",
   "execution_count": 165,
   "metadata": {},
   "outputs": [
    {
     "data": {
      "text/plain": [
       "BenchmarkTools.Trial: \n",
       "  memory estimate:  1.30 MiB\n",
       "  allocs estimate:  20\n",
       "  --------------\n",
       "  minimum time:     756.102 μs (0.00% GC)\n",
       "  median time:      890.356 μs (0.00% GC)\n",
       "  mean time:        918.160 μs (4.92% GC)\n",
       "  maximum time:     2.027 ms (48.83% GC)\n",
       "  --------------\n",
       "  samples:          5431\n",
       "  evals/sample:     1"
      ]
     },
     "execution_count": 165,
     "metadata": {},
     "output_type": "execute_result"
    }
   ],
   "source": [
    "sp1 = sparse(p1)\n",
    "@benchmark kron(Dm, sp1)"
   ]
  },
  {
   "cell_type": "code",
   "execution_count": 151,
   "metadata": {},
   "outputs": [
    {
     "data": {
      "text/plain": [
       "BenchmarkTools.Trial: \n",
       "  memory estimate:  941.20 KiB\n",
       "  allocs estimate:  10\n",
       "  --------------\n",
       "  minimum time:     136.170 μs (0.00% GC)\n",
       "  median time:      160.464 μs (0.00% GC)\n",
       "  mean time:        232.873 μs (14.37% GC)\n",
       "  maximum time:     2.378 ms (77.69% GC)\n",
       "  --------------\n",
       "  samples:          10000\n",
       "  evals/sample:     1"
      ]
     },
     "execution_count": 151,
     "metadata": {},
     "output_type": "execute_result"
    }
   ],
   "source": [
    "@benchmark size(kron(Dm, p1))"
   ]
  },
  {
   "cell_type": "code",
   "execution_count": 166,
   "metadata": {},
   "outputs": [
    {
     "data": {
      "text/plain": [
       "BenchmarkTools.Trial: \n",
       "  memory estimate:  941.20 KiB\n",
       "  allocs estimate:  10\n",
       "  --------------\n",
       "  minimum time:     140.076 μs (0.00% GC)\n",
       "  median time:      155.614 μs (0.00% GC)\n",
       "  mean time:        183.859 μs (13.55% GC)\n",
       "  maximum time:     1.344 ms (76.06% GC)\n",
       "  --------------\n",
       "  samples:          10000\n",
       "  evals/sample:     1"
      ]
     },
     "execution_count": 166,
     "metadata": {},
     "output_type": "execute_result"
    }
   ],
   "source": [
    "@benchmark size(kron(p1, Dm))"
   ]
  },
  {
   "cell_type": "code",
   "execution_count": 162,
   "metadata": {},
   "outputs": [
    {
     "data": {
      "text/plain": [
       "BenchmarkTools.Trial: \n",
       "  memory estimate:  1.30 MiB\n",
       "  allocs estimate:  21\n",
       "  --------------\n",
       "  minimum time:     339.187 μs (0.00% GC)\n",
       "  median time:      358.102 μs (0.00% GC)\n",
       "  mean time:        415.790 μs (11.10% GC)\n",
       "  maximum time:     1.697 ms (61.47% GC)\n",
       "  --------------\n",
       "  samples:          10000\n",
       "  evals/sample:     1"
      ]
     },
     "execution_count": 162,
     "metadata": {},
     "output_type": "execute_result"
    }
   ],
   "source": [
    "@benchmark size(kron(sp1, Dm))"
   ]
  },
  {
   "cell_type": "code",
   "execution_count": 168,
   "metadata": {},
   "outputs": [
    {
     "data": {
      "text/plain": [
       "false"
      ]
     },
     "execution_count": 168,
     "metadata": {},
     "output_type": "execute_result"
    }
   ],
   "source": [
    "issubtype(typeof(p1), StridedMatrix)"
   ]
  },
  {
   "cell_type": "code",
   "execution_count": null,
   "metadata": {
    "collapsed": true
   },
   "outputs": [],
   "source": []
  }
 ],
 "metadata": {
  "kernelspec": {
   "display_name": "Julia 0.6.0",
   "language": "julia",
   "name": "julia-0.6"
  },
  "language_info": {
   "file_extension": ".jl",
   "mimetype": "application/julia",
   "name": "julia",
   "version": "0.6.0"
  }
 },
 "nbformat": 4,
 "nbformat_minor": 2
}
