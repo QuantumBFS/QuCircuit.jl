{
 "cells": [
  {
   "cell_type": "code",
   "execution_count": 1,
   "metadata": {},
   "outputs": [],
   "source": [
    "import Base: getindex, size, println\n",
    "function println(x)\n",
    "    show(STDOUT, \"text/plain\", x)\n",
    "    print(\"\\n\")\n",
    "end\n",
    "using BenchmarkTools\n",
    "using Compat.Test"
   ]
  },
  {
   "cell_type": "code",
   "execution_count": 2,
   "metadata": {},
   "outputs": [
    {
     "data": {
      "text/plain": [
       "bitarray (generic function with 3 methods)"
      ]
     },
     "execution_count": 2,
     "metadata": {},
     "output_type": "execute_result"
    }
   ],
   "source": [
    "########## Bit-Wise Operations ##############\n",
    "const BInt = Int64\n",
    "const DInt = Int64\n",
    "\n",
    "basis(num_bit::Int) = UnitRange{DInt}(0, 1<<num_bit-1)\n",
    "\n",
    "########## BitArray views ###################\n",
    "import Base: BitArray\n",
    "function bitarray(v::Vector{T}) where T<:Number\n",
    "    xdim = sizeof(eltype(v))*8\n",
    "    #ba = BitArray{2}(0, 0)\n",
    "    ba = BitArray(0, 0)\n",
    "    ba.chunks = reinterpret(UInt64, v)\n",
    "    ba.dims = (xdim, length(v))\n",
    "    ba.len = xdim*length(v)\n",
    "    return ba\n",
    "end\n",
    "\n",
    "function bitarray(v::Vector{UInt64})\n",
    "    #ba = BitArray{2}(0, 0)\n",
    "    ba = BitArray(undef, (0, 0))\n",
    "    ba.chunks = v\n",
    "    ba.dims = (64, length(v))\n",
    "    ba.len = 64*length(v)\n",
    "    return ba\n",
    "end\n",
    "bitarray(v::Number) = bitarray([v])"
   ]
  },
  {
   "cell_type": "code",
   "execution_count": 3,
   "metadata": {},
   "outputs": [
    {
     "data": {
      "text/plain": [
       "log2i (generic function with 1 method)"
      ]
     },
     "execution_count": 3,
     "metadata": {},
     "output_type": "execute_result"
    }
   ],
   "source": [
    "# bit size\n",
    "bsizeof(x) = sizeof(x) << 3\n",
    "function bit_length(x::DInt)\n",
    "    local n = 0\n",
    "    while x!=0\n",
    "        n += 1\n",
    "        x >>= 1\n",
    "    end\n",
    "    return n\n",
    "end\n",
    "\n",
    "function log2i(x::T)::T where T\n",
    "    local n::T = 0\n",
    "    while x&0x1!=1\n",
    "        n += 1\n",
    "        x >>= 1\n",
    "    end\n",
    "    return n\n",
    "end"
   ]
  },
  {
   "cell_type": "code",
   "execution_count": 4,
   "metadata": {},
   "outputs": [
    {
     "data": {
      "text/plain": [
       "flip! (generic function with 2 methods)"
      ]
     },
     "execution_count": 4,
     "metadata": {},
     "output_type": "execute_result"
    }
   ],
   "source": [
    "const Ints = Union{Vector{Int}, Int, UnitRange{Int}}\n",
    "const DInts = Union{Vector{DInt}, DInt, UnitRange{DInt}}\n",
    "bmask(ibit::Int...) = reduce(+, [one(DInt) << b for b in (ibit.-1)])\n",
    "bmask(bits::UnitRange{Int}) = ((one(DInt) << (bits.stop - bits.start + 1)) - one(DInt)) << (bits.start-1)\n",
    "\n",
    "# take a bit/bits\n",
    "takebit(index::DInt, ibit::Int) = (index >> (ibit-1)) & 1\n",
    "# a position is 1?\n",
    "testbit(index::DInt, mask::Int) = (index & mask) != 0\n",
    "\n",
    "# set a bit\n",
    "setbit(index::DInt, mask::Int) = indices | mask\n",
    "setbit!(indices::DInts, mask::Int) = indices[:] |= mask\n",
    "\n",
    "# flip a bit/bits\n",
    "flip(index::DInt, mask::Int) = index ⊻ mask\n",
    "flip!(indices::DInt, mask::Int) = indices[:] = indices .⊻ mask\n",
    "# flip all bits\n",
    "flip(index::DInt) = ~index\n",
    "flip!(indices::DInts) = indices[:] = ~indices  #can not be scalar"
   ]
  },
  {
   "cell_type": "code",
   "execution_count": 2,
   "metadata": {
    "scrolled": true
   },
   "outputs": [
    {
     "data": {
      "text/plain": [
       "rollaxis2! (generic function with 1 method)"
      ]
     },
     "execution_count": 2,
     "metadata": {},
     "output_type": "execute_result"
    }
   ],
   "source": [
    "\"\"\"move 1st dim to last\"\"\"\n",
    "function lrollaxis2!(vec::AbstractArray)\n",
    "    n = length(vec)\n",
    "    halfn = n >> 1\n",
    "    temp = vec[2:2:n]\n",
    "    vec[1:halfn] = vec[1:2:n]\n",
    "    vec[halfn+1:end] = temp\n",
    "    vec\n",
    "end\n",
    "\n",
    "\"\"\"move last dim to 1st\"\"\"\n",
    "function rrollaxis2!(vec::AbstractArray)\n",
    "    n = length(vec)\n",
    "    halfn = n >> 1\n",
    "    temp = vec[halfn+1:end]\n",
    "    vec[1:2:n] = vec[1:halfn]\n",
    "    vec[2:2:n] = temp\n",
    "    vec\n",
    "end\n",
    "\n",
    "function rollaxis2!(v::AbstractArray, k::Int)\n",
    "    if k > 0\n",
    "        for i=1:k\n",
    "            lrollaxis2!(v)\n",
    "        end\n",
    "    else\n",
    "        for i=1:-k\n",
    "            rrollaxis2!(v)\n",
    "        end\n",
    "    end\n",
    "    v\n",
    "end"
   ]
  },
  {
   "cell_type": "code",
   "execution_count": 3,
   "metadata": {
    "collapsed": true
   },
   "outputs": [],
   "source": [
    "v = randn([2 for i=1:10]...)\n",
    "v2 = copy(v)\n",
    "@assert rollaxis2!(v, 5) == permutedims(v2, [(i+4)%10+1 for i=1:10])\n",
    "@assert rollaxis2!(v, -5) == v2\n",
    "@assert rollaxis2!(v, 0) == v2"
   ]
  },
  {
   "cell_type": "code",
   "execution_count": 4,
   "metadata": {
    "scrolled": true
   },
   "outputs": [
    {
     "data": {
      "text/plain": [
       "BenchmarkTools.Trial: \n",
       "  memory estimate:  48.94 KiB\n",
       "  allocs estimate:  2573\n",
       "  --------------\n",
       "  minimum time:     79.902 μs (0.00% GC)\n",
       "  median time:      83.254 μs (0.00% GC)\n",
       "  mean time:        93.313 μs (2.52% GC)\n",
       "  maximum time:     2.020 ms (87.37% GC)\n",
       "  --------------\n",
       "  samples:          10000\n",
       "  evals/sample:     1"
      ]
     },
     "execution_count": 4,
     "metadata": {},
     "output_type": "execute_result"
    }
   ],
   "source": [
    "@benchmark permutedims(v2, [(i)%10+1 for i=1:10])"
   ]
  },
  {
   "cell_type": "code",
   "execution_count": 5,
   "metadata": {},
   "outputs": [
    {
     "data": {
      "text/plain": [
       "BenchmarkTools.Trial: \n",
       "  memory estimate:  8.45 KiB\n",
       "  allocs estimate:  11\n",
       "  --------------\n",
       "  minimum time:     2.056 μs (0.00% GC)\n",
       "  median time:      2.206 μs (0.00% GC)\n",
       "  mean time:        2.685 μs (12.72% GC)\n",
       "  maximum time:     121.815 μs (91.77% GC)\n",
       "  --------------\n",
       "  samples:          10000\n",
       "  evals/sample:     9"
      ]
     },
     "execution_count": 5,
     "metadata": {},
     "output_type": "execute_result"
    }
   ],
   "source": [
    "@benchmark rollaxis2!(v2, 1)"
   ]
  },
  {
   "cell_type": "code",
   "execution_count": 6,
   "metadata": {},
   "outputs": [
    {
     "data": {
      "text/plain": [
       "roll_prod (generic function with 1 method)"
      ]
     },
     "execution_count": 6,
     "metadata": {},
     "output_type": "execute_result"
    }
   ],
   "source": [
    "function roll_prod(s, n, ops)\n",
    "    st = reshape(s, 2, 1<<(n-1))\n",
    "\n",
    "    for i = 1:n\n",
    "        st .= ops[i] * st\n",
    "        rollaxis2!(s)\n",
    "    end\n",
    "    s\n",
    "end"
   ]
  },
  {
   "cell_type": "code",
   "execution_count": 7,
   "metadata": {},
   "outputs": [
    {
     "data": {
      "text/plain": [
       "focus_prod (generic function with 1 method)"
      ]
     },
     "execution_count": 7,
     "metadata": {},
     "output_type": "execute_result"
    }
   ],
   "source": [
    "function focus_prod(s, n, ops)\n",
    "    st = reshape(s, 2, 1<<(n-1))\n",
    "    st .= first(ops) * st\n",
    "\n",
    "    for i = 2:n\n",
    "        s = reshape(s, ntuple(x->2, Val{n}))\n",
    "        perm = collect(1:n)\n",
    "        perm[1] = i\n",
    "        perm[i] = 1\n",
    "        permutedims!(s, s, perm)\n",
    "        st = reshape(s, 2, 1<<(n-1))\n",
    "        st .= ops[i] * st\n",
    "        permutedims!(s, s, perm)\n",
    "    end\n",
    "    s\n",
    "end"
   ]
  },
  {
   "cell_type": "code",
   "execution_count": 8,
   "metadata": {},
   "outputs": [
    {
     "data": {
      "text/plain": [
       "BenchmarkTools.Trial: \n",
       "  memory estimate:  855.78 KiB\n",
       "  allocs estimate:  49321\n",
       "  --------------\n",
       "  minimum time:     1.581 ms (0.00% GC)\n",
       "  median time:      1.609 ms (0.00% GC)\n",
       "  mean time:        1.736 ms (2.14% GC)\n",
       "  maximum time:     3.806 ms (32.90% GC)\n",
       "  --------------\n",
       "  samples:          2874\n",
       "  evals/sample:     1"
      ]
     },
     "execution_count": 8,
     "metadata": {},
     "output_type": "execute_result"
    }
   ],
   "source": [
    "ops = [rand(2, 2) for i=1:10];\n",
    "s = rand(1<<10)\n",
    "n = 10\n",
    "@benchmark focus_prod($s, n, $ops)"
   ]
  },
  {
   "cell_type": "code",
   "execution_count": 9,
   "metadata": {},
   "outputs": [
    {
     "ename": "LoadError",
     "evalue": "\u001b[91mMethodError: no method matching rollaxis2!(::Array{Float64,1})\u001b[0m\nClosest candidates are:\n  rollaxis2!(::AbstractArray, \u001b[91m::Int64\u001b[39m) at In[2]:22\u001b[39m",
     "output_type": "error",
     "traceback": [
      "\u001b[91mMethodError: no method matching rollaxis2!(::Array{Float64,1})\u001b[0m\nClosest candidates are:\n  rollaxis2!(::AbstractArray, \u001b[91m::Int64\u001b[39m) at In[2]:22\u001b[39m",
      "",
      "Stacktrace:",
      " [1] \u001b[1mroll_prod\u001b[22m\u001b[22m\u001b[1m(\u001b[22m\u001b[22m::Array{Float64,1}, ::Int64, ::Array{Array{Float64,2},1}\u001b[1m)\u001b[22m\u001b[22m at \u001b[1m./In[6]:6\u001b[22m\u001b[22m",
      " [2] \u001b[1m##core#680\u001b[22m\u001b[22m\u001b[1m(\u001b[22m\u001b[22m::Array{Float64,1}, ::Array{Array{Float64,2},1}\u001b[1m)\u001b[22m\u001b[22m at \u001b[1m/home/leo/.julia/v0.6/BenchmarkTools/src/execution.jl:316\u001b[22m\u001b[22m",
      " [3] \u001b[1m##sample#681\u001b[22m\u001b[22m\u001b[1m(\u001b[22m\u001b[22m::BenchmarkTools.Parameters\u001b[1m)\u001b[22m\u001b[22m at \u001b[1m/home/leo/.julia/v0.6/BenchmarkTools/src/execution.jl:322\u001b[22m\u001b[22m",
      " [4] \u001b[1m#_run#28\u001b[22m\u001b[22m\u001b[1m(\u001b[22m\u001b[22m::Bool, ::String, ::Array{Any,1}, ::Function, ::BenchmarkTools.Benchmark{Symbol(\"##benchmark#679\")}, ::BenchmarkTools.Parameters\u001b[1m)\u001b[22m\u001b[22m at \u001b[1m/home/leo/.julia/v0.6/BenchmarkTools/src/execution.jl:350\u001b[22m\u001b[22m",
      " [5] \u001b[1m(::BenchmarkTools.#kw##_run)\u001b[22m\u001b[22m\u001b[1m(\u001b[22m\u001b[22m::Array{Any,1}, ::BenchmarkTools.#_run, ::BenchmarkTools.Benchmark{Symbol(\"##benchmark#679\")}, ::BenchmarkTools.Parameters\u001b[1m)\u001b[22m\u001b[22m at \u001b[1m./<missing>:0\u001b[22m\u001b[22m",
      " [6] \u001b[1manonymous\u001b[22m\u001b[22m at \u001b[1m./<missing>:?\u001b[22m\u001b[22m",
      " [7] \u001b[1m#run_result#19\u001b[22m\u001b[22m\u001b[1m(\u001b[22m\u001b[22m::Array{Any,1}, ::Function, ::BenchmarkTools.Benchmark{Symbol(\"##benchmark#679\")}, ::BenchmarkTools.Parameters\u001b[1m)\u001b[22m\u001b[22m at \u001b[1m/home/leo/.julia/v0.6/BenchmarkTools/src/execution.jl:44\u001b[22m\u001b[22m",
      " [8] \u001b[1m(::BenchmarkTools.#kw##run_result)\u001b[22m\u001b[22m\u001b[1m(\u001b[22m\u001b[22m::Array{Any,1}, ::BenchmarkTools.#run_result, ::BenchmarkTools.Benchmark{Symbol(\"##benchmark#679\")}, ::BenchmarkTools.Parameters\u001b[1m)\u001b[22m\u001b[22m at \u001b[1m./<missing>:0\u001b[22m\u001b[22m",
      " [9] \u001b[1m#run#21\u001b[22m\u001b[22m\u001b[1m(\u001b[22m\u001b[22m::Array{Any,1}, ::Function, ::BenchmarkTools.Benchmark{Symbol(\"##benchmark#679\")}, ::BenchmarkTools.Parameters\u001b[1m)\u001b[22m\u001b[22m at \u001b[1m/home/leo/.julia/v0.6/BenchmarkTools/src/execution.jl:67\u001b[22m\u001b[22m",
      " [10] \u001b[1m(::Base.#kw##run)\u001b[22m\u001b[22m\u001b[1m(\u001b[22m\u001b[22m::Array{Any,1}, ::Base.#run, ::BenchmarkTools.Benchmark{Symbol(\"##benchmark#679\")}, ::BenchmarkTools.Parameters\u001b[1m)\u001b[22m\u001b[22m at \u001b[1m./<missing>:0\u001b[22m\u001b[22m",
      " [11] \u001b[1mwarmup\u001b[22m\u001b[22m\u001b[1m(\u001b[22m\u001b[22m::BenchmarkTools.Benchmark{Symbol(\"##benchmark#679\")}\u001b[1m)\u001b[22m\u001b[22m at \u001b[1m/home/leo/.julia/v0.6/BenchmarkTools/src/execution.jl:100\u001b[22m\u001b[22m"
     ]
    }
   ],
   "source": [
    "ops = [rand(2, 2) for i=1:10];\n",
    "s = rand(1<<10)\n",
    "n = 10\n",
    "@benchmark roll_prod($s, n, $ops)"
   ]
  },
  {
   "cell_type": "code",
   "execution_count": 32,
   "metadata": {
    "scrolled": true
   },
   "outputs": [
    {
     "name": "stdout",
     "output_type": "stream",
     "text": [
      "5-element Array{String,1}:\n",
      " \"0001\"\n",
      " \"0010\"\n",
      " \"0011\"\n",
      " \"0110\"\n",
      " \"0111\"\n"
     ]
    }
   ],
   "source": [
    "bss = [1,2,3,6,7]\n",
    "println([bin(b,4) for b in bss])"
   ]
  },
  {
   "cell_type": "code",
   "execution_count": 47,
   "metadata": {},
   "outputs": [
    {
     "data": {
      "text/plain": [
       "6"
      ]
     },
     "execution_count": 47,
     "metadata": {},
     "output_type": "execute_result"
    }
   ],
   "source": [
    "# swap two bits\n",
    "function swapbits(num::DInt, i::Int, j::Int)\n",
    "    i = i-1\n",
    "    j = j-1\n",
    "    k = (num >> j) & 1 - (num >> i) & 1\n",
    "    num + k*(1<<i) - k*(1<<j)\n",
    "end\n",
    "function swapbits!(bss::Vector{DInt}, i::Int, j::Int)\n",
    "    @views bss[:] = swapbits.(bss, i, j)\n",
    "    bss\n",
    "end\n",
    "swapbits(5, 1,2)"
   ]
  },
  {
   "cell_type": "code",
   "execution_count": 48,
   "metadata": {},
   "outputs": [
    {
     "name": "stdout",
     "output_type": "stream",
     "text": [
      "5-element Array{String,1}:\n",
      " \"0010\"\n",
      " \"0001\"\n",
      " \"0011\"\n",
      " \"0101\"\n",
      " \"0111\"\n"
     ]
    }
   ],
   "source": [
    "swapbits!(bss, 1,2)\n",
    "println([bin(b,4) for b in bss])"
   ]
  },
  {
   "cell_type": "code",
   "execution_count": 49,
   "metadata": {},
   "outputs": [
    {
     "ename": "LoadError",
     "evalue": "\u001b[91mUndefVarError: rolling not defined\u001b[39m",
     "output_type": "error",
     "traceback": [
      "\u001b[91mUndefVarError: rolling not defined\u001b[39m",
      ""
     ]
    }
   ],
   "source": [
    "rolling([X, Y, (), chain(K2,G2), L])"
   ]
  },
  {
   "cell_type": "code",
   "execution_count": 55,
   "metadata": {},
   "outputs": [
    {
     "data": {
      "text/plain": [
       "BenchmarkTools.Trial: \n",
       "  memory estimate:  7.94 KiB\n",
       "  allocs estimate:  1\n",
       "  --------------\n",
       "  minimum time:     10.705 μs (0.00% GC)\n",
       "  median time:      13.204 μs (0.00% GC)\n",
       "  mean time:        14.663 μs (2.21% GC)\n",
       "  maximum time:     490.105 μs (87.81% GC)\n",
       "  --------------\n",
       "  samples:          10000\n",
       "  evals/sample:     3"
      ]
     },
     "execution_count": 55,
     "metadata": {},
     "output_type": "execute_result"
    }
   ],
   "source": [
    "i,j=2,1\n",
    "b=collect(1:1000)\n",
    "swapbits.(b, i,j)\n",
    "#@benchmark swapbits.($b, $i, $j)"
   ]
  },
  {
   "cell_type": "code",
   "execution_count": 57,
   "metadata": {},
   "outputs": [
    {
     "data": {
      "text/plain": [
       "\"11111\""
      ]
     },
     "execution_count": 57,
     "metadata": {},
     "output_type": "execute_result"
    }
   ],
   "source": [
    "bin(bmask(1:5))"
   ]
  },
  {
   "cell_type": "code",
   "execution_count": 69,
   "metadata": {},
   "outputs": [
    {
     "data": {
      "text/plain": [
       "indices_with1 (generic function with 1 method)"
      ]
     },
     "execution_count": 69,
     "metadata": {},
     "output_type": "execute_result"
    }
   ],
   "source": [
    "# utils used in controled bits\n",
    "function indices_with1(num_bit::Int, poss::Vector{Int}, vals::Vector{BInt})\n",
    "    sls = Vector{Union{Colon, Int}}([Colon() for i=1:num_bit])\n",
    "    sls[poss] = vals.+1\n",
    "    reshape(getindex(reshape(basis(num_bit), fill(2, num_bit)...), sls...), 1<<(num_bit-length(poss)))\n",
    "end"
   ]
  },
  {
   "cell_type": "code",
   "execution_count": 70,
   "metadata": {},
   "outputs": [
    {
     "data": {
      "text/plain": [
       "BenchmarkTools.Trial: \n",
       "  memory estimate:  78.15 MiB\n",
       "  allocs estimate:  1082322\n",
       "  --------------\n",
       "  minimum time:     208.441 ms (4.25% GC)\n",
       "  median time:      214.902 ms (5.53% GC)\n",
       "  mean time:        223.924 ms (5.14% GC)\n",
       "  maximum time:     320.309 ms (4.36% GC)\n",
       "  --------------\n",
       "  samples:          23\n",
       "  evals/sample:     1"
      ]
     },
     "execution_count": 70,
     "metadata": {},
     "output_type": "execute_result"
    }
   ],
   "source": [
    "num_bit = 16\n",
    "#indices_with1(num_bit, [3, 7], [1, 1])\n",
    "@benchmark indices_with1(num_bit, [3, 7], [1, 1])"
   ]
  },
  {
   "cell_type": "code",
   "execution_count": 91,
   "metadata": {},
   "outputs": [
    {
     "name": "stdout",
     "output_type": "stream",
     "text": [
      "bmask(1, 2, 3) = 7\n"
     ]
    },
    {
     "data": {
      "text/plain": [
       "\"1111111111111000\""
      ]
     },
     "execution_count": 91,
     "metadata": {},
     "output_type": "execute_result"
    }
   ],
   "source": [
    "neg(index::DInt, num_bit::Int) = bmask(1:num_bit) ⊻ index\n",
    "@show bmask(1,2,3])\n",
    "bin(neg(bmask(1,2,3), 16))"
   ]
  },
  {
   "cell_type": "code",
   "execution_count": 130,
   "metadata": {},
   "outputs": [
    {
     "data": {
      "text/plain": [
       "indices_with (generic function with 2 methods)"
      ]
     },
     "execution_count": 130,
     "metadata": {},
     "output_type": "execute_result"
    }
   ],
   "source": [
    "function indices_with(num_bit::Int, poss::Vector{Int}, vals::Vector{BInt})\n",
    "    mask = bmask(poss...)\n",
    "    valmask = bmask(poss[vals.!=0]...)\n",
    "    filter(i->i.&mask.==valmask, basis(num_bit))\n",
    "end"
   ]
  },
  {
   "cell_type": "code",
   "execution_count": 131,
   "metadata": {},
   "outputs": [
    {
     "data": {
      "text/plain": [
       "BenchmarkTools.Trial: \n",
       "  memory estimate:  197.69 KiB\n",
       "  allocs estimate:  33\n",
       "  --------------\n",
       "  minimum time:     128.805 μs (0.00% GC)\n",
       "  median time:      129.897 μs (0.00% GC)\n",
       "  mean time:        148.638 μs (5.49% GC)\n",
       "  maximum time:     2.476 ms (88.45% GC)\n",
       "  --------------\n",
       "  samples:          10000\n",
       "  evals/sample:     1"
      ]
     },
     "execution_count": 131,
     "metadata": {},
     "output_type": "execute_result"
    }
   ],
   "source": [
    "num_bit = 16\n",
    "@test indices_with(num_bit, [1,2,3,4,5,6], [0,0,1,1,0,1]) == indices_with1(num_bit, [1,2,3,4,5,6], [0,0,1,1,0,1])\n",
    "@benchmark indices_with(num_bit, [7,3], [1,1])"
   ]
  },
  {
   "cell_type": "code",
   "execution_count": null,
   "metadata": {
    "collapsed": true
   },
   "outputs": [],
   "source": []
  }
 ],
 "metadata": {
  "kernelspec": {
   "display_name": "Julia 0.6.0",
   "language": "julia",
   "name": "julia-0.6"
  },
  "language_info": {
   "file_extension": ".jl",
   "mimetype": "application/julia",
   "name": "julia",
   "version": "0.6.0"
  }
 },
 "nbformat": 4,
 "nbformat_minor": 2
}
