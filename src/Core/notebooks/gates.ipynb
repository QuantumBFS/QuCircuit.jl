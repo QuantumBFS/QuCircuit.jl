{
 "cells": [
  {
   "cell_type": "code",
   "execution_count": 1,
   "metadata": {},
   "outputs": [],
   "source": [
    "include(\"../basis.jl\")\n",
    "include(\"../identity.jl\")\n",
    "include(\"../basic_gates.jl\")\n",
    "using Compat.Test\n",
    "using BenchmarkTools"
   ]
  },
  {
   "cell_type": "code",
   "execution_count": 2,
   "metadata": {
    "collapsed": true
   },
   "outputs": [],
   "source": [
    "### pretty interface\n",
    "for GATE in [:xgate, :ygate, :zgate, :ndiaggate, :diaggate, :controlled_U1, :cnotgate, :projector, :toffoligate, :swapgate]\n",
    "    @eval $GATE(num_bit::Int, params...) = $GATE(basis(num_bit), params...)\n",
    "end"
   ]
  },
  {
   "cell_type": "code",
   "execution_count": 3,
   "metadata": {},
   "outputs": [
    {
     "data": {
      "text/plain": [
       "zgate (generic function with 2 methods)"
      ]
     },
     "execution_count": 3,
     "metadata": {},
     "output_type": "execute_result"
    }
   ],
   "source": [
    "function xgate(basis::Vector{DInt}, bits::Ints)\n",
    "    norder = flip(basis, bits)\n",
    "    PermuteMultiply(norder+1, ones(length(basis)))\n",
    "end\n",
    "\n",
    "function ygate(basis::Vector{DInt}, bits::Ints)\n",
    "    norder = flip(basis, bits)\n",
    "    #vals = [-im*(-1)^reduce(+,takebit(b, bits)) for b in basis]\n",
    "    #vals = mapreduce(bit->map(x->x==0?-im:im, takebit(basis, bit)), .*, bits)\n",
    "    vals = mapreduce(bit->im.*(2.*takebit(basis, bit).-1), .*, bits)\n",
    "    PermuteMultiply(norder+1, vals)\n",
    "end\n",
    "\n",
    "function zgate(basis::Vector{DInt}, bits::Ints)\n",
    "    #vals = [(-1)^reduce(+,takebit(b, bits)) for b in basis]\n",
    "    vals = mapreduce(bit->1.-2.*takebit(basis, bit), .*, bits)\n",
    "    PermuteMultiply(basis+1, vals)\n",
    "end"
   ]
  },
  {
   "cell_type": "code",
   "execution_count": 4,
   "metadata": {},
   "outputs": [
    {
     "data": {
      "text/plain": [
       "swapgate (generic function with 2 methods)"
      ]
     },
     "execution_count": 4,
     "metadata": {},
     "output_type": "execute_result"
    }
   ],
   "source": [
    "############################ TODO ################################\n",
    "# arbitrary off-diagonal single qubit gate\n",
    "# e.g. X, Y\n",
    "function ndiaggate(basis::Vector{DInt}, gate::PermuteMultiply, bits::Ints)\n",
    "    norder = flip(basis, bits)\n",
    "    vals = mapreduce(bit->exp.(im*phi*(2.*takebit(basis, bit).-1)), .*, bits)\n",
    "    PermuteMultiply(norder+1, vals)\n",
    "end\n",
    "\n",
    "# arbitrary diagonal single qubit gate\n",
    "# e.g. Z, Rz(θ)\n",
    "function diaggate(basis::Vector{DInt}, gate::Diagonal, bits::Ints)\n",
    "    vals = mapreduce(bit->exp.(im*phi*(2.*takebit(basis, bit).-1)), .*, bits)\n",
    "    PermuteMultiply(basis+1, vals) # or Diagonal(vals) ?\n",
    "end\n",
    "\n",
    "#TODO?\n",
    "# arbituary dense single qubit gate: SparseMatrixCSC\n",
    "# e.g. Rx(θ), Ry(θ), Rot(θ1,θ2,θ3)\n",
    "#function densegate(bits::Ints, basis::Vector{DInt})\n",
    "#end\n",
    "\n",
    "# arbituary control PermuteMultiply gate: SparseMatrixCSC\n",
    "# swap gate\n",
    "function swapgate(basis::Vector{DInt}, b1::Int, b2::Int)\n",
    "end"
   ]
  },
  {
   "cell_type": "code",
   "execution_count": 6,
   "metadata": {},
   "outputs": [
    {
     "data": {
      "text/plain": [
       "_wrap_identity (generic function with 1 method)"
      ]
     },
     "execution_count": 6,
     "metadata": {},
     "output_type": "execute_result"
    }
   ],
   "source": [
    "⊗ = kron\n",
    "function superkron(num_bit::Int, gates::Vector{T}, locs::Vector{Int}) where T<:AbstractMatrix\n",
    "    locs = num_bit - locs + 1\n",
    "    order = sortperm(locs)\n",
    "    _wrap_identity(gates[order], diff(vcat([0], locs[order], [num_bit+1])) - 1)\n",
    "end\n",
    "\n",
    "# kron, and wrap matrices with identities.\n",
    "function _wrap_identity(data_list::Vector{T}, num_bit_list::Vector{Int}) where T<:AbstractMatrix\n",
    "    length(num_bit_list) == length(data_list) + 1 || throw(ArgumentError())\n",
    "    reduce((x,y)->x ⊗ y[1] ⊗ II(1<<y[2]), II(1 << num_bit_list[1]), zip(data_list, num_bit_list[2:end]))\n",
    "end"
   ]
  },
  {
   "cell_type": "code",
   "execution_count": 7,
   "metadata": {},
   "outputs": [],
   "source": [
    "@assert superkron(4, [PAULI_X, PAULI_Y], [3,2]) == II(2) ⊗ PAULI_X ⊗ PAULI_Y ⊗ II(2)"
   ]
  },
  {
   "cell_type": "code",
   "execution_count": 8,
   "metadata": {
    "collapsed": true
   },
   "outputs": [
    {
     "data": {
      "text/plain": [
       "projector (generic function with 2 methods)"
      ]
     },
     "execution_count": 8,
     "metadata": {},
     "output_type": "execute_result"
    }
   ],
   "source": [
    "# a function projecting space into target space.\n",
    "function projector(basis::Vector{DInt}, cbits::Int)\n",
    "    # Assigned: LW\n",
    "end"
   ]
  },
  {
   "cell_type": "code",
   "execution_count": 9,
   "metadata": {
    "collapsed": true
   },
   "outputs": [],
   "source": [
    "#@test projector(basis(6), [2, -3, -5]) == superkron(6, [P0, P1, P1], [2, 3, 5])"
   ]
  },
  {
   "cell_type": "code",
   "execution_count": 10,
   "metadata": {
    "collapsed": true
   },
   "outputs": [
    {
     "data": {
      "text/plain": [
       "general_controlled_gates (generic function with 1 method)"
      ]
     },
     "execution_count": 10,
     "metadata": {},
     "output_type": "execute_result"
    }
   ],
   "source": [
    "general_controlled_gates(num_bit::Int, projectors::Vector{Tp}, cbits::Vector{Int}, gates::Vector{Tg}, locs::Vector{Int}) where {Tg<:AbstractMatrix, Tp<:AbstractMatrix} = II(1<<num_bit) - superkron(num_bit, projectors, cbits) + superkron(num_bit, vcat(projectors, gates), vcat(cbits, locs))"
   ]
  },
  {
   "cell_type": "code",
   "execution_count": 32,
   "metadata": {},
   "outputs": [
    {
     "data": {
      "text/plain": [
       "\u001b[1m\u001b[32mTest Passed\u001b[39m\u001b[22m"
      ]
     },
     "execution_count": 32,
     "metadata": {},
     "output_type": "execute_result"
    }
   ],
   "source": [
    "CNOT = PermuteMultiply(Complex128[1 0 0 0; 0 1 0 0; 0 0 0 1; 0 0 1 0])\n",
    "TOFFOLI = kron(P0, II(4)) + kron(P1, CNOT)\n",
    "@test general_controlled_gates(2, [P1], [2], [PAULI_X], [1]) == CNOT"
   ]
  },
  {
   "cell_type": "code",
   "execution_count": 33,
   "metadata": {},
   "outputs": [
    {
     "name": "stdout",
     "output_type": "stream",
     "text": [
      "\u001b[1m\u001b[91mError During Test\n",
      "\u001b[39m\u001b[22m  Test threw an exception of type MethodError\n",
      "  Expression: zgate(4, [1, 2, 3]) == superkron(4, [PAULI_Z, PAULI_Z, PAULI_Z], [1, 2, 3])\n",
      "  \u001b[91mMethodError: no method matching zgate(::UnitRange{Int64}, ::Array{Int64,1})\u001b[0m\n",
      "  Closest candidates are:\n",
      "    zgate(\u001b[91m::Int64\u001b[39m, ::Any...) at In[2]:3\n",
      "    zgate(\u001b[91m::Array{Int64,1}\u001b[39m, ::Union{Array{Int64,1}, Int64, UnitRange{Int64}}) at In[3]:16\u001b[39m\n",
      "  Stacktrace:\n",
      "   [1] \u001b[1mzgate\u001b[22m\u001b[22m\u001b[1m(\u001b[22m\u001b[22m::Int64, ::Array{Int64,1}\u001b[1m)\u001b[22m\u001b[22m at \u001b[1m./In[2]:3\u001b[22m\u001b[22m\n",
      "   [2] \u001b[1minclude_string\u001b[22m\u001b[22m\u001b[1m(\u001b[22m\u001b[22m::String, ::String\u001b[1m)\u001b[22m\u001b[22m at \u001b[1m./loading.jl:522\u001b[22m\u001b[22m\n",
      "   [3] \u001b[1mexecute_request\u001b[22m\u001b[22m\u001b[1m(\u001b[22m\u001b[22m::ZMQ.Socket, ::IJulia.Msg\u001b[1m)\u001b[22m\u001b[22m at \u001b[1m/Users/leiwang/.julia/v0.6/IJulia/src/execute_request.jl:158\u001b[22m\u001b[22m\n",
      "   [4] \u001b[1m(::Compat.#inner#18{Array{Any,1},IJulia.#execute_request,Tuple{ZMQ.Socket,IJulia.Msg}})\u001b[22m\u001b[22m\u001b[1m(\u001b[22m\u001b[22m\u001b[1m)\u001b[22m\u001b[22m at \u001b[1m/Users/leiwang/.julia/v0.6/Compat/src/Compat.jl:403\u001b[22m\u001b[22m\n",
      "   [5] \u001b[1meventloop\u001b[22m\u001b[22m\u001b[1m(\u001b[22m\u001b[22m::ZMQ.Socket\u001b[1m)\u001b[22m\u001b[22m at \u001b[1m/Users/leiwang/.julia/v0.6/IJulia/src/eventloop.jl:8\u001b[22m\u001b[22m\n",
      "   [6] \u001b[1m(::IJulia.##14#17)\u001b[22m\u001b[22m\u001b[1m(\u001b[22m\u001b[22m\u001b[1m)\u001b[22m\u001b[22m at \u001b[1m./task.jl:335\u001b[22m\u001b[22m\n"
     ]
    },
    {
     "ename": "LoadError",
     "evalue": "\u001b[91mThere was an error during testing\u001b[39m",
     "output_type": "error",
     "traceback": [
      "\u001b[91mThere was an error during testing\u001b[39m",
      "",
      "Stacktrace:",
      " [1] \u001b[1mrecord\u001b[22m\u001b[22m\u001b[1m(\u001b[22m\u001b[22m::Base.Test.FallbackTestSet, ::Base.Test.Error\u001b[1m)\u001b[22m\u001b[22m at \u001b[1m./test.jl:533\u001b[22m\u001b[22m",
      " [2] \u001b[1mdo_test\u001b[22m\u001b[22m\u001b[1m(\u001b[22m\u001b[22m::Base.Test.Threw, ::Expr\u001b[1m)\u001b[22m\u001b[22m at \u001b[1m./test.jl:352\u001b[22m\u001b[22m"
     ]
    }
   ],
   "source": [
    "@test zgate(4, [1,2,3]) == superkron(4, [PAULI_Z, PAULI_Z, PAULI_Z], [1,2,3])"
   ]
  },
  {
   "cell_type": "code",
   "execution_count": 82,
   "metadata": {
    "collapsed": true
   },
   "outputs": [
    {
     "data": {
      "text/plain": [
       "controlled_U1 (generic function with 6 methods)"
      ]
     },
     "execution_count": 82,
     "metadata": {},
     "output_type": "execute_result"
    }
   ],
   "source": [
    "# Assigned: LW\n",
    "# control gate for single qubit gate\n",
    "function controlled_U1(basis::UnitRange{DInt}, gate::PermuteMultiply{T}, b1::Int, b2::Int) where {T}\n",
    "    dim = size(basis,1)\n",
    "    vals = ones(T, dim)\n",
    "    order = collect(1:dim)\n",
    "    for b in basis\n",
    "        if testbit(b, b1)\n",
    "            @inbounds vals[b+1] = gate.vals[gate.perm[1+takebit(b, b2)]]\n",
    "            @inbounds order[b+1] = (gate.perm[1] == 1) ? b+1: flip(b, b2)+1\n",
    "        end\n",
    "    end\n",
    "    PermuteMultiply(order, vals)\n",
    "end\n",
    "\n",
    "function controlled_U1(basis::UnitRange{DInt}, gate::SparseMatrixCSC, b1::Int, b2::Int)\n",
    "    general_controlled_gates(2, [P1], [b1], [gate], [b2])\n",
    "end\n",
    "\n",
    "function controlled_U1(basis::UnitRange{DInt}, gate::Diagonal{T}, b1::Int, b2::Int) where {T}\n",
    "    #Diagonal([takebit(b, b1)==1 ? gate.diag[1+takebit(b, b2)]: 1 for b in basis])\n",
    "    #a = (gate.diag[1]+gate.diag[2])/2.\n",
    "    #b = (gate.diag[1]-gate.diag[2])/2.\n",
    "    #a*II(1<<num_bit) + b*czgate(num_bit, b1, b2)\n",
    "    dim = size(basis,1)\n",
    "    vals = ones(T, dim)\n",
    "    for b in basis\n",
    "        if testbit(b, b1)\n",
    "            @inbounds vals[b+1] = gate.diag[1+takebit(b, b2)]\n",
    "        end\n",
    "    end\n",
    "    Diagonal(vals)\n",
    "end\n",
    "function controlled_U1(basis::UnitRange{DInt}, gate::StridedMatrix, b1::Int, b2::Int)\n",
    "    general_controlled_gates(2, [P1], [b1], [gate], [b2])\n",
    "end"
   ]
  },
  {
   "cell_type": "code",
   "execution_count": 64,
   "metadata": {},
   "outputs": [
    {
     "data": {
      "text/plain": [
       "\u001b[1m\u001b[32mTest Passed\u001b[39m\u001b[22m"
      ]
     },
     "execution_count": 64,
     "metadata": {},
     "output_type": "execute_result"
    }
   ],
   "source": [
    "@test controlled_U1(2, PAULI_Z, 1, 2) == czgate(basis(2), 1, 2) "
   ]
  },
  {
   "cell_type": "code",
   "execution_count": 81,
   "metadata": {},
   "outputs": [
    {
     "data": {
      "text/plain": [
       "BenchmarkTools.Trial: \n",
       "  memory estimate:  9.77 MiB\n",
       "  allocs estimate:  116\n",
       "  --------------\n",
       "  minimum time:     2.767 ms (0.00% GC)\n",
       "  median time:      5.092 ms (0.00% GC)\n",
       "  mean time:        5.103 ms (12.73% GC)\n",
       "  maximum time:     8.747 ms (18.04% GC)\n",
       "  --------------\n",
       "  samples:          978\n",
       "  evals/sample:     1"
      ]
     },
     "metadata": {},
     "output_type": "display_data"
    }
   ],
   "source": [
    "#display(@benchmark controlled_U1(basis(16), $PAULI_Z, 3, 7))\n",
    "display(@benchmark general_controlled_gates(16, [P1], [3], [$PAULI_Z], [7]))"
   ]
  },
  {
   "cell_type": "code",
   "execution_count": 17,
   "metadata": {},
   "outputs": [
    {
     "name": "stdout",
     "output_type": "stream",
     "text": [
      "\u001b[1m\u001b[91mError During Test\n",
      "\u001b[39m\u001b[22m  Test threw an exception of type UndefVarError\n",
      "  Expression: controlled_U1(basis(4), PAULI_Z, 3, 1) == czgate(basis(4), 3, 1)\n",
      "  \u001b[91mUndefVarError: czgate not defined\u001b[39m\n",
      "  Stacktrace:\n",
      "   [1] \u001b[1minclude_string\u001b[22m\u001b[22m\u001b[1m(\u001b[22m\u001b[22m::String, ::String\u001b[1m)\u001b[22m\u001b[22m at \u001b[1m./loading.jl:522\u001b[22m\u001b[22m\n",
      "   [2] \u001b[1mexecute_request\u001b[22m\u001b[22m\u001b[1m(\u001b[22m\u001b[22m::ZMQ.Socket, ::IJulia.Msg\u001b[1m)\u001b[22m\u001b[22m at \u001b[1m/Users/leiwang/.julia/v0.6/IJulia/src/execute_request.jl:158\u001b[22m\u001b[22m\n",
      "   [3] \u001b[1m(::Compat.#inner#18{Array{Any,1},IJulia.#execute_request,Tuple{ZMQ.Socket,IJulia.Msg}})\u001b[22m\u001b[22m\u001b[1m(\u001b[22m\u001b[22m\u001b[1m)\u001b[22m\u001b[22m at \u001b[1m/Users/leiwang/.julia/v0.6/Compat/src/Compat.jl:403\u001b[22m\u001b[22m\n",
      "   [4] \u001b[1meventloop\u001b[22m\u001b[22m\u001b[1m(\u001b[22m\u001b[22m::ZMQ.Socket\u001b[1m)\u001b[22m\u001b[22m at \u001b[1m/Users/leiwang/.julia/v0.6/IJulia/src/eventloop.jl:8\u001b[22m\u001b[22m\n",
      "   [5] \u001b[1m(::IJulia.##14#17)\u001b[22m\u001b[22m\u001b[1m(\u001b[22m\u001b[22m\u001b[1m)\u001b[22m\u001b[22m at \u001b[1m./task.jl:335\u001b[22m\u001b[22m\n"
     ]
    },
    {
     "ename": "LoadError",
     "evalue": "\u001b[91mThere was an error during testing\u001b[39m",
     "output_type": "error",
     "traceback": [
      "\u001b[91mThere was an error during testing\u001b[39m",
      "",
      "Stacktrace:",
      " [1] \u001b[1mrecord\u001b[22m\u001b[22m\u001b[1m(\u001b[22m\u001b[22m::Base.Test.FallbackTestSet, ::Base.Test.Error\u001b[1m)\u001b[22m\u001b[22m at \u001b[1m./test.jl:533\u001b[22m\u001b[22m",
      " [2] \u001b[1mdo_test\u001b[22m\u001b[22m\u001b[1m(\u001b[22m\u001b[22m::Base.Test.Threw, ::Expr\u001b[1m)\u001b[22m\u001b[22m at \u001b[1m./test.jl:352\u001b[22m\u001b[22m"
     ]
    }
   ],
   "source": [
    "@test controlled_U1(basis(4), PAULI_Z, 3, 1) == czgate(basis(4), 3, 1)"
   ]
  },
  {
   "cell_type": "code",
   "execution_count": 18,
   "metadata": {},
   "outputs": [
    {
     "data": {
      "text/plain": [
       "BenchmarkTools.Trial: \n",
       "  memory estimate:  72.34 KiB\n",
       "  allocs estimate:  2565\n",
       "  --------------\n",
       "  minimum time:     76.347 μs (0.00% GC)\n",
       "  median time:      81.556 μs (0.00% GC)\n",
       "  mean time:        91.735 μs (5.67% GC)\n",
       "  maximum time:     2.486 ms (93.34% GC)\n",
       "  --------------\n",
       "  samples:          10000\n",
       "  evals/sample:     1"
      ]
     },
     "metadata": {},
     "output_type": "display_data"
    }
   ],
   "source": [
    "display(@benchmark controlled_U1(basis(10), PAULI_Z, 3, 7))"
   ]
  },
  {
   "cell_type": "code",
   "execution_count": 37,
   "metadata": {},
   "outputs": [
    {
     "data": {
      "text/plain": [
       "czgate (generic function with 2 methods)"
      ]
     },
     "execution_count": 37,
     "metadata": {},
     "output_type": "execute_result"
    }
   ],
   "source": [
    "# CNOT/CZ may be further accelerated.\n",
    "function czgate(num_bit::Int, b1::Int, b2::Int)\n",
    "    Diagonal(map(i->1-2*(takebit(i, b1) & takebit(i, b2)), basis(num_bit)))\n",
    "end"
   ]
  },
  {
   "cell_type": "code",
   "execution_count": 38,
   "metadata": {},
   "outputs": [
    {
     "data": {
      "text/plain": [
       "BenchmarkTools.Trial: \n",
       "  memory estimate:  512.09 KiB\n",
       "  allocs estimate:  3\n",
       "  --------------\n",
       "  minimum time:     38.427 μs (0.00% GC)\n",
       "  median time:      237.393 μs (0.00% GC)\n",
       "  mean time:        218.233 μs (13.83% GC)\n",
       "  maximum time:     1.997 ms (75.07% GC)\n",
       "  --------------\n",
       "  samples:          10000\n",
       "  evals/sample:     1"
      ]
     },
     "metadata": {},
     "output_type": "display_data"
    }
   ],
   "source": [
    "display(@benchmark czgate(16, 3, 7))"
   ]
  },
  {
   "cell_type": "code",
   "execution_count": 21,
   "metadata": {},
   "outputs": [
    {
     "data": {
      "text/plain": [
       "\u001b[1m\u001b[32mTest Passed\u001b[39m\u001b[22m"
      ]
     },
     "execution_count": 21,
     "metadata": {},
     "output_type": "execute_result"
    }
   ],
   "source": [
    "@test czgate(basis(2), 1, 2) == [1 0 0 0; 0 1 0 0; 0 0 1 0; 0 0 0 -1]\n",
    "@test general_controlled_gates(16, [P1], [7], [PAULI_Z], [3]) == czgate(basis(16), 7, 3)"
   ]
  },
  {
   "cell_type": "code",
   "execution_count": 22,
   "metadata": {},
   "outputs": [
    {
     "data": {
      "text/plain": [
       "cnotgate (generic function with 2 methods)"
      ]
     },
     "execution_count": 22,
     "metadata": {},
     "output_type": "execute_result"
    }
   ],
   "source": [
    "############# CNOT Gate as an example ##################\n",
    "function cnotgate(basis::UnitRange{DInt}, b1::Int, b2::Int)\n",
    "    @views order = xor.(basis, (basis .& bmask(b1)) .<< (b2-b1))\n",
    "    PermuteMultiply(order+1, ones(Int, length(basis)))\n",
    "end"
   ]
  },
  {
   "cell_type": "code",
   "execution_count": 23,
   "metadata": {},
   "outputs": [
    {
     "data": {
      "text/plain": [
       "BenchmarkTools.Trial: \n",
       "  memory estimate:  1.50 MiB\n",
       "  allocs estimate:  8\n",
       "  --------------\n",
       "  minimum time:     109.791 μs (0.00% GC)\n",
       "  median time:      730.186 μs (0.00% GC)\n",
       "  mean time:        634.986 μs (15.11% GC)\n",
       "  maximum time:     2.615 ms (56.79% GC)\n",
       "  --------------\n",
       "  samples:          7842\n",
       "  evals/sample:     1"
      ]
     },
     "metadata": {},
     "output_type": "display_data"
    }
   ],
   "source": [
    "display(@benchmark cnotgate(16, 3, 7))"
   ]
  },
  {
   "cell_type": "code",
   "execution_count": 24,
   "metadata": {},
   "outputs": [
    {
     "data": {
      "text/plain": [
       "\u001b[1m\u001b[32mTest Passed\u001b[39m\u001b[22m"
      ]
     },
     "execution_count": 24,
     "metadata": {},
     "output_type": "execute_result"
    }
   ],
   "source": [
    "@test cnotgate(basis(2), 2, 1) == [1 0 0 0; 0 1 0 0; 0 0 0 1; 0 0 1 0]\n",
    "@test general_controlled_gates(16, [P1], [7], [PAULI_X], [3]) == cnotgate(basis(16), 7, 3)"
   ]
  },
  {
   "cell_type": "code",
   "execution_count": 66,
   "metadata": {},
   "outputs": [
    {
     "data": {
      "text/plain": [
       "BenchmarkTools.Trial: \n",
       "  memory estimate:  1.50 MiB\n",
       "  allocs estimate:  8\n",
       "  --------------\n",
       "  minimum time:     127.956 μs (0.00% GC)\n",
       "  median time:      752.830 μs (0.00% GC)\n",
       "  mean time:        665.379 μs (15.52% GC)\n",
       "  maximum time:     3.045 ms (73.27% GC)\n",
       "  --------------\n",
       "  samples:          7486\n",
       "  evals/sample:     1"
      ]
     },
     "execution_count": 66,
     "metadata": {},
     "output_type": "execute_result"
    }
   ],
   "source": [
    "bss = basis(16);\n",
    "############# uncomment to run benchmarks ##################\n",
    "@benchmark cnotgate($(bss), 7, 3)\n",
    "#@benchmark general_controlled_gates(16, [P1], [7], [PAULI_X], [3])"
   ]
  },
  {
   "cell_type": "code",
   "execution_count": 26,
   "metadata": {},
   "outputs": [
    {
     "data": {
      "text/plain": [
       "toffoligate (generic function with 2 methods)"
      ]
     },
     "execution_count": 26,
     "metadata": {},
     "output_type": "execute_result"
    }
   ],
   "source": [
    "toffoligate(basis::Vector{DInt}, b1::Int, b2::Int, b3::Int) = multicontrolled_U1(basis, PAULI_X, [b1, b2], b3)"
   ]
  },
  {
   "cell_type": "code",
   "execution_count": 27,
   "metadata": {},
   "outputs": [
    {
     "data": {
      "text/plain": [
       "multicontrolled_U1 (generic function with 1 method)"
      ]
     },
     "execution_count": 27,
     "metadata": {},
     "output_type": "execute_result"
    }
   ],
   "source": [
    "# Assigned: LW\n",
    "# multi-control gate for single qubit gate\n",
    "function multicontrolled_U1(basis::Vector{DInt}, gate::PermuteMultiply, cbits::Vector{Int}, b2::Int)\n",
    "end\n",
    "# repeat for other matrix formats ..."
   ]
  },
  {
   "cell_type": "code",
   "execution_count": 28,
   "metadata": {},
   "outputs": [],
   "source": [
    "# TODO\n",
    "# future, arbituary two site gate support\n",
    "# probabily focus is enough? or, use projection decomposition?"
   ]
  },
  {
   "cell_type": "code",
   "execution_count": 29,
   "metadata": {},
   "outputs": [],
   "source": [
    "#@test toffligate(3, 2, 3, 1) == TOFFOLI"
   ]
  },
  {
   "cell_type": "code",
   "execution_count": 30,
   "metadata": {},
   "outputs": [
    {
     "data": {
      "text/plain": [
       "1-element Array{Complex{Float32},1}:\n",
       " 1.0+0.0im"
      ]
     },
     "execution_count": 30,
     "metadata": {},
     "output_type": "execute_result"
    }
   ],
   "source": [
    "x = zeros(Complex64, 0)\n",
    "push!(x, 1.0)"
   ]
  },
  {
   "cell_type": "code",
   "execution_count": 31,
   "metadata": {},
   "outputs": [
    {
     "data": {
      "text/plain": [
       "0"
      ]
     },
     "execution_count": 31,
     "metadata": {},
     "output_type": "execute_result"
    }
   ],
   "source": [
    "takebit(12, 2) "
   ]
  },
  {
   "cell_type": "code",
   "execution_count": 95,
   "metadata": {},
   "outputs": [
    {
     "data": {
      "text/plain": [
       "0"
      ]
     },
     "execution_count": 95,
     "metadata": {},
     "output_type": "execute_result"
    }
   ],
   "source": [
    "v = Diagonal([0, 1,2,3])\n",
    "v[2,3]"
   ]
  },
  {
   "cell_type": "code",
   "execution_count": 110,
   "metadata": {},
   "outputs": [
    {
     "data": {
      "text/plain": [
       "16"
      ]
     },
     "execution_count": 110,
     "metadata": {},
     "output_type": "execute_result"
    }
   ],
   "source": [
    "size(basis(4),1)"
   ]
  },
  {
   "cell_type": "code",
   "execution_count": null,
   "metadata": {},
   "outputs": [],
   "source": []
  }
 ],
 "metadata": {
  "kernelspec": {
   "display_name": "Julia 0.6.2",
   "language": "julia",
   "name": "julia-0.6"
  },
  "language_info": {
   "file_extension": ".jl",
   "mimetype": "application/julia",
   "name": "julia",
   "version": "0.6.2"
  }
 },
 "nbformat": 4,
 "nbformat_minor": 2
}
