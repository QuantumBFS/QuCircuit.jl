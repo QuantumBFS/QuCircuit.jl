{
 "cells": [
  {
   "cell_type": "code",
   "execution_count": 1,
   "metadata": {},
   "outputs": [
    {
     "name": "stderr",
     "output_type": "stream",
     "text": [
      "\u001b[1m\u001b[33mWARNING: \u001b[39m\u001b[22m\u001b[33mreplacing docs for 'PermuteMultiply :: Union{}' in module 'Main'.\u001b[39m\n"
     ]
    }
   ],
   "source": [
    "include(\"../basis.jl\")\n",
    "include(\"../identity.jl\")\n",
    "include(\"../basic_gates.jl\")\n",
    "using Compat.Test\n",
    "using BenchmarkTools"
   ]
  },
  {
   "cell_type": "code",
   "execution_count": 77,
   "metadata": {},
   "outputs": [
    {
     "data": {
      "text/plain": [
       "zgate (generic function with 1 method)"
      ]
     },
     "execution_count": 77,
     "metadata": {},
     "output_type": "execute_result"
    }
   ],
   "source": [
    "function xgate(num_bit::Int, bits::Ints)\n",
    "    norder = flip(basis(num_bit), bits)\n",
    "    PermuteMultiply(norder+1, ones(1<<num_bit))\n",
    "end\n",
    "\n",
    "function ygate(num_bit::Int, bits::Ints)\n",
    "    norder = flip(basis(num_bit), bits)\n",
    "    #vals = [-im*(-1)^reduce(+,takebit(b, bits)) for b in basis]\n",
    "    #vals = mapreduce(bit->map(x->x==0?-im:im, takebit(basis, bit)), .*, bits)\n",
    "    vals = mapreduce(bit->im.*(2.*takebit.(basis(num_bit), bit).-1), .*, bits)\n",
    "    PermuteMultiply(norder+1, vals)\n",
    "end\n",
    "\n",
    "function zgate(num_bit::Int, bits::Ints)\n",
    "    #vals = [(-1)^reduce(+,takebit(b, bits)) for b in basis]\n",
    "    vals = mapreduce(bit->1.-2.*takebit.(basis(num_bit), bit), (x,y)->broadcast(*,x,y), bits)\n",
    "    Diagonal(vals)\n",
    "end"
   ]
  },
  {
   "cell_type": "code",
   "execution_count": 78,
   "metadata": {},
   "outputs": [
    {
     "data": {
      "text/plain": [
       "swapgate (generic function with 1 method)"
      ]
     },
     "execution_count": 78,
     "metadata": {},
     "output_type": "execute_result"
    }
   ],
   "source": [
    "############################ TODO ################################\n",
    "# arbitrary off-diagonal single qubit gate\n",
    "# e.g. X, Y\n",
    "function ndiaggate(num_bit::Int, gate::PermuteMultiply, bits::Ints)\n",
    "    norder = flip(basis(num_bit), bits)\n",
    "    vals = mapreduce(bit->exp.(im*phi*(2*takebit.(basis(num_bit), bit).-1)), .*, bits)\n",
    "    PermuteMultiply(norder+1, vals)\n",
    "end\n",
    "\n",
    "# arbitrary diagonal single qubit gate\n",
    "# e.g. Z, Rz(θ)\n",
    "function diaggate(num_bit::Int, gate::Diagonal, bits::Ints)\n",
    "    vals = mapreduce(bit->exp.(im*phi*(2*takebit.(basis(num_bit), bit).-1)), .*, bits)\n",
    "    PermuteMultiply(basis(num_bit)+1, vals) # or Diagonal(vals) ?\n",
    "end\n",
    "\n",
    "#TODO?\n",
    "# arbituary dense single qubit gate: SparseMatrixCSC\n",
    "# e.g. Rx(θ), Ry(θ), Rot(θ1,θ2,θ3)\n",
    "#function densegate(bits::Ints, basis::Vector{DInt})\n",
    "#end\n",
    "\n",
    "# arbituary control PermuteMultiply gate: SparseMatrixCSC\n",
    "# swap gate\n",
    "function swapgate(basis::Vector{DInt}, b1::Int, b2::Int)\n",
    "end"
   ]
  },
  {
   "cell_type": "code",
   "execution_count": 79,
   "metadata": {},
   "outputs": [
    {
     "data": {
      "text/plain": [
       "_wrap_identity (generic function with 1 method)"
      ]
     },
     "execution_count": 79,
     "metadata": {},
     "output_type": "execute_result"
    }
   ],
   "source": [
    "⊗ = kron\n",
    "function superkron(num_bit::Int, gates::Vector{T}, locs::Vector{Int}) where T<:AbstractMatrix\n",
    "    locs = num_bit - locs + 1\n",
    "    order = sortperm(locs)\n",
    "    _wrap_identity(gates[order], diff(vcat([0], locs[order], [num_bit+1])) - 1)\n",
    "end\n",
    "\n",
    "# kron, and wrap matrices with identities.\n",
    "function _wrap_identity(data_list::Vector{T}, num_bit_list::Vector{Int}) where T<:AbstractMatrix\n",
    "    length(num_bit_list) == length(data_list) + 1 || throw(ArgumentError())\n",
    "    reduce((x,y)->x ⊗ y[1] ⊗ II(1<<y[2]), II(1 << num_bit_list[1]), zip(data_list, num_bit_list[2:end]))\n",
    "end"
   ]
  },
  {
   "cell_type": "code",
   "execution_count": 80,
   "metadata": {},
   "outputs": [
    {
     "data": {
      "text/plain": [
       "\u001b[1m\u001b[32mTest Passed\n",
       "\u001b[39m\u001b[22m"
      ]
     },
     "execution_count": 80,
     "metadata": {},
     "output_type": "execute_result"
    }
   ],
   "source": [
    "@test superkron(4, [PAULI_X, PAULI_Y], [3,2]) == II(2) ⊗ PAULI_X ⊗ PAULI_Y ⊗ II(2)"
   ]
  },
  {
   "cell_type": "code",
   "execution_count": 81,
   "metadata": {
    "collapsed": true
   },
   "outputs": [
    {
     "data": {
      "text/plain": [
       "projector (generic function with 1 method)"
      ]
     },
     "execution_count": 81,
     "metadata": {},
     "output_type": "execute_result"
    }
   ],
   "source": [
    "# a function projecting space into target space.\n",
    "function projector(basis::Vector{DInt}, cbits::Int)\n",
    "    # Assigned: LW\n",
    "end"
   ]
  },
  {
   "cell_type": "code",
   "execution_count": 82,
   "metadata": {
    "collapsed": true
   },
   "outputs": [],
   "source": [
    "#@test projector(basis(6), [2, -3, -5]) == superkron(6, [P0, P1, P1], [2, 3, 5])"
   ]
  },
  {
   "cell_type": "code",
   "execution_count": 83,
   "metadata": {
    "collapsed": true
   },
   "outputs": [
    {
     "data": {
      "text/plain": [
       "general_controlled_gates (generic function with 1 method)"
      ]
     },
     "execution_count": 83,
     "metadata": {},
     "output_type": "execute_result"
    }
   ],
   "source": [
    "general_controlled_gates(num_bit::Int, projectors::Vector{Tp}, cbits::Vector{Int}, gates::Vector{Tg}, locs::Vector{Int}) where {Tg<:AbstractMatrix, Tp<:AbstractMatrix} = II(1<<num_bit) - superkron(num_bit, projectors, cbits) + superkron(num_bit, vcat(projectors, gates), vcat(cbits, locs))"
   ]
  },
  {
   "cell_type": "code",
   "execution_count": 84,
   "metadata": {},
   "outputs": [
    {
     "data": {
      "text/plain": [
       "\u001b[1m\u001b[32mTest Passed\n",
       "\u001b[39m\u001b[22m"
      ]
     },
     "execution_count": 84,
     "metadata": {},
     "output_type": "execute_result"
    }
   ],
   "source": [
    "CNOT = PermuteMultiply(Complex128[1 0 0 0; 0 1 0 0; 0 0 0 1; 0 0 1 0])\n",
    "TOFFOLI = kron(P0, II(4)) + kron(P1, CNOT)\n",
    "@test general_controlled_gates(2, [P1], [2], [PAULI_X], [1]) == CNOT"
   ]
  },
  {
   "cell_type": "code",
   "execution_count": 85,
   "metadata": {},
   "outputs": [
    {
     "data": {
      "text/plain": [
       "\u001b[1m\u001b[32mTest Passed\n",
       "\u001b[39m\u001b[22m"
      ]
     },
     "execution_count": 85,
     "metadata": {},
     "output_type": "execute_result"
    }
   ],
   "source": [
    "@test zgate(4, [1,2,3]) == superkron(4, [PAULI_Z, PAULI_Z, PAULI_Z], [1,2,3])"
   ]
  },
  {
   "cell_type": "code",
   "execution_count": 86,
   "metadata": {
    "collapsed": true
   },
   "outputs": [
    {
     "data": {
      "text/plain": [
       "controlled_U1 (generic function with 8 methods)"
      ]
     },
     "execution_count": 86,
     "metadata": {},
     "output_type": "execute_result"
    }
   ],
   "source": [
    "# Assigned: LW\n",
    "# control gate for single qubit gate\n",
    "function controlled_U1(num_bit::Int, gate::PermuteMultiply, b1::Int, b2::Int)\n",
    "end\n",
    "function controlled_U1(num_bit::Int, gate::SparseMatrixCSC, b1::Int, b2::Int)\n",
    "end\n",
    "function controlled_U1(num_bit::Int, gate::Diagonal{T}, b1::Int, b2::Int) where {T}\n",
    "    vals = Vector{T}\n",
    "    for b in basis(num_bit)\n",
    "        println(b, b1)\n",
    "        println(testbit(b, b1))\n",
    "        if testbit(b, b1)\n",
    "            println(test[b2])\n",
    "            push!(vals, gate[takebit[b, b2]])\n",
    "        else\n",
    "            push!(vals, convert(T, 1.0))\n",
    "        end\n",
    "    end\n",
    "    Diagonal(vals)\n",
    "end\n",
    "function controlled_U1(num_bit::Int, gate::StridedMatrix, b1::Int, b2::Int)\n",
    "end"
   ]
  },
  {
   "cell_type": "code",
   "execution_count": 87,
   "metadata": {},
   "outputs": [
    {
     "data": {
      "text/plain": [
       "BenchmarkTools.Trial: \n",
       "  memory estimate:  176 bytes\n",
       "  allocs estimate:  2\n",
       "  --------------\n",
       "  minimum time:     47.056 ns (0.00% GC)\n",
       "  median time:      48.315 ns (0.00% GC)\n",
       "  mean time:        61.275 ns (13.56% GC)\n",
       "  maximum time:     1.929 μs (93.15% GC)\n",
       "  --------------\n",
       "  samples:          10000\n",
       "  evals/sample:     989"
      ]
     },
     "metadata": {},
     "output_type": "display_data"
    },
    {
     "data": {
      "text/plain": [
       "BenchmarkTools.Trial: \n",
       "  memory estimate:  0 bytes\n",
       "  allocs estimate:  0\n",
       "  --------------\n",
       "  minimum time:     22.105 ns (0.00% GC)\n",
       "  median time:      34.649 ns (0.00% GC)\n",
       "  mean time:        34.914 ns (0.00% GC)\n",
       "  maximum time:     272.723 ns (0.00% GC)\n",
       "  --------------\n",
       "  samples:          10000\n",
       "  evals/sample:     996"
      ]
     },
     "metadata": {},
     "output_type": "display_data"
    }
   ],
   "source": [
    "# how to use push, and why not use push.\n",
    "arr1 = zeros(3)\n",
    "display(@benchmark push!([0,0,0],4))\n",
    "# but, this is not recommended, allocate before setting elements!\n",
    "arr2 = zeros(4)\n",
    "display(@benchmark arr[4] = 4)"
   ]
  },
  {
   "cell_type": "code",
   "execution_count": 88,
   "metadata": {},
   "outputs": [
    {
     "name": "stdout",
     "output_type": "stream",
     "text": [
      "01\n",
      "false\n"
     ]
    },
    {
     "ename": "LoadError",
     "evalue": "\u001b[91mMethodError: no method matching push!(::Type{Array{Complex{Int64},1}}, ::Complex{Int64})\u001b[0m\nClosest candidates are:\n  push!(::Any, ::Any, \u001b[91m::Any\u001b[39m) at abstractarray.jl:1935\n  push!(::Any, ::Any, \u001b[91m::Any\u001b[39m, \u001b[91m::Any...\u001b[39m) at abstractarray.jl:1936\n  push!(\u001b[91m::Array{Any,1}\u001b[39m, ::ANY) at array.jl:624\n  ...\u001b[39m",
     "output_type": "error",
     "traceback": [
      "\u001b[91mMethodError: no method matching push!(::Type{Array{Complex{Int64},1}}, ::Complex{Int64})\u001b[0m\nClosest candidates are:\n  push!(::Any, ::Any, \u001b[91m::Any\u001b[39m) at abstractarray.jl:1935\n  push!(::Any, ::Any, \u001b[91m::Any\u001b[39m, \u001b[91m::Any...\u001b[39m) at abstractarray.jl:1936\n  push!(\u001b[91m::Array{Any,1}\u001b[39m, ::ANY) at array.jl:624\n  ...\u001b[39m",
      "",
      "Stacktrace:",
      " [1] \u001b[1mcontrolled_U1\u001b[22m\u001b[22m\u001b[1m(\u001b[22m\u001b[22m::Int64, ::Diagonal{Complex{Int64}}, ::Int64, ::Int64\u001b[1m)\u001b[22m\u001b[22m at \u001b[1m./In[86]:16\u001b[22m\u001b[22m"
     ]
    }
   ],
   "source": [
    "println(controlled_U1(2, PAULI_Z, 1, 2))"
   ]
  },
  {
   "cell_type": "code",
   "execution_count": 89,
   "metadata": {},
   "outputs": [
    {
     "data": {
      "text/plain": [
       "czgate (generic function with 1 method)"
      ]
     },
     "execution_count": 89,
     "metadata": {},
     "output_type": "execute_result"
    }
   ],
   "source": [
    "# CNOT/CZ may be further accelerated.\n",
    "function czgate(num_bit::Int, b1::Int, b2::Int)\n",
    "    Diagonal(map(i->1-2*(takebit(i, b1) & takebit(i, b2)), basis(num_bit)))\n",
    "end"
   ]
  },
  {
   "cell_type": "code",
   "execution_count": 74,
   "metadata": {},
   "outputs": [
    {
     "data": {
      "text/plain": [
       "BenchmarkTools.Trial: \n",
       "  memory estimate:  512.09 KiB\n",
       "  allocs estimate:  3\n",
       "  --------------\n",
       "  minimum time:     64.454 μs (0.00% GC)\n",
       "  median time:      81.313 μs (0.00% GC)\n",
       "  mean time:        93.450 μs (12.07% GC)\n",
       "  maximum time:     918.659 μs (85.37% GC)\n",
       "  --------------\n",
       "  samples:          10000\n",
       "  evals/sample:     1"
      ]
     },
     "metadata": {},
     "output_type": "display_data"
    },
    {
     "data": {
      "text/plain": [
       "BenchmarkTools.Trial: \n",
       "  memory estimate:  9.28 MiB\n",
       "  allocs estimate:  117\n",
       "  --------------\n",
       "  minimum time:     2.711 ms (0.00% GC)\n",
       "  median time:      2.927 ms (0.00% GC)\n",
       "  mean time:        3.199 ms (9.54% GC)\n",
       "  maximum time:     5.909 ms (12.97% GC)\n",
       "  --------------\n",
       "  samples:          1557\n",
       "  evals/sample:     1"
      ]
     },
     "metadata": {},
     "output_type": "display_data"
    }
   ],
   "source": [
    "@test czgate(2, 1, 2) == [1 0 0 0; 0 1 0 0; 0 0 1 0; 0 0 0 -1]\n",
    "display(@benchmark czgate(16, 3, 7))\n",
    "display(@benchmark general_controlled_gates(16, [P1], [7], [PAULI_Z], [3]))"
   ]
  },
  {
   "cell_type": "code",
   "execution_count": 90,
   "metadata": {},
   "outputs": [
    {
     "data": {
      "text/plain": [
       "\u001b[1m\u001b[32mTest Passed\n",
       "\u001b[39m\u001b[22m"
      ]
     },
     "execution_count": 90,
     "metadata": {},
     "output_type": "execute_result"
    }
   ],
   "source": [
    "@test general_controlled_gates(16, [P1], [7], [PAULI_Z], [3]) == czgate(16, 7, 3)"
   ]
  },
  {
   "cell_type": "code",
   "execution_count": 98,
   "metadata": {},
   "outputs": [
    {
     "data": {
      "text/plain": [
       "cnotgate (generic function with 1 method)"
      ]
     },
     "execution_count": 98,
     "metadata": {},
     "output_type": "execute_result"
    }
   ],
   "source": [
    "############# CNOT Gate as an example ##################\n",
    "function cnotgate(num_bit::Int, b1::Int, b2::Int)\n",
    "    mask = bmask(b1)\n",
    "    db = b2-b1\n",
    "    order = map(i->i ⊻ ((i .& mask) << db) + 1, basis(num_bit))\n",
    "    PermuteMultiply(order, ones(Int, 1<<num_bit))\n",
    "end"
   ]
  },
  {
   "cell_type": "code",
   "execution_count": 99,
   "metadata": {},
   "outputs": [
    {
     "data": {
      "text/plain": [
       "\u001b[1m\u001b[32mTest Passed\n",
       "\u001b[39m\u001b[22m"
      ]
     },
     "execution_count": 99,
     "metadata": {},
     "output_type": "execute_result"
    }
   ],
   "source": [
    "@test cnotgate(2, 2, 1) == [1 0 0 0; 0 1 0 0; 0 0 0 1; 0 0 1 0]\n",
    "@test general_controlled_gates(16, [P1], [7], [PAULI_X], [3]) == cnotgate(16, 7, 3)"
   ]
  },
  {
   "cell_type": "code",
   "execution_count": 100,
   "metadata": {},
   "outputs": [
    {
     "data": {
      "text/plain": [
       "BenchmarkTools.Trial: \n",
       "  memory estimate:  1.00 MiB\n",
       "  allocs estimate:  6\n",
       "  --------------\n",
       "  minimum time:     151.186 μs (0.00% GC)\n",
       "  median time:      165.721 μs (0.00% GC)\n",
       "  mean time:        198.737 μs (13.33% GC)\n",
       "  maximum time:     1.463 ms (80.96% GC)\n",
       "  --------------\n",
       "  samples:          10000\n",
       "  evals/sample:     1"
      ]
     },
     "execution_count": 100,
     "metadata": {},
     "output_type": "execute_result"
    }
   ],
   "source": [
    "############# uncomment to run benchmarks ##################\n",
    "@benchmark cnotgate(16, 7, 3)\n",
    "#@benchmark general_controlled_gates(16, [P1], [7], [PAULI_X], [3])"
   ]
  },
  {
   "cell_type": "code",
   "execution_count": 94,
   "metadata": {},
   "outputs": [
    {
     "data": {
      "text/plain": [
       "toffoligate (generic function with 1 method)"
      ]
     },
     "execution_count": 94,
     "metadata": {},
     "output_type": "execute_result"
    }
   ],
   "source": [
    "toffoligate(basis::Vector{DInt}, b1::Int, b2::Int, b3::Int) = multicontrolled_U1(basis, PAULI_X, [b1, b2], b3)"
   ]
  },
  {
   "cell_type": "code",
   "execution_count": 95,
   "metadata": {},
   "outputs": [
    {
     "data": {
      "text/plain": [
       "multicontrolled_U1 (generic function with 1 method)"
      ]
     },
     "execution_count": 95,
     "metadata": {},
     "output_type": "execute_result"
    }
   ],
   "source": [
    "# Assigned: LW\n",
    "# multi-control gate for single qubit gate\n",
    "function multicontrolled_U1(basis::Vector{DInt}, gate::PermuteMultiply, cbits::Vector{Int}, b2::Int)\n",
    "end\n",
    "# repeat for other matrix formats ..."
   ]
  },
  {
   "cell_type": "code",
   "execution_count": 29,
   "metadata": {},
   "outputs": [],
   "source": [
    "# TODO\n",
    "# future, arbituary two site gate support\n",
    "# probabily focus is enough? or, use projection decomposition?"
   ]
  },
  {
   "cell_type": "code",
   "execution_count": 12,
   "metadata": {},
   "outputs": [
    {
     "data": {
      "text/plain": [
       "8×8 SparseMatrixCSC{Complex{Float64},Int64} with 8 stored entries:\n",
       "  [1, 1]  =  1.0+0.0im\n",
       "  [2, 2]  =  1.0+0.0im\n",
       "  [3, 3]  =  1.0+0.0im\n",
       "  [4, 4]  =  1.0+0.0im\n",
       "  [5, 5]  =  1.0+0.0im\n",
       "  [6, 6]  =  1.0+0.0im\n",
       "  [8, 7]  =  1.0+0.0im\n",
       "  [7, 8]  =  1.0+0.0im"
      ]
     },
     "execution_count": 12,
     "metadata": {},
     "output_type": "execute_result"
    }
   ],
   "source": [
    "#@test toffligate(3, 2, 3, 1) == TOFFOLI"
   ]
  },
  {
   "cell_type": "code",
   "execution_count": 175,
   "metadata": {},
   "outputs": [
    {
     "data": {
      "text/plain": [
       "1-element Array{Any,1}:\n",
       " 1.0+0.0im"
      ]
     },
     "execution_count": 175,
     "metadata": {},
     "output_type": "execute_result"
    }
   ],
   "source": [
    "x = []\n",
    "push!(x, Complex64(1.0))"
   ]
  },
  {
   "cell_type": "code",
   "execution_count": null,
   "metadata": {},
   "outputs": [],
   "source": []
  }
 ],
 "metadata": {
  "kernelspec": {
   "display_name": "Julia 0.6.0",
   "language": "julia",
   "name": "julia-0.6"
  },
  "language_info": {
   "file_extension": ".jl",
   "mimetype": "application/julia",
   "name": "julia",
   "version": "0.6.0"
  }
 },
 "nbformat": 4,
 "nbformat_minor": 2
}
