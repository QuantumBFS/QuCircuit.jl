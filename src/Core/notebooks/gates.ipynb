{
 "cells": [
  {
   "cell_type": "code",
   "execution_count": 119,
   "metadata": {},
   "outputs": [
    {
     "name": "stderr",
     "output_type": "stream",
     "text": [
      "WARNING: redefining constant PAULI_X\n",
      "WARNING: redefining constant PAULI_Y\n",
      "WARNING: redefining constant PAULI_Z\n",
      "WARNING: redefining constant PAULI_XZ\n",
      "WARNING: redefining constant PAULI_YZ\n",
      "WARNING: redefining constant PAULI_ZZ\n",
      "WARNING: redefining constant PAULI_XC\n",
      "WARNING: redefining constant PAULI_YC\n",
      "WARNING: redefining constant PAULI_ZC\n",
      "WARNING: redefining constant P0\n",
      "WARNING: redefining constant P1\n"
     ]
    }
   ],
   "source": [
    "include(\"../basis.jl\")\n",
    "include(\"../identity.jl\")\n",
    "include(\"../basic_gates.jl\")\n",
    "using Compat.Test\n",
    "using BenchmarkTools"
   ]
  },
  {
   "cell_type": "code",
   "execution_count": 102,
   "metadata": {
    "collapsed": true
   },
   "outputs": [],
   "source": [
    "### pretty interface\n",
    "for GATE in [:xgate, :ygate, :zgate, :ndiaggate, :diaggate, :controlled_U1, :cnotgate, :projector, :toffoligate, :swapgate]\n",
    "    @eval $GATE(num_bit::Int, params...) = $GATE(basis(num_bit), params...)\n",
    "end"
   ]
  },
  {
   "cell_type": "code",
   "execution_count": 103,
   "metadata": {},
   "outputs": [
    {
     "data": {
      "text/plain": [
       "zgate (generic function with 2 methods)"
      ]
     },
     "execution_count": 103,
     "metadata": {},
     "output_type": "execute_result"
    }
   ],
   "source": [
    "function xgate(basis::Vector{DInt}, bits::Ints)\n",
    "    norder = flip(basis, bits)\n",
    "    PermuteMultiply(norder+1, ones(length(basis)))\n",
    "end\n",
    "\n",
    "function ygate(basis::Vector{DInt}, bits::Ints)\n",
    "    norder = flip(basis, bits)\n",
    "    #vals = [-im*(-1)^reduce(+,takebit(b, bits)) for b in basis]\n",
    "    #vals = mapreduce(bit->map(x->x==0?-im:im, takebit(basis, bit)), .*, bits)\n",
    "    vals = mapreduce(bit->im.*(2.*takebit(basis, bit).-1), .*, bits)\n",
    "    PermuteMultiply(norder+1, vals)\n",
    "end\n",
    "\n",
    "function zgate(basis::Vector{DInt}, bits::Ints)\n",
    "    #vals = [(-1)^reduce(+,takebit(b, bits)) for b in basis]\n",
    "    vals = mapreduce(bit->1.-2.*takebit(basis, bit), .*, bits)\n",
    "    PermuteMultiply(basis+1, vals)\n",
    "end"
   ]
  },
  {
   "cell_type": "code",
   "execution_count": 104,
   "metadata": {},
   "outputs": [
    {
     "data": {
      "text/plain": [
       "swapgate (generic function with 2 methods)"
      ]
     },
     "execution_count": 104,
     "metadata": {},
     "output_type": "execute_result"
    }
   ],
   "source": [
    "############################ TODO ################################\n",
    "# arbitrary off-diagonal single qubit gate\n",
    "# e.g. X, Y\n",
    "function ndiaggate(basis::Vector{DInt}, gate::PermuteMultiply, bits::Ints)\n",
    "    norder = flip(basis, bits)\n",
    "    vals = mapreduce(bit->exp.(im*phi*(2.*takebit(basis, bit).-1)), .*, bits)\n",
    "    PermuteMultiply(norder+1, vals)\n",
    "end\n",
    "\n",
    "# arbitrary diagonal single qubit gate\n",
    "# e.g. Z, Rz(θ)\n",
    "function diaggate(basis::Vector{DInt}, gate::Diagonal, bits::Ints)\n",
    "    vals = mapreduce(bit->exp.(im*phi*(2.*takebit(basis, bit).-1)), .*, bits)\n",
    "    PermuteMultiply(basis+1, vals) # or Diagonal(vals) ?\n",
    "end\n",
    "\n",
    "#TODO?\n",
    "# arbituary dense single qubit gate: SparseMatrixCSC\n",
    "# e.g. Rx(θ), Ry(θ), Rot(θ1,θ2,θ3)\n",
    "#function densegate(bits::Ints, basis::Vector{DInt})\n",
    "#end\n",
    "\n",
    "# arbituary control PermuteMultiply gate: SparseMatrixCSC\n",
    "# swap gate\n",
    "function swapgate(basis::Vector{DInt}, b1::Int, b2::Int)\n",
    "end"
   ]
  },
  {
   "cell_type": "code",
   "execution_count": 105,
   "metadata": {},
   "outputs": [
    {
     "data": {
      "text/plain": [
       "_wrap_identity (generic function with 1 method)"
      ]
     },
     "execution_count": 105,
     "metadata": {},
     "output_type": "execute_result"
    }
   ],
   "source": [
    "⊗ = kron\n",
    "function superkron(num_bit::Int, gates::Vector{T}, locs::Vector{Int}) where T<:AbstractMatrix\n",
    "    locs = num_bit - locs + 1\n",
    "    order = sortperm(locs)\n",
    "    _wrap_identity(gates[order], diff(vcat([0], locs[order], [num_bit+1])) - 1)\n",
    "end\n",
    "\n",
    "# kron, and wrap matrices with identities.\n",
    "function _wrap_identity(data_list::Vector{T}, num_bit_list::Vector{Int}) where T<:AbstractMatrix\n",
    "    length(num_bit_list) == length(data_list) + 1 || throw(ArgumentError())\n",
    "    reduce((x,y)->x ⊗ y[1] ⊗ II(1<<y[2]), II(1 << num_bit_list[1]), zip(data_list, num_bit_list[2:end]))\n",
    "end"
   ]
  },
  {
   "cell_type": "code",
   "execution_count": 106,
   "metadata": {},
   "outputs": [],
   "source": [
    "@assert superkron(4, [PAULI_X, PAULI_Y], [3,2]) == II(2) ⊗ PAULI_X ⊗ PAULI_Y ⊗ II(2)"
   ]
  },
  {
   "cell_type": "code",
   "execution_count": 107,
   "metadata": {
    "collapsed": true
   },
   "outputs": [
    {
     "data": {
      "text/plain": [
       "projector (generic function with 2 methods)"
      ]
     },
     "execution_count": 107,
     "metadata": {},
     "output_type": "execute_result"
    }
   ],
   "source": [
    "# a function projecting space into target space.\n",
    "function projector(basis::Vector{DInt}, cbits::Int)\n",
    "    # Assigned: LW\n",
    "end"
   ]
  },
  {
   "cell_type": "code",
   "execution_count": 108,
   "metadata": {
    "collapsed": true
   },
   "outputs": [],
   "source": [
    "#@test projector(basis(6), [2, -3, -5]) == superkron(6, [P0, P1, P1], [2, 3, 5])"
   ]
  },
  {
   "cell_type": "code",
   "execution_count": 109,
   "metadata": {
    "collapsed": true
   },
   "outputs": [
    {
     "data": {
      "text/plain": [
       "general_controlled_gates (generic function with 1 method)"
      ]
     },
     "execution_count": 109,
     "metadata": {},
     "output_type": "execute_result"
    }
   ],
   "source": [
    "general_controlled_gates(num_bit::Int, projectors::Vector{Tp}, cbits::Vector{Int}, gates::Vector{Tg}, locs::Vector{Int}) where {Tg<:AbstractMatrix, Tp<:AbstractMatrix} = II(1<<num_bit) - superkron(num_bit, projectors, cbits) + superkron(num_bit, vcat(projectors, gates), vcat(cbits, locs))"
   ]
  },
  {
   "cell_type": "code",
   "execution_count": 110,
   "metadata": {},
   "outputs": [
    {
     "data": {
      "text/plain": [
       "\u001b[1m\u001b[32mTest Passed\u001b[39m\u001b[22m"
      ]
     },
     "execution_count": 110,
     "metadata": {},
     "output_type": "execute_result"
    }
   ],
   "source": [
    "CNOT = PermuteMultiply(Complex128[1 0 0 0; 0 1 0 0; 0 0 0 1; 0 0 1 0])\n",
    "TOFFOLI = kron(P0, II(4)) + kron(P1, CNOT)\n",
    "@test general_controlled_gates(2, [P1], [2], [PAULI_X], [1]) == CNOT"
   ]
  },
  {
   "cell_type": "code",
   "execution_count": 111,
   "metadata": {},
   "outputs": [
    {
     "name": "stderr",
     "output_type": "stream",
     "text": [
      "\u001b[1m\u001b[33mWARNING: \u001b[39m\u001b[22m\u001b[33m.* is no longer a function object; use broadcast(*, ...) instead\u001b[39m\n",
      "Stacktrace:\n",
      " [1] \u001b[1mdepwarn\u001b[22m\u001b[22m\u001b[1m(\u001b[22m\u001b[22m::String, ::Symbol\u001b[1m)\u001b[22m\u001b[22m at \u001b[1m./deprecated.jl:70\u001b[22m\u001b[22m\n",
      " [2] \u001b[1m(::Base.##719#720)\u001b[22m\u001b[22m\u001b[1m(\u001b[22m\u001b[22m::Array{Int64,1}, ::Array{Int64,1}\u001b[1m)\u001b[22m\u001b[22m at \u001b[1m./deprecated.jl:355\u001b[22m\u001b[22m\n",
      " [3] \u001b[1m_mapreduce\u001b[22m\u001b[22m\u001b[1m(\u001b[22m\u001b[22m::##361#363{Array{Int64,1}}, ::Base.##719#720, ::IndexLinear, ::Array{Int64,1}\u001b[1m)\u001b[22m\u001b[22m at \u001b[1m./reduce.jl:273\u001b[22m\u001b[22m\n",
      " [4] \u001b[1mzgate\u001b[22m\u001b[22m\u001b[1m(\u001b[22m\u001b[22m::Array{Int64,1}, ::Array{Int64,1}\u001b[1m)\u001b[22m\u001b[22m at \u001b[1m./In[103]:16\u001b[22m\u001b[22m\n",
      " [5] \u001b[1mzgate\u001b[22m\u001b[22m\u001b[1m(\u001b[22m\u001b[22m::Int64, ::Array{Int64,1}\u001b[1m)\u001b[22m\u001b[22m at \u001b[1m./In[102]:3\u001b[22m\u001b[22m\n",
      " [6] \u001b[1minclude_string\u001b[22m\u001b[22m\u001b[1m(\u001b[22m\u001b[22m::String, ::String\u001b[1m)\u001b[22m\u001b[22m at \u001b[1m./loading.jl:522\u001b[22m\u001b[22m\n",
      " [7] \u001b[1mexecute_request\u001b[22m\u001b[22m\u001b[1m(\u001b[22m\u001b[22m::ZMQ.Socket, ::IJulia.Msg\u001b[1m)\u001b[22m\u001b[22m at \u001b[1m/Users/leiwang/.julia/v0.6/IJulia/src/execute_request.jl:158\u001b[22m\u001b[22m\n",
      " [8] \u001b[1m(::Compat.#inner#18{Array{Any,1},IJulia.#execute_request,Tuple{ZMQ.Socket,IJulia.Msg}})\u001b[22m\u001b[22m\u001b[1m(\u001b[22m\u001b[22m\u001b[1m)\u001b[22m\u001b[22m at \u001b[1m/Users/leiwang/.julia/v0.6/Compat/src/Compat.jl:403\u001b[22m\u001b[22m\n",
      " [9] \u001b[1meventloop\u001b[22m\u001b[22m\u001b[1m(\u001b[22m\u001b[22m::ZMQ.Socket\u001b[1m)\u001b[22m\u001b[22m at \u001b[1m/Users/leiwang/.julia/v0.6/IJulia/src/eventloop.jl:8\u001b[22m\u001b[22m\n",
      " [10] \u001b[1m(::IJulia.##14#17)\u001b[22m\u001b[22m\u001b[1m(\u001b[22m\u001b[22m\u001b[1m)\u001b[22m\u001b[22m at \u001b[1m./task.jl:335\u001b[22m\u001b[22m\n",
      "while loading In[111], in expression starting on line 1\n",
      "\u001b[1m\u001b[33mWARNING: \u001b[39m\u001b[22m\u001b[33m.* is no longer a function object; use broadcast(*, ...) instead\u001b[39m\n",
      "Stacktrace:\n",
      " [1] \u001b[1mdepwarn\u001b[22m\u001b[22m\u001b[1m(\u001b[22m\u001b[22m::String, ::Symbol\u001b[1m)\u001b[22m\u001b[22m at \u001b[1m./deprecated.jl:70\u001b[22m\u001b[22m\n",
      " [2] \u001b[1m(::Base.##719#720)\u001b[22m\u001b[22m\u001b[1m(\u001b[22m\u001b[22m::Array{Int64,1}, ::Array{Int64,1}\u001b[1m)\u001b[22m\u001b[22m at \u001b[1m./deprecated.jl:355\u001b[22m\u001b[22m\n",
      " [3] \u001b[1m_mapreduce\u001b[22m\u001b[22m\u001b[1m(\u001b[22m\u001b[22m::##361#363{Array{Int64,1}}, ::Base.##719#720, ::IndexLinear, ::Array{Int64,1}\u001b[1m)\u001b[22m\u001b[22m at \u001b[1m./reduce.jl:276\u001b[22m\u001b[22m\n",
      " [4] \u001b[1mzgate\u001b[22m\u001b[22m\u001b[1m(\u001b[22m\u001b[22m::Array{Int64,1}, ::Array{Int64,1}\u001b[1m)\u001b[22m\u001b[22m at \u001b[1m./In[103]:16\u001b[22m\u001b[22m\n",
      " [5] \u001b[1mzgate\u001b[22m\u001b[22m\u001b[1m(\u001b[22m\u001b[22m::Int64, ::Array{Int64,1}\u001b[1m)\u001b[22m\u001b[22m at \u001b[1m./In[102]:3\u001b[22m\u001b[22m\n",
      " [6] \u001b[1minclude_string\u001b[22m\u001b[22m\u001b[1m(\u001b[22m\u001b[22m::String, ::String\u001b[1m)\u001b[22m\u001b[22m at \u001b[1m./loading.jl:522\u001b[22m\u001b[22m\n",
      " [7] \u001b[1mexecute_request\u001b[22m\u001b[22m\u001b[1m(\u001b[22m\u001b[22m::ZMQ.Socket, ::IJulia.Msg\u001b[1m)\u001b[22m\u001b[22m at \u001b[1m/Users/leiwang/.julia/v0.6/IJulia/src/execute_request.jl:158\u001b[22m\u001b[22m\n",
      " [8] \u001b[1m(::Compat.#inner#18{Array{Any,1},IJulia.#execute_request,Tuple{ZMQ.Socket,IJulia.Msg}})\u001b[22m\u001b[22m\u001b[1m(\u001b[22m\u001b[22m\u001b[1m)\u001b[22m\u001b[22m at \u001b[1m/Users/leiwang/.julia/v0.6/Compat/src/Compat.jl:403\u001b[22m\u001b[22m\n",
      " [9] \u001b[1meventloop\u001b[22m\u001b[22m\u001b[1m(\u001b[22m\u001b[22m::ZMQ.Socket\u001b[1m)\u001b[22m\u001b[22m at \u001b[1m/Users/leiwang/.julia/v0.6/IJulia/src/eventloop.jl:8\u001b[22m\u001b[22m\n",
      " [10] \u001b[1m(::IJulia.##14#17)\u001b[22m\u001b[22m\u001b[1m(\u001b[22m\u001b[22m\u001b[1m)\u001b[22m\u001b[22m at \u001b[1m./task.jl:335\u001b[22m\u001b[22m\n",
      "while loading In[111], in expression starting on line 1\n"
     ]
    },
    {
     "data": {
      "text/plain": [
       "\u001b[1m\u001b[32mTest Passed\u001b[39m\u001b[22m"
      ]
     },
     "execution_count": 111,
     "metadata": {},
     "output_type": "execute_result"
    }
   ],
   "source": [
    "@test zgate(4, [1,2,3]) == superkron(4, [PAULI_Z, PAULI_Z, PAULI_Z], [1,2,3])"
   ]
  },
  {
   "cell_type": "code",
   "execution_count": 181,
   "metadata": {
    "collapsed": true
   },
   "outputs": [
    {
     "data": {
      "text/plain": [
       "controlled_U1 (generic function with 5 methods)"
      ]
     },
     "execution_count": 181,
     "metadata": {},
     "output_type": "execute_result"
    }
   ],
   "source": [
    "# Assigned: LW\n",
    "# control gate for single qubit gate\n",
    "function controlled_U1(basis::Vector{DInt}, gate::PermuteMultiply, b1::Int, b2::Int)\n",
    "end\n",
    "function controlled_U1(basis::Vector{DInt}, gate::SparseMatrixCSC, b1::Int, b2::Int)\n",
    "end\n",
    "function controlled_U1(basis::Vector{DInt}, gate::Diagonal{T}, b1::Int, b2::Int) where {T}\n",
    "    vals = Vector{T}\n",
    "    for b in basis\n",
    "        println(b, b1)\n",
    "        println(testbit(b, b1))\n",
    "        if testbit(b, b1)\n",
    "            println(test[b2])\n",
    "            push!(vals, gate[takebit[b, b2]])\n",
    "        else\n",
    "            push!(vals, convert(T, 1.0))\n",
    "        end\n",
    "    end\n",
    "    Diagonal(vals)\n",
    "end\n",
    "function controlled_U1(basis::Vector{DInt}, gate::StridedMatrix, b1::Int, b2::Int)\n",
    "end"
   ]
  },
  {
   "cell_type": "code",
   "execution_count": 182,
   "metadata": {},
   "outputs": [
    {
     "name": "stdout",
     "output_type": "stream",
     "text": [
      "01\n",
      "false\n"
     ]
    },
    {
     "ename": "LoadError",
     "evalue": "\u001b[91mMethodError: no method matching push!(::Type{Array{Complex{Int64},1}}, ::Complex{Int64})\u001b[0m\nClosest candidates are:\n  push!(::Any, ::Any, \u001b[91m::Any\u001b[39m) at abstractarray.jl:1940\n  push!(::Any, ::Any, \u001b[91m::Any\u001b[39m, \u001b[91m::Any...\u001b[39m) at abstractarray.jl:1941\n  push!(\u001b[91m::Array{Any,1}\u001b[39m, ::ANY) at array.jl:658\n  ...\u001b[39m",
     "output_type": "error",
     "traceback": [
      "\u001b[91mMethodError: no method matching push!(::Type{Array{Complex{Int64},1}}, ::Complex{Int64})\u001b[0m\nClosest candidates are:\n  push!(::Any, ::Any, \u001b[91m::Any\u001b[39m) at abstractarray.jl:1940\n  push!(::Any, ::Any, \u001b[91m::Any\u001b[39m, \u001b[91m::Any...\u001b[39m) at abstractarray.jl:1941\n  push!(\u001b[91m::Array{Any,1}\u001b[39m, ::ANY) at array.jl:658\n  ...\u001b[39m",
      "",
      "Stacktrace:",
      " [1] \u001b[1mcontrolled_U1\u001b[22m\u001b[22m\u001b[1m(\u001b[22m\u001b[22m::Array{Int64,1}, ::Diagonal{Complex{Int64}}, ::Int64, ::Int64\u001b[1m)\u001b[22m\u001b[22m at \u001b[1m./In[181]:16\u001b[22m\u001b[22m"
     ]
    }
   ],
   "source": [
    "println(controlled_U1(basis(2), PAULI_Z, 1, 2))"
   ]
  },
  {
   "cell_type": "code",
   "execution_count": 129,
   "metadata": {},
   "outputs": [
    {
     "data": {
      "text/plain": [
       "czgate (generic function with 1 method)"
      ]
     },
     "execution_count": 129,
     "metadata": {},
     "output_type": "execute_result"
    }
   ],
   "source": [
    "# CNOT/CZ may be further accelerated.\n",
    "function czgate(basis::Vector{DInt}, b1::Int, b2::Int)\n",
    "    vals = 1.-2.* (takebit(basis, b1) .& takebit(basis, b2))\n",
    "    Diagonal(vals)\n",
    "end"
   ]
  },
  {
   "cell_type": "code",
   "execution_count": 130,
   "metadata": {},
   "outputs": [
    {
     "data": {
      "text/plain": [
       "\u001b[1m\u001b[32mTest Passed\u001b[39m\u001b[22m"
      ]
     },
     "execution_count": 130,
     "metadata": {},
     "output_type": "execute_result"
    }
   ],
   "source": [
    "@test czgate(basis(2), 1, 2) == [1 0 0 0; 0 1 0 0; 0 0 1 0; 0 0 0 -1]\n",
    "@test general_controlled_gates(16, [P1], [7], [PAULI_Z], [3]) == czgate(basis(16), 7, 3)"
   ]
  },
  {
   "cell_type": "code",
   "execution_count": 120,
   "metadata": {},
   "outputs": [
    {
     "data": {
      "text/plain": [
       "cnotgate (generic function with 2 methods)"
      ]
     },
     "execution_count": 120,
     "metadata": {},
     "output_type": "execute_result"
    }
   ],
   "source": [
    "############# CNOT Gate as an example ##################\n",
    "function cnotgate(basis::Vector{DInt}, b1::Int, b2::Int)\n",
    "    @views order = xor.(basis, (basis .& bmask(b1)) .<< (b2-b1))\n",
    "    PermuteMultiply(order+1, ones(Int, length(basis)))\n",
    "end"
   ]
  },
  {
   "cell_type": "code",
   "execution_count": 121,
   "metadata": {},
   "outputs": [
    {
     "data": {
      "text/plain": [
       "\u001b[1m\u001b[32mTest Passed\u001b[39m\u001b[22m"
      ]
     },
     "execution_count": 121,
     "metadata": {},
     "output_type": "execute_result"
    }
   ],
   "source": [
    "@test cnotgate(basis(2), 2, 1) == [1 0 0 0; 0 1 0 0; 0 0 0 1; 0 0 1 0]\n",
    "@test general_controlled_gates(16, [P1], [7], [PAULI_X], [3]) == cnotgate(basis(16), 7, 3)"
   ]
  },
  {
   "cell_type": "code",
   "execution_count": 117,
   "metadata": {},
   "outputs": [],
   "source": [
    "bss = basis(16);\n",
    "############# uncomment to run benchmarks ##################\n",
    "#@benchmark cnotgate($(bss), 7, 3)\n",
    "#@benchmark general_controlled_gates(16, [P1], [7], [PAULI_X], [3])"
   ]
  },
  {
   "cell_type": "code",
   "execution_count": 118,
   "metadata": {},
   "outputs": [
    {
     "data": {
      "text/plain": [
       "toffoligate (generic function with 2 methods)"
      ]
     },
     "execution_count": 118,
     "metadata": {},
     "output_type": "execute_result"
    }
   ],
   "source": [
    "toffoligate(basis::Vector{DInt}, b1::Int, b2::Int, b3::Int) = multicontrolled_U1(basis, PAULI_X, [b1, b2], b3)"
   ]
  },
  {
   "cell_type": "code",
   "execution_count": 28,
   "metadata": {},
   "outputs": [
    {
     "data": {
      "text/plain": [
       "multicontrolled_U1 (generic function with 1 method)"
      ]
     },
     "execution_count": 28,
     "metadata": {},
     "output_type": "execute_result"
    }
   ],
   "source": [
    "# Assigned: LW\n",
    "# multi-control gate for single qubit gate\n",
    "function multicontrolled_U1(basis::Vector{DInt}, gate::PermuteMultiply, cbits::Vector{Int}, b2::Int)\n",
    "end\n",
    "# repeat for other matrix formats ..."
   ]
  },
  {
   "cell_type": "code",
   "execution_count": 29,
   "metadata": {},
   "outputs": [],
   "source": [
    "# TODO\n",
    "# future, arbituary two site gate support\n",
    "# probabily focus is enough? or, use projection decomposition?"
   ]
  },
  {
   "cell_type": "code",
   "execution_count": 12,
   "metadata": {},
   "outputs": [
    {
     "data": {
      "text/plain": [
       "8×8 SparseMatrixCSC{Complex{Float64},Int64} with 8 stored entries:\n",
       "  [1, 1]  =  1.0+0.0im\n",
       "  [2, 2]  =  1.0+0.0im\n",
       "  [3, 3]  =  1.0+0.0im\n",
       "  [4, 4]  =  1.0+0.0im\n",
       "  [5, 5]  =  1.0+0.0im\n",
       "  [6, 6]  =  1.0+0.0im\n",
       "  [8, 7]  =  1.0+0.0im\n",
       "  [7, 8]  =  1.0+0.0im"
      ]
     },
     "execution_count": 12,
     "metadata": {},
     "output_type": "execute_result"
    }
   ],
   "source": [
    "#@test toffligate(3, 2, 3, 1) == TOFFOLI"
   ]
  },
  {
   "cell_type": "code",
   "execution_count": 175,
   "metadata": {},
   "outputs": [
    {
     "data": {
      "text/plain": [
       "1-element Array{Any,1}:\n",
       " 1.0+0.0im"
      ]
     },
     "execution_count": 175,
     "metadata": {},
     "output_type": "execute_result"
    }
   ],
   "source": [
    "x = []\n",
    "push!(x, Complex64(1.0))"
   ]
  },
  {
   "cell_type": "code",
   "execution_count": null,
   "metadata": {},
   "outputs": [],
   "source": []
  }
 ],
 "metadata": {
  "kernelspec": {
   "display_name": "Julia 0.6.2",
   "language": "julia",
   "name": "julia-0.6"
  },
  "language_info": {
   "file_extension": ".jl",
   "mimetype": "application/julia",
   "name": "julia",
   "version": "0.6.2"
  }
 },
 "nbformat": 4,
 "nbformat_minor": 2
}
