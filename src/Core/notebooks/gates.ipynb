{
 "cells": [
  {
   "cell_type": "code",
   "execution_count": 1,
   "metadata": {},
   "outputs": [
    {
     "ename": "LoadError",
     "evalue": "LoadError: \u001b[91mUndefVarError: d not defined\u001b[39m\nwhile loading /home/leo/jcode/QuCircuit.jl/src/Core/identity.jl, in expression starting on line 43",
     "output_type": "error",
     "traceback": [
      "LoadError: \u001b[91mUndefVarError: d not defined\u001b[39m\nwhile loading /home/leo/jcode/QuCircuit.jl/src/Core/identity.jl, in expression starting on line 43",
      "",
      "Stacktrace:",
      " [1] \u001b[1minclude_from_node1\u001b[22m\u001b[22m\u001b[1m(\u001b[22m\u001b[22m::String\u001b[1m)\u001b[22m\u001b[22m at \u001b[1m./loading.jl:569\u001b[22m\u001b[22m",
      " [2] \u001b[1minclude\u001b[22m\u001b[22m\u001b[1m(\u001b[22m\u001b[22m::String\u001b[1m)\u001b[22m\u001b[22m at \u001b[1m./sysimg.jl:14\u001b[22m\u001b[22m"
     ]
    }
   ],
   "source": [
    "include(\"../basis.jl\")\n",
    "include(\"../identity.jl\")\n",
    "include(\"../basic_gates.jl\")\n",
    "using Compat.Test\n",
    "using BenchmarkTools"
   ]
  },
  {
   "cell_type": "code",
   "execution_count": 4,
   "metadata": {},
   "outputs": [
    {
     "data": {
      "text/plain": [
       "swapgate (generic function with 2 methods)"
      ]
     },
     "execution_count": 4,
     "metadata": {},
     "output_type": "execute_result"
    }
   ],
   "source": [
    "############################ TODO ################################\n",
    "# arbitrary off-diagonal single qubit gate\n",
    "# e.g. X, Y\n",
    "function ndiaggate(basis::Vector{DInt}, gate::PermuteMultiply, bits::Ints)\n",
    "    norder = flip(basis, bits)\n",
    "    vals = mapreduce(bit->exp.(im*phi*(2.*takebit(basis, bit).-1)), .*, bits)\n",
    "    PermuteMultiply(norder+1, vals)\n",
    "end\n",
    "\n",
    "# arbitrary diagonal single qubit gate\n",
    "# e.g. Z, Rz(θ)\n",
    "function diaggate(basis::Vector{DInt}, gate::Diagonal, bits::Ints)\n",
    "    vals = mapreduce(bit->exp.(im*phi*(2.*takebit(basis, bit).-1)), .*, bits)\n",
    "    PermuteMultiply(basis+1, vals) # or Diagonal(vals) ?\n",
    "end\n",
    "\n",
    "#TODO?\n",
    "# arbituary dense single qubit gate: SparseMatrixCSC\n",
    "# e.g. Rx(θ), Ry(θ), Rot(θ1,θ2,θ3)\n",
    "#function densegate(bits::Ints, basis::Vector{DInt})\n",
    "#end\n",
    "\n",
    "# arbituary control PermuteMultiply gate: SparseMatrixCSC\n",
    "# swap gate\n",
    "function swapgate(basis::Vector{DInt}, b1::Int, b2::Int)\n",
    "end"
   ]
  },
  {
   "cell_type": "code",
   "execution_count": 7,
   "metadata": {
    "collapsed": true
   },
   "outputs": [
    {
     "data": {
      "text/plain": [
       "projector (generic function with 2 methods)"
      ]
     },
     "execution_count": 7,
     "metadata": {},
     "output_type": "execute_result"
    }
   ],
   "source": [
    "# a function projecting space into target space.\n",
    "function projector(basis::Vector{DInt}, cbits::Int)\n",
    "    # Assigned: LW\n",
    "end"
   ]
  },
  {
   "cell_type": "code",
   "execution_count": 8,
   "metadata": {
    "collapsed": true
   },
   "outputs": [],
   "source": [
    "#@test projector(basis(6), [2, -3, -5]) == superkron(6, [P0, P1, P1], [2, 3, 5])"
   ]
  },
  {
   "cell_type": "code",
   "execution_count": 8,
   "metadata": {},
   "outputs": [
    {
     "data": {
      "text/plain": [
       "multicontrolled_U1 (generic function with 1 method)"
      ]
     },
     "execution_count": 8,
     "metadata": {},
     "output_type": "execute_result"
    }
   ],
   "source": [
    "# Assigned: LW\n",
    "# multi-control gate for single qubit gate\n",
    "function multicontrolled_U1(num_bit::Int, gate::PermuteMultiply{T}, cbits::Vector{Int}, b2::Int) where {T}\n",
    "    vals = ones(T, 1<<num_bit)\n",
    "    order = collect(1:1<<num_bit)\n",
    "    mask = UInt(bmask(cbits...))\n",
    "    for b in basis(num_bit)\n",
    "        if testall(b, mask)\n",
    "            @inbounds vals[b+1] = gate.vals[gate.perm[1+takebit(b, b2)]]\n",
    "            @inbounds order[b+1] = (gate.perm[1] == 1) ? b+1: flip(b, b2)+1\n",
    "        end\n",
    "    end\n",
    "    PermuteMultiply(order, vals)\n",
    "end\n",
    "# repeat for other matrix formats ..."
   ]
  },
  {
   "cell_type": "code",
   "execution_count": 47,
   "metadata": {},
   "outputs": [],
   "source": [
    "# TODO\n",
    "# future, arbituary two site gate support\n",
    "# probabily focus is enough? or, use projection decomposition?"
   ]
  },
  {
   "cell_type": "code",
   "execution_count": 31,
   "metadata": {},
   "outputs": [
    {
     "data": {
      "text/plain": [
       "16"
      ]
     },
     "execution_count": 31,
     "metadata": {},
     "output_type": "execute_result"
    }
   ],
   "source": [
    "size(basis(4),1)"
   ]
  },
  {
   "cell_type": "code",
   "execution_count": null,
   "metadata": {},
   "outputs": [],
   "source": []
  },
  {
   "cell_type": "code",
   "execution_count": null,
   "metadata": {},
   "outputs": [],
   "source": []
  },
  {
   "cell_type": "code",
   "execution_count": null,
   "metadata": {},
   "outputs": [],
   "source": []
  },
  {
   "cell_type": "code",
   "execution_count": null,
   "metadata": {},
   "outputs": [],
   "source": []
  },
  {
   "cell_type": "code",
   "execution_count": null,
   "metadata": {},
   "outputs": [],
   "source": []
  }
 ],
 "metadata": {
  "kernelspec": {
   "display_name": "Julia 0.6.0",
   "language": "julia",
   "name": "julia-0.6"
  },
  "language_info": {
   "file_extension": ".jl",
   "mimetype": "application/julia",
   "name": "julia",
   "version": "0.6.0"
  }
 },
 "nbformat": 4,
 "nbformat_minor": 2
}
