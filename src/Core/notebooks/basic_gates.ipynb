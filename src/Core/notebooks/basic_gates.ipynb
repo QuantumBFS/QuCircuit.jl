{
 "cells": [
  {
   "cell_type": "code",
   "execution_count": 3,
   "metadata": {},
   "outputs": [],
   "source": [
    "include(\"../permmul.jl\")\n",
    "\n",
    "# Constant gates: pauli_x, pauli_y, pauli_z, hardmard, p0, p1, p↑, p↓\n",
    "const PAULI_X = PermuteMultiply([2,1], [1+0im, 1])\n",
    "const PAULI_Y = PermuteMultiply([2,1], [-im, im])\n",
    "const PAULI_Z = Diagonal([1+0im, -1])\n",
    "\n",
    "# generate constants and basic_gate interface for different types\n",
    "ELEM_TYPES = [Complex128, Complex64]\n",
    "ELEM_TYPE_TOKENS = [:Z, :C]\n",
    "CONST_MATS = [:PAULI_X, :PAULI_Y, :PAULI_Z]\n",
    "CONST_LABELS = [:X, :Y, :Z]\n",
    "CONST_MAT_TYPES = [:PermuteMultiply, :PermuteMultiply, :Diagonal]\n",
    "for (T, TSTR) in zip(ELEM_TYPES, ELEM_TYPE_TOKENS)\n",
    "    for (NAME, TOKEN, MT) in zip(CONST_MATS, CONST_LABELS, CONST_MAT_TYPES)\n",
    "        VARNAME = Symbol(NAME, TSTR)\n",
    "        V = Val{TOKEN}\n",
    "        @eval const ($VARNAME) = convert($MT{$T}, ($NAME))\n",
    "        @eval basic_gate(::Type{$T}, ::Type{$V}) = $VARNAME\n",
    "    end\n",
    "end"
   ]
  },
  {
   "cell_type": "code",
   "execution_count": 4,
   "metadata": {},
   "outputs": [
    {
     "data": {
      "text/plain": [
       "basic_gate (generic function with 8 methods)"
      ]
     },
     "execution_count": 4,
     "metadata": {},
     "output_type": "execute_result"
    }
   ],
   "source": [
    "# pretty interface\n",
    "basic_gate(::Type{T}, S::Symbol, params::Number...) where T = basic_gate(T, Val{S}, params...)\n",
    "basic_gate(S::Symbol, params::Number...) = basic_gate(Complex128, S, params...)"
   ]
  },
  {
   "cell_type": "code",
   "execution_count": 5,
   "metadata": {},
   "outputs": [
    {
     "data": {
      "text/plain": [
       "basic_gate (generic function with 11 methods)"
      ]
     },
     "execution_count": 5,
     "metadata": {},
     "output_type": "execute_result"
    }
   ],
   "source": [
    "basic_gate(::Type{T}, ::Type{Val{:Rx}}, θ::Real) where T = T[cos(θ/2) -im*sin(θ/2); -im*sin(θ/2) cos(θ/2)]\n",
    "basic_gate(::Type{T}, ::Type{Val{:Ry}}, θ::Real) where T = T[cos(θ/2) -sin(θ/2); sin(θ/2) cos(θ/2)]\n",
    "basic_gate(::Type{T}, ::Type{Val{:Rz}}, θ::Real) where T = Diagonal{T}([exp(-im*θ/2), exp(im*θ/2)])"
   ]
  },
  {
   "cell_type": "code",
   "execution_count": 6,
   "metadata": {
    "collapsed": true
   },
   "outputs": [],
   "source": [
    "@assert allclose(basic_gate(:Rx, pi), -im*basic_gate(:X))\n",
    "@assert allclose(basic_gate(:Ry, pi), -im*basic_gate(:Y))\n",
    "@assert allclose(basic_gate(:Rz, pi), -im*basic_gate(:Z))"
   ]
  },
  {
   "cell_type": "code",
   "execution_count": 7,
   "metadata": {},
   "outputs": [
    {
     "data": {
      "text/plain": [
       "basic_gate (generic function with 12 methods)"
      ]
     },
     "execution_count": 7,
     "metadata": {},
     "output_type": "execute_result"
    }
   ],
   "source": [
    "basic_gate(::Type{T}, ::Type{Val{:RotZXZ}}, θ1::AbstractFloat, θ2::AbstractFloat, θ3::AbstractFloat) where T = basic_gate(T, :Rz, θ3)*basic_gate(T, :Rx, θ2)*basic_gate(T, :Rz, θ1)"
   ]
  },
  {
   "cell_type": "code",
   "execution_count": 8,
   "metadata": {},
   "outputs": [
    {
     "data": {
      "text/plain": [
       "2×2 Array{Complex{Float64},2}:\n",
       "  0.5-0.5im  0.5-0.5im\n",
       " -0.5-0.5im  0.5+0.5im"
      ]
     },
     "execution_count": 8,
     "metadata": {},
     "output_type": "execute_result"
    }
   ],
   "source": [
    "basic_gate(Complex128, :RotZXZ, pi/2, pi/2, 0.0)"
   ]
  },
  {
   "cell_type": "code",
   "execution_count": 9,
   "metadata": {},
   "outputs": [
    {
     "name": "stderr",
     "output_type": "stream",
     "text": [
      "WARNING: redefining constant P0\n",
      "WARNING: redefining constant P1\n"
     ]
    }
   ],
   "source": [
    "# Assigned: LW\n",
    "const P0 = sparse(Complex128[1 0; 0 0])\n",
    "const P1 = sparse(Complex128[0 0; 0 1])\n",
    "const Pu = nothing\n",
    "const Pd = nothing\n",
    "const H = nothing  #dense\n",
    "# check the reference in book for missed gates."
   ]
  }
 ],
 "metadata": {
  "kernelspec": {
   "display_name": "Julia 0.6.0",
   "language": "julia",
   "name": "julia-0.6"
  },
  "language_info": {
   "file_extension": ".jl",
   "mimetype": "application/julia",
   "name": "julia",
   "version": "0.6.0"
  }
 },
 "nbformat": 4,
 "nbformat_minor": 2
}
