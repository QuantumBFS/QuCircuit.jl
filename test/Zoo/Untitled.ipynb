{
 "cells": [
  {
   "cell_type": "code",
   "execution_count": 1,
   "metadata": {},
   "outputs": [
    {
     "data": {
      "text/plain": [
       "mmd_gradient"
      ]
     },
     "execution_count": 1,
     "metadata": {},
     "output_type": "execute_result"
    }
   ],
   "source": [
    "include(\"QCBM.jl\")"
   ]
  },
  {
   "cell_type": "code",
   "execution_count": 2,
   "metadata": {},
   "outputs": [],
   "source": [
    "nlayers = 10\n",
    "nbit = 9\n",
    "maxiter = 10\n",
    "learning_rate = 0.1\n",
    "\n",
    "kernel = RBFKernel(nbit, [2.0], false)\n",
    "params = reverse!(vec(readdlm(\"theta-cl-bs.dat\")))\n",
    "target = readdlm(\"wave_complex.dat\")[:, 1] + im * readdlm(\"wave_complex.dat\")[:, 2]\n",
    "ptrain = randn(1<<nbit);"
   ]
  },
  {
   "cell_type": "code",
   "execution_count": 3,
   "metadata": {},
   "outputs": [
    {
     "data": {
      "text/plain": [
       "8-element Array{Tuple{Int64,Int64},1}:\n",
       " (2, 8)\n",
       " (3, 9)\n",
       " (5, 8)\n",
       " (6, 4)\n",
       " (7, 1)\n",
       " (7, 4)\n",
       " (7, 8)\n",
       " (9, 6)"
      ]
     },
     "execution_count": 3,
     "metadata": {},
     "output_type": "execute_result"
    }
   ],
   "source": [
    "cnot_pair = [\n",
    "    (1, 7),\n",
    "    (2, 8),\n",
    "    (4, 7),\n",
    "    (5, 3),\n",
    "    (6, 0),\n",
    "    (6, 3),\n",
    "    (6, 7),\n",
    "    (8, 5),\n",
    "]\n",
    "\n",
    "cnot_pair = map(x->(x[1]+1, x[2]+1), cnot_pair)"
   ]
  },
  {
   "cell_type": "code",
   "execution_count": 7,
   "metadata": {},
   "outputs": [
    {
     "name": "stderr",
     "output_type": "stream",
     "text": [
      "WARNING: redefining constant layer1\n",
      "WARNING: redefining constant layers\n",
      "WARNING: redefining constant layer\n"
     ]
    },
    {
     "data": {
      "text/plain": [
       "empty! (generic function with 35 methods)"
      ]
     },
     "execution_count": 7,
     "metadata": {},
     "output_type": "execute_result"
    }
   ],
   "source": [
    "layer1 = chain(rot(:X), rot(:Z)) |> cache(2, recursive=true) |> roll\n",
    "layers = MatrixBlock[]\n",
    "push!(layers, layer1(nbit))\n",
    "\n",
    "layer = chain(rot(:Z), rot(:X), rot(:Z)) |> cache(2, recursive=true) |> roll\n",
    "\n",
    "for i = 1:nlayers\n",
    "    push!(layers, cache(entangler(nbit, cnot_pair)))\n",
    "    push!(layers, layer(nbit))\n",
    "end\n",
    "\n",
    "circuit = chain(layers...)\n",
    "\n",
    "import Base: empty!\n",
    "function empty!(layers::Vector{MatrixBlock})\n",
    "    for each in layers\n",
    "        empty!(each)\n",
    "    end\n",
    "    seq\n",
    "end"
   ]
  },
  {
   "cell_type": "code",
   "execution_count": 8,
   "metadata": {},
   "outputs": [
    {
     "data": {
      "text/plain": [
       "Default Register (CPU, Complex{Float64}):\n",
       "    total: 9\n",
       "    batch: 1\n",
       "    active: 9"
      ]
     },
     "execution_count": 8,
     "metadata": {},
     "output_type": "execute_result"
    }
   ],
   "source": [
    "reg = zero_state(9)"
   ]
  },
  {
   "cell_type": "code",
   "execution_count": 9,
   "metadata": {},
   "outputs": [
    {
     "data": {
      "text/plain": [
       "512×1 Array{Complex{Float64},2}:\n",
       "  -1.09586e-7+3.26171e-8im \n",
       " -9.11806e-10-2.89597e-9im \n",
       "  -8.81625e-9-1.0451e-7im  \n",
       "   2.77114e-9-2.77752e-10im\n",
       " -3.96591e-11-1.42365e-11im\n",
       "  3.61417e-13-1.05893e-12im\n",
       "  2.01955e-11-3.29564e-11im\n",
       "  8.83458e-13+5.22435e-13im\n",
       "     0.015876-0.0108946im  \n",
       "  0.000295895+0.000416969im\n",
       "   0.00681764+0.0162933im  \n",
       " -0.000429752+0.000187823im\n",
       "    7.0922e-6+2.3064e-7im  \n",
       "             ⋮             \n",
       "  1.36356e-10-3.11992e-10im\n",
       "  8.34062e-12+3.48998e-12im\n",
       "   2.5471e-10+1.80751e-10im\n",
       " -4.69265e-12+6.83831e-12im\n",
       "    0.0791955+0.133923im   \n",
       "  -0.00352267+0.00215867im \n",
       "    -0.135069+0.0460993im  \n",
       "  -0.00128042-0.00356692im \n",
       "  -5.71843e-6+5.70529e-5im \n",
       "  -1.51719e-6-1.27987e-7im \n",
       "  -5.01686e-5-1.57957e-5im \n",
       "   3.98425e-7-1.33862e-6im "
      ]
     },
     "execution_count": 9,
     "metadata": {},
     "output_type": "execute_result"
    }
   ],
   "source": [
    "zero_state(9) |> dispatch!(layer1(9), params) |> state"
   ]
  },
  {
   "cell_type": "code",
   "execution_count": 17,
   "metadata": {},
   "outputs": [
    {
     "data": {
      "text/plain": [
       "512×1 Array{Complex{Float64},2}:\n",
       "    0.0324683+0.280684im  \n",
       "   -0.0573191+0.00380631im\n",
       "  -0.00792277+0.022652im  \n",
       "    0.0314004+0.0398405im \n",
       "   -0.0289954-0.0452687im \n",
       "   -0.0158421+0.059139im  \n",
       "    0.0330286+0.0120057im \n",
       "    -0.299654-0.00125209im\n",
       "    0.0291764+0.0182597im \n",
       "    0.0232386-0.0180867im \n",
       "  -0.00539307-0.0353238im \n",
       "    0.0150651+0.00205575im\n",
       "   -0.0264854-0.0368902im \n",
       "             ⋮            \n",
       "    0.0181784-0.00287241im\n",
       "    0.0532593+0.0370849im \n",
       "     0.031076+0.0447798im \n",
       "  -0.00126424+0.0286751im \n",
       "     0.316653+0.100374im  \n",
       "   -0.0381707+0.0112755im \n",
       "   -0.0205379-0.0133153im \n",
       " -0.000536247+0.0230263im \n",
       "   -0.0143036+0.0595423im \n",
       "    0.0267782-0.0240496im \n",
       "   -0.0165767-0.00635973im\n",
       "  -0.00928917+0.292749im  "
      ]
     },
     "execution_count": 17,
     "metadata": {},
     "output_type": "execute_result"
    }
   ],
   "source": [
    "state(reg) - target"
   ]
  },
  {
   "cell_type": "code",
   "execution_count": 9,
   "metadata": {},
   "outputs": [
    {
     "data": {
      "text/plain": [
       "279-element Array{Float64,1}:\n",
       "  6.23009   \n",
       " -0.0157379 \n",
       "  4.79861   \n",
       "  0.20513   \n",
       "  6.28245   \n",
       "  5.34632   \n",
       "  3.1416    \n",
       "  1.25866   \n",
       "  4.71893   \n",
       "  1.04387   \n",
       "  2.83396   \n",
       "  4.53111   \n",
       "  5.31671   \n",
       "  ⋮         \n",
       "  3.44257   \n",
       "  3.12023   \n",
       "  1.81704   \n",
       "  1.7664    \n",
       "  1.42521   \n",
       "  4.71157   \n",
       "  5.62927   \n",
       " -4.3937e-5 \n",
       "  3.14151   \n",
       "  4.45657   \n",
       "  2.20976   \n",
       "  0.00101785"
      ]
     },
     "execution_count": 9,
     "metadata": {},
     "output_type": "execute_result"
    }
   ],
   "source": [
    "l = layer"
   ]
  },
  {
   "cell_type": "code",
   "execution_count": 10,
   "metadata": {},
   "outputs": [
    {
     "data": {
      "text/plain": [
       "Roller on 9 lines (9 blocks in total)\n",
       "\t1: Rx{Float64}: 0.0\n",
       "\t2: Rx{Float64}: 0.0\n",
       "\t3: Rx{Float64}: 0.0\n",
       "\t4: Rx{Float64}: 0.0\n",
       "\t5: Rx{Float64}: 0.0\n",
       "\t6: Rx{Float64}: 0.0\n",
       "\t7: Rx{Float64}: 0.0\n",
       "\t8: Rx{Float64}: 0.0\n",
       "\t9: Rx{Float64}: 0.0"
      ]
     },
     "execution_count": 10,
     "metadata": {},
     "output_type": "execute_result"
    }
   ],
   "source": [
    "l = roll(rot(:X))(9)"
   ]
  },
  {
   "cell_type": "code",
   "execution_count": 11,
   "metadata": {},
   "outputs": [
    {
     "data": {
      "text/plain": [
       "Roller on 9 lines (9 blocks in total)\n",
       "\t1: Rx{Float64}: 4.401944095106336\n",
       "\t2: Rx{Float64}: 1.5535204533843823\n",
       "\t3: Rx{Float64}: 1.4300312641677342\n",
       "\t4: Rx{Float64}: 4.523889290466054\n",
       "\t5: Rx{Float64}: 4.628532842653513\n",
       "\t6: Rx{Float64}: 6.2752354559564605\n",
       "\t7: Rx{Float64}: 4.805990563410075\n",
       "\t8: Rx{Float64}: 3.1411444182502724\n",
       "\t9: Rx{Float64}: 1.1663987397430668"
      ]
     },
     "execution_count": 11,
     "metadata": {},
     "output_type": "execute_result"
    }
   ],
   "source": [
    "dispatch!(l, params)"
   ]
  },
  {
   "cell_type": "code",
   "execution_count": null,
   "metadata": {},
   "outputs": [],
   "source": []
  }
 ],
 "metadata": {
  "kernelspec": {
   "display_name": "Julia 0.6.3-pre",
   "language": "julia",
   "name": "julia-0.6"
  },
  "language_info": {
   "file_extension": ".jl",
   "mimetype": "application/julia",
   "name": "julia",
   "version": "0.6.3"
  }
 },
 "nbformat": 4,
 "nbformat_minor": 2
}
