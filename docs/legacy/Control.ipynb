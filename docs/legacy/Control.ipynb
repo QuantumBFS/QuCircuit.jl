{
 "cells": [
  {
   "cell_type": "code",
   "execution_count": 1,
   "metadata": {},
   "outputs": [],
   "source": [
    "using Yao\n",
    "using Yao.Blocks\n",
    "using Yao.LuxurySparse\n",
    "using Yao.Intrinsics\n",
    "export ControlBlock\n",
    "import Yao.Blocks: mat, blocks, copy\n",
    "using Compat.Test\n",
    "using BenchmarkTools"
   ]
  },
  {
   "cell_type": "code",
   "execution_count": 9,
   "metadata": {},
   "outputs": [
    {
     "data": {
      "text/plain": [
       "addrs (generic function with 1 method)"
      ]
     },
     "execution_count": 9,
     "metadata": {},
     "output_type": "execute_result"
    }
   ],
   "source": [
    "mutable struct ControlBlock{N, BT<:AbstractBlock, C, T, PT<:AbstractMatrix{T}} <: CompositeBlock{N, T}\n",
    "    ctrl_qubits::NTuple{C, Int}\n",
    "    projectors::NTuple{C, PT}\n",
    "    block::BT\n",
    "    addr::Int\n",
    "end\n",
    "\n",
    "function ControlBlock{N}(ctrl_qubits::NTuple{C, Int}, projectors::NTuple{C, PT}, block::BT, addr::Int) where {BT, N, C, T, PT<:AbstractMatrix{T}}\n",
    "    ControlBlock{N, BT, C, T, PT}(ctrl_qubits, projectors, block, addr)\n",
    "end\n",
    "\n",
    "function copy(ctrl::ControlBlock{BT, N, C, T}) where {BT, N, C, T}\n",
    "    ControlBlock{BT, N, C, T}(copy(ctrl.ctrl_qubits), copy(ctrl.projectors), ctrl.block, copy(ctrl.addr))\n",
    "end\n",
    "\n",
    "general_controlled_gates(num_bit::Int, projectors::Vector{Tp}, cbits::Vector{Int}, gates::Vector{Tg}, locs::Vector{Int}) where {Tg<:AbstractMatrix, Tp<:AbstractMatrix} = IMatrix(1<<num_bit) - hilbertkron(num_bit, projectors, cbits) + hilbertkron(num_bit, vcat(projectors, gates), vcat(cbits, locs))\n",
    "general_c1_gates(num_bit::Int, projector::Tp, cbit::Int, gates::Vector{Tg}, locs::Vector{Int}) where {Tg<:AbstractMatrix, Tp<:AbstractMatrix} = hilbertkron(num_bit, [mat(I2) - projector], [cbit]) + hilbertkron(num_bit, vcat([projector], gates), vcat([cbit], locs))\n",
    "\n",
    "mat(c::ControlBlock{N}) where N = general_controlled_gates(N, [c.projectors...], [c.ctrl_qubits...], [mat(c.block)], [c.addr])\n",
    "mat(c::ControlBlock{N, BT, 1}) where {N, BT} = general_c1_gates(N, c.projectors[1], c.ctrl_qubits[1], [mat(c.block)], [c.addr])\n",
    "\n",
    "blocks(c::ControlBlock) = [c.block]\n",
    "addrs(c::ControlBlock) = [c.ctrl_qubits..., (c.addr.+addrs(c.blocks).-1)...]"
   ]
  },
  {
   "cell_type": "code",
   "execution_count": 3,
   "metadata": {},
   "outputs": [
    {
     "ename": "LoadError",
     "evalue": "\u001b[91mMethodError: no method matching ControlBlock{2,BT,C,T} where T where C where BT<:Yao.Blocks.AbstractBlock(::Tuple{Int64}, ::Tuple{SparseMatrixCSC{Complex{Float64},Int64}}, ::Yao.Blocks.XGate{Complex{Float64}}, ::Int64)\u001b[39m",
     "output_type": "error",
     "traceback": [
      "\u001b[91mMethodError: no method matching ControlBlock{2,BT,C,T} where T where C where BT<:Yao.Blocks.AbstractBlock(::Tuple{Int64}, ::Tuple{SparseMatrixCSC{Complex{Float64},Int64}}, ::Yao.Blocks.XGate{Complex{Float64}}, ::Int64)\u001b[39m",
      ""
     ]
    }
   ],
   "source": [
    "cg1 = ControlBlock{2}((2,), (mat(P1),), X, 1)\n",
    "@test mat(cg1) == mat(CNOT)"
   ]
  },
  {
   "cell_type": "code",
   "execution_count": 11,
   "metadata": {},
   "outputs": [
    {
     "data": {
      "text/plain": [
       "\u001b[1m\u001b[32mTest Passed\n",
       "\u001b[39m\u001b[22m"
      ]
     },
     "execution_count": 11,
     "metadata": {},
     "output_type": "execute_result"
    }
   ],
   "source": [
    "cg = ControlBlock{3}((3,2), (mat(P1), mat(P1)), X, 1)\n",
    "@test mat(cg) == mat(Toffoli)"
   ]
  },
  {
   "cell_type": "code",
   "execution_count": 12,
   "metadata": {},
   "outputs": [
    {
     "data": {
      "text/plain": [
       "Total: 16, DataType: Complex{Float64}\n",
       "ControlBlock{16,Yao.Blocks.XGate{Complex{Float64}},2,Complex{Float64},SparseMatrixCSC{Complex{Float64},Int64}}\n",
       "└─ X gate\n"
      ]
     },
     "execution_count": 12,
     "metadata": {},
     "output_type": "execute_result"
    }
   ],
   "source": [
    "CG1 = ControlBlock{16}((7,), (mat(P1),), X, 3)\n",
    "CG2 = ControlBlock{16}((7, 6), (mat(P1), mat(P0)), X, 3)"
   ]
  },
  {
   "cell_type": "code",
   "execution_count": 13,
   "metadata": {},
   "outputs": [],
   "source": [
    "#@benchmark mat(CG2)\n",
    "#@benchmark mat(CG1)"
   ]
  },
  {
   "cell_type": "code",
   "execution_count": 31,
   "metadata": {},
   "outputs": [],
   "source": [
    "ControlBlock{N}(ctrl_qubits::NTuple{C, Int}, block::AbstractBlock, addr::Int) where {N, C} = ControlBlock{N}(ctrl_qubits, ([mat(P1) for i=1:C]...), block, addr)"
   ]
  },
  {
   "cell_type": "code",
   "execution_count": 32,
   "metadata": {},
   "outputs": [
    {
     "data": {
      "text/plain": [
       "\u001b[1m\u001b[32mTest Passed\n",
       "\u001b[39m\u001b[22m"
      ]
     },
     "execution_count": 32,
     "metadata": {},
     "output_type": "execute_result"
    }
   ],
   "source": [
    "cg = ControlBlock{3}((3,2), X, 1)\n",
    "@test mat(cg) == mat(Toffoli)"
   ]
  },
  {
   "cell_type": "code",
   "execution_count": 30,
   "metadata": {},
   "outputs": [
    {
     "data": {
      "text/plain": [
       "(12, 3)"
      ]
     },
     "execution_count": 30,
     "metadata": {},
     "output_type": "execute_result"
    }
   ],
   "source": [
    "([12,3]...)"
   ]
  },
  {
   "cell_type": "code",
   "execution_count": 7,
   "metadata": {},
   "outputs": [],
   "source": [
    "mutable struct ControlBlock{N, BT<:AbstractBlock, C, T} <: CompositeBlock{N, T}\n",
    "    ctrl_qubits::NTuple{C, Int}\n",
    "    vals::NTuple{C, Int}\n",
    "    block::BT\n",
    "    addr::Int\n",
    "end\n",
    "\n",
    "function ControlBlock{N}(ctrl_qubits::NTuple{C, Int}, vals::NTuple{C, Int}, block::BT, addr::Int) where {BT<:AbstractBlock, N, C}\n",
    "    ControlBlock{N, BT, C, Bool}(ctrl_qubits, vals, block, addr)\n",
    "end\n",
    "\n",
    "function ControlBlock{N}(ctrl_qubits::NTuple{C, Int}, vals::NTuple{C, Int}, block::BT, addr::Int) where {N, C, T, BT<:MatrixBlock{N, T}}\n",
    "    ControlBlock{N, BT, C, T}(ctrl_qubits, vals, block, addr)\n",
    "end\n",
    "\n",
    "ControlBlock{N}(ctrl_qubits::NTuple{C, Int}, block::AbstractBlock, addr::Int) where {N, C} = ControlBlock{N}(ctrl_qubits, (ones(Int, C)...), block, addr)"
   ]
  },
  {
   "cell_type": "code",
   "execution_count": 8,
   "metadata": {},
   "outputs": [
    {
     "ename": "MethodError",
     "evalue": "\u001b[91mMethodError: no method matching blocks(::ControlBlock{2,Yao.Blocks.XGate{Complex{Float64}},1,Bool})\u001b[0m\nClosest candidates are:\n  blocks(\u001b[91m::Yao.Blocks.CachedBlock\u001b[39m) at /home/leo/jcode/Yao.jl/src/Blocks/CachedBlock.jl:68\n  blocks(\u001b[91m::Yao.Blocks.ChainBlock\u001b[39m) at /home/leo/jcode/Yao.jl/src/Blocks/ChainBlock.jl:59\n  blocks(\u001b[91m::Yao.Blocks.KronBlock\u001b[39m) at /home/leo/jcode/Yao.jl/src/Blocks/KronBlock.jl:84\n  ...\u001b[39m",
     "output_type": "error",
     "traceback": [
      "\u001b[91mMethodError: no method matching blocks(::ControlBlock{2,Yao.Blocks.XGate{Complex{Float64}},1,Bool})\u001b[0m\nClosest candidates are:\n  blocks(\u001b[91m::Yao.Blocks.CachedBlock\u001b[39m) at /home/leo/jcode/Yao.jl/src/Blocks/CachedBlock.jl:68\n  blocks(\u001b[91m::Yao.Blocks.ChainBlock\u001b[39m) at /home/leo/jcode/Yao.jl/src/Blocks/ChainBlock.jl:59\n  blocks(\u001b[91m::Yao.Blocks.KronBlock\u001b[39m) at /home/leo/jcode/Yao.jl/src/Blocks/KronBlock.jl:84\n  ...\u001b[39m",
      "",
      "Stacktrace:",
      " [1] \u001b[1mprint_subblocks\u001b[22m\u001b[22m\u001b[1m(\u001b[22m\u001b[22m::IOContext{Base.AbstractIOBuffer{Array{UInt8,1}}}, ::ControlBlock{2,Yao.Blocks.XGate{Complex{Float64}},1,Bool}, ::Int64, ::Yao.Blocks.BlockTreeCharSet, ::Array{Int64,1}\u001b[1m)\u001b[22m\u001b[22m at \u001b[1m/home/leo/jcode/Yao.jl/src/Blocks/IOSyntax.jl:84\u001b[22m\u001b[22m",
      " [2] \u001b[1m#print_tree#21\u001b[22m\u001b[22m\u001b[1m(\u001b[22m\u001b[22m::Void, ::Int64, ::Array{Int64,1}, ::Yao.Blocks.BlockTreeCharSet, ::ControlBlock{2,Yao.Blocks.XGate{Complex{Float64}},1,Bool}, ::Bool, ::Function, ::IOContext{Base.AbstractIOBuffer{Array{UInt8,1}}}, ::ControlBlock{2,Yao.Blocks.XGate{Complex{Float64}},1,Bool}, ::Int64\u001b[1m)\u001b[22m\u001b[22m at \u001b[1m/home/leo/jcode/Yao.jl/src/Blocks/IOSyntax.jl:76\u001b[22m\u001b[22m",
      " [3] \u001b[1mlimitstringmime\u001b[22m\u001b[22m\u001b[1m(\u001b[22m\u001b[22m::MIME{Symbol(\"text/plain\")}, ::ControlBlock{2,Yao.Blocks.XGate{Complex{Float64}},1,Bool}\u001b[1m)\u001b[22m\u001b[22m at \u001b[1m/home/leo/.julia/v0.6/IJulia/src/inline.jl:24\u001b[22m\u001b[22m",
      " [4] \u001b[1mdisplay_dict\u001b[22m\u001b[22m\u001b[1m(\u001b[22m\u001b[22m::ControlBlock{2,Yao.Blocks.XGate{Complex{Float64}},1,Bool}\u001b[1m)\u001b[22m\u001b[22m at \u001b[1m/home/leo/.julia/v0.6/IJulia/src/execute_request.jl:28\u001b[22m\u001b[22m",
      " [5] \u001b[1m(::Compat.#inner#17{Array{Any,1},IJulia.#display_dict,Tuple{ControlBlock{2,Yao.Blocks.XGate{Complex{Float64}},1,Bool}}})\u001b[22m\u001b[22m\u001b[1m(\u001b[22m\u001b[22m\u001b[1m)\u001b[22m\u001b[22m at \u001b[1m/home/leo/.julia/v0.6/Compat/src/Compat.jl:385\u001b[22m\u001b[22m",
      " [6] \u001b[1mexecute_request\u001b[22m\u001b[22m\u001b[1m(\u001b[22m\u001b[22m::ZMQ.Socket, ::IJulia.Msg\u001b[1m)\u001b[22m\u001b[22m at \u001b[1m/home/leo/.julia/v0.6/IJulia/src/execute_request.jl:186\u001b[22m\u001b[22m",
      " [7] \u001b[1m(::Compat.#inner#17{Array{Any,1},IJulia.#execute_request,Tuple{ZMQ.Socket,IJulia.Msg}})\u001b[22m\u001b[22m\u001b[1m(\u001b[22m\u001b[22m\u001b[1m)\u001b[22m\u001b[22m at \u001b[1m/home/leo/.julia/v0.6/Compat/src/Compat.jl:385\u001b[22m\u001b[22m",
      " [8] \u001b[1meventloop\u001b[22m\u001b[22m\u001b[1m(\u001b[22m\u001b[22m::ZMQ.Socket\u001b[1m)\u001b[22m\u001b[22m at \u001b[1m/home/leo/.julia/v0.6/IJulia/src/eventloop.jl:8\u001b[22m\u001b[22m",
      " [9] \u001b[1m(::IJulia.##14#17)\u001b[22m\u001b[22m\u001b[1m(\u001b[22m\u001b[22m\u001b[1m)\u001b[22m\u001b[22m at \u001b[1m./task.jl:335\u001b[22m\u001b[22m"
     ]
    }
   ],
   "source": [
    "cg1 = ControlBlock{2}((2,), (1,), X, 1)"
   ]
  },
  {
   "cell_type": "code",
   "execution_count": 21,
   "metadata": {},
   "outputs": [
    {
     "data": {
      "text/plain": [
       "decode_sign (generic function with 1 method)"
      ]
     },
     "execution_count": 21,
     "metadata": {},
     "output_type": "execute_result"
    }
   ],
   "source": [
    "decode_sign(ctrls::Int...) = ctrls .|> abs, ctrls .|> sign .|> (x->(1+x)÷2)"
   ]
  },
  {
   "cell_type": "code",
   "execution_count": 22,
   "metadata": {},
   "outputs": [
    {
     "data": {
      "text/plain": [
       "((1, 2, 3), (0, 1, 0))"
      ]
     },
     "execution_count": 22,
     "metadata": {},
     "output_type": "execute_result"
    }
   ],
   "source": [
    "decode_sign(-1, 2, -3)"
   ]
  },
  {
   "cell_type": "code",
   "execution_count": null,
   "metadata": {},
   "outputs": [],
   "source": []
  }
 ],
 "metadata": {
  "kernelspec": {
   "display_name": "Julia 0.6.0",
   "language": "julia",
   "name": "julia-0.6"
  },
  "language_info": {
   "file_extension": ".jl",
   "mimetype": "application/julia",
   "name": "julia",
   "version": "0.6.0"
  }
 },
 "nbformat": 4,
 "nbformat_minor": 2
}
