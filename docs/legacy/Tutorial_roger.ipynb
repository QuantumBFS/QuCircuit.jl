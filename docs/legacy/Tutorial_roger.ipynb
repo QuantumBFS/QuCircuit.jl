{
 "cells": [
  {
   "cell_type": "markdown",
   "metadata": {},
   "source": [
    "# Yao.jl\n",
    "A flexible whitebox Quantum Circuit algorithm design toolkit."
   ]
  },
  {
   "cell_type": "markdown",
   "metadata": {},
   "source": [
    "## Feel\n",
    "We have a register (i.e. a quantum state) $|\\psi\\rangle$ represented as a vector."
   ]
  },
  {
   "cell_type": "code",
   "execution_count": 52,
   "metadata": {},
   "outputs": [
    {
     "data": {
      "text/plain": [
       "8-element Array{Complex{Float64},1}:\n",
       " 0.0+0.0im\n",
       " 0.0+0.0im\n",
       " 0.0+0.0im\n",
       " 0.0+0.0im\n",
       " 1.0+0.0im\n",
       " 0.0+0.0im\n",
       " 0.0+0.0im\n",
       " 0.0+0.0im"
      ]
     },
     "execution_count": 52,
     "metadata": {},
     "output_type": "execute_result"
    }
   ],
   "source": [
    "using Yao\n",
    "reg = register(bit\"100\")\n",
    "statevec(reg)"
   ]
  },
  {
   "cell_type": "markdown",
   "metadata": {},
   "source": [
    "An predefined operator $X$, represented as a [generalized permute matrix](https://en.wikipedia.org/wiki/Generalized_permutation_matrix)."
   ]
  },
  {
   "cell_type": "code",
   "execution_count": 15,
   "metadata": {},
   "outputs": [
    {
     "data": {
      "text/plain": [
       "2×2 Yao.LuxurySparse.PermMatrix{Complex{Float64},Int64}:\n",
       "    0       1.0+0.0im\n",
       " 1.0+0.0im     0     "
      ]
     },
     "execution_count": 15,
     "metadata": {},
     "output_type": "execute_result"
    }
   ],
   "source": [
    "mat(X)"
   ]
  },
  {
   "cell_type": "code",
   "execution_count": 20,
   "metadata": {},
   "outputs": [
    {
     "ename": "LoadError",
     "evalue": "\u001b[91mBoundsError: attempt to access (2, 2, 2)\n  at index [6]\u001b[39m",
     "output_type": "error",
     "traceback": [
      "\u001b[91mBoundsError: attempt to access (2, 2, 2)\n  at index [6]\u001b[39m",
      "",
      "Stacktrace:",
      " [1] \u001b[1mpush!\u001b[22m\u001b[22m at \u001b[1m./array.jl:619\u001b[22m\u001b[22m [inlined]",
      " [2] \u001b[1mshapeorder\u001b[22m\u001b[22m\u001b[1m(\u001b[22m\u001b[22m::Tuple{Int64,Int64,Int64}, ::Array{Int64,1}\u001b[1m)\u001b[22m\u001b[22m at \u001b[1m./In[19]:35\u001b[22m\u001b[22m",
      " [3] \u001b[1mgroup_permutedims\u001b[22m\u001b[22m\u001b[1m(\u001b[22m\u001b[22m::Array{Complex{Float64},3}, ::Array{Int64,1}\u001b[1m)\u001b[22m\u001b[22m at \u001b[1m./In[19]:5\u001b[22m\u001b[22m",
      " [4] \u001b[1mfocus!\u001b[22m\u001b[22m\u001b[1m(\u001b[22m\u001b[22m::Yao.Registers.DefaultRegister{1,Complex{Float64}}, ::Array{Int64,1}\u001b[1m)\u001b[22m\u001b[22m at \u001b[1m./In[19]:12\u001b[22m\u001b[22m"
     ]
    }
   ],
   "source": [
    "relax!(focus!(reg, [2, 3]), [2, 3]).state\n",
    "focus!(reg, [2, 3])"
   ]
  },
  {
   "cell_type": "code",
   "execution_count": 11,
   "metadata": {},
   "outputs": [
    {
     "data": {
      "text/plain": [
       "(4, 2)"
      ]
     },
     "execution_count": 11,
     "metadata": {},
     "output_type": "execute_result"
    }
   ],
   "source": [
    "size(reg.state)"
   ]
  },
  {
   "cell_type": "code",
   "execution_count": 3,
   "metadata": {},
   "outputs": [
    {
     "name": "stderr",
     "output_type": "stream",
     "text": [
      "WARNING: using Intrinsics.Ints in module Main conflicts with an existing identifier.\n"
     ]
    }
   ],
   "source": [
    "using BenchmarkTools\n",
    "using Yao.Intrinsics\n",
    "nbit = 10\n",
    "v1 = randn(fill(2,nbit)...)\n",
    "v1[3] =4\n",
    "v1[end] = 5\n",
    "v2 = reshape(v1, 1<<(nbit÷2+1), :)\n",
    "norder = vcat(collect(nbit÷2+1:nbit),collect(1:nbit÷2));"
   ]
  },
  {
   "cell_type": "code",
   "execution_count": 51,
   "metadata": {},
   "outputs": [
    {
     "data": {
      "text/plain": [
       "4×2 Array{Complex{Float64},2}:\n",
       " 0.0+0.0im  0.0+0.0im\n",
       " 0.0+0.0im  0.0+0.0im\n",
       " 1.0+0.0im  0.0+0.0im\n",
       " 0.0+0.0im  0.0+0.0im"
      ]
     },
     "execution_count": 51,
     "metadata": {},
     "output_type": "execute_result"
    }
   ],
   "source": [
    "#relax!(focus!(reg, [2, 3]), [2,3]).state\n",
    "focus!(reg, [2, 3]).state"
   ]
  },
  {
   "cell_type": "code",
   "execution_count": 17,
   "metadata": {},
   "outputs": [
    {
     "data": {
      "text/plain": [
       "\u001b[1m\u001b[32mTest Passed\n",
       "\u001b[39m\u001b[22m"
      ]
     },
     "execution_count": 17,
     "metadata": {},
     "output_type": "execute_result"
    }
   ],
   "source": [
    "using Compat.Test\n",
    "@test shapeorder((2,2,4,2,2,2,2,5), [2,3,1,4,5,6,8,7]) == ([2, 8, 8, 2, 5], [2, 1, 3, 5, 4])\n",
    "@test vec(group_permutedims(v1, norder)) == vec(permutedims(v1, norder))"
   ]
  },
  {
   "cell_type": "code",
   "execution_count": 18,
   "metadata": {},
   "outputs": [],
   "source": [
    "#@benchmark permutedims($v1, $norder)\n",
    "#@benchmark permutedims($v2, [1,2])\n",
    "#@benchmark permutedims2($v1, $norder)\n",
    "#@profile for i = 1:10000 group_permutedims(v1, norder) end\n",
    "#@code_warntype permutedims2(v1, norder)"
   ]
  },
  {
   "cell_type": "code",
   "execution_count": 14,
   "metadata": {},
   "outputs": [
    {
     "data": {
      "text/plain": [
       "8-element Array{Complex{Float64},1}:\n",
       " 0.0+0.0im\n",
       " 0.0+1.0im\n",
       " 0.0+0.0im\n",
       " 0.0+0.0im\n",
       " 0.0+0.0im\n",
       " 0.0+0.0im\n",
       " 0.0+0.0im\n",
       " 0.0+0.0im"
      ]
     },
     "execution_count": 14,
     "metadata": {},
     "output_type": "execute_result"
    }
   ],
   "source": [
    "reg2 = chain(kron(3, 2=>X), kron(3, 1=>Y)) |> with!(reg)\n",
    "statevec(reg)"
   ]
  },
  {
   "cell_type": "code",
   "execution_count": 13,
   "metadata": {},
   "outputs": [
    {
     "data": {
      "text/plain": [
       "8-element Array{Complex{Float64},1}:\n",
       " 0.0+0.0im\n",
       " 0.0+0.0im\n",
       " 1.0+0.0im\n",
       " 0.0+0.0im\n",
       " 0.0+0.0im\n",
       " 0.0+0.0im\n",
       " 0.0+0.0im\n",
       " 0.0+0.0im"
      ]
     },
     "execution_count": 13,
     "metadata": {},
     "output_type": "execute_result"
    }
   ],
   "source": [
    "statevec(reg2)"
   ]
  },
  {
   "cell_type": "markdown",
   "metadata": {},
   "source": [
    "`chain`'s behavior likes a `Vector`, itself is complete to describe any circuit."
   ]
  },
  {
   "cell_type": "markdown",
   "metadata": {},
   "source": [
    "Apply this operator on the 2nd qubit, means calculating $I_2\\otimes X\\otimes I_2 |\\psi\\rangle$ "
   ]
  },
  {
   "cell_type": "code",
   "execution_count": 4,
   "metadata": {},
   "outputs": [
    {
     "data": {
      "text/plain": [
       "Total: 3, DataType: Complex{Float64}\n",
       "\u001b[1m\u001b[36mkron\u001b[39m\u001b[22m\n",
       "└─ \u001b[1m\u001b[37m2\u001b[39m\u001b[22m=>X gate\n"
      ]
     },
     "execution_count": 4,
     "metadata": {},
     "output_type": "execute_result"
    }
   ],
   "source": [
    "IXI = kron(3, 2=>X) # size and pair"
   ]
  },
  {
   "cell_type": "markdown",
   "metadata": {},
   "source": [
    "Notice here, `kron(2, 2=>X)` returns a `KronBlock` instance, `X` is a predefined `XGate` instance, both are `MatrixBlocks`.\n",
    "\n",
    "`MatrixBlock` implements `mat` interface."
   ]
  },
  {
   "cell_type": "code",
   "execution_count": 5,
   "metadata": {},
   "outputs": [
    {
     "data": {
      "text/plain": [
       "8×8 Yao.LuxurySparse.PermMatrix{Complex{Float64},Int64}:\n",
       "    0          0       1.0+0.0im  …     0          0          0     \n",
       "    0          0          0             0          0          0     \n",
       " 1.0+0.0im     0          0             0          0          0     \n",
       "    0       1.0+0.0im     0             0          0          0     \n",
       "    0          0          0             0       1.0+0.0im     0     \n",
       "    0          0          0       …     0          0       1.0+0.0im\n",
       "    0          0          0             0          0          0     \n",
       "    0          0          0          1.0+0.0im     0          0     "
      ]
     },
     "execution_count": 5,
     "metadata": {},
     "output_type": "execute_result"
    }
   ],
   "source": [
    "using Yao.Blocks\n",
    "@assert X isa MatrixBlock\n",
    "@assert kron(2, 2=>X) isa MatrixBlock\n",
    "@assert issubtype(MatrixBlock, AbstractBlock)\n",
    "mat(IXI)"
   ]
  },
  {
   "cell_type": "code",
   "execution_count": 6,
   "metadata": {},
   "outputs": [
    {
     "data": {
      "text/plain": [
       "8-element Array{Complex{Float64},1}:\n",
       " 0.0+0.0im\n",
       " 0.0+0.0im\n",
       " 1.0+0.0im\n",
       " 0.0+0.0im\n",
       " 0.0+0.0im\n",
       " 0.0+0.0im\n",
       " 0.0+0.0im\n",
       " 0.0+0.0im"
      ]
     },
     "execution_count": 6,
     "metadata": {},
     "output_type": "execute_result"
    }
   ],
   "source": [
    "reg |> IXI\n",
    "statevec(reg)"
   ]
  },
  {
   "cell_type": "markdown",
   "metadata": {},
   "source": [
    "Then we want to build a larger circuit $C = (H\\otimes H\\otimes H)(I_2\\otimes X\\otimes I_2)$\n",
    "![circuit_xhhh.png](attachment:circuit_xhhh.png)"
   ]
  },
  {
   "cell_type": "code",
   "execution_count": 7,
   "metadata": {},
   "outputs": [
    {
     "data": {
      "text/plain": [
       "Total: 3, DataType: Complex{Float64}\n",
       "\u001b[1m\u001b[34mchain\u001b[39m\u001b[22m\n",
       "├─ \u001b[1m\u001b[36mkron\u001b[39m\u001b[22m\n",
       "│  └─ \u001b[1m\u001b[37m2\u001b[39m\u001b[22m=>X gate\n",
       "└─ \u001b[1m\u001b[36mkron\u001b[39m\u001b[22m\n",
       "   ├─ \u001b[1m\u001b[37m1\u001b[39m\u001b[22m=>H gate\n",
       "   ├─ \u001b[1m\u001b[37m2\u001b[39m\u001b[22m=>H gate\n",
       "   └─ \u001b[1m\u001b[37m3\u001b[39m\u001b[22m=>H gate\n"
      ]
     },
     "execution_count": 7,
     "metadata": {},
     "output_type": "execute_result"
    }
   ],
   "source": [
    "HHH = kron(3, (i=>H for i in 1:3)...)\n",
    "circuit = chain(IXI, HHH)"
   ]
  },
  {
   "cell_type": "code",
   "execution_count": 37,
   "metadata": {},
   "outputs": [
    {
     "data": {
      "text/plain": [
       "Default Register (CPU, Complex{Float64}):\n",
       "    total: 3\n",
       "    batch: 1\n",
       "    active: 3"
      ]
     },
     "execution_count": 37,
     "metadata": {},
     "output_type": "execute_result"
    }
   ],
   "source": [
    "psi = register(bit\"000\") |> circuit"
   ]
  },
  {
   "cell_type": "code",
   "execution_count": 54,
   "metadata": {},
   "outputs": [
    {
     "data": {
      "text/plain": [
       "Default Register (CPU, Complex{Float64}):\n",
       "    total: 3\n",
       "    batch: 1\n",
       "    active: 2"
      ]
     },
     "execution_count": 54,
     "metadata": {},
     "output_type": "execute_result"
    }
   ],
   "source": [
    "psi |> focus(1,2)"
   ]
  },
  {
   "cell_type": "code",
   "execution_count": 64,
   "metadata": {},
   "outputs": [
    {
     "data": {
      "text/plain": [
       "1-element Array{Int64,1}:\n",
       " 3"
      ]
     },
     "execution_count": 64,
     "metadata": {},
     "output_type": "execute_result"
    }
   ],
   "source": [
    "using Yao.Intrinsics\n",
    "res = measure(psi, 2)[1]"
   ]
  },
  {
   "cell_type": "code",
   "execution_count": 71,
   "metadata": {},
   "outputs": [
    {
     "data": {
      "text/plain": [
       "2×10 SubArray{Bool,2,BitArray{2},Tuple{UnitRange{Int64},Base.Slice{Base.OneTo{Int64}}},false}:\n",
       " false  true  false  false   true  false  false   true  true  true\n",
       "  true  true  false   true  false  false  false  false  true  true"
      ]
     },
     "execution_count": 71,
     "metadata": {},
     "output_type": "execute_result"
    }
   ],
   "source": [
    "bitarray(measure(psi, 2, 10)[1], num_bit=2)"
   ]
  },
  {
   "cell_type": "code",
   "execution_count": null,
   "metadata": {
    "collapsed": true
   },
   "outputs": [],
   "source": []
  },
  {
   "cell_type": "markdown",
   "metadata": {},
   "source": [
    "# Imaging"
   ]
  },
  {
   "cell_type": "markdown",
   "metadata": {},
   "source": [
    "## Everything is Block\n",
    "* `Primitive Block` is a block that does not have sub-blocks.\n",
    "* `Composite Block` is a block that is constructed using sub-blocks."
   ]
  },
  {
   "cell_type": "code",
   "execution_count": 31,
   "metadata": {},
   "outputs": [
    {
     "data": {
      "text/plain": [
       "Total: 10, DataType: Complex{Float64}\n",
       "\u001b[1m\u001b[36mkron\u001b[39m\u001b[22m\n",
       "├─ \u001b[1m\u001b[37m2\u001b[39m\u001b[22m=>\u001b[1m\u001b[36mkron\u001b[39m\u001b[22m\n",
       "│  └─ \u001b[1m\u001b[37m2\u001b[39m\u001b[22m=>X gate\n",
       "├─ \u001b[1m\u001b[37m5\u001b[39m\u001b[22m=>X gate\n",
       "├─ \u001b[1m\u001b[37m6\u001b[39m\u001b[22m=>X gate\n",
       "└─ \u001b[1m\u001b[37m8\u001b[39m\u001b[22m=>Global Phase Gate:0.3\n"
      ]
     },
     "execution_count": 31,
     "metadata": {},
     "output_type": "execute_result"
    }
   ],
   "source": [
    "bigger = kron(10, 2=>IXI, [i=>X for i = 5:6]..., 8=>phase(0.3))"
   ]
  },
  {
   "cell_type": "code",
   "execution_count": 30,
   "metadata": {},
   "outputs": [
    {
     "data": {
      "text/plain": [
       "Total: 3, DataType: Complex{Float64}\n",
       "\u001b[1m\u001b[36mrepeat on (\u001b[39m\u001b[22m\u001b[1m\u001b[36m1\u001b[39m\u001b[22m\u001b[1m\u001b[36m, \u001b[39m\u001b[22m\u001b[1m\u001b[36m2\u001b[39m\u001b[22m\u001b[1m\u001b[36m, \u001b[39m\u001b[22m\u001b[1m\u001b[36m3\u001b[39m\u001b[22m\u001b[1m\u001b[36m)\u001b[39m\u001b[22m\n",
       "└─ \u001b[1m\u001b[36mkron\u001b[39m\u001b[22m\n",
       "   ├─ \u001b[1m\u001b[37m2\u001b[39m\u001b[22m=>\u001b[1m\u001b[36mkron\u001b[39m\u001b[22m\n",
       "   │  └─ \u001b[1m\u001b[37m2\u001b[39m\u001b[22m=>X gate\n",
       "   ├─ \u001b[1m\u001b[37m5\u001b[39m\u001b[22m=>X gate\n",
       "   ├─ \u001b[1m\u001b[37m6\u001b[39m\u001b[22m=>X gate\n",
       "   └─ \u001b[1m\u001b[37m8\u001b[39m\u001b[22m=>Global Phase Gate:0.3\n"
      ]
     },
     "execution_count": 30,
     "metadata": {},
     "output_type": "execute_result"
    }
   ],
   "source": [
    "repeat(3, bigger)"
   ]
  },
  {
   "cell_type": "markdown",
   "metadata": {},
   "source": [
    "## Luxury Sparse\n",
    "In our `LuxurySparse` module, we implemented some high performance matrix types\n",
    "\n",
    "* `PermMatrix`\n",
    "* `Identity`\n",
    "* `Diagonal` (extended its `kron` and `multiply` operations)\n",
    "\n",
    "Making matrix operations more efficient."
   ]
  },
  {
   "cell_type": "code",
   "execution_count": null,
   "metadata": {
    "collapsed": true
   },
   "outputs": [],
   "source": []
  }
 ],
 "metadata": {
  "kernelspec": {
   "display_name": "Julia 0.6.3-pre",
   "language": "julia",
   "name": "julia-0.6"
  },
  "language_info": {
   "file_extension": ".jl",
   "mimetype": "application/julia",
   "name": "julia",
   "version": "0.6.3"
  }
 },
 "nbformat": 4,
 "nbformat_minor": 2
}
