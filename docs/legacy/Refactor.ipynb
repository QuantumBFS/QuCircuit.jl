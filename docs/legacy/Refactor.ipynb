{
 "cells": [
  {
   "cell_type": "code",
   "execution_count": 1,
   "metadata": {},
   "outputs": [],
   "source": [
    "using Yao\n",
    "using Yao.Blocks: CompositeBlock, AbstractBlock\n",
    "import Yao.Blocks:apply!"
   ]
  },
  {
   "cell_type": "code",
   "execution_count": 2,
   "metadata": {},
   "outputs": [
    {
     "ename": "LoadError",
     "evalue": "\u001b[91mUndefVarError: Concentrator not defined\u001b[39m",
     "output_type": "error",
     "traceback": [
      "\u001b[91mUndefVarError: Concentrator not defined\u001b[39m",
      ""
     ]
    }
   ],
   "source": [
    "reg = rand_state(10)\n",
    "block = kron(4, 2=>X)\n",
    "c = Concentrator{10}(block, [1,3,9,2]);\n",
    "apply!(copy(reg), c) == apply!(copy(reg), kron(10, 3=>X))"
   ]
  },
  {
   "cell_type": "code",
   "execution_count": 3,
   "metadata": {},
   "outputs": [
    {
     "data": {
      "text/plain": [
       "4×3 Array{Float64,2}:\n",
       " 0.248823   0.290744  0.252602\n",
       " 0.435655   0.187778  0.156927\n",
       " 0.235017   0.182767  0.160819\n",
       " 0.0805048  0.338712  0.429653"
      ]
     },
     "execution_count": 3,
     "metadata": {},
     "output_type": "execute_result"
    }
   ],
   "source": [
    "reg0 = rand_state(5,3)\n",
    "reg = focus!(copy(reg0), 2:3)\n",
    "\n",
    "hcat([sum(abs2.(reshape(reg.state[i,:], :, 3)), 1)[1,:] for i in 1:4]...)'"
   ]
  },
  {
   "cell_type": "code",
   "execution_count": 4,
   "metadata": {},
   "outputs": [
    {
     "data": {
      "text/plain": [
       "4×3 Array{Float64,2}:\n",
       " 0.248823   0.290744  0.252602\n",
       " 0.435655   0.187778  0.156927\n",
       " 0.235017   0.182767  0.160819\n",
       " 0.0805048  0.338712  0.429653"
      ]
     },
     "execution_count": 4,
     "metadata": {},
     "output_type": "execute_result"
    }
   ],
   "source": [
    "reg|>probs"
   ]
  },
  {
   "cell_type": "code",
   "execution_count": 35,
   "metadata": {},
   "outputs": [
    {
     "data": {
      "text/plain": [
       "measure! (generic function with 1 method)"
      ]
     },
     "execution_count": 35,
     "metadata": {},
     "output_type": "execute_result"
    }
   ],
   "source": [
    "####################\n",
    "# Measure Functions\n",
    "####################\n",
    "using StatsBase\n",
    "_measure(pl::Vector, ntimes::Int) = sample(0:length(pl)-1, Weights(pl), ntimes)\n",
    "function _measure(pl::Matrix, ntimes::Int)\n",
    "    B = size(pl, 1)\n",
    "    res = Matrix{Int}(ntimes, B)\n",
    "    @simd for ib=1:B\n",
    "        @inbounds res[:,ib] = _measure(pl[:,ib], ntimes)\n",
    "    end\n",
    "    res\n",
    "end\n",
    "\n",
    "measure(reg::AbstractRegister, nshot::Int=1) = _measure(reg |> probs, nshot)\n",
    "\n",
    "function measure_remove!(reg::AbstractRegister{B}) where B\n",
    "    state = reshape(reg.state, size(reg.state,1),:,B)\n",
    "    nstate = similar(reg.state, 1<<nremain(reg), B)\n",
    "    pl = reg |> probs\n",
    "    res = Vector{Int}(B)\n",
    "    @simd for ib = 1:B\n",
    "        @inbounds ires = _measure(pl[:, ib], 1)[]\n",
    "        @inbounds nstate[:,ib] = view(state, ires+1,:,ib)./sqrt(pl[ires+1, ib])\n",
    "        @inbounds res[ib] = ires\n",
    "    end\n",
    "    reg.state = reshape(nstate,1,:)\n",
    "    reg, res\n",
    "end\n",
    "\n",
    "function measure!(reg::AbstractRegister{B}) where B\n",
    "    state = reshape(reg.state, size(reg.state,1),:,B)\n",
    "    nstate = zero(state)\n",
    "    nreg, res = measure_remove!(reg)\n",
    "    _nstate = reshape(nreg.state, :, B)\n",
    "    @simd for ib in 1:B\n",
    "        @inbounds nstate[res[ib]+1, :, ib] = view(_nstate,:,ib)\n",
    "    end\n",
    "    reg.state = reshape(nstate, size(nstate, 1), :)\n",
    "    reg, res\n",
    "end"
   ]
  },
  {
   "cell_type": "code",
   "execution_count": 51,
   "metadata": {},
   "outputs": [
    {
     "name": "stdout",
     "output_type": "stream",
     "text": [
      "[31, 0, 28][31, 0, 28]\n",
      "[31, 0, 28][31, 0, 28]\n",
      "[31, 0, 28][31, 0, 28]\n",
      "[31, 0, 28][31, 0, 28]\n"
     ]
    }
   ],
   "source": [
    "reg2 = copy(reg)\n",
    "pre = nothing\n",
    "for i in 1:5\n",
    "    reg2, res = measure!(reg2)\n",
    "    @test reg2 |> isnormalized\n",
    "    if pre!=nothing\n",
    "        println(pre, res)\n",
    "        @test pre == res\n",
    "    end\n",
    "    pre = res\n",
    "end"
   ]
  },
  {
   "cell_type": "code",
   "execution_count": 7,
   "metadata": {},
   "outputs": [],
   "source": [
    "using BenchmarkTools\n",
    "#@benchmark measure2!(reg2)"
   ]
  },
  {
   "cell_type": "code",
   "execution_count": 8,
   "metadata": {},
   "outputs": [
    {
     "data": {
      "text/plain": [
       "\u001b[1m\u001b[32mTest Passed\n",
       "\u001b[39m\u001b[22m"
      ]
     },
     "execution_count": 8,
     "metadata": {},
     "output_type": "execute_result"
    }
   ],
   "source": [
    "using Compat.Test\n",
    "reg = rand_state(5, 3)\n",
    "@test reg |> probs ≈ abs2.(reg.state)"
   ]
  },
  {
   "cell_type": "code",
   "execution_count": 31,
   "metadata": {},
   "outputs": [
    {
     "data": {
      "text/plain": [
       "apply! (generic function with 18 methods)"
      ]
     },
     "execution_count": 31,
     "metadata": {},
     "output_type": "execute_result"
    }
   ],
   "source": [
    "#####################\n",
    "# Measurement Blocks\n",
    "#####################\n",
    "abstract type AbstractMeasure <: AbstractBlock end\n",
    "import Yao:nqubits\n",
    "import Yao.Blocks:AnySize, datatype\n",
    "nqubits(::Type{T}) where {T <: AbstractMeasure} = AnySize\n",
    "nqubits(m::AbstractMeasure) = AnySize\n",
    "datatype(m::AbstractMeasure) = Bool\n",
    "# TODO: add WorkerPool to this block to specify workers for parallelled sampling\n",
    "mutable struct Measure <: AbstractMeasure\n",
    "    result::Vector{Int}\n",
    "    Measure() = new()\n",
    "end\n",
    "\n",
    "function apply!(reg::AbstractRegister, block::Measure)\n",
    "    _, samples = measure!(reg)\n",
    "    block.result = samples\n",
    "    reg\n",
    "end\n",
    "\n",
    "mutable struct MeasureAndRemove <: AbstractMeasure\n",
    "    result::Vector{Int}\n",
    "    MeasureAndRemove() = new()\n",
    "end\n",
    "\n",
    "function apply!(reg::AbstractRegister, block::MeasureAndRemove)\n",
    "    reg, samples = measure_remove!(reg)\n",
    "    block.result = samples\n",
    "    reg\n",
    "end"
   ]
  },
  {
   "cell_type": "code",
   "execution_count": 27,
   "metadata": {},
   "outputs": [
    {
     "data": {
      "text/plain": [
       "Total: Yao.Blocks.AnySize, DataType: Bool\n",
       "MeasureAndRemove\n"
      ]
     },
     "execution_count": 27,
     "metadata": {},
     "output_type": "execute_result"
    }
   ],
   "source": [
    "m = Measure()\n",
    "mr = MeasureAndRemove()"
   ]
  },
  {
   "cell_type": "code",
   "execution_count": 30,
   "metadata": {},
   "outputs": [],
   "source": [
    "reg2 = copy(reg)\n",
    "pre = nothing\n",
    "for i in 1:5\n",
    "    reg2 = apply!(reg2, m)\n",
    "    @test reg2 |> isnormalized\n",
    "    if pre!=nothing\n",
    "        @test pre == m.result\n",
    "    end\n",
    "    pre = m.result\n",
    "end"
   ]
  },
  {
   "cell_type": "code",
   "execution_count": 29,
   "metadata": {},
   "outputs": [
    {
     "data": {
      "text/plain": [
       "\u001b[1m\u001b[32mTest Passed\n",
       "\u001b[39m\u001b[22m"
      ]
     },
     "execution_count": 29,
     "metadata": {},
     "output_type": "execute_result"
    }
   ],
   "source": [
    "reg2 = focus!(copy(reg), 2:3)\n",
    "reg2 = apply!(reg2, mr)\n",
    "@test nqubits(reg2) == 3\n",
    "@test nactive(reg2) == 0\n",
    "@test reg2 |> isnormalized"
   ]
  },
  {
   "cell_type": "code",
   "execution_count": 61,
   "metadata": {},
   "outputs": [
    {
     "data": {
      "text/plain": [
       "DataType"
      ]
     },
     "execution_count": 61,
     "metadata": {},
     "output_type": "execute_result"
    }
   ],
   "source": [
    "using Yao.Blocks\n",
    "typeof(nqubits(Concentrator{AnySize}))"
   ]
  },
  {
   "cell_type": "code",
   "execution_count": 62,
   "metadata": {},
   "outputs": [
    {
     "ename": "LoadError",
     "evalue": "\u001b[91mMethodError: Cannot `convert` an object of type Type{Yao.Blocks.AnySize} to an object of type Int64\nThis may have arisen from a call to the constructor Int64(...),\nsince type constructors fall back to convert methods.\u001b[39m",
     "output_type": "error",
     "traceback": [
      "\u001b[91mMethodError: Cannot `convert` an object of type Type{Yao.Blocks.AnySize} to an object of type Int64\nThis may have arisen from a call to the constructor Int64(...),\nsince type constructors fall back to convert methods.\u001b[39m",
      "",
      "Stacktrace:",
      " [1] \u001b[1mInt64\u001b[22m\u001b[22m\u001b[1m(\u001b[22m\u001b[22m::Type{T} where T\u001b[1m)\u001b[22m\u001b[22m at \u001b[1m./sysimg.jl:24\u001b[22m\u001b[22m"
     ]
    }
   ],
   "source": [
    "Int(AnySize)"
   ]
  },
  {
   "cell_type": "code",
   "execution_count": 77,
   "metadata": {},
   "outputs": [
    {
     "data": {
      "text/plain": [
       "mat (generic function with 57 methods)"
      ]
     },
     "execution_count": 77,
     "metadata": {},
     "output_type": "execute_result"
    }
   ],
   "source": [
    "import Yao.Blocks: mat\n",
    "using Yao.LuxurySparse: IMatrix\n",
    "function mat(k::KronBlock{N}) where N\n",
    "    locs = @. N - k.addrs + 1\n",
    "    num_bit_list = diff(vcat([0], k.addrs, [N+1])) .- 1\n",
    "    ⊗ = kron\n",
    "    reduce((x,y)->x ⊗ mat(y[1]) ⊗ IMatrix(1<<y[2]), IMatrix(1 << num_bit_list[1]), zip(blocks(k), num_bit_list[2:end]))\n",
    "end"
   ]
  },
  {
   "cell_type": "code",
   "execution_count": 78,
   "metadata": {},
   "outputs": [
    {
     "data": {
      "text/plain": [
       "8×8 Yao.LuxurySparse.PermMatrix{Complex{Float64},Int64}:\n",
       "    0          0       1.0+0.0im  …     0          0          0     \n",
       "    0          0          0             0          0          0     \n",
       " 1.0+0.0im     0          0             0          0          0     \n",
       "    0       1.0+0.0im     0             0          0          0     \n",
       "    0          0          0             0       1.0+0.0im     0     \n",
       "    0          0          0       …     0          0       1.0+0.0im\n",
       "    0          0          0             0          0          0     \n",
       "    0          0          0          1.0+0.0im     0          0     "
      ]
     },
     "execution_count": 78,
     "metadata": {},
     "output_type": "execute_result"
    }
   ],
   "source": [
    "mat(kron(3, 2=>X))"
   ]
  },
  {
   "cell_type": "code",
   "execution_count": 74,
   "metadata": {},
   "outputs": [
    {
     "data": {
      "text/plain": [
       "1-element Array{Yao.Blocks.MatrixBlock,1}:\n",
       " X gate"
      ]
     },
     "execution_count": 74,
     "metadata": {},
     "output_type": "execute_result"
    }
   ],
   "source": [
    "blk = kron(3, 2=>X)\n",
    "blocks(blk)"
   ]
  },
  {
   "cell_type": "code",
   "execution_count": 138,
   "metadata": {},
   "outputs": [
    {
     "data": {
      "text/plain": [
       "_wrap_identity (generic function with 1 method)"
      ]
     },
     "execution_count": 138,
     "metadata": {},
     "output_type": "execute_result"
    }
   ],
   "source": [
    "using Yao:Intrinsics\n",
    "nqubits(m::AbstractArray) = size(m, 1) |> log2i\n",
    "\n",
    "function hilbertkron(num_bit::Int, ops::Vector{T}, start_locs::Vector{Int}) where T<:AbstractMatrix\n",
    "    sizes = [op |> nqubits for op in ops]\n",
    "    start_locs = num_bit - start_locs - sizes + 2\n",
    "    \n",
    "    order = sortperm(start_locs)\n",
    "    sorted_ops = ops[order]\n",
    "    sorted_start_locs = start_locs[order]\n",
    "    \n",
    "    _wrap_identity(sorted_ops, vcat(sorted_start_locs[1]-1, diff(push!(sorted_start_locs, num_bit+1)) .- sizes))\n",
    "end\n",
    "\n",
    "# kron, and wrap matrices with identities.\n",
    "function _wrap_identity(data_list::Vector{T}, num_bit_list::Vector{Int}) where T<:AbstractMatrix\n",
    "    length(num_bit_list) == length(data_list) + 1 || throw(ArgumentError())\n",
    "\n",
    "    ⊗ = kron\n",
    "    reduce(IMatrix(1 << num_bit_list[1]), zip(data_list, num_bit_list[2:end])) do x, y\n",
    "        x ⊗ y[1] ⊗ IMatrix(1<<y[2])\n",
    "    end\n",
    "end"
   ]
  },
  {
   "cell_type": "code",
   "execution_count": 147,
   "metadata": {},
   "outputs": [
    {
     "data": {
      "text/plain": [
       "\u001b[1m\u001b[32mTest Passed\n",
       "\u001b[39m\u001b[22m"
      ]
     },
     "execution_count": 147,
     "metadata": {},
     "output_type": "execute_result"
    }
   ],
   "source": [
    "A,B,C,D = [randn(2,2) for i = 1:4]\n",
    "II = speye(2)\n",
    "⊗ = kron\n",
    "@test hilbertkron(4, [A, B], [3, 1]) ≈ II ⊗ A ⊗ II ⊗ B\n",
    "@test hilbertkron(4, [A ⊗ B, C], [3, 1]) ≈ A ⊗ B ⊗ II ⊗ C\n",
    "@test hilbertkron(4, [A ⊗ B], [1]) ≈ II ⊗ II ⊗ A ⊗ B\n",
    "@test hilbertkron(4, [A ⊗ B, C ⊗ D], [1, 3]) ≈ C ⊗ D ⊗ A ⊗ B"
   ]
  },
  {
   "cell_type": "code",
   "execution_count": null,
   "metadata": {},
   "outputs": [],
   "source": []
  }
 ],
 "metadata": {
  "kernelspec": {
   "display_name": "Julia 0.6.0",
   "language": "julia",
   "name": "julia-0.6"
  },
  "language_info": {
   "file_extension": ".jl",
   "mimetype": "application/julia",
   "name": "julia",
   "version": "0.6.0"
  }
 },
 "nbformat": 4,
 "nbformat_minor": 2
}
