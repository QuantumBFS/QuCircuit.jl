{
 "cells": [
  {
   "cell_type": "markdown",
   "metadata": {},
   "source": [
    "# Yao.jl\n",
    "A flexible whitebox Quantum Circuit algorithm design toolkit."
   ]
  },
  {
   "cell_type": "markdown",
   "metadata": {},
   "source": [
    "## Feel\n",
    "We have a register (i.e. a quantum state) $|\\psi\\rangle$ represented as a vector."
   ]
  },
  {
   "cell_type": "code",
   "execution_count": 1,
   "metadata": {},
   "outputs": [
    {
     "data": {
      "text/plain": [
       "8-element Array{Complex{Float64},1}:\n",
       " 0.707107+0.0im\n",
       "      0.0+0.0im\n",
       "      0.0+0.0im\n",
       "      0.0+0.0im\n",
       "      0.0+0.0im\n",
       " 0.707107+0.0im\n",
       "      0.0+0.0im\n",
       "      0.0+0.0im"
      ]
     },
     "execution_count": 1,
     "metadata": {},
     "output_type": "execute_result"
    }
   ],
   "source": [
    "using Compat\n",
    "using Compat.Test\n",
    "using Yao\n",
    "using Yao.Blocks\n",
    "using Yao.Intrinsics\n",
    "reg = register(bit\"000\") + register(bit\"101\") |> normalize!\n",
    "reg |> statevec"
   ]
  },
  {
   "cell_type": "markdown",
   "metadata": {},
   "source": [
    "You may have noticed, our register orders like $|b_n\\rangle \\ldots |b_2\\rangle|b_1\\rangle$, whose Hilbert space is defined on basis:"
   ]
  },
  {
   "cell_type": "code",
   "execution_count": 2,
   "metadata": {},
   "outputs": [
    {
     "data": {
      "text/plain": [
       "3×8 Array{Int64,2}:\n",
       " 0  1  0  1  0  1  0  1\n",
       " 0  0  1  1  0  0  1  1\n",
       " 0  0  0  0  1  1  1  1"
      ]
     },
     "metadata": {},
     "output_type": "display_data"
    },
    {
     "data": {
      "text/plain": [
       "8-element Array{String,1}:\n",
       " \"000\"\n",
       " \"001\"\n",
       " \"010\"\n",
       " \"011\"\n",
       " \"100\"\n",
       " \"101\"\n",
       " \"110\"\n",
       " \"111\""
      ]
     },
     "metadata": {},
     "output_type": "display_data"
    }
   ],
   "source": [
    "# indexing order\n",
    "display(basis(3) |> collect |> bitarray(3) .|> Int)\n",
    "# numbering order\n",
    "display(bin.(basis(3), 3))"
   ]
  },
  {
   "cell_type": "code",
   "execution_count": 3,
   "metadata": {},
   "outputs": [],
   "source": [
    "with!(reg) = reg\n",
    "with(reg) = copy(reg)\n",
    "import Base: |>\n",
    "|>(reg::AbstractRegister, blk::AbstractBlock) = apply!(reg, blk)\n",
    "import Yao.Intrinsics.bitarray"
   ]
  },
  {
   "cell_type": "markdown",
   "metadata": {},
   "source": [
    "An predefined NOT gate $X$, is represented as a [generalized permute matrix](https://en.wikipedia.org/wiki/Generalized_permutation_matrix)."
   ]
  },
  {
   "cell_type": "code",
   "execution_count": 4,
   "metadata": {},
   "outputs": [
    {
     "data": {
      "text/plain": [
       "2×2 Yao.LuxurySparse.PermMatrix{Complex{Float64},Int64}:\n",
       "    0       1.0+0.0im\n",
       " 1.0+0.0im     0     "
      ]
     },
     "metadata": {},
     "output_type": "display_data"
    },
    {
     "data": {
      "text/plain": [
       "8-element Array{Complex{Float64},1}:\n",
       "      0.0+0.0im\n",
       "      0.0+0.0im\n",
       " 0.707107+0.0im\n",
       "      0.0+0.0im\n",
       "      0.0+0.0im\n",
       "      0.0+0.0im\n",
       "      0.0+0.0im\n",
       " 0.707107+0.0im"
      ]
     },
     "execution_count": 4,
     "metadata": {},
     "output_type": "execute_result"
    }
   ],
   "source": [
    "# X is a single qubit gate\n",
    "display(mat(X))\n",
    "\n",
    "# We want to focus on the sencond bit to apply X, then cancel the focus operation.\n",
    "# All we need is focus.\n",
    "F = Focus(3)\n",
    "with(reg) |> F(2) |> X |> F(nothing) |> statevec"
   ]
  },
  {
   "cell_type": "markdown",
   "metadata": {},
   "source": [
    "### What Happened Here?\n",
    "1. Focus on the 2nd bit, so blocks see the 2nd bit only,\n",
    "2. Apply X on this active bit,\n",
    "3. Focus(nothing) to roll back all focus operations."
   ]
  },
  {
   "cell_type": "code",
   "execution_count": 33,
   "metadata": {},
   "outputs": [
    {
     "data": {
      "text/plain": [
       "8-element Array{Complex{Float64},1}:\n",
       " 0.0+0.0im\n",
       " 0.0+0.0im\n",
       " 0.0+0.0im\n",
       " 0.0+0.0im\n",
       " 0.0+0.0im\n",
       " 1.0+0.0im\n",
       " 0.0+0.0im\n",
       " 0.0+0.0im"
      ]
     },
     "execution_count": 33,
     "metadata": {},
     "output_type": "execute_result"
    }
   ],
   "source": [
    "F = Focus(nqubits(reg))\n",
    "with(reg) |> F(2,3) |> MEASURE |> F(nothing) |> statevec"
   ]
  },
  {
   "cell_type": "code",
   "execution_count": 34,
   "metadata": {},
   "outputs": [
    {
     "data": {
      "text/plain": [
       "2×1 BitArray{2}:\n",
       " false\n",
       "  true"
      ]
     },
     "execution_count": 34,
     "metadata": {},
     "output_type": "execute_result"
    }
   ],
   "source": [
    "MEASURE.result |> bitarray(2)"
   ]
  },
  {
   "cell_type": "code",
   "execution_count": 35,
   "metadata": {},
   "outputs": [
    {
     "ename": "LoadError",
     "evalue": "\u001b[91mDimensionMismatch(\"\")\u001b[39m",
     "output_type": "error",
     "traceback": [
      "\u001b[91mDimensionMismatch(\"\")\u001b[39m",
      "",
      "Stacktrace:",
      " [1] \u001b[1m*\u001b[22m\u001b[22m\u001b[1m(\u001b[22m\u001b[22m::Yao.LuxurySparse.PermMatrix{Complex{Float64},Int64}, ::Array{Complex{Float64},1}\u001b[1m)\u001b[22m\u001b[22m at \u001b[1m/home/leo/jcode/Yao.jl/src/LuxurySparse/linalg.jl:42\u001b[22m\u001b[22m",
      " [2] \u001b[1m*\u001b[22m\u001b[22m\u001b[1m(\u001b[22m\u001b[22m::Yao.LuxurySparse.PermMatrix{Complex{Float64},Int64}, ::Yao.Registers.DefaultRegister{1,Complex{Float64}}\u001b[1m)\u001b[22m\u001b[22m at \u001b[1m/home/leo/jcode/Yao.jl/src/Registers/Default.jl:124\u001b[22m\u001b[22m",
      " [3] \u001b[1mapply!\u001b[22m\u001b[22m\u001b[1m(\u001b[22m\u001b[22m::Yao.Registers.DefaultRegister{1,Complex{Float64}}, ::Yao.Blocks.XGate{Complex{Float64}}\u001b[1m)\u001b[22m\u001b[22m at \u001b[1m/home/leo/jcode/Yao.jl/src/Blocks/MatrixBlock.jl:24\u001b[22m\u001b[22m",
      " [4] \u001b[1m|>\u001b[22m\u001b[22m\u001b[1m(\u001b[22m\u001b[22m::Yao.Registers.DefaultRegister{1,Complex{Float64}}, ::Yao.Blocks.XGate{Complex{Float64}}\u001b[1m)\u001b[22m\u001b[22m at \u001b[1m./In[3]:4\u001b[22m\u001b[22m"
     ]
    }
   ],
   "source": [
    "with(reg) |> X"
   ]
  },
  {
   "cell_type": "markdown",
   "metadata": {},
   "source": [
    "We don't need fix"
   ]
  },
  {
   "cell_type": "markdown",
   "metadata": {},
   "source": [
    "`chain`'s behavior likes a `Vector`, itself is complete to describe any circuit."
   ]
  },
  {
   "cell_type": "markdown",
   "metadata": {},
   "source": [
    "Apply this operator on the 2nd qubit, means calculating $I_2\\otimes X\\otimes I_2 |\\psi\\rangle$ "
   ]
  },
  {
   "cell_type": "code",
   "execution_count": 7,
   "metadata": {},
   "outputs": [
    {
     "data": {
      "text/plain": [
       "Total: 3, DataType: Complex{Float64}\n",
       "\u001b[1m\u001b[36mkron\u001b[39m\u001b[22m\n",
       "└─ \u001b[1m\u001b[37m2\u001b[39m\u001b[22m=>X gate\n"
      ]
     },
     "execution_count": 7,
     "metadata": {},
     "output_type": "execute_result"
    }
   ],
   "source": [
    "IXI = kron(3, 2=>X) # size and pair"
   ]
  },
  {
   "cell_type": "markdown",
   "metadata": {},
   "source": [
    "Notice here, `kron(2, 2=>X)` returns a `KronBlock` instance, `X` is a predefined `XGate` instance, both are `MatrixBlocks`.\n",
    "\n",
    "`MatrixBlock` implements `mat` interface."
   ]
  },
  {
   "cell_type": "code",
   "execution_count": 8,
   "metadata": {},
   "outputs": [
    {
     "data": {
      "text/plain": [
       "8×8 Yao.LuxurySparse.PermMatrix{Complex{Float64},Int64}:\n",
       "    0          0       1.0+0.0im  …     0          0          0     \n",
       "    0          0          0             0          0          0     \n",
       " 1.0+0.0im     0          0             0          0          0     \n",
       "    0       1.0+0.0im     0             0          0          0     \n",
       "    0          0          0             0       1.0+0.0im     0     \n",
       "    0          0          0       …     0          0       1.0+0.0im\n",
       "    0          0          0             0          0          0     \n",
       "    0          0          0          1.0+0.0im     0          0     "
      ]
     },
     "execution_count": 8,
     "metadata": {},
     "output_type": "execute_result"
    }
   ],
   "source": [
    "using Yao.Blocks\n",
    "@assert X isa MatrixBlock\n",
    "@assert kron(2, 2=>X) isa MatrixBlock\n",
    "@assert issubtype(MatrixBlock, AbstractBlock)\n",
    "mat(IXI)"
   ]
  },
  {
   "cell_type": "code",
   "execution_count": 9,
   "metadata": {},
   "outputs": [
    {
     "data": {
      "text/plain": [
       "8-element Array{Complex{Float64},1}:\n",
       "      0.0+0.0im\n",
       "      0.0+0.0im\n",
       " 0.707107+0.0im\n",
       "      0.0+0.0im\n",
       "      0.0+0.0im\n",
       " 0.707107+0.0im\n",
       "      0.0+0.0im\n",
       "      0.0+0.0im"
      ]
     },
     "execution_count": 9,
     "metadata": {},
     "output_type": "execute_result"
    }
   ],
   "source": [
    "reg |> IXI\n",
    "statevec(reg)"
   ]
  },
  {
   "cell_type": "markdown",
   "metadata": {},
   "source": [
    "Then we want to build a larger circuit $C = (H\\otimes H\\otimes H)(I_2\\otimes X\\otimes I_2)$\n",
    "![circuit_xhhh.png](attachment:circuit_xhhh.png)"
   ]
  },
  {
   "cell_type": "code",
   "execution_count": 17,
   "metadata": {},
   "outputs": [
    {
     "data": {
      "text/plain": [
       "32-element Array{Complex{Float64},1}:\n",
       "   -0.037869+0.126653im \n",
       "   0.0442067+0.126734im \n",
       "  -0.0625266-0.154198im \n",
       "   0.0544712-0.288671im \n",
       "  -0.0126715-0.0760913im\n",
       "    0.053274+0.15601im  \n",
       "     0.11723+0.0539733im\n",
       "   0.0398053-0.0638877im\n",
       "  -0.0244146-0.0316419im\n",
       "   -0.159306+0.0564486im\n",
       "    0.120083-0.0630978im\n",
       "    0.133407-0.0613283im\n",
       "   0.0829781-0.240048im \n",
       "            ⋮           \n",
       "  -0.0405701-0.111963im \n",
       "   -0.147527-0.0327301im\n",
       "   0.0219751-0.0884933im\n",
       "   -0.117001+0.0570855im\n",
       "   -0.259686-0.0189936im\n",
       " 0.000821339+0.0439073im\n",
       "   0.0592133+0.145806im \n",
       "  -0.0351971+0.261564im \n",
       "   -0.247322-0.0985339im\n",
       "   0.0816123-0.272345im \n",
       "    -0.21225-0.227346im \n",
       "     -0.1398+0.145889im "
      ]
     },
     "execution_count": 17,
     "metadata": {},
     "output_type": "execute_result"
    }
   ],
   "source": [
    "bigreg = rand_state(5)\n",
    "HHH = kron(3, (i=>H for i in 1:3)...)\n",
    "circuit = chain(IXI, HHH)\n",
    "reg2 = with(bigreg) |> Concentrator{5}(circuit, [5,1,2]) |> statevec"
   ]
  },
  {
   "cell_type": "code",
   "execution_count": 15,
   "metadata": {},
   "outputs": [
    {
     "ename": "LoadError",
     "evalue": "\u001b[91mUndefVarError: reg2 not defined\u001b[39m",
     "output_type": "error",
     "traceback": [
      "\u001b[91mUndefVarError: reg2 not defined\u001b[39m",
      ""
     ]
    }
   ],
   "source": [
    "using Yao.Intrinsics\n",
    "res = measure(reg2)"
   ]
  },
  {
   "cell_type": "code",
   "execution_count": 84,
   "metadata": {},
   "outputs": [
    {
     "data": {
      "text/plain": [
       "2×10 SubArray{Bool,2,BitArray{2},Tuple{UnitRange{Int64},Base.Slice{Base.OneTo{Int64}}},false}:\n",
       "  true  false  false  false  false   true   true  true  true  false\n",
       " false   true   true   true   true  false  false  true  true  false"
      ]
     },
     "execution_count": 84,
     "metadata": {},
     "output_type": "execute_result"
    }
   ],
   "source": [
    "bitarray(measure(reg2, 10), num_bit=2)"
   ]
  },
  {
   "cell_type": "code",
   "execution_count": null,
   "metadata": {
    "collapsed": true
   },
   "outputs": [],
   "source": []
  },
  {
   "cell_type": "markdown",
   "metadata": {},
   "source": [
    "# Imaging"
   ]
  },
  {
   "cell_type": "markdown",
   "metadata": {},
   "source": [
    "## Everything is Block\n",
    "* `Primitive Block` is a block that does not have sub-blocks.\n",
    "* `Composite Block` is a block that is constructed using sub-blocks."
   ]
  },
  {
   "cell_type": "code",
   "execution_count": 31,
   "metadata": {},
   "outputs": [
    {
     "data": {
      "text/plain": [
       "Total: 10, DataType: Complex{Float64}\n",
       "\u001b[1m\u001b[36mkron\u001b[39m\u001b[22m\n",
       "├─ \u001b[1m\u001b[37m2\u001b[39m\u001b[22m=>\u001b[1m\u001b[36mkron\u001b[39m\u001b[22m\n",
       "│  └─ \u001b[1m\u001b[37m2\u001b[39m\u001b[22m=>X gate\n",
       "├─ \u001b[1m\u001b[37m5\u001b[39m\u001b[22m=>X gate\n",
       "├─ \u001b[1m\u001b[37m6\u001b[39m\u001b[22m=>X gate\n",
       "└─ \u001b[1m\u001b[37m8\u001b[39m\u001b[22m=>Global Phase Gate:0.3\n"
      ]
     },
     "execution_count": 31,
     "metadata": {},
     "output_type": "execute_result"
    }
   ],
   "source": [
    "bigger = kron(10, 2=>IXI, [i=>X for i = 5:6]..., 8=>phase(0.3))"
   ]
  },
  {
   "cell_type": "code",
   "execution_count": 30,
   "metadata": {},
   "outputs": [
    {
     "data": {
      "text/plain": [
       "Total: 3, DataType: Complex{Float64}\n",
       "\u001b[1m\u001b[36mrepeat on (\u001b[39m\u001b[22m\u001b[1m\u001b[36m1\u001b[39m\u001b[22m\u001b[1m\u001b[36m, \u001b[39m\u001b[22m\u001b[1m\u001b[36m2\u001b[39m\u001b[22m\u001b[1m\u001b[36m, \u001b[39m\u001b[22m\u001b[1m\u001b[36m3\u001b[39m\u001b[22m\u001b[1m\u001b[36m)\u001b[39m\u001b[22m\n",
       "└─ \u001b[1m\u001b[36mkron\u001b[39m\u001b[22m\n",
       "   ├─ \u001b[1m\u001b[37m2\u001b[39m\u001b[22m=>\u001b[1m\u001b[36mkron\u001b[39m\u001b[22m\n",
       "   │  └─ \u001b[1m\u001b[37m2\u001b[39m\u001b[22m=>X gate\n",
       "   ├─ \u001b[1m\u001b[37m5\u001b[39m\u001b[22m=>X gate\n",
       "   ├─ \u001b[1m\u001b[37m6\u001b[39m\u001b[22m=>X gate\n",
       "   └─ \u001b[1m\u001b[37m8\u001b[39m\u001b[22m=>Global Phase Gate:0.3\n"
      ]
     },
     "execution_count": 30,
     "metadata": {},
     "output_type": "execute_result"
    }
   ],
   "source": [
    "repeat(3, bigger)"
   ]
  },
  {
   "cell_type": "markdown",
   "metadata": {},
   "source": [
    "## Luxury Sparse\n",
    "In our `LuxurySparse` module, we implemented some high performance matrix types\n",
    "\n",
    "* `PermMatrix`\n",
    "* `Identity`\n",
    "* `Diagonal` (extended its `kron` and `multiply` operations)\n",
    "\n",
    "Making matrix operations more efficient."
   ]
  },
  {
   "cell_type": "code",
   "execution_count": 10,
   "metadata": {},
   "outputs": [
    {
     "data": {
      "text/plain": [
       "Yao.Blocks.ControlBlock{2,Yao.Blocks.XGate{Complex{Float64}},1,Bool}"
      ]
     },
     "execution_count": 10,
     "metadata": {},
     "output_type": "execute_result"
    }
   ],
   "source": [
    "using Yao\n",
    "using Yao.Blocks\n",
    "import Yao.Blocks:mat, ControlBlock, XGate\n",
    "function mat(ctrl::Yao.Blocks.ControlBlock{2, <:XGate, 1, Bool})\n",
    "    println(\"calling controlled_U1\")\n",
    "    #controlled_U1(N, mat(ctrl.block), [ctrl.ctrl_qubits...], [ctrl.vals...], ctrl.addr)\n",
    "end\n",
    "\n",
    "cb = ControlBlock{2}((2,), X, 1)\n",
    "\n",
    "typeof(cb)"
   ]
  },
  {
   "cell_type": "code",
   "execution_count": 11,
   "metadata": {},
   "outputs": [
    {
     "ename": "LoadError",
     "evalue": "\u001b[91mUndefVarError: linop2dense not defined\u001b[39m",
     "output_type": "error",
     "traceback": [
      "\u001b[91mUndefVarError: linop2dense not defined\u001b[39m",
      ""
     ]
    }
   ],
   "source": [
    "linop2dense(r->yapply!(r,[1,2]), 2)"
   ]
  },
  {
   "cell_type": "code",
   "execution_count": 12,
   "metadata": {},
   "outputs": [
    {
     "name": "stdout",
     "output_type": "stream",
     "text": [
      "calling controlled_U1\n"
     ]
    }
   ],
   "source": [
    "mat(cb)"
   ]
  },
  {
   "cell_type": "code",
   "execution_count": 13,
   "metadata": {},
   "outputs": [
    {
     "data": {
      "text/plain": [
       "true"
      ]
     },
     "execution_count": 13,
     "metadata": {},
     "output_type": "execute_result"
    }
   ],
   "source": [
    "XGate <: MatrixBlock{1}"
   ]
  },
  {
   "cell_type": "code",
   "execution_count": 14,
   "metadata": {},
   "outputs": [
    {
     "ename": "LoadError",
     "evalue": "\u001b[91mUndefVarError: matvec not defined\u001b[39m",
     "output_type": "error",
     "traceback": [
      "\u001b[91mUndefVarError: matvec not defined\u001b[39m",
      ""
     ]
    }
   ],
   "source": [
    "matvec"
   ]
  },
  {
   "cell_type": "code",
   "execution_count": null,
   "metadata": {},
   "outputs": [],
   "source": []
  }
 ],
 "metadata": {
  "kernelspec": {
   "display_name": "Julia 0.6.0",
   "language": "julia",
   "name": "julia-0.6"
  },
  "language_info": {
   "file_extension": ".jl",
   "mimetype": "application/julia",
   "name": "julia",
   "version": "0.6.0"
  }
 },
 "nbformat": 4,
 "nbformat_minor": 2
}
